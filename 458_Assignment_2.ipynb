{
  "nbformat": 4,
  "nbformat_minor": 0,
  "metadata": {
    "accelerator": "GPU",
    "colab": {
      "name": "458 - Assignment 2",
      "provenance": [],
      "collapsed_sections": [],
      "include_colab_link": true
    },
    "kernelspec": {
      "display_name": "Python 3",
      "language": "python",
      "name": "python3"
    },
    "language_info": {
      "codemirror_mode": {
        "name": "ipython",
        "version": 3
      },
      "file_extension": ".py",
      "mimetype": "text/x-python",
      "name": "python",
      "nbconvert_exporter": "python",
      "pygments_lexer": "ipython3",
      "version": "3.6.8"
    },
    "toc": {
      "base_numbering": 1,
      "nav_menu": {},
      "number_sections": false,
      "sideBar": true,
      "skip_h1_title": false,
      "title_cell": "Table of Contents",
      "title_sidebar": "Contents",
      "toc_cell": false,
      "toc_position": {},
      "toc_section_display": true,
      "toc_window_display": true
    }
  },
  "cells": [
    {
      "cell_type": "markdown",
      "metadata": {
        "id": "view-in-github",
        "colab_type": "text"
      },
      "source": [
        "<a href=\"https://colab.research.google.com/github/demelere/CNNs-for-Computer-Vision/blob/master/458_Assignment_2.ipynb\" target=\"_parent\"><img src=\"https://colab.research.google.com/assets/colab-badge.svg\" alt=\"Open In Colab\"/></a>"
      ]
    },
    {
      "cell_type": "markdown",
      "metadata": {
        "colab_type": "text",
        "id": "ahuunsCJXXFx"
      },
      "source": [
        "# Overview\n",
        "\n",
        "Model | Loss | Accuracy | Val Loss | Val Accuracy | Training | Testing\n",
        "--- | --- | --- | --- | --- | --- | --- \n",
        "DNN (2 layers no dropout) | Row 1, Col 2 | \n",
        "DNN (3 layers no dropout) | Row 2, Col 2 |\n",
        "CNN (2 layers no dropout) | Row 2, Col 2 |\n",
        "CNN (2 layers no dropout) | Row 2, Col 2 |\n",
        "\n",
        "Model | Loss | Accuracy | Val Loss | Val Accuracy | Training | Testing\n",
        "--- | --- | --- | --- | --- | --- | --- \n",
        "DNN (2 layers w/dropout) | Row 1, Col 2 | \n",
        "DNN (3 layers w/dropout) | Row 2, Col 2 |\n",
        "CNN (2 layers w/dropout) | Row 2, Col 2 |\n",
        "CNN (2 layers w/dropout) | Row 2, Col 2 |\n",
        "\n",
        "Parameters for all models: \n",
        "* Batch size = 100\n",
        "* Epochs = 20\n",
        "* Loss function = sparse categorical cross-entropy\n",
        "* Optimizer = Adam"
      ]
    },
    {
      "cell_type": "markdown",
      "metadata": {
        "colab_type": "text",
        "id": "FbTDtmJlXXFy"
      },
      "source": [
        "# A. Setup and Import"
      ]
    },
    {
      "cell_type": "code",
      "metadata": {
        "colab_type": "code",
        "id": "HAXsecMAXXF0",
        "colab": {
          "base_uri": "https://localhost:8080/",
          "height": 71
        },
        "outputId": "457eae11-017c-4f12-b866-f874f377faa9"
      },
      "source": [
        "# Import dependencies\n",
        "import numpy as np\n",
        "import pandas as pd\n",
        "import os\n",
        "from collections import Counter\n",
        "import datetime\n",
        "\n",
        "import tensorflow as tf\n",
        "from tensorflow import keras\n",
        "from tensorflow.keras import models\n",
        "from tensorflow.keras import layers\n",
        "from tensorflow.keras import optimizers\n",
        "from tensorflow.keras import regularizers\n",
        "from tensorflow.keras.preprocessing.image import ImageDataGenerator\n",
        "from tensorflow.keras.preprocessing import image\n",
        "\n",
        "%matplotlib inline\n",
        "import matplotlib.pyplot as plt\n",
        "import seaborn as sns"
      ],
      "execution_count": 2,
      "outputs": [
        {
          "output_type": "stream",
          "text": [
            "/usr/local/lib/python3.6/dist-packages/statsmodels/tools/_testing.py:19: FutureWarning: pandas.util.testing is deprecated. Use the functions in the public API at pandas.testing instead.\n",
            "  import pandas.util.testing as tm\n"
          ],
          "name": "stderr"
        }
      ]
    },
    {
      "cell_type": "code",
      "metadata": {
        "colab_type": "code",
        "id": "LYCZ3TV_XXGB",
        "colab": {}
      },
      "source": [
        "# check Keras version\n",
        "keras.__version__\n",
        "\n",
        "# check tensorflow version\n",
        "tf.__version__\n",
        "\n",
        "# set seed\n",
        "keras.backend.clear_session()\n",
        "np.random.seed(42)\n",
        "tf.random.set_seed(42)"
      ],
      "execution_count": 3,
      "outputs": []
    },
    {
      "cell_type": "code",
      "metadata": {
        "colab_type": "code",
        "id": "jNeB1k8tXXGY",
        "colab": {
          "base_uri": "https://localhost:8080/",
          "height": 122
        },
        "outputId": "e1911548-50ce-4415-d09a-c638a2626b35"
      },
      "source": [
        "from google.colab import drive\n",
        "drive.mount('/content/gdrive')"
      ],
      "execution_count": 4,
      "outputs": [
        {
          "output_type": "stream",
          "text": [
            "Go to this URL in a browser: https://accounts.google.com/o/oauth2/auth?client_id=947318989803-6bn6qk8qdgf4n4g3pfee6491hc0brc4i.apps.googleusercontent.com&redirect_uri=urn%3aietf%3awg%3aoauth%3a2.0%3aoob&response_type=code&scope=email%20https%3a%2f%2fwww.googleapis.com%2fauth%2fdocs.test%20https%3a%2f%2fwww.googleapis.com%2fauth%2fdrive%20https%3a%2f%2fwww.googleapis.com%2fauth%2fdrive.photos.readonly%20https%3a%2f%2fwww.googleapis.com%2fauth%2fpeopleapi.readonly\n",
            "\n",
            "Enter your authorization code:\n",
            "··········\n",
            "Mounted at /content/gdrive\n"
          ],
          "name": "stdout"
        }
      ]
    },
    {
      "cell_type": "code",
      "metadata": {
        "colab_type": "code",
        "id": "-sSk6UJcXXGg",
        "colab": {}
      },
      "source": [
        "# Saving in Colab\n",
        "# os.getcwd()\n",
        "# %cd /content/gdrive/My\\ Drive/MSDS458/weekfive\n",
        "# !pwd\n",
        "# !ls\n",
        "# print('Working Directory')\n",
        "# print(os.getcwd())\n",
        "# work_dir = \"content/gdrive/My Drive/MSDS458/weekfive\"\n",
        "# chp_id = \"ann\""
      ],
      "execution_count": 5,
      "outputs": []
    },
    {
      "cell_type": "markdown",
      "metadata": {
        "colab_type": "text",
        "id": "6pR2s38pXXGm"
      },
      "source": [
        "## A.1 Import data"
      ]
    },
    {
      "cell_type": "code",
      "metadata": {
        "colab_type": "code",
        "id": "49o4f6jiXXGm",
        "colab": {
          "base_uri": "https://localhost:8080/",
          "height": 190
        },
        "outputId": "c09adfab-99e3-4958-8a82-91eb96068d83"
      },
      "source": [
        "from tensorflow.keras.datasets import fashion_mnist\n",
        "(train_images, train_labels), (test_images, test_labels) = fashion_mnist.load_data()\n",
        "train_images.shape, test_images.shape, test_labels.shape, test_labels.shape"
      ],
      "execution_count": 6,
      "outputs": [
        {
          "output_type": "stream",
          "text": [
            "Downloading data from https://storage.googleapis.com/tensorflow/tf-keras-datasets/train-labels-idx1-ubyte.gz\n",
            "32768/29515 [=================================] - 0s 0us/step\n",
            "Downloading data from https://storage.googleapis.com/tensorflow/tf-keras-datasets/train-images-idx3-ubyte.gz\n",
            "26427392/26421880 [==============================] - 0s 0us/step\n",
            "Downloading data from https://storage.googleapis.com/tensorflow/tf-keras-datasets/t10k-labels-idx1-ubyte.gz\n",
            "8192/5148 [===============================================] - 0s 0us/step\n",
            "Downloading data from https://storage.googleapis.com/tensorflow/tf-keras-datasets/t10k-images-idx3-ubyte.gz\n",
            "4423680/4422102 [==============================] - 0s 0us/step\n"
          ],
          "name": "stdout"
        },
        {
          "output_type": "execute_result",
          "data": {
            "text/plain": [
              "((60000, 28, 28), (10000, 28, 28), (10000,), (10000,))"
            ]
          },
          "metadata": {
            "tags": []
          },
          "execution_count": 6
        }
      ]
    },
    {
      "cell_type": "code",
      "metadata": {
        "colab_type": "code",
        "id": "74rhoyr5XXGs",
        "colab": {
          "base_uri": "https://localhost:8080/",
          "height": 187
        },
        "outputId": "a05b1bc7-b70e-46e2-cfa1-f9635dae78bd"
      },
      "source": [
        "# training labels are integers btw/0 and 9, and correspond to different articles of clothing\n",
        "Counter(train_labels).most_common()"
      ],
      "execution_count": 7,
      "outputs": [
        {
          "output_type": "execute_result",
          "data": {
            "text/plain": [
              "[(9, 6000),\n",
              " (0, 6000),\n",
              " (3, 6000),\n",
              " (2, 6000),\n",
              " (7, 6000),\n",
              " (5, 6000),\n",
              " (1, 6000),\n",
              " (6, 6000),\n",
              " (4, 6000),\n",
              " (8, 6000)]"
            ]
          },
          "metadata": {
            "tags": []
          },
          "execution_count": 7
        }
      ]
    },
    {
      "cell_type": "code",
      "metadata": {
        "colab_type": "code",
        "id": "_2dOESWUXXGx",
        "colab": {}
      },
      "source": [
        "class_names = ['T-shirt/top', 'Trouser', 'Pullover', 'Dress', 'Coat',\n",
        "               'Sandal', 'Shirt', 'Sneaker', 'Bag', 'Ankle boot']"
      ],
      "execution_count": 8,
      "outputs": []
    },
    {
      "cell_type": "code",
      "metadata": {
        "colab_type": "code",
        "id": "9Rwf1NjAXXG2",
        "colab": {
          "base_uri": "https://localhost:8080/",
          "height": 264
        },
        "outputId": "15277041-c19c-4551-c7b0-6248228b4c13"
      },
      "source": [
        "# example of training image\n",
        "plt.imshow(train_images[0], cmap=\"binary\") \n",
        "plt.axis('off')\n",
        "plt.title(class_names[test_labels[0]], fontsize=12)\n",
        "plt.show()"
      ],
      "execution_count": 9,
      "outputs": [
        {
          "output_type": "display_data",
          "data": {
            "image/png": "[encoded data removed]",
            "text/plain": [
              "<Figure size 432x288 with 1 Axes>"
            ]
          },
          "metadata": {
            "tags": [],
            "needs_background": "light"
          }
        }
      ]
    },
    {
      "cell_type": "code",
      "metadata": {
        "colab_type": "code",
        "id": "ba_K-IpdXXG8",
        "colab": {
          "base_uri": "https://localhost:8080/",
          "height": 264
        },
        "outputId": "83f9879f-5833-4612-f669-fabc2d2dc67c"
      },
      "source": [
        "# example of training image\n",
        "plt.imshow(train_images[1], cmap=\"binary\") \n",
        "plt.axis('off')\n",
        "plt.title(class_names[test_labels[1]], fontsize=12)\n",
        "plt.show()"
      ],
      "execution_count": 10,
      "outputs": [
        {
          "output_type": "display_data",
          "data": {
            "image/png": "[encoded data removed]",
            "text/plain": [
              "<Figure size 432x288 with 1 Axes>"
            ]
          },
          "metadata": {
            "tags": [],
            "needs_background": "light"
          }
        }
      ]
    },
    {
      "cell_type": "code",
      "metadata": {
        "id": "8ZoZbuQYlMwo",
        "colab_type": "code",
        "colab": {
          "base_uri": "https://localhost:8080/",
          "height": 264
        },
        "outputId": "abf4057e-2074-43d8-aa61-c5ffc739dd25"
      },
      "source": [
        "# example of training image\n",
        "plt.imshow(train_images[2], cmap=\"binary\") \n",
        "plt.axis('off')\n",
        "plt.title(class_names[test_labels[2]], fontsize=12)\n",
        "plt.show()"
      ],
      "execution_count": 11,
      "outputs": [
        {
          "output_type": "display_data",
          "data": {
            "image/png": "[encoded data removed]",
            "text/plain": [
              "<Figure size 432x288 with 1 Axes>"
            ]
          },
          "metadata": {
            "tags": [],
            "needs_background": "light"
          }
        }
      ]
    },
    {
      "cell_type": "code",
      "metadata": {
        "id": "noB62aIUYGT2",
        "colab_type": "code",
        "colab": {
          "base_uri": "https://localhost:8080/",
          "height": 1000
        },
        "outputId": "9c9130bf-2ccc-44b5-bcc2-5ccb3cd33345"
      },
      "source": [
        "for i in range (9):\n",
        "  plt.imshow(train_images[i], cmap=\"binary\") \n",
        "  plt.axis('off')\n",
        "  plt.title(class_names[test_labels[i]], fontsize=12)\n",
        "  plt.show()\n",
        "  "
      ],
      "execution_count": 12,
      "outputs": [
        {
          "output_type": "display_data",
          "data": {
            "image/png": "[encoded data removed]",
            "text/plain": [
              "<Figure size 432x288 with 1 Axes>"
            ]
          },
          "metadata": {
            "tags": [],
            "needs_background": "light"
          }
        },
        {
          "output_type": "display_data",
          "data": {
            "image/png": "[encoded data removed]",
            "text/plain": [
              "<Figure size 432x288 with 1 Axes>"
            ]
          },
          "metadata": {
            "tags": [],
            "needs_background": "light"
          }
        },
        {
          "output_type": "display_data",
          "data": {
            "image/png": "[encoded data removed]",
            "text/plain": [
              "<Figure size 432x288 with 1 Axes>"
            ]
          },
          "metadata": {
            "tags": [],
            "needs_background": "light"
          }
        },
        {
          "output_type": "display_data",
          "data": {
            "image/png": "[encoded data removed]",
            "text/plain": [
              "<Figure size 432x288 with 1 Axes>"
            ]
          },
          "metadata": {
            "tags": [],
            "needs_background": "light"
          }
        },
        {
          "output_type": "display_data",
          "data": {
            "image/png": "[encoded data removed]",
            "text/plain": [
              "<Figure size 432x288 with 1 Axes>"
            ]
          },
          "metadata": {
            "tags": [],
            "needs_background": "light"
          }
        },
        {
          "output_type": "display_data",
          "data": {
            "image/png": "[encoded data removed]",
            "text/plain": [
              "<Figure size 432x288 with 1 Axes>"
            ]
          },
          "metadata": {
            "tags": [],
            "needs_background": "light"
          }
        },
        {
          "output_type": "display_data",
          "data": {
            "image/png": "[encoded data removed]",
            "text/plain": [
              "<Figure size 432x288 with 1 Axes>"
            ]
          },
          "metadata": {
            "tags": [],
            "needs_background": "light"
          }
        },
        {
          "output_type": "display_data",
          "data": {
            "image/png": "[encoded data removed]",
            "text/plain": [
              "<Figure size 432x288 with 1 Axes>"
            ]
          },
          "metadata": {
            "tags": [],
            "needs_background": "light"
          }
        },
        {
          "output_type": "display_data",
          "data": {
            "image/png": "[encoded data removed]",
            "text/plain": [
              "<Figure size 432x288 with 1 Axes>"
            ]
          },
          "metadata": {
            "tags": [],
            "needs_background": "light"
          }
        }
      ]
    },
    {
      "cell_type": "markdown",
      "metadata": {
        "colab_type": "text",
        "id": "391ZFdRzXXHD"
      },
      "source": [
        "## A.2 Data Cleaning and Transformation"
      ]
    },
    {
      "cell_type": "code",
      "metadata": {
        "colab_type": "code",
        "id": "3P5LUQiEXXHD",
        "colab": {}
      },
      "source": [
        "# Reshape the data into the right format for model (float32 array w/shape 60000, 28*28 and values btw/ 0 and 1).\n",
        "#train_images = train_images.reshape((60000, 28 * 28))  # Decided instead to use a Flatten layer in the model\n",
        "train_images = train_images.astype('float32') / 255\n",
        "\n",
        "#test_images = test_images.reshape((10000, 28 * 28))  # Decided instead to use a Flatten layer in the model\n",
        "test_images = test_images.astype('float32') / 255"
      ],
      "execution_count": 13,
      "outputs": []
    },
    {
      "cell_type": "code",
      "metadata": {
        "colab_type": "code",
        "id": "eTgoHS6wXXHM",
        "colab": {}
      },
      "source": [
        "# Hold back 5,000 of the 60,000 training images for validation.\n",
        "val_images, train_images = train_images[:5000], train_images[5000:] \n",
        "val_labels, train_labels = train_labels[:5000], train_labels[5000:]"
      ],
      "execution_count": 14,
      "outputs": []
    },
    {
      "cell_type": "code",
      "metadata": {
        "colab_type": "code",
        "id": "wtmDm5WIXXHR",
        "colab": {}
      },
      "source": [
        "# function to help calculate training and test evaluation times\n",
        "class TrainRuntimeCallback(keras.callbacks.Callback):\n",
        "\n",
        "  def on_train_begin(self,logs={}):\n",
        "    self.start = datetime.datetime.now()\n",
        "\n",
        "  def on_train_end(self,logs={}):\n",
        "    self.process_time = (datetime.datetime.now() - self.start).total_seconds()"
      ],
      "execution_count": 15,
      "outputs": []
    },
    {
      "cell_type": "code",
      "metadata": {
        "colab_type": "code",
        "id": "pAQ24bJWXXHW",
        "colab": {}
      },
      "source": [
        "class TestRuntimeCallback(keras.callbacks.Callback):\n",
        "\n",
        "  def on_test_begin(self,logs={}):\n",
        "    self.start = datetime.datetime.now()\n",
        "\n",
        "  def on_test_end(self,logs={}):\n",
        "    self.process_time = (datetime.datetime.now() - self.start).total_seconds()"
      ],
      "execution_count": 16,
      "outputs": []
    },
    {
      "cell_type": "markdown",
      "metadata": {
        "colab_type": "text",
        "id": "0ib-5EmTXXHb"
      },
      "source": [
        "# 1. Experiment 1: Baseline DNN w/2 layers\n",
        "\n",
        "This model will have 784 input nodes.  It will take two dense (fully-connected) layers.  The first (hidden) layer will have 5 nodes, and the second (softmax) layer will have 10 output nodes."
      ]
    },
    {
      "cell_type": "code",
      "metadata": {
        "colab_type": "code",
        "id": "7o2Rq2T4XXHd",
        "colab": {}
      },
      "source": [
        "model_1 = models.Sequential()\n",
        "model_1.add(layers.Flatten(input_shape=[28, 28]))\n",
        "model_1.add(layers.Dense(5, activation='relu'))\n",
        "model_1.add(layers.Dense(10, activation='softmax')) "
      ],
      "execution_count": 17,
      "outputs": []
    },
    {
      "cell_type": "code",
      "metadata": {
        "colab_type": "code",
        "id": "E2zDUJXdXXHg",
        "colab": {
          "base_uri": "https://localhost:8080/",
          "height": 255
        },
        "outputId": "1b26b74b-0413-4968-846b-4742f950d55a"
      },
      "source": [
        "model_1.summary()"
      ],
      "execution_count": 18,
      "outputs": [
        {
          "output_type": "stream",
          "text": [
            "Model: \"sequential\"\n",
            "_________________________________________________________________\n",
            "Layer (type)                 Output Shape              Param #   \n",
            "=================================================================\n",
            "flatten (Flatten)            (None, 784)               0         \n",
            "_________________________________________________________________\n",
            "dense (Dense)                (None, 5)                 3925      \n",
            "_________________________________________________________________\n",
            "dense_1 (Dense)              (None, 10)                60        \n",
            "=================================================================\n",
            "Total params: 3,985\n",
            "Trainable params: 3,985\n",
            "Non-trainable params: 0\n",
            "_________________________________________________________________\n"
          ],
          "name": "stdout"
        }
      ]
    },
    {
      "cell_type": "code",
      "metadata": {
        "colab_type": "code",
        "id": "q5zLkPPMXXHk",
        "colab": {
          "base_uri": "https://localhost:8080/",
          "height": 422
        },
        "outputId": "7f918d2c-388a-4b85-c947-d39b28dd1bc6"
      },
      "source": [
        "keras.utils.plot_model(model_1, show_shapes=True)"
      ],
      "execution_count": 19,
      "outputs": [
        {
          "output_type": "execute_result",
          "data": {
            "image/png": "[encoded data removed]",
            "text/plain": [
              "<IPython.core.display.Image object>"
            ]
          },
          "metadata": {
            "tags": []
          },
          "execution_count": 19
        }
      ]
    },
    {
      "cell_type": "markdown",
      "metadata": {
        "colab_type": "text",
        "id": "XspoH2AZXXHn"
      },
      "source": [
        "## 1A. Model Compilation\n",
        "\n",
        "This step includes an optimizer (how the network updates itself based on the data and the loss function), a loss function (how the network measures how good a job it is doing on the data and adjusts), and metrics (accuracy)."
      ]
    },
    {
      "cell_type": "code",
      "metadata": {
        "colab_type": "code",
        "id": "WIAmczv3XXHo",
        "colab": {}
      },
      "source": [
        "model_1.compile(optimizer='adam',\n",
        "                loss='sparse_categorical_crossentropy',\n",
        "                metrics=['accuracy'])"
      ],
      "execution_count": 20,
      "outputs": []
    },
    {
      "cell_type": "markdown",
      "metadata": {
        "colab_type": "text",
        "id": "-kJgeHo1XXHu"
      },
      "source": [
        "## 1B. Model Training\n",
        "\n",
        "Train model for 20 epochs with batch size 100"
      ]
    },
    {
      "cell_type": "code",
      "metadata": {
        "colab_type": "code",
        "id": "ef3NJp4JXXHu",
        "colab": {
          "base_uri": "https://localhost:8080/",
          "height": 734
        },
        "outputId": "aca6c052-232d-4aa3-ed2d-a9f51060ee59"
      },
      "source": [
        "train_rt = TrainRuntimeCallback()\n",
        "history = model_1.fit(train_images, train_labels, callbacks=[train_rt], epochs=20, batch_size=100,\n",
        "                    validation_data=(val_images, val_labels))\n",
        "\n",
        "# Saving models locally after fitting\n",
        "save_dir = \"results/\"\n",
        "model_name = 'fashion_mnist_model_1.h5'\n",
        "model_path = os.path.join(save_dir, model_name)\n",
        "print('--------------------------')"
      ],
      "execution_count": 21,
      "outputs": [
        {
          "output_type": "stream",
          "text": [
            "Epoch 1/20\n",
            "550/550 [==============================] - 1s 3ms/step - loss: 1.5333 - accuracy: 0.5120 - val_loss: 1.0563 - val_accuracy: 0.7034\n",
            "Epoch 2/20\n",
            "550/550 [==============================] - 1s 2ms/step - loss: 0.8434 - accuracy: 0.7454 - val_loss: 0.6535 - val_accuracy: 0.7846\n",
            "Epoch 3/20\n",
            "550/550 [==============================] - 1s 2ms/step - loss: 0.6183 - accuracy: 0.7958 - val_loss: 0.5835 - val_accuracy: 0.8096\n",
            "Epoch 4/20\n",
            "550/550 [==============================] - 1s 2ms/step - loss: 0.5639 - accuracy: 0.8114 - val_loss: 0.5502 - val_accuracy: 0.8138\n",
            "Epoch 5/20\n",
            "550/550 [==============================] - 1s 2ms/step - loss: 0.5399 - accuracy: 0.8178 - val_loss: 0.5279 - val_accuracy: 0.8230\n",
            "Epoch 6/20\n",
            "550/550 [==============================] - 1s 2ms/step - loss: 0.5250 - accuracy: 0.8205 - val_loss: 0.5145 - val_accuracy: 0.8288\n",
            "Epoch 7/20\n",
            "550/550 [==============================] - 1s 2ms/step - loss: 0.5135 - accuracy: 0.8244 - val_loss: 0.5108 - val_accuracy: 0.8294\n",
            "Epoch 8/20\n",
            "550/550 [==============================] - 1s 2ms/step - loss: 0.5047 - accuracy: 0.8245 - val_loss: 0.5053 - val_accuracy: 0.8282\n",
            "Epoch 9/20\n",
            "550/550 [==============================] - 1s 2ms/step - loss: 0.4980 - accuracy: 0.8274 - val_loss: 0.5042 - val_accuracy: 0.8292\n",
            "Epoch 10/20\n",
            "550/550 [==============================] - 1s 2ms/step - loss: 0.4922 - accuracy: 0.8294 - val_loss: 0.4969 - val_accuracy: 0.8316\n",
            "Epoch 11/20\n",
            "550/550 [==============================] - 1s 2ms/step - loss: 0.4889 - accuracy: 0.8298 - val_loss: 0.4961 - val_accuracy: 0.8316\n",
            "Epoch 12/20\n",
            "550/550 [==============================] - 1s 2ms/step - loss: 0.4847 - accuracy: 0.8309 - val_loss: 0.4964 - val_accuracy: 0.8310\n",
            "Epoch 13/20\n",
            "550/550 [==============================] - 1s 2ms/step - loss: 0.4815 - accuracy: 0.8327 - val_loss: 0.4896 - val_accuracy: 0.8344\n",
            "Epoch 14/20\n",
            "550/550 [==============================] - 1s 2ms/step - loss: 0.4780 - accuracy: 0.8333 - val_loss: 0.4904 - val_accuracy: 0.8338\n",
            "Epoch 15/20\n",
            "550/550 [==============================] - 1s 2ms/step - loss: 0.4750 - accuracy: 0.8344 - val_loss: 0.4850 - val_accuracy: 0.8362\n",
            "Epoch 16/20\n",
            "550/550 [==============================] - 1s 2ms/step - loss: 0.4724 - accuracy: 0.8342 - val_loss: 0.4849 - val_accuracy: 0.8346\n",
            "Epoch 17/20\n",
            "550/550 [==============================] - 1s 2ms/step - loss: 0.4695 - accuracy: 0.8354 - val_loss: 0.4900 - val_accuracy: 0.8330\n",
            "Epoch 18/20\n",
            "550/550 [==============================] - 1s 2ms/step - loss: 0.4670 - accuracy: 0.8373 - val_loss: 0.4860 - val_accuracy: 0.8356\n",
            "Epoch 19/20\n",
            "550/550 [==============================] - 1s 2ms/step - loss: 0.4662 - accuracy: 0.8371 - val_loss: 0.4875 - val_accuracy: 0.8384\n",
            "Epoch 20/20\n",
            "550/550 [==============================] - 1s 2ms/step - loss: 0.4638 - accuracy: 0.8378 - val_loss: 0.4851 - val_accuracy: 0.8342\n",
            "--------------------------\n"
          ],
          "name": "stdout"
        }
      ]
    },
    {
      "cell_type": "code",
      "metadata": {
        "colab_type": "code",
        "id": "-U-ofxckXXHy",
        "colab": {
          "base_uri": "https://localhost:8080/",
          "height": 34
        },
        "outputId": "983077b1-7013-4426-f082-f7b790e66e15"
      },
      "source": [
        "# Get the training time\n",
        "train_time = train_rt.process_time\n",
        "train_time # in seconds"
      ],
      "execution_count": 22,
      "outputs": [
        {
          "output_type": "execute_result",
          "data": {
            "text/plain": [
              "26.291443"
            ]
          },
          "metadata": {
            "tags": []
          },
          "execution_count": 22
        }
      ]
    },
    {
      "cell_type": "code",
      "metadata": {
        "colab_type": "code",
        "id": "gOIPjzQPXXH2",
        "colab": {
          "base_uri": "https://localhost:8080/",
          "height": 221
        },
        "outputId": "99a9818a-520b-48ef-92e5-584d85f23dd5"
      },
      "source": [
        "model_1.layers[1].weights"
      ],
      "execution_count": 23,
      "outputs": [
        {
          "output_type": "execute_result",
          "data": {
            "text/plain": [
              "[<tf.Variable 'dense/kernel:0' shape=(784, 5) dtype=float32, numpy=\n",
              " array([[-0.08495625, -0.02450575,  0.5867726 , -0.18403265, -0.30403847],\n",
              "        [-0.13381931,  0.01560646,  0.09165865, -0.07803686,  0.00608766],\n",
              "        [ 0.39040858, -0.4066511 , -0.4757636 , -0.48878846, -0.10543991],\n",
              "        ...,\n",
              "        [ 0.4744351 ,  0.41354445,  0.10598992, -0.03145837,  0.23590438],\n",
              "        [ 0.00998982,  0.60049945, -0.11730633, -0.19239654,  0.39222446],\n",
              "        [ 0.07808983,  0.431397  ,  0.2116207 , -0.48969564,  0.10832103]],\n",
              "       dtype=float32)>,\n",
              " <tf.Variable 'dense/bias:0' shape=(5,) dtype=float32, numpy=\n",
              " array([ 1.0045774 ,  0.8961467 ,  0.67530763,  0.9230627 , -0.32683724],\n",
              "       dtype=float32)>]"
            ]
          },
          "metadata": {
            "tags": []
          },
          "execution_count": 23
        }
      ]
    },
    {
      "cell_type": "markdown",
      "metadata": {
        "colab_type": "text",
        "id": "QxUSbTVuXXH8"
      },
      "source": [
        "## 1C. Model Testing\n",
        "\n",
        "Test the model on the test dataset."
      ]
    },
    {
      "cell_type": "code",
      "metadata": {
        "colab_type": "code",
        "id": "bQvx1-KjXXH8",
        "colab": {
          "base_uri": "https://localhost:8080/",
          "height": 34
        },
        "outputId": "9fb7a482-98b9-4826-b706-4a8d52e096a0"
      },
      "source": [
        "test_rt = TestRuntimeCallback()\n",
        "test_loss, test_acc = model_1.evaluate(test_images, test_labels, callbacks=[test_rt])"
      ],
      "execution_count": 24,
      "outputs": [
        {
          "output_type": "stream",
          "text": [
            "313/313 [==============================] - 1s 2ms/step - loss: 0.5112 - accuracy: 0.8244\n"
          ],
          "name": "stdout"
        }
      ]
    },
    {
      "cell_type": "code",
      "metadata": {
        "colab_type": "code",
        "id": "X-u1CkZGXXIB",
        "colab": {
          "base_uri": "https://localhost:8080/",
          "height": 34
        },
        "outputId": "189c9951-8405-4771-ecf6-1486fc874385"
      },
      "source": [
        "# Get the test time\n",
        "test_time = test_rt.process_time\n",
        "test_time # in seconds"
      ],
      "execution_count": 25,
      "outputs": [
        {
          "output_type": "execute_result",
          "data": {
            "text/plain": [
              "0.634644"
            ]
          },
          "metadata": {
            "tags": []
          },
          "execution_count": 25
        }
      ]
    },
    {
      "cell_type": "code",
      "metadata": {
        "colab_type": "code",
        "id": "K0-Rd1biXXIG",
        "colab": {
          "base_uri": "https://localhost:8080/",
          "height": 34
        },
        "outputId": "6edabf06-3073-4f5b-9798-ebd40f424c72"
      },
      "source": [
        "history_dict = history.history\n",
        "history_dict.keys()"
      ],
      "execution_count": 26,
      "outputs": [
        {
          "output_type": "execute_result",
          "data": {
            "text/plain": [
              "dict_keys(['loss', 'accuracy', 'val_loss', 'val_accuracy'])"
            ]
          },
          "metadata": {
            "tags": []
          },
          "execution_count": 26
        }
      ]
    },
    {
      "cell_type": "code",
      "metadata": {
        "colab_type": "code",
        "id": "qpeeQDfCXXIJ",
        "colab": {
          "base_uri": "https://localhost:8080/",
          "height": 204
        },
        "outputId": "320b7969-4aaf-4431-ecf3-0f5a5a4ff27a"
      },
      "source": [
        "history_df=pd.DataFrame(history_dict)\n",
        "history_df.tail()"
      ],
      "execution_count": 27,
      "outputs": [
        {
          "output_type": "execute_result",
          "data": {
            "text/html": [
              "<div>\n",
              "<style scoped>\n",
              "    .dataframe tbody tr th:only-of-type {\n",
              "        vertical-align: middle;\n",
              "    }\n",
              "\n",
              "    .dataframe tbody tr th {\n",
              "        vertical-align: top;\n",
              "    }\n",
              "\n",
              "    .dataframe thead th {\n",
              "        text-align: right;\n",
              "    }\n",
              "</style>\n",
              "<table border=\"1\" class=\"dataframe\">\n",
              "  <thead>\n",
              "    <tr style=\"text-align: right;\">\n",
              "      <th></th>\n",
              "      <th>loss</th>\n",
              "      <th>accuracy</th>\n",
              "      <th>val_loss</th>\n",
              "      <th>val_accuracy</th>\n",
              "    </tr>\n",
              "  </thead>\n",
              "  <tbody>\n",
              "    <tr>\n",
              "      <th>15</th>\n",
              "      <td>0.472350</td>\n",
              "      <td>0.834200</td>\n",
              "      <td>0.484858</td>\n",
              "      <td>0.8346</td>\n",
              "    </tr>\n",
              "    <tr>\n",
              "      <th>16</th>\n",
              "      <td>0.469477</td>\n",
              "      <td>0.835364</td>\n",
              "      <td>0.490041</td>\n",
              "      <td>0.8330</td>\n",
              "    </tr>\n",
              "    <tr>\n",
              "      <th>17</th>\n",
              "      <td>0.467037</td>\n",
              "      <td>0.837309</td>\n",
              "      <td>0.485983</td>\n",
              "      <td>0.8356</td>\n",
              "    </tr>\n",
              "    <tr>\n",
              "      <th>18</th>\n",
              "      <td>0.466209</td>\n",
              "      <td>0.837127</td>\n",
              "      <td>0.487460</td>\n",
              "      <td>0.8384</td>\n",
              "    </tr>\n",
              "    <tr>\n",
              "      <th>19</th>\n",
              "      <td>0.463785</td>\n",
              "      <td>0.837818</td>\n",
              "      <td>0.485111</td>\n",
              "      <td>0.8342</td>\n",
              "    </tr>\n",
              "  </tbody>\n",
              "</table>\n",
              "</div>"
            ],
            "text/plain": [
              "        loss  accuracy  val_loss  val_accuracy\n",
              "15  0.472350  0.834200  0.484858        0.8346\n",
              "16  0.469477  0.835364  0.490041        0.8330\n",
              "17  0.467037  0.837309  0.485983        0.8356\n",
              "18  0.466209  0.837127  0.487460        0.8384\n",
              "19  0.463785  0.837818  0.485111        0.8342"
            ]
          },
          "metadata": {
            "tags": []
          },
          "execution_count": 27
        }
      ]
    },
    {
      "cell_type": "code",
      "metadata": {
        "colab_type": "code",
        "id": "hCjV5Z3eXXIP",
        "colab": {
          "base_uri": "https://localhost:8080/",
          "height": 80
        },
        "outputId": "0ee6e764-0733-4999-8c79-0abe29f92b16"
      },
      "source": [
        "# Create a results DataFrame using the last row of history_df\n",
        "results_df = history_df.iloc[-1:].copy()\n",
        "results_df.insert(0,'model','DNN (2 layers)') # went the model name to appear first\n",
        "results_df['training time (sec)'] = train_time      # we are okay with training time appearing last\n",
        "results_df['testing time (sec)'] = test_time      # we are okay with training time appearing last\n",
        "results_df"
      ],
      "execution_count": 28,
      "outputs": [
        {
          "output_type": "execute_result",
          "data": {
            "text/html": [
              "<div>\n",
              "<style scoped>\n",
              "    .dataframe tbody tr th:only-of-type {\n",
              "        vertical-align: middle;\n",
              "    }\n",
              "\n",
              "    .dataframe tbody tr th {\n",
              "        vertical-align: top;\n",
              "    }\n",
              "\n",
              "    .dataframe thead th {\n",
              "        text-align: right;\n",
              "    }\n",
              "</style>\n",
              "<table border=\"1\" class=\"dataframe\">\n",
              "  <thead>\n",
              "    <tr style=\"text-align: right;\">\n",
              "      <th></th>\n",
              "      <th>model</th>\n",
              "      <th>loss</th>\n",
              "      <th>accuracy</th>\n",
              "      <th>val_loss</th>\n",
              "      <th>val_accuracy</th>\n",
              "      <th>training time (sec)</th>\n",
              "      <th>testing time (sec)</th>\n",
              "    </tr>\n",
              "  </thead>\n",
              "  <tbody>\n",
              "    <tr>\n",
              "      <th>19</th>\n",
              "      <td>DNN (2 layers)</td>\n",
              "      <td>0.463785</td>\n",
              "      <td>0.837818</td>\n",
              "      <td>0.485111</td>\n",
              "      <td>0.8342</td>\n",
              "      <td>26.291443</td>\n",
              "      <td>0.634644</td>\n",
              "    </tr>\n",
              "  </tbody>\n",
              "</table>\n",
              "</div>"
            ],
            "text/plain": [
              "             model      loss  ...  training time (sec)  testing time (sec)\n",
              "19  DNN (2 layers)  0.463785  ...            26.291443            0.634644\n",
              "\n",
              "[1 rows x 7 columns]"
            ]
          },
          "metadata": {
            "tags": []
          },
          "execution_count": 28
        }
      ]
    },
    {
      "cell_type": "markdown",
      "metadata": {
        "colab_type": "text",
        "id": "dYkGwPfAXXIS"
      },
      "source": [
        "## 1D. Performance"
      ]
    },
    {
      "cell_type": "code",
      "metadata": {
        "colab_type": "code",
        "id": "NbS9aBIoXXIT",
        "colab": {
          "base_uri": "https://localhost:8080/",
          "height": 324
        },
        "outputId": "d40b00c3-02e5-45c4-c636-618b7521a850"
      },
      "source": [
        "# Plot learning curves for model\n",
        "pd.DataFrame(history.history).plot(figsize=(8, 5))\n",
        "plt.grid(True)\n",
        "plt.gca().set_ylim(0, 1) # set the vertical range to [0-1]\n",
        "plt.show()"
      ],
      "execution_count": 29,
      "outputs": [
        {
          "output_type": "display_data",
          "data": {
            "image/png": "[encoded data removed]",
            "text/plain": [
              "<Figure size 576x360 with 1 Axes>"
            ]
          },
          "metadata": {
            "tags": [],
            "needs_background": "light"
          }
        }
      ]
    },
    {
      "cell_type": "markdown",
      "metadata": {
        "colab_type": "text",
        "id": "8e21diN7XXIX"
      },
      "source": [
        "# 2. Experiment 2: DNN w/3 layers\n",
        "\n",
        "This model will have 784 input nodes.  It will take three dense (fully-connected) layers.  The first (hidden) layer will have 10 nodes, a second hidden layer with 10 nodes, and a third (softmax) layer will have 10 output nodes."
      ]
    },
    {
      "cell_type": "code",
      "metadata": {
        "colab_type": "code",
        "id": "Xgj2iP1tXXIX",
        "colab": {}
      },
      "source": [
        "# Instead of adding the layers one by one, we can pass a list of layers when creating the Sequential mode.\n",
        "model_2 = models.Sequential([\n",
        "    keras.layers.Flatten(input_shape=[28, 28]),\n",
        "    keras.layers.Dense(10, activation=\"relu\"),\n",
        "    keras.layers.Dense(5, activation=\"relu\"),\n",
        "    keras.layers.Dense(10, activation=\"softmax\")\n",
        "])"
      ],
      "execution_count": 30,
      "outputs": []
    },
    {
      "cell_type": "code",
      "metadata": {
        "colab_type": "code",
        "id": "D_EzZBMmXXIZ",
        "colab": {
          "base_uri": "https://localhost:8080/",
          "height": 289
        },
        "outputId": "7e055bb3-afee-49d6-8579-42eb90b150fb"
      },
      "source": [
        "model_2.summary()"
      ],
      "execution_count": 31,
      "outputs": [
        {
          "output_type": "stream",
          "text": [
            "Model: \"sequential_1\"\n",
            "_________________________________________________________________\n",
            "Layer (type)                 Output Shape              Param #   \n",
            "=================================================================\n",
            "flatten_1 (Flatten)          (None, 784)               0         \n",
            "_________________________________________________________________\n",
            "dense_2 (Dense)              (None, 10)                7850      \n",
            "_________________________________________________________________\n",
            "dense_3 (Dense)              (None, 5)                 55        \n",
            "_________________________________________________________________\n",
            "dense_4 (Dense)              (None, 10)                60        \n",
            "=================================================================\n",
            "Total params: 7,965\n",
            "Trainable params: 7,965\n",
            "Non-trainable params: 0\n",
            "_________________________________________________________________\n"
          ],
          "name": "stdout"
        }
      ]
    },
    {
      "cell_type": "code",
      "metadata": {
        "colab_type": "code",
        "id": "oGn5XRXLXXId",
        "colab": {
          "base_uri": "https://localhost:8080/",
          "height": 533
        },
        "outputId": "8872ad0a-64b7-483d-e1f3-1b6a12c95513"
      },
      "source": [
        "keras.utils.plot_model(model_2, show_shapes=True)"
      ],
      "execution_count": 32,
      "outputs": [
        {
          "output_type": "execute_result",
          "data": {
            "image/png": "[encoded data removed]",
            "text/plain": [
              "<IPython.core.display.Image object>"
            ]
          },
          "metadata": {
            "tags": []
          },
          "execution_count": 32
        }
      ]
    },
    {
      "cell_type": "markdown",
      "metadata": {
        "colab_type": "text",
        "id": "biMa0SaBXXIg"
      },
      "source": [
        "## 2A. Model Compilation"
      ]
    },
    {
      "cell_type": "code",
      "metadata": {
        "colab_type": "code",
        "id": "Gkvx5x-0XXIg",
        "colab": {}
      },
      "source": [
        "model_2.compile(optimizer='adam',\n",
        "                loss='sparse_categorical_crossentropy',\n",
        "                metrics=['accuracy'])"
      ],
      "execution_count": 33,
      "outputs": []
    },
    {
      "cell_type": "markdown",
      "metadata": {
        "colab_type": "text",
        "id": "DS7SkccpXXIk"
      },
      "source": [
        "## 2B. Model Training\n"
      ]
    },
    {
      "cell_type": "code",
      "metadata": {
        "colab_type": "code",
        "id": "-Arbr0FKXXIk",
        "colab": {
          "base_uri": "https://localhost:8080/",
          "height": 734
        },
        "outputId": "955995b9-22ee-43c5-89c9-422eeff2c8bd"
      },
      "source": [
        "train_rt = TrainRuntimeCallback()\n",
        "history = model_2.fit(train_images, train_labels, callbacks=[train_rt], epochs=20, batch_size = 100,\n",
        "                    validation_data=(val_images, val_labels))\n",
        "\n",
        "# Saving models locally after fitting\n",
        "save_dir = \"results/\"\n",
        "model_name = 'fashion_mnist_model_2.h5'\n",
        "model_path = os.path.join(save_dir, model_name)\n",
        "print('--------------------------')"
      ],
      "execution_count": 34,
      "outputs": [
        {
          "output_type": "stream",
          "text": [
            "Epoch 1/20\n",
            "550/550 [==============================] - 1s 2ms/step - loss: 1.0934 - accuracy: 0.6273 - val_loss: 0.6276 - val_accuracy: 0.7880\n",
            "Epoch 2/20\n",
            "550/550 [==============================] - 1s 2ms/step - loss: 0.5943 - accuracy: 0.7963 - val_loss: 0.5267 - val_accuracy: 0.8194\n",
            "Epoch 3/20\n",
            "550/550 [==============================] - 1s 2ms/step - loss: 0.5254 - accuracy: 0.8206 - val_loss: 0.5050 - val_accuracy: 0.8320\n",
            "Epoch 4/20\n",
            "550/550 [==============================] - 1s 2ms/step - loss: 0.4917 - accuracy: 0.8315 - val_loss: 0.4757 - val_accuracy: 0.8402\n",
            "Epoch 5/20\n",
            "550/550 [==============================] - 1s 2ms/step - loss: 0.4727 - accuracy: 0.8371 - val_loss: 0.4547 - val_accuracy: 0.8458\n",
            "Epoch 6/20\n",
            "550/550 [==============================] - 1s 2ms/step - loss: 0.4590 - accuracy: 0.8415 - val_loss: 0.4435 - val_accuracy: 0.8494\n",
            "Epoch 7/20\n",
            "550/550 [==============================] - 1s 2ms/step - loss: 0.4444 - accuracy: 0.8459 - val_loss: 0.4326 - val_accuracy: 0.8546\n",
            "Epoch 8/20\n",
            "550/550 [==============================] - 1s 2ms/step - loss: 0.4358 - accuracy: 0.8490 - val_loss: 0.4361 - val_accuracy: 0.8552\n",
            "Epoch 9/20\n",
            "550/550 [==============================] - 1s 2ms/step - loss: 0.4267 - accuracy: 0.8520 - val_loss: 0.4309 - val_accuracy: 0.8540\n",
            "Epoch 10/20\n",
            "550/550 [==============================] - 1s 2ms/step - loss: 0.4189 - accuracy: 0.8555 - val_loss: 0.4209 - val_accuracy: 0.8570\n",
            "Epoch 11/20\n",
            "550/550 [==============================] - 1s 2ms/step - loss: 0.4135 - accuracy: 0.8573 - val_loss: 0.4165 - val_accuracy: 0.8630\n",
            "Epoch 12/20\n",
            "550/550 [==============================] - 1s 2ms/step - loss: 0.4103 - accuracy: 0.8583 - val_loss: 0.4095 - val_accuracy: 0.8596\n",
            "Epoch 13/20\n",
            "550/550 [==============================] - 1s 2ms/step - loss: 0.4054 - accuracy: 0.8586 - val_loss: 0.4264 - val_accuracy: 0.8564\n",
            "Epoch 14/20\n",
            "550/550 [==============================] - 1s 2ms/step - loss: 0.4001 - accuracy: 0.8616 - val_loss: 0.4125 - val_accuracy: 0.8626\n",
            "Epoch 15/20\n",
            "550/550 [==============================] - 1s 2ms/step - loss: 0.3989 - accuracy: 0.8626 - val_loss: 0.4095 - val_accuracy: 0.8628\n",
            "Epoch 16/20\n",
            "550/550 [==============================] - 1s 2ms/step - loss: 0.3944 - accuracy: 0.8639 - val_loss: 0.4210 - val_accuracy: 0.8582\n",
            "Epoch 17/20\n",
            "550/550 [==============================] - 1s 2ms/step - loss: 0.3912 - accuracy: 0.8636 - val_loss: 0.4026 - val_accuracy: 0.8682\n",
            "Epoch 18/20\n",
            "550/550 [==============================] - 1s 2ms/step - loss: 0.3885 - accuracy: 0.8655 - val_loss: 0.4005 - val_accuracy: 0.8686\n",
            "Epoch 19/20\n",
            "550/550 [==============================] - 1s 2ms/step - loss: 0.3877 - accuracy: 0.8657 - val_loss: 0.4071 - val_accuracy: 0.8646\n",
            "Epoch 20/20\n",
            "550/550 [==============================] - 1s 2ms/step - loss: 0.3856 - accuracy: 0.8660 - val_loss: 0.4013 - val_accuracy: 0.8648\n",
            "--------------------------\n"
          ],
          "name": "stdout"
        }
      ]
    },
    {
      "cell_type": "code",
      "metadata": {
        "colab_type": "code",
        "id": "99ISKmYHXXIn",
        "colab": {
          "base_uri": "https://localhost:8080/",
          "height": 34
        },
        "outputId": "d9a5c8d7-a120-4b85-d90a-a9a0077ea984"
      },
      "source": [
        "# Get the training time\n",
        "train_time = train_rt.process_time\n",
        "train_time # in seconds"
      ],
      "execution_count": 35,
      "outputs": [
        {
          "output_type": "execute_result",
          "data": {
            "text/plain": [
              "25.534299"
            ]
          },
          "metadata": {
            "tags": []
          },
          "execution_count": 35
        }
      ]
    },
    {
      "cell_type": "code",
      "metadata": {
        "colab_type": "code",
        "id": "zswEiZQfXXIp",
        "colab": {
          "base_uri": "https://localhost:8080/",
          "height": 323
        },
        "outputId": "1eb81b69-e0d4-4ca6-a3a4-1296f85d6aaa"
      },
      "source": [
        "model_2.layers[1].weights"
      ],
      "execution_count": 36,
      "outputs": [
        {
          "output_type": "execute_result",
          "data": {
            "text/plain": [
              "[<tf.Variable 'dense_2/kernel:0' shape=(784, 10) dtype=float32, numpy=\n",
              " array([[ 0.4925621 ,  0.04878267, -0.47940648, ...,  0.28546274,\n",
              "         -0.38828492, -0.02152865],\n",
              "        [ 0.5183464 ,  0.25312173,  0.5069263 , ..., -0.2122109 ,\n",
              "         -0.65054905,  0.34231693],\n",
              "        [ 0.18238327, -0.1502212 , -0.2130859 , ...,  0.27302274,\n",
              "         -0.69527584, -0.1994194 ],\n",
              "        ...,\n",
              "        [-0.23606896, -0.13785227,  0.06954484, ..., -0.06773212,\n",
              "          0.23245028,  0.42269328],\n",
              "        [ 0.42236978, -0.762525  , -0.14763372, ...,  0.2259654 ,\n",
              "          0.25379887,  0.16036195],\n",
              "        [ 0.21001172, -0.11549312, -0.16125627, ...,  0.2857493 ,\n",
              "         -0.25067648, -0.07645933]], dtype=float32)>,\n",
              " <tf.Variable 'dense_2/bias:0' shape=(10,) dtype=float32, numpy=\n",
              " array([ 0.3373559 ,  0.40660846, -0.00816518,  0.27010486, -0.31941098,\n",
              "         0.47647446, -0.01031993, -0.13826925, -0.25403666,  0.6022843 ],\n",
              "       dtype=float32)>]"
            ]
          },
          "metadata": {
            "tags": []
          },
          "execution_count": 36
        }
      ]
    },
    {
      "cell_type": "markdown",
      "metadata": {
        "colab_type": "text",
        "id": "UIeql6poXXIt"
      },
      "source": [
        "## 2C. Model Compilation"
      ]
    },
    {
      "cell_type": "code",
      "metadata": {
        "colab_type": "code",
        "id": "2vcjR_gUXXIt",
        "colab": {
          "base_uri": "https://localhost:8080/",
          "height": 34
        },
        "outputId": "48d0a891-e427-4357-ccd1-350ffb39e9e7"
      },
      "source": [
        "test_rt = TestRuntimeCallback()\n",
        "test_loss, test_acc = model_2.evaluate(test_images, test_labels, callbacks=[test_rt])"
      ],
      "execution_count": 37,
      "outputs": [
        {
          "output_type": "stream",
          "text": [
            "313/313 [==============================] - 1s 2ms/step - loss: 0.4404 - accuracy: 0.8490\n"
          ],
          "name": "stdout"
        }
      ]
    },
    {
      "cell_type": "code",
      "metadata": {
        "colab_type": "code",
        "id": "15xn8TpuXXIw",
        "colab": {
          "base_uri": "https://localhost:8080/",
          "height": 34
        },
        "outputId": "5bb28e4a-ccef-4664-d3d8-8d1fd37180a1"
      },
      "source": [
        "# Get the test time\n",
        "test_time = test_rt.process_time\n",
        "test_time # in seconds"
      ],
      "execution_count": 38,
      "outputs": [
        {
          "output_type": "execute_result",
          "data": {
            "text/plain": [
              "0.760157"
            ]
          },
          "metadata": {
            "tags": []
          },
          "execution_count": 38
        }
      ]
    },
    {
      "cell_type": "code",
      "metadata": {
        "colab_type": "code",
        "id": "3r41QL-zXXIy",
        "colab": {
          "base_uri": "https://localhost:8080/",
          "height": 34
        },
        "outputId": "7e6003ac-2783-4898-e948-f35960b6151d"
      },
      "source": [
        "history_dict = history.history\n",
        "history_dict.keys()"
      ],
      "execution_count": 39,
      "outputs": [
        {
          "output_type": "execute_result",
          "data": {
            "text/plain": [
              "dict_keys(['loss', 'accuracy', 'val_loss', 'val_accuracy'])"
            ]
          },
          "metadata": {
            "tags": []
          },
          "execution_count": 39
        }
      ]
    },
    {
      "cell_type": "code",
      "metadata": {
        "colab_type": "code",
        "id": "FjI_bo2iXXI0",
        "colab": {
          "base_uri": "https://localhost:8080/",
          "height": 204
        },
        "outputId": "66e77118-737a-4a48-a361-ab5091bbd71c"
      },
      "source": [
        "history_df=pd.DataFrame(history_dict)\n",
        "history_df.tail()"
      ],
      "execution_count": 40,
      "outputs": [
        {
          "output_type": "execute_result",
          "data": {
            "text/html": [
              "<div>\n",
              "<style scoped>\n",
              "    .dataframe tbody tr th:only-of-type {\n",
              "        vertical-align: middle;\n",
              "    }\n",
              "\n",
              "    .dataframe tbody tr th {\n",
              "        vertical-align: top;\n",
              "    }\n",
              "\n",
              "    .dataframe thead th {\n",
              "        text-align: right;\n",
              "    }\n",
              "</style>\n",
              "<table border=\"1\" class=\"dataframe\">\n",
              "  <thead>\n",
              "    <tr style=\"text-align: right;\">\n",
              "      <th></th>\n",
              "      <th>loss</th>\n",
              "      <th>accuracy</th>\n",
              "      <th>val_loss</th>\n",
              "      <th>val_accuracy</th>\n",
              "    </tr>\n",
              "  </thead>\n",
              "  <tbody>\n",
              "    <tr>\n",
              "      <th>15</th>\n",
              "      <td>0.394387</td>\n",
              "      <td>0.863873</td>\n",
              "      <td>0.421012</td>\n",
              "      <td>0.8582</td>\n",
              "    </tr>\n",
              "    <tr>\n",
              "      <th>16</th>\n",
              "      <td>0.391197</td>\n",
              "      <td>0.863582</td>\n",
              "      <td>0.402562</td>\n",
              "      <td>0.8682</td>\n",
              "    </tr>\n",
              "    <tr>\n",
              "      <th>17</th>\n",
              "      <td>0.388530</td>\n",
              "      <td>0.865491</td>\n",
              "      <td>0.400487</td>\n",
              "      <td>0.8686</td>\n",
              "    </tr>\n",
              "    <tr>\n",
              "      <th>18</th>\n",
              "      <td>0.387732</td>\n",
              "      <td>0.865745</td>\n",
              "      <td>0.407128</td>\n",
              "      <td>0.8646</td>\n",
              "    </tr>\n",
              "    <tr>\n",
              "      <th>19</th>\n",
              "      <td>0.385630</td>\n",
              "      <td>0.865982</td>\n",
              "      <td>0.401313</td>\n",
              "      <td>0.8648</td>\n",
              "    </tr>\n",
              "  </tbody>\n",
              "</table>\n",
              "</div>"
            ],
            "text/plain": [
              "        loss  accuracy  val_loss  val_accuracy\n",
              "15  0.394387  0.863873  0.421012        0.8582\n",
              "16  0.391197  0.863582  0.402562        0.8682\n",
              "17  0.388530  0.865491  0.400487        0.8686\n",
              "18  0.387732  0.865745  0.407128        0.8646\n",
              "19  0.385630  0.865982  0.401313        0.8648"
            ]
          },
          "metadata": {
            "tags": []
          },
          "execution_count": 40
        }
      ]
    },
    {
      "cell_type": "code",
      "metadata": {
        "colab_type": "code",
        "id": "zTWCTjJlXXI3",
        "colab": {
          "base_uri": "https://localhost:8080/",
          "height": 80
        },
        "outputId": "2cf6c9aa-ea5a-4944-8cbf-037e2b74f6e4"
      },
      "source": [
        "history_dict = history.history\n",
        "history_df=pd.DataFrame(history_dict)\n",
        "results_df2 = history_df.iloc[-1:].copy()\n",
        "results_df2.insert(0,'model','DNN (3 layers)') # went the model name to appear first\n",
        "results_df2['training time (sec)'] = train_time      # we are okay with training time appearing last\n",
        "results_df2['testing time (sec)'] = test_time      # we are okay with training time appearing last\n",
        "results_df2"
      ],
      "execution_count": 41,
      "outputs": [
        {
          "output_type": "execute_result",
          "data": {
            "text/html": [
              "<div>\n",
              "<style scoped>\n",
              "    .dataframe tbody tr th:only-of-type {\n",
              "        vertical-align: middle;\n",
              "    }\n",
              "\n",
              "    .dataframe tbody tr th {\n",
              "        vertical-align: top;\n",
              "    }\n",
              "\n",
              "    .dataframe thead th {\n",
              "        text-align: right;\n",
              "    }\n",
              "</style>\n",
              "<table border=\"1\" class=\"dataframe\">\n",
              "  <thead>\n",
              "    <tr style=\"text-align: right;\">\n",
              "      <th></th>\n",
              "      <th>model</th>\n",
              "      <th>loss</th>\n",
              "      <th>accuracy</th>\n",
              "      <th>val_loss</th>\n",
              "      <th>val_accuracy</th>\n",
              "      <th>training time (sec)</th>\n",
              "      <th>testing time (sec)</th>\n",
              "    </tr>\n",
              "  </thead>\n",
              "  <tbody>\n",
              "    <tr>\n",
              "      <th>19</th>\n",
              "      <td>DNN (3 layers)</td>\n",
              "      <td>0.38563</td>\n",
              "      <td>0.865982</td>\n",
              "      <td>0.401313</td>\n",
              "      <td>0.8648</td>\n",
              "      <td>25.534299</td>\n",
              "      <td>0.760157</td>\n",
              "    </tr>\n",
              "  </tbody>\n",
              "</table>\n",
              "</div>"
            ],
            "text/plain": [
              "             model     loss  ...  training time (sec)  testing time (sec)\n",
              "19  DNN (3 layers)  0.38563  ...            25.534299            0.760157\n",
              "\n",
              "[1 rows x 7 columns]"
            ]
          },
          "metadata": {
            "tags": []
          },
          "execution_count": 41
        }
      ]
    },
    {
      "cell_type": "code",
      "metadata": {
        "colab_type": "code",
        "id": "c0MqqNx_XXI5",
        "colab": {}
      },
      "source": [
        "# # Add the new data to results_df\n",
        "# results_df=results_df.append(results_df2,ignore_index=True)\n",
        "# results_df"
      ],
      "execution_count": 42,
      "outputs": []
    },
    {
      "cell_type": "markdown",
      "metadata": {
        "colab_type": "text",
        "id": "QCCDKCbyXXJD"
      },
      "source": [
        "## 2D. Performance"
      ]
    },
    {
      "cell_type": "code",
      "metadata": {
        "colab_type": "code",
        "id": "Blw7e4dHXXJD",
        "colab": {
          "base_uri": "https://localhost:8080/",
          "height": 324
        },
        "outputId": "d65382d2-aa96-42d0-a90f-cd1ebdfbafda"
      },
      "source": [
        "# Plot learning curves for model\n",
        "pd.DataFrame(history.history).plot(figsize=(8, 5))\n",
        "plt.grid(True)\n",
        "plt.gca().set_ylim(0, 1) # set the vertical range to [0-1]\n",
        "plt.show()"
      ],
      "execution_count": 43,
      "outputs": [
        {
          "output_type": "display_data",
          "data": {
            "image/png": "[encoded data removed]",
            "text/plain": [
              "<Figure size 576x360 with 1 Axes>"
            ]
          },
          "metadata": {
            "tags": [],
            "needs_background": "light"
          }
        }
      ]
    },
    {
      "cell_type": "markdown",
      "metadata": {
        "colab_type": "text",
        "id": "LHiKBhVRXXJG"
      },
      "source": [
        "# 3. Experiment 3: CNN w/2 layers\n",
        "\n",
        "This model will have 2 layers, each consisting of a convolution layer and a max pooling layer.  The second layer will return an array of 10 probability scores."
      ]
    },
    {
      "cell_type": "code",
      "metadata": {
        "colab_type": "code",
        "id": "TA7Tj7DCXXJG",
        "colab": {
          "base_uri": "https://localhost:8080/",
          "height": 34
        },
        "outputId": "9f2bfa83-44f6-45ef-f7f2-cb63720be4ed"
      },
      "source": [
        "# Data re-import and preparation\n",
        "from tensorflow.keras.datasets import fashion_mnist\n",
        "\n",
        "(train_images, train_labels), (test_images, test_labels) = fashion_mnist.load_data()\n",
        "train_images.shape, test_images.shape, test_labels.shape, test_labels.shape"
      ],
      "execution_count": 44,
      "outputs": [
        {
          "output_type": "execute_result",
          "data": {
            "text/plain": [
              "((60000, 28, 28), (10000, 28, 28), (10000,), (10000,))"
            ]
          },
          "metadata": {
            "tags": []
          },
          "execution_count": 44
        }
      ]
    },
    {
      "cell_type": "code",
      "metadata": {
        "colab_type": "code",
        "id": "qc99QvPGXXJK",
        "colab": {}
      },
      "source": [
        "# Reshape images and scale\n",
        "train_images = train_images.reshape((60000, 28, 28, 1))\n",
        "train_images = train_images.astype('float32') / 255\n",
        "\n",
        "test_images = test_images.reshape((10000, 28, 28, 1))\n",
        "test_images = test_images.astype('float32') / 255"
      ],
      "execution_count": 45,
      "outputs": []
    },
    {
      "cell_type": "code",
      "metadata": {
        "colab_type": "code",
        "id": "XghNSBjCXXJM",
        "colab": {}
      },
      "source": [
        "# Validation images\n",
        "val_images, train_images = train_images[:5000], train_images[5000:] \n",
        "val_labels, train_labels = train_labels[:5000], train_labels[5000:]"
      ],
      "execution_count": 46,
      "outputs": []
    },
    {
      "cell_type": "code",
      "metadata": {
        "colab_type": "code",
        "id": "RNgqtz7nXXJR",
        "colab": {}
      },
      "source": [
        "model_3a = models.Sequential()\n",
        "model_3a.add(layers.Conv2D(32, (3, 3), activation='relu', input_shape=(28, 28, 1)))\n",
        "model_3a.add(layers.MaxPooling2D((2, 2)))\n",
        "model_3a.add(layers.Conv2D(64, (3, 3), activation='relu'))\n",
        "model_3a.add(layers.MaxPooling2D((2, 2)))\n",
        "model_3a.add(layers.Flatten())\n",
        "model_3a.add(layers.Dense(128, activation='relu'))\n",
        "model_3a.add(layers.Dense(10, activation='softmax'))"
      ],
      "execution_count": 47,
      "outputs": []
    },
    {
      "cell_type": "code",
      "metadata": {
        "colab_type": "code",
        "id": "ffSe2ASNXXJU",
        "colab": {
          "base_uri": "https://localhost:8080/",
          "height": 391
        },
        "outputId": "b04cda39-3e29-4071-a97f-51350387fca7"
      },
      "source": [
        "model_3a.summary()"
      ],
      "execution_count": 48,
      "outputs": [
        {
          "output_type": "stream",
          "text": [
            "Model: \"sequential_2\"\n",
            "_________________________________________________________________\n",
            "Layer (type)                 Output Shape              Param #   \n",
            "=================================================================\n",
            "conv2d (Conv2D)              (None, 26, 26, 32)        320       \n",
            "_________________________________________________________________\n",
            "max_pooling2d (MaxPooling2D) (None, 13, 13, 32)        0         \n",
            "_________________________________________________________________\n",
            "conv2d_1 (Conv2D)            (None, 11, 11, 64)        18496     \n",
            "_________________________________________________________________\n",
            "max_pooling2d_1 (MaxPooling2 (None, 5, 5, 64)          0         \n",
            "_________________________________________________________________\n",
            "flatten_2 (Flatten)          (None, 1600)              0         \n",
            "_________________________________________________________________\n",
            "dense_5 (Dense)              (None, 128)               204928    \n",
            "_________________________________________________________________\n",
            "dense_6 (Dense)              (None, 10)                1290      \n",
            "=================================================================\n",
            "Total params: 225,034\n",
            "Trainable params: 225,034\n",
            "Non-trainable params: 0\n",
            "_________________________________________________________________\n"
          ],
          "name": "stdout"
        }
      ]
    },
    {
      "cell_type": "code",
      "metadata": {
        "colab_type": "code",
        "id": "FrMCJy_RXXJW",
        "colab": {
          "base_uri": "https://localhost:8080/",
          "height": 865
        },
        "outputId": "91e639bb-95f2-4d7c-f6a5-eee400bf87ad"
      },
      "source": [
        "keras.utils.plot_model(model_3a, show_shapes=True)"
      ],
      "execution_count": 49,
      "outputs": [
        {
          "output_type": "execute_result",
          "data": {
            "image/png": "[encoded data removed]",
            "text/plain": [
              "<IPython.core.display.Image object>"
            ]
          },
          "metadata": {
            "tags": []
          },
          "execution_count": 49
        }
      ]
    },
    {
      "cell_type": "markdown",
      "metadata": {
        "colab_type": "text",
        "id": "wn1DaQ7DXXJa"
      },
      "source": [
        "## 3A. Model Compilation"
      ]
    },
    {
      "cell_type": "code",
      "metadata": {
        "colab_type": "code",
        "id": "Kcxkq-g4XXJa",
        "colab": {}
      },
      "source": [
        "model_3a.compile(optimizer='adam',\n",
        "                loss='sparse_categorical_crossentropy',\n",
        "                metrics=['accuracy'])"
      ],
      "execution_count": 50,
      "outputs": []
    },
    {
      "cell_type": "markdown",
      "metadata": {
        "colab_type": "text",
        "id": "6eRuouGpXXJg"
      },
      "source": [
        "## 3B. Model Training"
      ]
    },
    {
      "cell_type": "code",
      "metadata": {
        "colab_type": "code",
        "id": "KO_8HU3FXXJh",
        "colab": {
          "base_uri": "https://localhost:8080/",
          "height": 734
        },
        "outputId": "6fcd174a-4f29-4da3-fc85-8c8152f22e80"
      },
      "source": [
        "train_rt = TrainRuntimeCallback()\n",
        "history = model_3a.fit(train_images, train_labels, callbacks=[train_rt], epochs=20, batch_size = 100,\n",
        "                    validation_data=(val_images, val_labels))\n",
        "\n",
        "# Saving models locally after fitting\n",
        "save_dir = \"results/\"\n",
        "model_name = 'fashion_mnist_model_3a.h5'\n",
        "model_path = os.path.join(save_dir, model_name)\n",
        "print('--------------------------')"
      ],
      "execution_count": 51,
      "outputs": [
        {
          "output_type": "stream",
          "text": [
            "Epoch 1/20\n",
            "550/550 [==============================] - 2s 4ms/step - loss: 0.5366 - accuracy: 0.8075 - val_loss: 0.3788 - val_accuracy: 0.8640\n",
            "Epoch 2/20\n",
            "550/550 [==============================] - 2s 3ms/step - loss: 0.3483 - accuracy: 0.8751 - val_loss: 0.3169 - val_accuracy: 0.8868\n",
            "Epoch 3/20\n",
            "550/550 [==============================] - 2s 3ms/step - loss: 0.3028 - accuracy: 0.8899 - val_loss: 0.2966 - val_accuracy: 0.8928\n",
            "Epoch 4/20\n",
            "550/550 [==============================] - 2s 3ms/step - loss: 0.2683 - accuracy: 0.9018 - val_loss: 0.2772 - val_accuracy: 0.9002\n",
            "Epoch 5/20\n",
            "550/550 [==============================] - 2s 3ms/step - loss: 0.2456 - accuracy: 0.9111 - val_loss: 0.2548 - val_accuracy: 0.9092\n",
            "Epoch 6/20\n",
            "550/550 [==============================] - 2s 3ms/step - loss: 0.2265 - accuracy: 0.9175 - val_loss: 0.2474 - val_accuracy: 0.9070\n",
            "Epoch 7/20\n",
            "550/550 [==============================] - 2s 3ms/step - loss: 0.2074 - accuracy: 0.9231 - val_loss: 0.2339 - val_accuracy: 0.9148\n",
            "Epoch 8/20\n",
            "550/550 [==============================] - 2s 3ms/step - loss: 0.1925 - accuracy: 0.9297 - val_loss: 0.2473 - val_accuracy: 0.9092\n",
            "Epoch 9/20\n",
            "550/550 [==============================] - 2s 3ms/step - loss: 0.1775 - accuracy: 0.9346 - val_loss: 0.2274 - val_accuracy: 0.9200\n",
            "Epoch 10/20\n",
            "550/550 [==============================] - 2s 3ms/step - loss: 0.1636 - accuracy: 0.9403 - val_loss: 0.2456 - val_accuracy: 0.9114\n",
            "Epoch 11/20\n",
            "550/550 [==============================] - 2s 3ms/step - loss: 0.1501 - accuracy: 0.9443 - val_loss: 0.2374 - val_accuracy: 0.9172\n",
            "Epoch 12/20\n",
            "550/550 [==============================] - 2s 3ms/step - loss: 0.1393 - accuracy: 0.9488 - val_loss: 0.2436 - val_accuracy: 0.9136\n",
            "Epoch 13/20\n",
            "550/550 [==============================] - 2s 3ms/step - loss: 0.1274 - accuracy: 0.9535 - val_loss: 0.2403 - val_accuracy: 0.9188\n",
            "Epoch 14/20\n",
            "550/550 [==============================] - 2s 3ms/step - loss: 0.1134 - accuracy: 0.9582 - val_loss: 0.2439 - val_accuracy: 0.9176\n",
            "Epoch 15/20\n",
            "550/550 [==============================] - 2s 3ms/step - loss: 0.1061 - accuracy: 0.9605 - val_loss: 0.2681 - val_accuracy: 0.9128\n",
            "Epoch 16/20\n",
            "550/550 [==============================] - 2s 3ms/step - loss: 0.0948 - accuracy: 0.9653 - val_loss: 0.2802 - val_accuracy: 0.9144\n",
            "Epoch 17/20\n",
            "550/550 [==============================] - 2s 3ms/step - loss: 0.0856 - accuracy: 0.9685 - val_loss: 0.2729 - val_accuracy: 0.9172\n",
            "Epoch 18/20\n",
            "550/550 [==============================] - 2s 3ms/step - loss: 0.0754 - accuracy: 0.9725 - val_loss: 0.2929 - val_accuracy: 0.9162\n",
            "Epoch 19/20\n",
            "550/550 [==============================] - 2s 3ms/step - loss: 0.0712 - accuracy: 0.9742 - val_loss: 0.3248 - val_accuracy: 0.9118\n",
            "Epoch 20/20\n",
            "550/550 [==============================] - 2s 3ms/step - loss: 0.0612 - accuracy: 0.9781 - val_loss: 0.3029 - val_accuracy: 0.9180\n",
            "--------------------------\n"
          ],
          "name": "stdout"
        }
      ]
    },
    {
      "cell_type": "code",
      "metadata": {
        "colab_type": "code",
        "id": "h9rxL6FGXXJk",
        "colab": {
          "base_uri": "https://localhost:8080/",
          "height": 34
        },
        "outputId": "da6016ee-3e98-48ed-bd28-e62e7e0d6ce4"
      },
      "source": [
        "# Get the training time\n",
        "train_time = train_rt.process_time\n",
        "train_time # in seconds"
      ],
      "execution_count": 52,
      "outputs": [
        {
          "output_type": "execute_result",
          "data": {
            "text/plain": [
              "42.654665"
            ]
          },
          "metadata": {
            "tags": []
          },
          "execution_count": 52
        }
      ]
    },
    {
      "cell_type": "markdown",
      "metadata": {
        "colab_type": "text",
        "id": "FT9RLoKSXXJu"
      },
      "source": [
        "## 3C. Model Testing\n",
        "\n",
        "Evaluate the model on the test dataset using a callback to get the total test time."
      ]
    },
    {
      "cell_type": "code",
      "metadata": {
        "colab_type": "code",
        "id": "FQtSuH3ZXXJu",
        "colab": {
          "base_uri": "https://localhost:8080/",
          "height": 34
        },
        "outputId": "624f1aa3-cfcc-4e42-e1d7-e60919857e1b"
      },
      "source": [
        "test_rt = TestRuntimeCallback()\n",
        "test_loss, test_acc = model_3a.evaluate(test_images, test_labels, callbacks=[test_rt])"
      ],
      "execution_count": 53,
      "outputs": [
        {
          "output_type": "stream",
          "text": [
            "313/313 [==============================] - 1s 2ms/step - loss: 0.3309 - accuracy: 0.9128\n"
          ],
          "name": "stdout"
        }
      ]
    },
    {
      "cell_type": "code",
      "metadata": {
        "colab_type": "code",
        "id": "LoGKSyr4XXJx",
        "colab": {
          "base_uri": "https://localhost:8080/",
          "height": 34
        },
        "outputId": "05038cff-eaaa-4349-e888-7015229902dc"
      },
      "source": [
        "# Get the test time\n",
        "test_time = test_rt.process_time\n",
        "test_time # in seconds"
      ],
      "execution_count": 54,
      "outputs": [
        {
          "output_type": "execute_result",
          "data": {
            "text/plain": [
              "0.856157"
            ]
          },
          "metadata": {
            "tags": []
          },
          "execution_count": 54
        }
      ]
    },
    {
      "cell_type": "code",
      "metadata": {
        "colab_type": "code",
        "id": "1kFote3tXXJz",
        "colab": {
          "base_uri": "https://localhost:8080/",
          "height": 34
        },
        "outputId": "090390f3-abe4-4b96-bcc9-edfa5ed045bd"
      },
      "source": [
        "history_dict = history.history\n",
        "history_dict.keys()"
      ],
      "execution_count": 55,
      "outputs": [
        {
          "output_type": "execute_result",
          "data": {
            "text/plain": [
              "dict_keys(['loss', 'accuracy', 'val_loss', 'val_accuracy'])"
            ]
          },
          "metadata": {
            "tags": []
          },
          "execution_count": 55
        }
      ]
    },
    {
      "cell_type": "code",
      "metadata": {
        "colab_type": "code",
        "id": "pBmU9j0OXXJ2",
        "colab": {
          "base_uri": "https://localhost:8080/",
          "height": 204
        },
        "outputId": "f1025939-8fec-4b2e-f4fa-f3c62517ab1f"
      },
      "source": [
        "history_df=pd.DataFrame(history_dict)\n",
        "history_df.tail()"
      ],
      "execution_count": 56,
      "outputs": [
        {
          "output_type": "execute_result",
          "data": {
            "text/html": [
              "<div>\n",
              "<style scoped>\n",
              "    .dataframe tbody tr th:only-of-type {\n",
              "        vertical-align: middle;\n",
              "    }\n",
              "\n",
              "    .dataframe tbody tr th {\n",
              "        vertical-align: top;\n",
              "    }\n",
              "\n",
              "    .dataframe thead th {\n",
              "        text-align: right;\n",
              "    }\n",
              "</style>\n",
              "<table border=\"1\" class=\"dataframe\">\n",
              "  <thead>\n",
              "    <tr style=\"text-align: right;\">\n",
              "      <th></th>\n",
              "      <th>loss</th>\n",
              "      <th>accuracy</th>\n",
              "      <th>val_loss</th>\n",
              "      <th>val_accuracy</th>\n",
              "    </tr>\n",
              "  </thead>\n",
              "  <tbody>\n",
              "    <tr>\n",
              "      <th>15</th>\n",
              "      <td>0.094811</td>\n",
              "      <td>0.965255</td>\n",
              "      <td>0.280224</td>\n",
              "      <td>0.9144</td>\n",
              "    </tr>\n",
              "    <tr>\n",
              "      <th>16</th>\n",
              "      <td>0.085593</td>\n",
              "      <td>0.968491</td>\n",
              "      <td>0.272949</td>\n",
              "      <td>0.9172</td>\n",
              "    </tr>\n",
              "    <tr>\n",
              "      <th>17</th>\n",
              "      <td>0.075359</td>\n",
              "      <td>0.972527</td>\n",
              "      <td>0.292871</td>\n",
              "      <td>0.9162</td>\n",
              "    </tr>\n",
              "    <tr>\n",
              "      <th>18</th>\n",
              "      <td>0.071219</td>\n",
              "      <td>0.974182</td>\n",
              "      <td>0.324832</td>\n",
              "      <td>0.9118</td>\n",
              "    </tr>\n",
              "    <tr>\n",
              "      <th>19</th>\n",
              "      <td>0.061248</td>\n",
              "      <td>0.978055</td>\n",
              "      <td>0.302873</td>\n",
              "      <td>0.9180</td>\n",
              "    </tr>\n",
              "  </tbody>\n",
              "</table>\n",
              "</div>"
            ],
            "text/plain": [
              "        loss  accuracy  val_loss  val_accuracy\n",
              "15  0.094811  0.965255  0.280224        0.9144\n",
              "16  0.085593  0.968491  0.272949        0.9172\n",
              "17  0.075359  0.972527  0.292871        0.9162\n",
              "18  0.071219  0.974182  0.324832        0.9118\n",
              "19  0.061248  0.978055  0.302873        0.9180"
            ]
          },
          "metadata": {
            "tags": []
          },
          "execution_count": 56
        }
      ]
    },
    {
      "cell_type": "code",
      "metadata": {
        "colab_type": "code",
        "id": "iz58dMJvXXJ3",
        "colab": {
          "base_uri": "https://localhost:8080/",
          "height": 80
        },
        "outputId": "0cfc5cd2-eed7-4cfb-a98e-8fc5f43e3a9a"
      },
      "source": [
        "# Pull statistics \n",
        "results_df3a = history_df.iloc[-1:].copy()\n",
        "results_df3a.insert(0,'model','CNN (2 layers)') # want the model name to appear first\n",
        "results_df3a['training time (sec)'] = train_time      # we are okay with training time appearing last\n",
        "results_df3a['testing time (sec)'] = test_time      # we are okay with training time appearing last\n",
        "results_df3a"
      ],
      "execution_count": 57,
      "outputs": [
        {
          "output_type": "execute_result",
          "data": {
            "text/html": [
              "<div>\n",
              "<style scoped>\n",
              "    .dataframe tbody tr th:only-of-type {\n",
              "        vertical-align: middle;\n",
              "    }\n",
              "\n",
              "    .dataframe tbody tr th {\n",
              "        vertical-align: top;\n",
              "    }\n",
              "\n",
              "    .dataframe thead th {\n",
              "        text-align: right;\n",
              "    }\n",
              "</style>\n",
              "<table border=\"1\" class=\"dataframe\">\n",
              "  <thead>\n",
              "    <tr style=\"text-align: right;\">\n",
              "      <th></th>\n",
              "      <th>model</th>\n",
              "      <th>loss</th>\n",
              "      <th>accuracy</th>\n",
              "      <th>val_loss</th>\n",
              "      <th>val_accuracy</th>\n",
              "      <th>training time (sec)</th>\n",
              "      <th>testing time (sec)</th>\n",
              "    </tr>\n",
              "  </thead>\n",
              "  <tbody>\n",
              "    <tr>\n",
              "      <th>19</th>\n",
              "      <td>CNN (2 layers)</td>\n",
              "      <td>0.061248</td>\n",
              "      <td>0.978055</td>\n",
              "      <td>0.302873</td>\n",
              "      <td>0.918</td>\n",
              "      <td>42.654665</td>\n",
              "      <td>0.856157</td>\n",
              "    </tr>\n",
              "  </tbody>\n",
              "</table>\n",
              "</div>"
            ],
            "text/plain": [
              "             model      loss  ...  training time (sec)  testing time (sec)\n",
              "19  CNN (2 layers)  0.061248  ...            42.654665            0.856157\n",
              "\n",
              "[1 rows x 7 columns]"
            ]
          },
          "metadata": {
            "tags": []
          },
          "execution_count": 57
        }
      ]
    },
    {
      "cell_type": "code",
      "metadata": {
        "colab_type": "code",
        "id": "y87J_fW7XXJ8",
        "scrolled": true,
        "colab": {
          "base_uri": "https://localhost:8080/",
          "height": 324
        },
        "outputId": "f3f2d4e7-3c65-4df1-e909-69c73463a796"
      },
      "source": [
        "# Plot learning curves for model\n",
        "pd.DataFrame(history.history).plot(figsize=(8, 5))\n",
        "plt.grid(True)\n",
        "plt.gca().set_ylim(0, 1) # set the vertical range to [0-1]\n",
        "plt.show()"
      ],
      "execution_count": 58,
      "outputs": [
        {
          "output_type": "display_data",
          "data": {
            "image/png": "[encoded data removed]",
            "text/plain": [
              "<Figure size 576x360 with 1 Axes>"
            ]
          },
          "metadata": {
            "tags": [],
            "needs_background": "light"
          }
        }
      ]
    },
    {
      "cell_type": "markdown",
      "metadata": {
        "colab_type": "text",
        "id": "Wxudy87WXXME"
      },
      "source": [
        "# 4. Experiment 4: CNN w/3 layers\n",
        "We create a `CNN` with 3 convolution/max pooling layers (**no drop out**) to work with our Fashion MNIST dataset. The experiment compares performance using L2 regularization in the convolutional layers. Image augmentation is not employed."
      ]
    },
    {
      "cell_type": "markdown",
      "metadata": {
        "colab_type": "text",
        "id": "1M4VbwpsXXME"
      },
      "source": [
        "## Model 4a: baseline CNN with 3 layers (no L2 regularization)"
      ]
    },
    {
      "cell_type": "code",
      "metadata": {
        "colab_type": "code",
        "id": "64TXVGxZXXME",
        "colab": {}
      },
      "source": [
        "model_4a = models.Sequential()\n",
        "model_4a.add(layers.Conv2D(32, (3, 3), activation='relu', input_shape=(28, 28, 1)))\n",
        "model_4a.add(layers.MaxPooling2D((2, 2)))\n",
        "model_4a.add(layers.Conv2D(64, (3, 3), activation='relu'))\n",
        "model_4a.add(layers.MaxPooling2D((2, 2)))\n",
        "model_4a.add(layers.Conv2D(64, (3, 3), activation='relu'))\n",
        "model_4a.add(layers.Flatten())\n",
        "model_4a.add(layers.Dense(64, activation='relu'))\n",
        "model_4a.add(layers.Dense(10, activation='softmax'))"
      ],
      "execution_count": 59,
      "outputs": []
    },
    {
      "cell_type": "code",
      "metadata": {
        "colab_type": "code",
        "id": "kv3v7_PHXXMH",
        "colab": {
          "base_uri": "https://localhost:8080/",
          "height": 425
        },
        "outputId": "76345268-2f0f-4986-e7f8-b440265868b7"
      },
      "source": [
        "model_4a.summary()"
      ],
      "execution_count": 60,
      "outputs": [
        {
          "output_type": "stream",
          "text": [
            "Model: \"sequential_3\"\n",
            "_________________________________________________________________\n",
            "Layer (type)                 Output Shape              Param #   \n",
            "=================================================================\n",
            "conv2d_2 (Conv2D)            (None, 26, 26, 32)        320       \n",
            "_________________________________________________________________\n",
            "max_pooling2d_2 (MaxPooling2 (None, 13, 13, 32)        0         \n",
            "_________________________________________________________________\n",
            "conv2d_3 (Conv2D)            (None, 11, 11, 64)        18496     \n",
            "_________________________________________________________________\n",
            "max_pooling2d_3 (MaxPooling2 (None, 5, 5, 64)          0         \n",
            "_________________________________________________________________\n",
            "conv2d_4 (Conv2D)            (None, 3, 3, 64)          36928     \n",
            "_________________________________________________________________\n",
            "flatten_3 (Flatten)          (None, 576)               0         \n",
            "_________________________________________________________________\n",
            "dense_7 (Dense)              (None, 64)                36928     \n",
            "_________________________________________________________________\n",
            "dense_8 (Dense)              (None, 10)                650       \n",
            "=================================================================\n",
            "Total params: 93,322\n",
            "Trainable params: 93,322\n",
            "Non-trainable params: 0\n",
            "_________________________________________________________________\n"
          ],
          "name": "stdout"
        }
      ]
    },
    {
      "cell_type": "code",
      "metadata": {
        "colab_type": "code",
        "id": "zpCS9HKJXXMI",
        "colab": {
          "base_uri": "https://localhost:8080/",
          "height": 976
        },
        "outputId": "02e5a975-c11f-4344-9cde-7809bc35ae00"
      },
      "source": [
        "keras.utils.plot_model(model_4a, show_shapes=True)"
      ],
      "execution_count": 61,
      "outputs": [
        {
          "output_type": "execute_result",
          "data": {
            "image/png": "[encoded data removed]",
            "text/plain": [
              "<IPython.core.display.Image object>"
            ]
          },
          "metadata": {
            "tags": []
          },
          "execution_count": 61
        }
      ]
    },
    {
      "cell_type": "markdown",
      "metadata": {
        "colab_type": "text",
        "id": "VqlsBNNmXXMK"
      },
      "source": [
        "## 4A. Model Compilation"
      ]
    },
    {
      "cell_type": "code",
      "metadata": {
        "colab_type": "code",
        "id": "Pv_bFkuIXXMK",
        "colab": {}
      },
      "source": [
        "model_4a.compile(optimizer='adam',\n",
        "                loss='sparse_categorical_crossentropy',\n",
        "                metrics=['accuracy'])"
      ],
      "execution_count": 62,
      "outputs": []
    },
    {
      "cell_type": "markdown",
      "metadata": {
        "colab_type": "text",
        "id": "OF4r3ethXXMM"
      },
      "source": [
        "## 4B. Model Compilation"
      ]
    },
    {
      "cell_type": "code",
      "metadata": {
        "colab_type": "code",
        "id": "59EUkTeBXXMM",
        "colab": {
          "base_uri": "https://localhost:8080/",
          "height": 734
        },
        "outputId": "d19f5bfa-e35e-439b-bb83-2b8febdb3d12"
      },
      "source": [
        "train_rt = TrainRuntimeCallback()\n",
        "history = model_4a.fit(train_images, train_labels, callbacks=[train_rt], epochs=20, batch_size = 100,\n",
        "                    validation_data=(val_images, val_labels))\n",
        "\n",
        "# Saving models locally after fitting\n",
        "save_dir = \"results/\"\n",
        "model_name = 'fashion_mnist_model_4a.h5'\n",
        "model_path = os.path.join(save_dir, model_name)\n",
        "print('--------------------------')"
      ],
      "execution_count": 63,
      "outputs": [
        {
          "output_type": "stream",
          "text": [
            "Epoch 1/20\n",
            "550/550 [==============================] - 2s 4ms/step - loss: 0.5839 - accuracy: 0.7873 - val_loss: 0.3805 - val_accuracy: 0.8660\n",
            "Epoch 2/20\n",
            "550/550 [==============================] - 2s 4ms/step - loss: 0.3630 - accuracy: 0.8678 - val_loss: 0.3182 - val_accuracy: 0.8850\n",
            "Epoch 3/20\n",
            "550/550 [==============================] - 2s 3ms/step - loss: 0.3109 - accuracy: 0.8861 - val_loss: 0.3021 - val_accuracy: 0.8902\n",
            "Epoch 4/20\n",
            "550/550 [==============================] - 2s 3ms/step - loss: 0.2804 - accuracy: 0.8971 - val_loss: 0.2674 - val_accuracy: 0.9024\n",
            "Epoch 5/20\n",
            "550/550 [==============================] - 2s 4ms/step - loss: 0.2559 - accuracy: 0.9056 - val_loss: 0.2584 - val_accuracy: 0.9048\n",
            "Epoch 6/20\n",
            "550/550 [==============================] - 2s 4ms/step - loss: 0.2388 - accuracy: 0.9116 - val_loss: 0.2590 - val_accuracy: 0.9022\n",
            "Epoch 7/20\n",
            "550/550 [==============================] - 2s 4ms/step - loss: 0.2180 - accuracy: 0.9193 - val_loss: 0.2410 - val_accuracy: 0.9092\n",
            "Epoch 8/20\n",
            "550/550 [==============================] - 2s 4ms/step - loss: 0.2057 - accuracy: 0.9232 - val_loss: 0.2429 - val_accuracy: 0.9102\n",
            "Epoch 9/20\n",
            "550/550 [==============================] - 2s 4ms/step - loss: 0.1890 - accuracy: 0.9307 - val_loss: 0.2526 - val_accuracy: 0.9094\n",
            "Epoch 10/20\n",
            "550/550 [==============================] - 2s 4ms/step - loss: 0.1791 - accuracy: 0.9342 - val_loss: 0.2430 - val_accuracy: 0.9140\n",
            "Epoch 11/20\n",
            "550/550 [==============================] - 2s 4ms/step - loss: 0.1644 - accuracy: 0.9386 - val_loss: 0.2400 - val_accuracy: 0.9172\n",
            "Epoch 12/20\n",
            "550/550 [==============================] - 2s 4ms/step - loss: 0.1562 - accuracy: 0.9421 - val_loss: 0.2402 - val_accuracy: 0.9114\n",
            "Epoch 13/20\n",
            "550/550 [==============================] - 2s 4ms/step - loss: 0.1442 - accuracy: 0.9467 - val_loss: 0.2415 - val_accuracy: 0.9188\n",
            "Epoch 14/20\n",
            "550/550 [==============================] - 2s 4ms/step - loss: 0.1281 - accuracy: 0.9530 - val_loss: 0.2490 - val_accuracy: 0.9160\n",
            "Epoch 15/20\n",
            "550/550 [==============================] - 2s 4ms/step - loss: 0.1176 - accuracy: 0.9565 - val_loss: 0.2648 - val_accuracy: 0.9148\n",
            "Epoch 16/20\n",
            "550/550 [==============================] - 2s 4ms/step - loss: 0.1105 - accuracy: 0.9595 - val_loss: 0.2801 - val_accuracy: 0.9180\n",
            "Epoch 17/20\n",
            "550/550 [==============================] - 2s 4ms/step - loss: 0.1027 - accuracy: 0.9619 - val_loss: 0.2839 - val_accuracy: 0.9166\n",
            "Epoch 18/20\n",
            "550/550 [==============================] - 2s 3ms/step - loss: 0.0928 - accuracy: 0.9653 - val_loss: 0.2987 - val_accuracy: 0.9166\n",
            "Epoch 19/20\n",
            "550/550 [==============================] - 2s 3ms/step - loss: 0.0866 - accuracy: 0.9677 - val_loss: 0.3024 - val_accuracy: 0.9158\n",
            "Epoch 20/20\n",
            "550/550 [==============================] - 2s 3ms/step - loss: 0.0769 - accuracy: 0.9717 - val_loss: 0.3161 - val_accuracy: 0.9076\n",
            "--------------------------\n"
          ],
          "name": "stdout"
        }
      ]
    },
    {
      "cell_type": "code",
      "metadata": {
        "colab_type": "code",
        "id": "2yNrUFL4XXMN",
        "colab": {
          "base_uri": "https://localhost:8080/",
          "height": 34
        },
        "outputId": "251ddbf1-2601-4a2b-de1e-8900a5db8fb3"
      },
      "source": [
        "# Get the training time\n",
        "train_time = train_rt.process_time\n",
        "train_time # in seconds"
      ],
      "execution_count": 64,
      "outputs": [
        {
          "output_type": "execute_result",
          "data": {
            "text/plain": [
              "39.695646"
            ]
          },
          "metadata": {
            "tags": []
          },
          "execution_count": 64
        }
      ]
    },
    {
      "cell_type": "markdown",
      "metadata": {
        "colab_type": "text",
        "id": "wVPSu-RvXXMQ"
      },
      "source": [
        "## 4C. Model Testing"
      ]
    },
    {
      "cell_type": "code",
      "metadata": {
        "colab_type": "code",
        "id": "bE_WhzOmXXMQ",
        "colab": {
          "base_uri": "https://localhost:8080/",
          "height": 34
        },
        "outputId": "0450018e-f7bd-42ed-8684-45efd1056341"
      },
      "source": [
        "test_rt = TestRuntimeCallback()\n",
        "test_loss, test_acc = model_4a.evaluate(test_images, test_labels, callbacks=[test_rt])"
      ],
      "execution_count": 65,
      "outputs": [
        {
          "output_type": "stream",
          "text": [
            "313/313 [==============================] - 1s 2ms/step - loss: 0.3388 - accuracy: 0.9042\n"
          ],
          "name": "stdout"
        }
      ]
    },
    {
      "cell_type": "code",
      "metadata": {
        "colab_type": "code",
        "id": "ek023mMVXXMR",
        "colab": {
          "base_uri": "https://localhost:8080/",
          "height": 34
        },
        "outputId": "cba607a3-5705-49f9-a371-bf82af8f9e27"
      },
      "source": [
        "# Get the test time\n",
        "test_time = test_rt.process_time\n",
        "test_time # in seconds"
      ],
      "execution_count": 66,
      "outputs": [
        {
          "output_type": "execute_result",
          "data": {
            "text/plain": [
              "0.773794"
            ]
          },
          "metadata": {
            "tags": []
          },
          "execution_count": 66
        }
      ]
    },
    {
      "cell_type": "code",
      "metadata": {
        "colab_type": "code",
        "id": "rjWR65BzXXMS",
        "colab": {
          "base_uri": "https://localhost:8080/",
          "height": 34
        },
        "outputId": "fc653a83-7cc0-44d1-8b10-94db1a463a69"
      },
      "source": [
        "history_dict = history.history\n",
        "history_dict.keys()"
      ],
      "execution_count": 67,
      "outputs": [
        {
          "output_type": "execute_result",
          "data": {
            "text/plain": [
              "dict_keys(['loss', 'accuracy', 'val_loss', 'val_accuracy'])"
            ]
          },
          "metadata": {
            "tags": []
          },
          "execution_count": 67
        }
      ]
    },
    {
      "cell_type": "code",
      "metadata": {
        "colab_type": "code",
        "id": "H_zfwtbCXXMU",
        "colab": {
          "base_uri": "https://localhost:8080/",
          "height": 204
        },
        "outputId": "4b3c22cd-e796-4299-ebd8-88c66230be52"
      },
      "source": [
        "history_df=pd.DataFrame(history_dict)\n",
        "history_df.tail()"
      ],
      "execution_count": 68,
      "outputs": [
        {
          "output_type": "execute_result",
          "data": {
            "text/html": [
              "<div>\n",
              "<style scoped>\n",
              "    .dataframe tbody tr th:only-of-type {\n",
              "        vertical-align: middle;\n",
              "    }\n",
              "\n",
              "    .dataframe tbody tr th {\n",
              "        vertical-align: top;\n",
              "    }\n",
              "\n",
              "    .dataframe thead th {\n",
              "        text-align: right;\n",
              "    }\n",
              "</style>\n",
              "<table border=\"1\" class=\"dataframe\">\n",
              "  <thead>\n",
              "    <tr style=\"text-align: right;\">\n",
              "      <th></th>\n",
              "      <th>loss</th>\n",
              "      <th>accuracy</th>\n",
              "      <th>val_loss</th>\n",
              "      <th>val_accuracy</th>\n",
              "    </tr>\n",
              "  </thead>\n",
              "  <tbody>\n",
              "    <tr>\n",
              "      <th>15</th>\n",
              "      <td>0.110460</td>\n",
              "      <td>0.959455</td>\n",
              "      <td>0.280067</td>\n",
              "      <td>0.9180</td>\n",
              "    </tr>\n",
              "    <tr>\n",
              "      <th>16</th>\n",
              "      <td>0.102719</td>\n",
              "      <td>0.961855</td>\n",
              "      <td>0.283918</td>\n",
              "      <td>0.9166</td>\n",
              "    </tr>\n",
              "    <tr>\n",
              "      <th>17</th>\n",
              "      <td>0.092769</td>\n",
              "      <td>0.965309</td>\n",
              "      <td>0.298722</td>\n",
              "      <td>0.9166</td>\n",
              "    </tr>\n",
              "    <tr>\n",
              "      <th>18</th>\n",
              "      <td>0.086586</td>\n",
              "      <td>0.967655</td>\n",
              "      <td>0.302397</td>\n",
              "      <td>0.9158</td>\n",
              "    </tr>\n",
              "    <tr>\n",
              "      <th>19</th>\n",
              "      <td>0.076909</td>\n",
              "      <td>0.971745</td>\n",
              "      <td>0.316066</td>\n",
              "      <td>0.9076</td>\n",
              "    </tr>\n",
              "  </tbody>\n",
              "</table>\n",
              "</div>"
            ],
            "text/plain": [
              "        loss  accuracy  val_loss  val_accuracy\n",
              "15  0.110460  0.959455  0.280067        0.9180\n",
              "16  0.102719  0.961855  0.283918        0.9166\n",
              "17  0.092769  0.965309  0.298722        0.9166\n",
              "18  0.086586  0.967655  0.302397        0.9158\n",
              "19  0.076909  0.971745  0.316066        0.9076"
            ]
          },
          "metadata": {
            "tags": []
          },
          "execution_count": 68
        }
      ]
    },
    {
      "cell_type": "code",
      "metadata": {
        "colab_type": "code",
        "id": "lGfL12J_XXMV",
        "colab": {
          "base_uri": "https://localhost:8080/",
          "height": 80
        },
        "outputId": "aabb93d3-fe01-474f-9526-d2c5955317e6"
      },
      "source": [
        "# Pull statistics \n",
        "# Pull statistics \n",
        "results_df4a = history_df.iloc[-1:].copy()\n",
        "results_df4a.insert(0,'model','CNN (3 layers)') # want the model name to appear first\n",
        "results_df4a['training time (sec)'] = train_time      # we are okay with training time appearing last\n",
        "results_df4a['testing time (sec)'] = test_time      # we are okay with training time appearing last\n",
        "results_df4a"
      ],
      "execution_count": 69,
      "outputs": [
        {
          "output_type": "execute_result",
          "data": {
            "text/html": [
              "<div>\n",
              "<style scoped>\n",
              "    .dataframe tbody tr th:only-of-type {\n",
              "        vertical-align: middle;\n",
              "    }\n",
              "\n",
              "    .dataframe tbody tr th {\n",
              "        vertical-align: top;\n",
              "    }\n",
              "\n",
              "    .dataframe thead th {\n",
              "        text-align: right;\n",
              "    }\n",
              "</style>\n",
              "<table border=\"1\" class=\"dataframe\">\n",
              "  <thead>\n",
              "    <tr style=\"text-align: right;\">\n",
              "      <th></th>\n",
              "      <th>model</th>\n",
              "      <th>loss</th>\n",
              "      <th>accuracy</th>\n",
              "      <th>val_loss</th>\n",
              "      <th>val_accuracy</th>\n",
              "      <th>training time (sec)</th>\n",
              "      <th>testing time (sec)</th>\n",
              "    </tr>\n",
              "  </thead>\n",
              "  <tbody>\n",
              "    <tr>\n",
              "      <th>19</th>\n",
              "      <td>CNN (3 layers)</td>\n",
              "      <td>0.076909</td>\n",
              "      <td>0.971745</td>\n",
              "      <td>0.316066</td>\n",
              "      <td>0.9076</td>\n",
              "      <td>39.695646</td>\n",
              "      <td>0.773794</td>\n",
              "    </tr>\n",
              "  </tbody>\n",
              "</table>\n",
              "</div>"
            ],
            "text/plain": [
              "             model      loss  ...  training time (sec)  testing time (sec)\n",
              "19  CNN (3 layers)  0.076909  ...            39.695646            0.773794\n",
              "\n",
              "[1 rows x 7 columns]"
            ]
          },
          "metadata": {
            "tags": []
          },
          "execution_count": 69
        }
      ]
    },
    {
      "cell_type": "code",
      "metadata": {
        "colab_type": "code",
        "id": "a6IwTC56XXMY",
        "colab": {}
      },
      "source": [
        "# Combine with previous results\n",
        "# prev_results_df = pd.read_pickle('results.pkl')\n",
        "# results_df = results_df.append(results_df3a,ignore_index=True)\n",
        "# results_df = results_df.append(results_df3b,ignore_index=True)\n",
        "# results_df"
      ],
      "execution_count": 70,
      "outputs": []
    },
    {
      "cell_type": "markdown",
      "metadata": {
        "colab_type": "text",
        "id": "ubtMBYSFXXMa"
      },
      "source": [
        "## Plot the performance "
      ]
    },
    {
      "cell_type": "code",
      "metadata": {
        "colab_type": "code",
        "id": "vco4rEt_XXMa",
        "scrolled": true,
        "colab": {
          "base_uri": "https://localhost:8080/",
          "height": 324
        },
        "outputId": "f55fe6f1-bdeb-46a7-df6e-0417b1cc30dd"
      },
      "source": [
        "# Plot learning curves for model\n",
        "pd.DataFrame(history.history).plot(figsize=(8, 5))\n",
        "plt.grid(True)\n",
        "plt.gca().set_ylim(0, 1) # set the vertical range to [0-1]\n",
        "plt.show()"
      ],
      "execution_count": 71,
      "outputs": [
        {
          "output_type": "display_data",
          "data": {
            "image/png": "[encoded data removed]",
            "text/plain": [
              "<Figure size 576x360 with 1 Axes>"
            ]
          },
          "metadata": {
            "tags": [],
            "needs_background": "light"
          }
        }
      ]
    }
  ]
}