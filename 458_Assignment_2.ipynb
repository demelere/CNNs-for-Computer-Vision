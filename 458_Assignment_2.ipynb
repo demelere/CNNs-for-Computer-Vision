{
  "nbformat": 4,
  "nbformat_minor": 0,
  "metadata": {
    "accelerator": "GPU",
    "colab": {
      "name": "458 - Assignment 2",
      "provenance": [],
      "collapsed_sections": [],
      "include_colab_link": true
    },
    "kernelspec": {
      "display_name": "Python 3",
      "language": "python",
      "name": "python3"
    },
    "language_info": {
      "codemirror_mode": {
        "name": "ipython",
        "version": 3
      },
      "file_extension": ".py",
      "mimetype": "text/x-python",
      "name": "python",
      "nbconvert_exporter": "python",
      "pygments_lexer": "ipython3",
      "version": "3.6.8"
    },
    "toc": {
      "base_numbering": 1,
      "nav_menu": {},
      "number_sections": false,
      "sideBar": true,
      "skip_h1_title": false,
      "title_cell": "Table of Contents",
      "title_sidebar": "Contents",
      "toc_cell": false,
      "toc_position": {},
      "toc_section_display": true,
      "toc_window_display": true
    }
  },
  "cells": [
    {
      "cell_type": "markdown",
      "metadata": {
        "id": "view-in-github",
        "colab_type": "text"
      },
      "source": [
        "<a href=\"https://colab.research.google.com/github/demelere/CNNs-for-Computer-Vision/blob/master/458_Assignment_2.ipynb\" target=\"_parent\"><img src=\"https://colab.research.google.com/assets/colab-badge.svg\" alt=\"Open In Colab\"/></a>"
      ]
    },
    {
      "cell_type": "markdown",
      "metadata": {
        "colab_type": "text",
        "id": "FbTDtmJlXXFy"
      },
      "source": [
        "# A. Setup and Import"
      ]
    },
    {
      "cell_type": "code",
      "metadata": {
        "colab_type": "code",
        "id": "HAXsecMAXXF0",
        "colab": {
          "base_uri": "https://localhost:8080/",
          "height": 71
        },
        "outputId": "c5ab26e1-d9e8-48b4-8fd6-2cdafa44d2cc"
      },
      "source": [
        "# Import dependencies\n",
        "import numpy as np\n",
        "import pandas as pd\n",
        "import os\n",
        "from collections import Counter\n",
        "import datetime\n",
        "\n",
        "import tensorflow as tf\n",
        "from tensorflow import keras\n",
        "from tensorflow.keras import models\n",
        "from tensorflow.keras import layers\n",
        "from tensorflow.keras import optimizers\n",
        "from tensorflow.keras import regularizers\n",
        "from tensorflow.keras.preprocessing.image import ImageDataGenerator\n",
        "from tensorflow.keras.preprocessing import image\n",
        "\n",
        "%matplotlib inline\n",
        "import matplotlib.pyplot as plt\n",
        "import seaborn as sns"
      ],
      "execution_count": 22,
      "outputs": [
        {
          "output_type": "stream",
          "text": [
            "/usr/local/lib/python3.6/dist-packages/statsmodels/tools/_testing.py:19: FutureWarning: pandas.util.testing is deprecated. Use the functions in the public API at pandas.testing instead.\n",
            "  import pandas.util.testing as tm\n"
          ],
          "name": "stderr"
        }
      ]
    },
    {
      "cell_type": "code",
      "metadata": {
        "colab_type": "code",
        "id": "LYCZ3TV_XXGB",
        "colab": {}
      },
      "source": [
        "# check Keras version\n",
        "keras.__version__\n",
        "\n",
        "# check tensorflow version\n",
        "tf.__version__\n",
        "\n",
        "# set seed\n",
        "keras.backend.clear_session()\n",
        "np.random.seed(42)\n",
        "tf.random.set_seed(42)"
      ],
      "execution_count": 23,
      "outputs": []
    },
    {
      "cell_type": "code",
      "metadata": {
        "colab_type": "code",
        "id": "jNeB1k8tXXGY",
        "colab": {
          "base_uri": "https://localhost:8080/",
          "height": 54
        },
        "outputId": "4076816f-31a1-41c0-bfaf-9f3900cc9e04"
      },
      "source": [
        "from google.colab import drive\n",
        "drive.mount('/content/gdrive')"
      ],
      "execution_count": 24,
      "outputs": [
        {
          "output_type": "stream",
          "text": [
            "Drive already mounted at /content/gdrive; to attempt to forcibly remount, call drive.mount(\"/content/gdrive\", force_remount=True).\n"
          ],
          "name": "stdout"
        }
      ]
    },
    {
      "cell_type": "code",
      "metadata": {
        "colab_type": "code",
        "id": "-sSk6UJcXXGg",
        "colab": {}
      },
      "source": [
        "# Saving in Colab\n",
        "# os.getcwd()\n",
        "# %cd /content/gdrive/My\\ Drive/MSDS458/weekfive\n",
        "# !pwd\n",
        "# !ls\n",
        "# print('Working Directory')\n",
        "# print(os.getcwd())\n",
        "# work_dir = \"content/gdrive/My Drive/MSDS458/weekfive\"\n",
        "# chp_id = \"ann\""
      ],
      "execution_count": 25,
      "outputs": []
    },
    {
      "cell_type": "markdown",
      "metadata": {
        "colab_type": "text",
        "id": "6pR2s38pXXGm"
      },
      "source": [
        "## A.1 Import data"
      ]
    },
    {
      "cell_type": "code",
      "metadata": {
        "colab_type": "code",
        "id": "49o4f6jiXXGm",
        "colab": {
          "base_uri": "https://localhost:8080/",
          "height": 34
        },
        "outputId": "15ce2097-3923-4245-8843-532e31dbd7a6"
      },
      "source": [
        "from tensorflow.keras.datasets import fashion_mnist\n",
        "(train_images, train_labels), (test_images, test_labels) = fashion_mnist.load_data()\n",
        "train_images.shape, test_images.shape, test_labels.shape, test_labels.shape"
      ],
      "execution_count": 26,
      "outputs": [
        {
          "output_type": "execute_result",
          "data": {
            "text/plain": [
              "((60000, 28, 28), (10000, 28, 28), (10000,), (10000,))"
            ]
          },
          "metadata": {
            "tags": []
          },
          "execution_count": 26
        }
      ]
    },
    {
      "cell_type": "code",
      "metadata": {
        "colab_type": "code",
        "id": "74rhoyr5XXGs",
        "colab": {
          "base_uri": "https://localhost:8080/",
          "height": 187
        },
        "outputId": "84ad0b5d-d8fa-4071-ecbc-7750c7dbcb51"
      },
      "source": [
        "# training labels are integers btw/0 and 9, and correspond to different articles of clothing\n",
        "Counter(train_labels).most_common()"
      ],
      "execution_count": 27,
      "outputs": [
        {
          "output_type": "execute_result",
          "data": {
            "text/plain": [
              "[(9, 6000),\n",
              " (0, 6000),\n",
              " (3, 6000),\n",
              " (2, 6000),\n",
              " (7, 6000),\n",
              " (5, 6000),\n",
              " (1, 6000),\n",
              " (6, 6000),\n",
              " (4, 6000),\n",
              " (8, 6000)]"
            ]
          },
          "metadata": {
            "tags": []
          },
          "execution_count": 27
        }
      ]
    },
    {
      "cell_type": "code",
      "metadata": {
        "colab_type": "code",
        "id": "_2dOESWUXXGx",
        "colab": {}
      },
      "source": [
        "class_names = ['T-shirt/top', 'Trouser', 'Pullover', 'Dress', 'Coat',\n",
        "               'Sandal', 'Shirt', 'Sneaker', 'Bag', 'Ankle boot']"
      ],
      "execution_count": 28,
      "outputs": []
    },
    {
      "cell_type": "code",
      "metadata": {
        "id": "noB62aIUYGT2",
        "colab_type": "code",
        "colab": {
          "base_uri": "https://localhost:8080/",
          "height": 1000
        },
        "outputId": "1629f39e-5f2e-4fe7-8d3b-1f88401cb44c"
      },
      "source": [
        "for i in range (9):\n",
        "  plt.imshow(train_images[i], cmap=\"binary\") \n",
        "  plt.axis('off')\n",
        "  plt.title(class_names[test_labels[i]], fontsize=12)\n",
        "  plt.show()"
      ],
      "execution_count": 29,
      "outputs": [
        {
          "output_type": "display_data",
          "data": {
            "image/png": "[encoded data removed]",
            "text/plain": [
              "<Figure size 432x288 with 1 Axes>"
            ]
          },
          "metadata": {
            "tags": [],
            "needs_background": "light"
          }
        },
        {
          "output_type": "display_data",
          "data": {
            "image/png": "[encoded data removed]",
            "text/plain": [
              "<Figure size 432x288 with 1 Axes>"
            ]
          },
          "metadata": {
            "tags": [],
            "needs_background": "light"
          }
        },
        {
          "output_type": "display_data",
          "data": {
            "image/png": "[encoded data removed]",
            "text/plain": [
              "<Figure size 432x288 with 1 Axes>"
            ]
          },
          "metadata": {
            "tags": [],
            "needs_background": "light"
          }
        },
        {
          "output_type": "display_data",
          "data": {
            "image/png": "[encoded data removed]",
            "text/plain": [
              "<Figure size 432x288 with 1 Axes>"
            ]
          },
          "metadata": {
            "tags": [],
            "needs_background": "light"
          }
        },
        {
          "output_type": "display_data",
          "data": {
            "image/png": "[encoded data removed]",
            "text/plain": [
              "<Figure size 432x288 with 1 Axes>"
            ]
          },
          "metadata": {
            "tags": [],
            "needs_background": "light"
          }
        },
        {
          "output_type": "display_data",
          "data": {
            "image/png": "[encoded data removed]",
            "text/plain": [
              "<Figure size 432x288 with 1 Axes>"
            ]
          },
          "metadata": {
            "tags": [],
            "needs_background": "light"
          }
        },
        {
          "output_type": "display_data",
          "data": {
            "image/png": "[encoded data removed]",
            "text/plain": [
              "<Figure size 432x288 with 1 Axes>"
            ]
          },
          "metadata": {
            "tags": [],
            "needs_background": "light"
          }
        },
        {
          "output_type": "display_data",
          "data": {
            "image/png": "[encoded data removed]",
            "text/plain": [
              "<Figure size 432x288 with 1 Axes>"
            ]
          },
          "metadata": {
            "tags": [],
            "needs_background": "light"
          }
        },
        {
          "output_type": "display_data",
          "data": {
            "image/png": "[encoded data removed]",
            "text/plain": [
              "<Figure size 432x288 with 1 Axes>"
            ]
          },
          "metadata": {
            "tags": [],
            "needs_background": "light"
          }
        }
      ]
    },
    {
      "cell_type": "markdown",
      "metadata": {
        "colab_type": "text",
        "id": "391ZFdRzXXHD"
      },
      "source": [
        "## A.2 Data Cleaning and Transformation"
      ]
    },
    {
      "cell_type": "code",
      "metadata": {
        "colab_type": "code",
        "id": "3P5LUQiEXXHD",
        "colab": {}
      },
      "source": [
        "# Reshape the data into the right format for model (float32 array w/shape 60000, 28*28 and values btw/ 0 and 1).\n",
        "#train_images = train_images.reshape((60000, 28 * 28))  # Decided instead to use a Flatten layer in the model\n",
        "train_images = train_images.astype('float32') / 255\n",
        "\n",
        "#test_images = test_images.reshape((10000, 28 * 28))  # Decided instead to use a Flatten layer in the model\n",
        "test_images = test_images.astype('float32') / 255"
      ],
      "execution_count": 30,
      "outputs": []
    },
    {
      "cell_type": "code",
      "metadata": {
        "colab_type": "code",
        "id": "eTgoHS6wXXHM",
        "colab": {}
      },
      "source": [
        "# Hold back 5,000 of the 60,000 training images for validation.\n",
        "val_images, train_images = train_images[:5000], train_images[5000:] \n",
        "val_labels, train_labels = train_labels[:5000], train_labels[5000:]"
      ],
      "execution_count": 31,
      "outputs": []
    },
    {
      "cell_type": "code",
      "metadata": {
        "colab_type": "code",
        "id": "wtmDm5WIXXHR",
        "colab": {}
      },
      "source": [
        "# function to help calculate training and test evaluation times\n",
        "class TrainRuntimeCallback(keras.callbacks.Callback):\n",
        "\n",
        "  def on_train_begin(self,logs={}):\n",
        "    self.start = datetime.datetime.now()\n",
        "\n",
        "  def on_train_end(self,logs={}):\n",
        "    self.process_time = (datetime.datetime.now() - self.start).total_seconds()"
      ],
      "execution_count": 32,
      "outputs": []
    },
    {
      "cell_type": "code",
      "metadata": {
        "colab_type": "code",
        "id": "pAQ24bJWXXHW",
        "colab": {}
      },
      "source": [
        "class TestRuntimeCallback(keras.callbacks.Callback):\n",
        "\n",
        "  def on_test_begin(self,logs={}):\n",
        "    self.start = datetime.datetime.now()\n",
        "\n",
        "  def on_test_end(self,logs={}):\n",
        "    self.process_time = (datetime.datetime.now() - self.start).total_seconds()"
      ],
      "execution_count": 33,
      "outputs": []
    },
    {
      "cell_type": "markdown",
      "metadata": {
        "colab_type": "text",
        "id": "0ib-5EmTXXHb"
      },
      "source": [
        "# 1. Experiment 1: Baseline DNN w/2 layers\n",
        "\n",
        "This model will have 784 input nodes.  It will take two dense (fully-connected) layers.  The first (hidden) layer will have 5 nodes, and the second (softmax) layer will have 10 output nodes."
      ]
    },
    {
      "cell_type": "code",
      "metadata": {
        "colab_type": "code",
        "id": "7o2Rq2T4XXHd",
        "colab": {}
      },
      "source": [
        "model_1 = models.Sequential()\n",
        "model_1.add(layers.Flatten(input_shape=[28, 28]))\n",
        "model_1.add(layers.Dense(5, activation='relu'))\n",
        "model_1.add(layers.Dense(10, activation='softmax')) "
      ],
      "execution_count": 34,
      "outputs": []
    },
    {
      "cell_type": "code",
      "metadata": {
        "colab_type": "code",
        "id": "E2zDUJXdXXHg",
        "colab": {
          "base_uri": "https://localhost:8080/",
          "height": 255
        },
        "outputId": "3c962e8b-459b-4584-a4b9-a22e5313fe82"
      },
      "source": [
        "model_1.summary()"
      ],
      "execution_count": 35,
      "outputs": [
        {
          "output_type": "stream",
          "text": [
            "Model: \"sequential\"\n",
            "_________________________________________________________________\n",
            "Layer (type)                 Output Shape              Param #   \n",
            "=================================================================\n",
            "flatten (Flatten)            (None, 784)               0         \n",
            "_________________________________________________________________\n",
            "dense (Dense)                (None, 5)                 3925      \n",
            "_________________________________________________________________\n",
            "dense_1 (Dense)              (None, 10)                60        \n",
            "=================================================================\n",
            "Total params: 3,985\n",
            "Trainable params: 3,985\n",
            "Non-trainable params: 0\n",
            "_________________________________________________________________\n"
          ],
          "name": "stdout"
        }
      ]
    },
    {
      "cell_type": "code",
      "metadata": {
        "colab_type": "code",
        "id": "q5zLkPPMXXHk",
        "colab": {
          "base_uri": "https://localhost:8080/",
          "height": 422
        },
        "outputId": "453bde5f-5ae2-429d-cfa5-dc86c236047c"
      },
      "source": [
        "keras.utils.plot_model(model_1, show_shapes=True)"
      ],
      "execution_count": 36,
      "outputs": [
        {
          "output_type": "execute_result",
          "data": {
            "image/png": "[encoded data removed]",
            "text/plain": [
              "<IPython.core.display.Image object>"
            ]
          },
          "metadata": {
            "tags": []
          },
          "execution_count": 36
        }
      ]
    },
    {
      "cell_type": "markdown",
      "metadata": {
        "colab_type": "text",
        "id": "XspoH2AZXXHn"
      },
      "source": [
        "## 1A. Model Compilation\n",
        "\n",
        "This step includes an optimizer (how the network updates itself based on the data and the loss function), a loss function (how the network measures how good a job it is doing on the data and adjusts), and metrics (accuracy)."
      ]
    },
    {
      "cell_type": "code",
      "metadata": {
        "colab_type": "code",
        "id": "WIAmczv3XXHo",
        "colab": {}
      },
      "source": [
        "model_1.compile(optimizer='adam',\n",
        "                loss='sparse_categorical_crossentropy',\n",
        "                metrics=['accuracy'])"
      ],
      "execution_count": 37,
      "outputs": []
    },
    {
      "cell_type": "markdown",
      "metadata": {
        "colab_type": "text",
        "id": "-kJgeHo1XXHu"
      },
      "source": [
        "## 1B. Model Training\n",
        "\n",
        "Train model for 20 epochs with batch size 100"
      ]
    },
    {
      "cell_type": "code",
      "metadata": {
        "colab_type": "code",
        "id": "ef3NJp4JXXHu",
        "colab": {
          "base_uri": "https://localhost:8080/",
          "height": 751
        },
        "outputId": "1bb9fa4c-4fa1-4f64-f696-4be657d6c950"
      },
      "source": [
        "train_rt = TrainRuntimeCallback()\n",
        "history = model_1.fit(train_images, train_labels, callbacks=[train_rt], epochs=20, batch_size=100,\n",
        "                    validation_data=(val_images, val_labels))\n",
        "\n",
        "# Saving models locally after fitting\n",
        "save_dir = \"results/\"\n",
        "model_name = 'fashion_mnist_model_1.h5'\n",
        "model_path = os.path.join(save_dir, model_name)\n",
        "print('--------------------------')"
      ],
      "execution_count": 38,
      "outputs": [
        {
          "output_type": "stream",
          "text": [
            "Train on 55000 samples, validate on 5000 samples\n",
            "Epoch 1/20\n",
            "55000/55000 [==============================] - 1s 22us/sample - loss: 1.0889 - accuracy: 0.6191 - val_loss: 0.6809 - val_accuracy: 0.7758\n",
            "Epoch 2/20\n",
            "55000/55000 [==============================] - 1s 22us/sample - loss: 0.6265 - accuracy: 0.7911 - val_loss: 0.5808 - val_accuracy: 0.8058\n",
            "Epoch 3/20\n",
            "55000/55000 [==============================] - 1s 21us/sample - loss: 0.5576 - accuracy: 0.8116 - val_loss: 0.5353 - val_accuracy: 0.8230\n",
            "Epoch 4/20\n",
            "55000/55000 [==============================] - 1s 22us/sample - loss: 0.5256 - accuracy: 0.8202 - val_loss: 0.5090 - val_accuracy: 0.8330\n",
            "Epoch 5/20\n",
            "55000/55000 [==============================] - 1s 22us/sample - loss: 0.5063 - accuracy: 0.8257 - val_loss: 0.4962 - val_accuracy: 0.8364\n",
            "Epoch 6/20\n",
            "55000/55000 [==============================] - 1s 22us/sample - loss: 0.4931 - accuracy: 0.8307 - val_loss: 0.4912 - val_accuracy: 0.8394\n",
            "Epoch 7/20\n",
            "55000/55000 [==============================] - 1s 21us/sample - loss: 0.4849 - accuracy: 0.8330 - val_loss: 0.4881 - val_accuracy: 0.8368\n",
            "Epoch 8/20\n",
            "55000/55000 [==============================] - 1s 22us/sample - loss: 0.4775 - accuracy: 0.8339 - val_loss: 0.4808 - val_accuracy: 0.8406\n",
            "Epoch 9/20\n",
            "55000/55000 [==============================] - 1s 21us/sample - loss: 0.4732 - accuracy: 0.8363 - val_loss: 0.4701 - val_accuracy: 0.8464\n",
            "Epoch 10/20\n",
            "55000/55000 [==============================] - 1s 22us/sample - loss: 0.4673 - accuracy: 0.8386 - val_loss: 0.4831 - val_accuracy: 0.8358\n",
            "Epoch 11/20\n",
            "55000/55000 [==============================] - 1s 22us/sample - loss: 0.4620 - accuracy: 0.8406 - val_loss: 0.4684 - val_accuracy: 0.8460\n",
            "Epoch 12/20\n",
            "55000/55000 [==============================] - 1s 21us/sample - loss: 0.4595 - accuracy: 0.8415 - val_loss: 0.4674 - val_accuracy: 0.8420\n",
            "Epoch 13/20\n",
            "55000/55000 [==============================] - 1s 22us/sample - loss: 0.4568 - accuracy: 0.8412 - val_loss: 0.4685 - val_accuracy: 0.8428\n",
            "Epoch 14/20\n",
            "55000/55000 [==============================] - 1s 21us/sample - loss: 0.4518 - accuracy: 0.8441 - val_loss: 0.4667 - val_accuracy: 0.8424\n",
            "Epoch 15/20\n",
            "55000/55000 [==============================] - 1s 22us/sample - loss: 0.4498 - accuracy: 0.8448 - val_loss: 0.4637 - val_accuracy: 0.8434\n",
            "Epoch 16/20\n",
            "55000/55000 [==============================] - 1s 21us/sample - loss: 0.4470 - accuracy: 0.8446 - val_loss: 0.4605 - val_accuracy: 0.8458\n",
            "Epoch 17/20\n",
            "55000/55000 [==============================] - 1s 21us/sample - loss: 0.4464 - accuracy: 0.8447 - val_loss: 0.4584 - val_accuracy: 0.8466\n",
            "Epoch 18/20\n",
            "55000/55000 [==============================] - 1s 21us/sample - loss: 0.4424 - accuracy: 0.8464 - val_loss: 0.4537 - val_accuracy: 0.8482\n",
            "Epoch 19/20\n",
            "55000/55000 [==============================] - 1s 22us/sample - loss: 0.4404 - accuracy: 0.8474 - val_loss: 0.4548 - val_accuracy: 0.8490\n",
            "Epoch 20/20\n",
            "55000/55000 [==============================] - 1s 21us/sample - loss: 0.4397 - accuracy: 0.8469 - val_loss: 0.4534 - val_accuracy: 0.8478\n",
            "--------------------------\n"
          ],
          "name": "stdout"
        }
      ]
    },
    {
      "cell_type": "code",
      "metadata": {
        "colab_type": "code",
        "id": "-U-ofxckXXHy",
        "colab": {
          "base_uri": "https://localhost:8080/",
          "height": 34
        },
        "outputId": "eb13d660-846d-482e-a4e5-221c291ca265"
      },
      "source": [
        "# Get the training time\n",
        "train_time = train_rt.process_time\n",
        "train_time # in seconds"
      ],
      "execution_count": 39,
      "outputs": [
        {
          "output_type": "execute_result",
          "data": {
            "text/plain": [
              "25.623617"
            ]
          },
          "metadata": {
            "tags": []
          },
          "execution_count": 39
        }
      ]
    },
    {
      "cell_type": "code",
      "metadata": {
        "colab_type": "code",
        "id": "gOIPjzQPXXH2",
        "colab": {
          "base_uri": "https://localhost:8080/",
          "height": 51
        },
        "outputId": "b4320d3d-0deb-4dc0-b524-4cf9e99d31fa"
      },
      "source": [
        "model_1.layers[1].weights"
      ],
      "execution_count": 40,
      "outputs": [
        {
          "output_type": "execute_result",
          "data": {
            "text/plain": [
              "[<tf.Variable 'dense/kernel:0' shape=(784, 5) dtype=float32>,\n",
              " <tf.Variable 'dense/bias:0' shape=(5,) dtype=float32>]"
            ]
          },
          "metadata": {
            "tags": []
          },
          "execution_count": 40
        }
      ]
    },
    {
      "cell_type": "markdown",
      "metadata": {
        "colab_type": "text",
        "id": "QxUSbTVuXXH8"
      },
      "source": [
        "## 1C. Model Testing\n",
        "\n",
        "Test the model on the test dataset."
      ]
    },
    {
      "cell_type": "code",
      "metadata": {
        "colab_type": "code",
        "id": "bQvx1-KjXXH8",
        "colab": {}
      },
      "source": [
        "test_rt = TestRuntimeCallback()\n",
        "test_loss, test_acc = model_1.evaluate(test_images, test_labels, callbacks=[test_rt])"
      ],
      "execution_count": 41,
      "outputs": []
    },
    {
      "cell_type": "code",
      "metadata": {
        "colab_type": "code",
        "id": "X-u1CkZGXXIB",
        "colab": {
          "base_uri": "https://localhost:8080/",
          "height": 34
        },
        "outputId": "7757712e-48ab-4cf7-902a-fe12408b5540"
      },
      "source": [
        "# Get the test time\n",
        "test_time = test_rt.process_time\n",
        "test_time # in seconds"
      ],
      "execution_count": 42,
      "outputs": [
        {
          "output_type": "execute_result",
          "data": {
            "text/plain": [
              "0.448479"
            ]
          },
          "metadata": {
            "tags": []
          },
          "execution_count": 42
        }
      ]
    },
    {
      "cell_type": "code",
      "metadata": {
        "colab_type": "code",
        "id": "K0-Rd1biXXIG",
        "colab": {
          "base_uri": "https://localhost:8080/",
          "height": 34
        },
        "outputId": "e88ff693-a9cc-45b7-8bc7-000dcbe29e36"
      },
      "source": [
        "history_dict = history.history\n",
        "history_dict.keys()"
      ],
      "execution_count": 43,
      "outputs": [
        {
          "output_type": "execute_result",
          "data": {
            "text/plain": [
              "dict_keys(['loss', 'accuracy', 'val_loss', 'val_accuracy'])"
            ]
          },
          "metadata": {
            "tags": []
          },
          "execution_count": 43
        }
      ]
    },
    {
      "cell_type": "code",
      "metadata": {
        "colab_type": "code",
        "id": "qpeeQDfCXXIJ",
        "colab": {}
      },
      "source": [
        "history_df=pd.DataFrame(history_dict)\n",
        "# history_df.tail()"
      ],
      "execution_count": 44,
      "outputs": []
    },
    {
      "cell_type": "code",
      "metadata": {
        "colab_type": "code",
        "id": "hCjV5Z3eXXIP",
        "colab": {
          "base_uri": "https://localhost:8080/",
          "height": 80
        },
        "outputId": "a2284ec2-a690-4fc6-a233-f7109a1240bb"
      },
      "source": [
        "# Create a results DataFrame using the last row of history_df\n",
        "results_df = history_df.iloc[-1:].copy()\n",
        "results_df.insert(0,'model','DNN (2 layers)') # went the model name to appear first\n",
        "results_df['training time (sec)'] = train_time      # we are okay with training time appearing last\n",
        "results_df['testing time (sec)'] = test_time      # we are okay with training time appearing last\n",
        "results_df"
      ],
      "execution_count": 45,
      "outputs": [
        {
          "output_type": "execute_result",
          "data": {
            "text/html": [
              "<div>\n",
              "<style scoped>\n",
              "    .dataframe tbody tr th:only-of-type {\n",
              "        vertical-align: middle;\n",
              "    }\n",
              "\n",
              "    .dataframe tbody tr th {\n",
              "        vertical-align: top;\n",
              "    }\n",
              "\n",
              "    .dataframe thead th {\n",
              "        text-align: right;\n",
              "    }\n",
              "</style>\n",
              "<table border=\"1\" class=\"dataframe\">\n",
              "  <thead>\n",
              "    <tr style=\"text-align: right;\">\n",
              "      <th></th>\n",
              "      <th>model</th>\n",
              "      <th>loss</th>\n",
              "      <th>accuracy</th>\n",
              "      <th>val_loss</th>\n",
              "      <th>val_accuracy</th>\n",
              "      <th>training time (sec)</th>\n",
              "      <th>testing time (sec)</th>\n",
              "    </tr>\n",
              "  </thead>\n",
              "  <tbody>\n",
              "    <tr>\n",
              "      <th>19</th>\n",
              "      <td>DNN (2 layers)</td>\n",
              "      <td>0.439656</td>\n",
              "      <td>0.846909</td>\n",
              "      <td>0.453395</td>\n",
              "      <td>0.8478</td>\n",
              "      <td>25.623617</td>\n",
              "      <td>0.448479</td>\n",
              "    </tr>\n",
              "  </tbody>\n",
              "</table>\n",
              "</div>"
            ],
            "text/plain": [
              "             model      loss  ...  training time (sec)  testing time (sec)\n",
              "19  DNN (2 layers)  0.439656  ...            25.623617            0.448479\n",
              "\n",
              "[1 rows x 7 columns]"
            ]
          },
          "metadata": {
            "tags": []
          },
          "execution_count": 45
        }
      ]
    },
    {
      "cell_type": "code",
      "metadata": {
        "id": "vZvTkOJUmnph",
        "colab_type": "code",
        "colab": {}
      },
      "source": [
        "# # Add the new data to results_df\n",
        "# results_df=results_df.append(results_df2,ignore_index=True)\n",
        "# results_df"
      ],
      "execution_count": 46,
      "outputs": []
    },
    {
      "cell_type": "markdown",
      "metadata": {
        "colab_type": "text",
        "id": "dYkGwPfAXXIS"
      },
      "source": [
        "## 1D. Performance"
      ]
    },
    {
      "cell_type": "code",
      "metadata": {
        "colab_type": "code",
        "id": "NbS9aBIoXXIT",
        "colab": {
          "base_uri": "https://localhost:8080/",
          "height": 324
        },
        "outputId": "517fce62-c675-4cda-cb2c-0f288039c79b"
      },
      "source": [
        "# Plot learning curves for model\n",
        "pd.DataFrame(history.history).plot(figsize=(8, 5))\n",
        "plt.grid(True)\n",
        "plt.gca().set_ylim(0, 1) # set the vertical range to [0-1]\n",
        "plt.show()"
      ],
      "execution_count": 47,
      "outputs": [
        {
          "output_type": "display_data",
          "data": {
            "image/png": "[encoded data removed]",
            "text/plain": [
              "<Figure size 576x360 with 1 Axes>"
            ]
          },
          "metadata": {
            "tags": [],
            "needs_background": "light"
          }
        }
      ]
    },
    {
      "cell_type": "markdown",
      "metadata": {
        "colab_type": "text",
        "id": "8e21diN7XXIX"
      },
      "source": [
        "# 2. Experiment 2: DNN w/3 layers\n",
        "\n",
        "This model will have 784 input nodes.  It will take three dense (fully-connected) layers.  The first (hidden) layer will have 10 nodes, a second hidden layer with 10 nodes, and a third (softmax) layer will have 10 output nodes."
      ]
    },
    {
      "cell_type": "code",
      "metadata": {
        "colab_type": "code",
        "id": "Xgj2iP1tXXIX",
        "colab": {}
      },
      "source": [
        "# Instead of adding the layers one by one, we can pass a list of layers when creating the Sequential mode.\n",
        "model_2 = models.Sequential([\n",
        "    keras.layers.Flatten(input_shape=[28, 28]),\n",
        "    keras.layers.Dense(10, activation=\"relu\"),\n",
        "    keras.layers.Dense(5, activation=\"relu\"),\n",
        "    keras.layers.Dense(10, activation=\"softmax\")\n",
        "])"
      ],
      "execution_count": 48,
      "outputs": []
    },
    {
      "cell_type": "code",
      "metadata": {
        "colab_type": "code",
        "id": "D_EzZBMmXXIZ",
        "colab": {
          "base_uri": "https://localhost:8080/",
          "height": 289
        },
        "outputId": "f2d7620f-27db-448d-b930-0034ae689275"
      },
      "source": [
        "model_2.summary()"
      ],
      "execution_count": 49,
      "outputs": [
        {
          "output_type": "stream",
          "text": [
            "Model: \"sequential_1\"\n",
            "_________________________________________________________________\n",
            "Layer (type)                 Output Shape              Param #   \n",
            "=================================================================\n",
            "flatten_1 (Flatten)          (None, 784)               0         \n",
            "_________________________________________________________________\n",
            "dense_2 (Dense)              (None, 10)                7850      \n",
            "_________________________________________________________________\n",
            "dense_3 (Dense)              (None, 5)                 55        \n",
            "_________________________________________________________________\n",
            "dense_4 (Dense)              (None, 10)                60        \n",
            "=================================================================\n",
            "Total params: 7,965\n",
            "Trainable params: 7,965\n",
            "Non-trainable params: 0\n",
            "_________________________________________________________________\n"
          ],
          "name": "stdout"
        }
      ]
    },
    {
      "cell_type": "code",
      "metadata": {
        "colab_type": "code",
        "id": "oGn5XRXLXXId",
        "colab": {
          "base_uri": "https://localhost:8080/",
          "height": 533
        },
        "outputId": "6ba9e1db-caed-4d29-eb15-fb414e5f5dde"
      },
      "source": [
        "keras.utils.plot_model(model_2, show_shapes=True)"
      ],
      "execution_count": 50,
      "outputs": [
        {
          "output_type": "execute_result",
          "data": {
            "image/png": "[encoded data removed]",
            "text/plain": [
              "<IPython.core.display.Image object>"
            ]
          },
          "metadata": {
            "tags": []
          },
          "execution_count": 50
        }
      ]
    },
    {
      "cell_type": "markdown",
      "metadata": {
        "colab_type": "text",
        "id": "biMa0SaBXXIg"
      },
      "source": [
        "## 2A. Model Compilation"
      ]
    },
    {
      "cell_type": "code",
      "metadata": {
        "colab_type": "code",
        "id": "Gkvx5x-0XXIg",
        "colab": {}
      },
      "source": [
        "model_2.compile(optimizer='adam',\n",
        "                loss='sparse_categorical_crossentropy',\n",
        "                metrics=['accuracy'])"
      ],
      "execution_count": 51,
      "outputs": []
    },
    {
      "cell_type": "markdown",
      "metadata": {
        "colab_type": "text",
        "id": "DS7SkccpXXIk"
      },
      "source": [
        "## 2B. Model Training\n"
      ]
    },
    {
      "cell_type": "code",
      "metadata": {
        "colab_type": "code",
        "id": "-Arbr0FKXXIk",
        "colab": {
          "base_uri": "https://localhost:8080/",
          "height": 751
        },
        "outputId": "edb20ef6-e221-4ef4-a1a1-e14cc4ae62f0"
      },
      "source": [
        "train_rt = TrainRuntimeCallback()\n",
        "history = model_2.fit(train_images, train_labels, callbacks=[train_rt], epochs=20, batch_size = 100,\n",
        "                    validation_data=(val_images, val_labels))\n",
        "\n",
        "# Saving models locally after fitting\n",
        "save_dir = \"results/\"\n",
        "model_name = 'fashion_mnist_model_2.h5'\n",
        "model_path = os.path.join(save_dir, model_name)\n",
        "print('--------------------------')"
      ],
      "execution_count": 52,
      "outputs": [
        {
          "output_type": "stream",
          "text": [
            "Train on 55000 samples, validate on 5000 samples\n",
            "Epoch 1/20\n",
            "55000/55000 [==============================] - 1s 24us/sample - loss: 1.6777 - accuracy: 0.3598 - val_loss: 1.1952 - val_accuracy: 0.5924\n",
            "Epoch 2/20\n",
            "55000/55000 [==============================] - 1s 23us/sample - loss: 1.0749 - accuracy: 0.6034 - val_loss: 0.9782 - val_accuracy: 0.6218\n",
            "Epoch 3/20\n",
            "55000/55000 [==============================] - 1s 23us/sample - loss: 0.9417 - accuracy: 0.6256 - val_loss: 0.8973 - val_accuracy: 0.6344\n",
            "Epoch 4/20\n",
            "55000/55000 [==============================] - 1s 23us/sample - loss: 0.8778 - accuracy: 0.6374 - val_loss: 0.8483 - val_accuracy: 0.6428\n",
            "Epoch 5/20\n",
            "55000/55000 [==============================] - 1s 23us/sample - loss: 0.8383 - accuracy: 0.6497 - val_loss: 0.8176 - val_accuracy: 0.6556\n",
            "Epoch 6/20\n",
            "55000/55000 [==============================] - 1s 22us/sample - loss: 0.8099 - accuracy: 0.6650 - val_loss: 0.8050 - val_accuracy: 0.6790\n",
            "Epoch 7/20\n",
            "55000/55000 [==============================] - 1s 23us/sample - loss: 0.7674 - accuracy: 0.7041 - val_loss: 0.7327 - val_accuracy: 0.7202\n",
            "Epoch 8/20\n",
            "55000/55000 [==============================] - 1s 23us/sample - loss: 0.7155 - accuracy: 0.7281 - val_loss: 0.6970 - val_accuracy: 0.7294\n",
            "Epoch 9/20\n",
            "55000/55000 [==============================] - 1s 23us/sample - loss: 0.6843 - accuracy: 0.7363 - val_loss: 0.6781 - val_accuracy: 0.7318\n",
            "Epoch 10/20\n",
            "55000/55000 [==============================] - 1s 23us/sample - loss: 0.6640 - accuracy: 0.7444 - val_loss: 0.6630 - val_accuracy: 0.7370\n",
            "Epoch 11/20\n",
            "55000/55000 [==============================] - 1s 23us/sample - loss: 0.6476 - accuracy: 0.7514 - val_loss: 0.6436 - val_accuracy: 0.7592\n",
            "Epoch 12/20\n",
            "55000/55000 [==============================] - 1s 22us/sample - loss: 0.6286 - accuracy: 0.7632 - val_loss: 0.6395 - val_accuracy: 0.7700\n",
            "Epoch 13/20\n",
            "55000/55000 [==============================] - 1s 22us/sample - loss: 0.6087 - accuracy: 0.7891 - val_loss: 0.6066 - val_accuracy: 0.7940\n",
            "Epoch 14/20\n",
            "55000/55000 [==============================] - 1s 22us/sample - loss: 0.5893 - accuracy: 0.8026 - val_loss: 0.5928 - val_accuracy: 0.8028\n",
            "Epoch 15/20\n",
            "55000/55000 [==============================] - 1s 22us/sample - loss: 0.5700 - accuracy: 0.8107 - val_loss: 0.5733 - val_accuracy: 0.8084\n",
            "Epoch 16/20\n",
            "55000/55000 [==============================] - 1s 22us/sample - loss: 0.5568 - accuracy: 0.8163 - val_loss: 0.5607 - val_accuracy: 0.8126\n",
            "Epoch 17/20\n",
            "55000/55000 [==============================] - 1s 22us/sample - loss: 0.5472 - accuracy: 0.8178 - val_loss: 0.5533 - val_accuracy: 0.8140\n",
            "Epoch 18/20\n",
            "55000/55000 [==============================] - 1s 22us/sample - loss: 0.5423 - accuracy: 0.8184 - val_loss: 0.5469 - val_accuracy: 0.8138\n",
            "Epoch 19/20\n",
            "55000/55000 [==============================] - 1s 23us/sample - loss: 0.5359 - accuracy: 0.8202 - val_loss: 0.5522 - val_accuracy: 0.8116\n",
            "Epoch 20/20\n",
            "55000/55000 [==============================] - 1s 23us/sample - loss: 0.5285 - accuracy: 0.8217 - val_loss: 0.5447 - val_accuracy: 0.8134\n",
            "--------------------------\n"
          ],
          "name": "stdout"
        }
      ]
    },
    {
      "cell_type": "code",
      "metadata": {
        "colab_type": "code",
        "id": "99ISKmYHXXIn",
        "colab": {
          "base_uri": "https://localhost:8080/",
          "height": 34
        },
        "outputId": "cb8680e8-eb37-4a0d-bd14-dda1a8628976"
      },
      "source": [
        "# Get the training time\n",
        "train_time = train_rt.process_time\n",
        "train_time # in seconds"
      ],
      "execution_count": 53,
      "outputs": [
        {
          "output_type": "execute_result",
          "data": {
            "text/plain": [
              "25.14517"
            ]
          },
          "metadata": {
            "tags": []
          },
          "execution_count": 53
        }
      ]
    },
    {
      "cell_type": "code",
      "metadata": {
        "colab_type": "code",
        "id": "zswEiZQfXXIp",
        "colab": {
          "base_uri": "https://localhost:8080/",
          "height": 51
        },
        "outputId": "509f7f49-4331-4a52-8604-5f097b4783b1"
      },
      "source": [
        "model_2.layers[1].weights"
      ],
      "execution_count": 54,
      "outputs": [
        {
          "output_type": "execute_result",
          "data": {
            "text/plain": [
              "[<tf.Variable 'dense_2/kernel:0' shape=(784, 10) dtype=float32>,\n",
              " <tf.Variable 'dense_2/bias:0' shape=(10,) dtype=float32>]"
            ]
          },
          "metadata": {
            "tags": []
          },
          "execution_count": 54
        }
      ]
    },
    {
      "cell_type": "markdown",
      "metadata": {
        "colab_type": "text",
        "id": "UIeql6poXXIt"
      },
      "source": [
        "## 2C. Model Compilation"
      ]
    },
    {
      "cell_type": "code",
      "metadata": {
        "colab_type": "code",
        "id": "2vcjR_gUXXIt",
        "colab": {}
      },
      "source": [
        "test_rt = TestRuntimeCallback()\n",
        "test_loss, test_acc = model_2.evaluate(test_images, test_labels, callbacks=[test_rt])"
      ],
      "execution_count": 55,
      "outputs": []
    },
    {
      "cell_type": "code",
      "metadata": {
        "colab_type": "code",
        "id": "15xn8TpuXXIw",
        "colab": {
          "base_uri": "https://localhost:8080/",
          "height": 34
        },
        "outputId": "e294cbf3-e830-4f3d-94f0-743deddad5c8"
      },
      "source": [
        "# Get the test time\n",
        "test_time = test_rt.process_time\n",
        "test_time # in seconds"
      ],
      "execution_count": 56,
      "outputs": [
        {
          "output_type": "execute_result",
          "data": {
            "text/plain": [
              "0.464393"
            ]
          },
          "metadata": {
            "tags": []
          },
          "execution_count": 56
        }
      ]
    },
    {
      "cell_type": "code",
      "metadata": {
        "colab_type": "code",
        "id": "3r41QL-zXXIy",
        "colab": {
          "base_uri": "https://localhost:8080/",
          "height": 34
        },
        "outputId": "b2b51654-2f0f-4b65-dc61-be3140384fe9"
      },
      "source": [
        "history_dict = history.history\n",
        "history_dict.keys()"
      ],
      "execution_count": 57,
      "outputs": [
        {
          "output_type": "execute_result",
          "data": {
            "text/plain": [
              "dict_keys(['loss', 'accuracy', 'val_loss', 'val_accuracy'])"
            ]
          },
          "metadata": {
            "tags": []
          },
          "execution_count": 57
        }
      ]
    },
    {
      "cell_type": "code",
      "metadata": {
        "colab_type": "code",
        "id": "FjI_bo2iXXI0",
        "colab": {
          "base_uri": "https://localhost:8080/",
          "height": 204
        },
        "outputId": "fc64caec-00d7-4713-ad68-398fb373ad71"
      },
      "source": [
        "history_df=pd.DataFrame(history_dict)\n",
        "history_df.tail()"
      ],
      "execution_count": 58,
      "outputs": [
        {
          "output_type": "execute_result",
          "data": {
            "text/html": [
              "<div>\n",
              "<style scoped>\n",
              "    .dataframe tbody tr th:only-of-type {\n",
              "        vertical-align: middle;\n",
              "    }\n",
              "\n",
              "    .dataframe tbody tr th {\n",
              "        vertical-align: top;\n",
              "    }\n",
              "\n",
              "    .dataframe thead th {\n",
              "        text-align: right;\n",
              "    }\n",
              "</style>\n",
              "<table border=\"1\" class=\"dataframe\">\n",
              "  <thead>\n",
              "    <tr style=\"text-align: right;\">\n",
              "      <th></th>\n",
              "      <th>loss</th>\n",
              "      <th>accuracy</th>\n",
              "      <th>val_loss</th>\n",
              "      <th>val_accuracy</th>\n",
              "    </tr>\n",
              "  </thead>\n",
              "  <tbody>\n",
              "    <tr>\n",
              "      <th>15</th>\n",
              "      <td>0.556792</td>\n",
              "      <td>0.816255</td>\n",
              "      <td>0.560668</td>\n",
              "      <td>0.8126</td>\n",
              "    </tr>\n",
              "    <tr>\n",
              "      <th>16</th>\n",
              "      <td>0.547216</td>\n",
              "      <td>0.817764</td>\n",
              "      <td>0.553264</td>\n",
              "      <td>0.8140</td>\n",
              "    </tr>\n",
              "    <tr>\n",
              "      <th>17</th>\n",
              "      <td>0.542345</td>\n",
              "      <td>0.818364</td>\n",
              "      <td>0.546857</td>\n",
              "      <td>0.8138</td>\n",
              "    </tr>\n",
              "    <tr>\n",
              "      <th>18</th>\n",
              "      <td>0.535874</td>\n",
              "      <td>0.820236</td>\n",
              "      <td>0.552245</td>\n",
              "      <td>0.8116</td>\n",
              "    </tr>\n",
              "    <tr>\n",
              "      <th>19</th>\n",
              "      <td>0.528516</td>\n",
              "      <td>0.821709</td>\n",
              "      <td>0.544680</td>\n",
              "      <td>0.8134</td>\n",
              "    </tr>\n",
              "  </tbody>\n",
              "</table>\n",
              "</div>"
            ],
            "text/plain": [
              "        loss  accuracy  val_loss  val_accuracy\n",
              "15  0.556792  0.816255  0.560668        0.8126\n",
              "16  0.547216  0.817764  0.553264        0.8140\n",
              "17  0.542345  0.818364  0.546857        0.8138\n",
              "18  0.535874  0.820236  0.552245        0.8116\n",
              "19  0.528516  0.821709  0.544680        0.8134"
            ]
          },
          "metadata": {
            "tags": []
          },
          "execution_count": 58
        }
      ]
    },
    {
      "cell_type": "code",
      "metadata": {
        "colab_type": "code",
        "id": "zTWCTjJlXXI3",
        "colab": {
          "base_uri": "https://localhost:8080/",
          "height": 80
        },
        "outputId": "fd431834-4d2e-47c6-9fbd-da31ad2facef"
      },
      "source": [
        "history_dict = history.history\n",
        "history_df=pd.DataFrame(history_dict)\n",
        "results_df2 = history_df.iloc[-1:].copy()\n",
        "results_df2.insert(0,'model','DNN (3 layers)') # went the model name to appear first\n",
        "results_df2['training time (sec)'] = train_time      # we are okay with training time appearing last\n",
        "results_df2['testing time (sec)'] = test_time      # we are okay with training time appearing last\n",
        "results_df2"
      ],
      "execution_count": 59,
      "outputs": [
        {
          "output_type": "execute_result",
          "data": {
            "text/html": [
              "<div>\n",
              "<style scoped>\n",
              "    .dataframe tbody tr th:only-of-type {\n",
              "        vertical-align: middle;\n",
              "    }\n",
              "\n",
              "    .dataframe tbody tr th {\n",
              "        vertical-align: top;\n",
              "    }\n",
              "\n",
              "    .dataframe thead th {\n",
              "        text-align: right;\n",
              "    }\n",
              "</style>\n",
              "<table border=\"1\" class=\"dataframe\">\n",
              "  <thead>\n",
              "    <tr style=\"text-align: right;\">\n",
              "      <th></th>\n",
              "      <th>model</th>\n",
              "      <th>loss</th>\n",
              "      <th>accuracy</th>\n",
              "      <th>val_loss</th>\n",
              "      <th>val_accuracy</th>\n",
              "      <th>training time (sec)</th>\n",
              "      <th>testing time (sec)</th>\n",
              "    </tr>\n",
              "  </thead>\n",
              "  <tbody>\n",
              "    <tr>\n",
              "      <th>19</th>\n",
              "      <td>DNN (3 layers)</td>\n",
              "      <td>0.528516</td>\n",
              "      <td>0.821709</td>\n",
              "      <td>0.54468</td>\n",
              "      <td>0.8134</td>\n",
              "      <td>25.14517</td>\n",
              "      <td>0.464393</td>\n",
              "    </tr>\n",
              "  </tbody>\n",
              "</table>\n",
              "</div>"
            ],
            "text/plain": [
              "             model      loss  ...  training time (sec)  testing time (sec)\n",
              "19  DNN (3 layers)  0.528516  ...             25.14517            0.464393\n",
              "\n",
              "[1 rows x 7 columns]"
            ]
          },
          "metadata": {
            "tags": []
          },
          "execution_count": 59
        }
      ]
    },
    {
      "cell_type": "code",
      "metadata": {
        "colab_type": "code",
        "id": "c0MqqNx_XXI5",
        "colab": {}
      },
      "source": [
        "# # Add the new data to results_df\n",
        "# results_df=results_df.append(results_df2,ignore_index=True)\n",
        "# results_df"
      ],
      "execution_count": 60,
      "outputs": []
    },
    {
      "cell_type": "markdown",
      "metadata": {
        "colab_type": "text",
        "id": "QCCDKCbyXXJD"
      },
      "source": [
        "## 2D. Performance"
      ]
    },
    {
      "cell_type": "code",
      "metadata": {
        "colab_type": "code",
        "id": "Blw7e4dHXXJD",
        "colab": {
          "base_uri": "https://localhost:8080/",
          "height": 324
        },
        "outputId": "d06629ff-52cd-4123-be2e-6d1c982bd4cb"
      },
      "source": [
        "# Plot learning curves for model\n",
        "pd.DataFrame(history.history).plot(figsize=(8, 5))\n",
        "plt.grid(True)\n",
        "plt.gca().set_ylim(0, 1) # set the vertical range to [0-1]\n",
        "plt.show()"
      ],
      "execution_count": 61,
      "outputs": [
        {
          "output_type": "display_data",
          "data": {
            "image/png": "[encoded data removed]",
            "text/plain": [
              "<Figure size 576x360 with 1 Axes>"
            ]
          },
          "metadata": {
            "tags": [],
            "needs_background": "light"
          }
        }
      ]
    },
    {
      "cell_type": "markdown",
      "metadata": {
        "colab_type": "text",
        "id": "LHiKBhVRXXJG"
      },
      "source": [
        "# 3. Experiment 3: CNN w/2 layers\n",
        "\n",
        "This model will have 2 layers, each consisting of a convolution layer and a max pooling layer.  The second layer will return an array of 10 probability scores."
      ]
    },
    {
      "cell_type": "code",
      "metadata": {
        "colab_type": "code",
        "id": "TA7Tj7DCXXJG",
        "colab": {
          "base_uri": "https://localhost:8080/",
          "height": 34
        },
        "outputId": "12b910b0-eefc-4b56-baf4-a59007de3af9"
      },
      "source": [
        "# Data re-import and preparation\n",
        "from tensorflow.keras.datasets import fashion_mnist\n",
        "\n",
        "(train_images, train_labels), (test_images, test_labels) = fashion_mnist.load_data()\n",
        "train_images.shape, test_images.shape, test_labels.shape, test_labels.shape"
      ],
      "execution_count": 62,
      "outputs": [
        {
          "output_type": "execute_result",
          "data": {
            "text/plain": [
              "((60000, 28, 28), (10000, 28, 28), (10000,), (10000,))"
            ]
          },
          "metadata": {
            "tags": []
          },
          "execution_count": 62
        }
      ]
    },
    {
      "cell_type": "code",
      "metadata": {
        "colab_type": "code",
        "id": "qc99QvPGXXJK",
        "colab": {}
      },
      "source": [
        "# Reshape images and scale\n",
        "train_images = train_images.reshape((60000, 28, 28, 1))\n",
        "train_images = train_images.astype('float32') / 255\n",
        "\n",
        "test_images = test_images.reshape((10000, 28, 28, 1))\n",
        "test_images = test_images.astype('float32') / 255"
      ],
      "execution_count": 63,
      "outputs": []
    },
    {
      "cell_type": "code",
      "metadata": {
        "colab_type": "code",
        "id": "XghNSBjCXXJM",
        "colab": {}
      },
      "source": [
        "# Validation images\n",
        "val_images, train_images = train_images[:5000], train_images[5000:] \n",
        "val_labels, train_labels = train_labels[:5000], train_labels[5000:]"
      ],
      "execution_count": 64,
      "outputs": []
    },
    {
      "cell_type": "code",
      "metadata": {
        "colab_type": "code",
        "id": "RNgqtz7nXXJR",
        "colab": {}
      },
      "source": [
        "model_3a = models.Sequential()\n",
        "model_3a.add(layers.Conv2D(32, (3, 3), activation='relu', input_shape=(28, 28, 1)))\n",
        "model_3a.add(layers.MaxPooling2D((2, 2)))\n",
        "model_3a.add(layers.Conv2D(64, (3, 3), activation='relu'))\n",
        "model_3a.add(layers.MaxPooling2D((2, 2)))\n",
        "model_3a.add(layers.Flatten())\n",
        "model_3a.add(layers.Dense(128, activation='relu'))\n",
        "model_3a.add(layers.Dense(10, activation='softmax'))"
      ],
      "execution_count": 65,
      "outputs": []
    },
    {
      "cell_type": "code",
      "metadata": {
        "colab_type": "code",
        "id": "ffSe2ASNXXJU",
        "colab": {
          "base_uri": "https://localhost:8080/",
          "height": 391
        },
        "outputId": "0b0b1976-7d14-4cc6-c59a-5fe5773af9ed"
      },
      "source": [
        "model_3a.summary()"
      ],
      "execution_count": 66,
      "outputs": [
        {
          "output_type": "stream",
          "text": [
            "Model: \"sequential_2\"\n",
            "_________________________________________________________________\n",
            "Layer (type)                 Output Shape              Param #   \n",
            "=================================================================\n",
            "conv2d (Conv2D)              (None, 26, 26, 32)        320       \n",
            "_________________________________________________________________\n",
            "max_pooling2d (MaxPooling2D) (None, 13, 13, 32)        0         \n",
            "_________________________________________________________________\n",
            "conv2d_1 (Conv2D)            (None, 11, 11, 64)        18496     \n",
            "_________________________________________________________________\n",
            "max_pooling2d_1 (MaxPooling2 (None, 5, 5, 64)          0         \n",
            "_________________________________________________________________\n",
            "flatten_2 (Flatten)          (None, 1600)              0         \n",
            "_________________________________________________________________\n",
            "dense_5 (Dense)              (None, 128)               204928    \n",
            "_________________________________________________________________\n",
            "dense_6 (Dense)              (None, 10)                1290      \n",
            "=================================================================\n",
            "Total params: 225,034\n",
            "Trainable params: 225,034\n",
            "Non-trainable params: 0\n",
            "_________________________________________________________________\n"
          ],
          "name": "stdout"
        }
      ]
    },
    {
      "cell_type": "code",
      "metadata": {
        "colab_type": "code",
        "id": "FrMCJy_RXXJW",
        "colab": {
          "base_uri": "https://localhost:8080/",
          "height": 865
        },
        "outputId": "5123b6fd-6a68-4a2b-b322-8d2e01044492"
      },
      "source": [
        "keras.utils.plot_model(model_3a, show_shapes=True)"
      ],
      "execution_count": 67,
      "outputs": [
        {
          "output_type": "execute_result",
          "data": {
            "image/png": "[encoded data removed]",
            "text/plain": [
              "<IPython.core.display.Image object>"
            ]
          },
          "metadata": {
            "tags": []
          },
          "execution_count": 67
        }
      ]
    },
    {
      "cell_type": "markdown",
      "metadata": {
        "colab_type": "text",
        "id": "wn1DaQ7DXXJa"
      },
      "source": [
        "## 3A. Model Compilation"
      ]
    },
    {
      "cell_type": "code",
      "metadata": {
        "colab_type": "code",
        "id": "Kcxkq-g4XXJa",
        "colab": {}
      },
      "source": [
        "model_3a.compile(optimizer='adam',\n",
        "                loss='sparse_categorical_crossentropy',\n",
        "                metrics=['accuracy'])"
      ],
      "execution_count": 68,
      "outputs": []
    },
    {
      "cell_type": "markdown",
      "metadata": {
        "colab_type": "text",
        "id": "6eRuouGpXXJg"
      },
      "source": [
        "## 3B. Model Training"
      ]
    },
    {
      "cell_type": "code",
      "metadata": {
        "colab_type": "code",
        "id": "KO_8HU3FXXJh",
        "colab": {
          "base_uri": "https://localhost:8080/",
          "height": 751
        },
        "outputId": "9ead3f20-2e91-4625-a145-88ef82ee6b65"
      },
      "source": [
        "train_rt = TrainRuntimeCallback()\n",
        "history = model_3a.fit(train_images, train_labels, callbacks=[train_rt], epochs=20, batch_size = 100,\n",
        "                    validation_data=(val_images, val_labels))\n",
        "\n",
        "# Saving models locally after fitting\n",
        "save_dir = \"results/\"\n",
        "model_name = 'fashion_mnist_model_3a.h5'\n",
        "model_path = os.path.join(save_dir, model_name)\n",
        "print('--------------------------')"
      ],
      "execution_count": 69,
      "outputs": [
        {
          "output_type": "stream",
          "text": [
            "Train on 55000 samples, validate on 5000 samples\n",
            "Epoch 1/20\n",
            "55000/55000 [==============================] - 2s 39us/sample - loss: 0.5262 - accuracy: 0.8116 - val_loss: 0.3593 - val_accuracy: 0.8746\n",
            "Epoch 2/20\n",
            "55000/55000 [==============================] - 2s 37us/sample - loss: 0.3412 - accuracy: 0.8766 - val_loss: 0.3051 - val_accuracy: 0.8918\n",
            "Epoch 3/20\n",
            "55000/55000 [==============================] - 2s 37us/sample - loss: 0.2933 - accuracy: 0.8931 - val_loss: 0.2786 - val_accuracy: 0.9026\n",
            "Epoch 4/20\n",
            "55000/55000 [==============================] - 2s 37us/sample - loss: 0.2634 - accuracy: 0.9035 - val_loss: 0.2578 - val_accuracy: 0.9076\n",
            "Epoch 5/20\n",
            "55000/55000 [==============================] - 2s 38us/sample - loss: 0.2391 - accuracy: 0.9124 - val_loss: 0.2829 - val_accuracy: 0.8998\n",
            "Epoch 6/20\n",
            "55000/55000 [==============================] - 2s 38us/sample - loss: 0.2191 - accuracy: 0.9191 - val_loss: 0.2525 - val_accuracy: 0.9094\n",
            "Epoch 7/20\n",
            "55000/55000 [==============================] - 2s 37us/sample - loss: 0.1998 - accuracy: 0.9271 - val_loss: 0.2285 - val_accuracy: 0.9204\n",
            "Epoch 8/20\n",
            "55000/55000 [==============================] - 2s 37us/sample - loss: 0.1830 - accuracy: 0.9325 - val_loss: 0.2319 - val_accuracy: 0.9122\n",
            "Epoch 9/20\n",
            "55000/55000 [==============================] - 2s 37us/sample - loss: 0.1676 - accuracy: 0.9381 - val_loss: 0.2232 - val_accuracy: 0.9200\n",
            "Epoch 10/20\n",
            "55000/55000 [==============================] - 2s 37us/sample - loss: 0.1534 - accuracy: 0.9443 - val_loss: 0.2228 - val_accuracy: 0.9262\n",
            "Epoch 11/20\n",
            "55000/55000 [==============================] - 2s 37us/sample - loss: 0.1411 - accuracy: 0.9480 - val_loss: 0.2185 - val_accuracy: 0.9256\n",
            "Epoch 12/20\n",
            "55000/55000 [==============================] - 2s 37us/sample - loss: 0.1281 - accuracy: 0.9524 - val_loss: 0.2302 - val_accuracy: 0.9192\n",
            "Epoch 13/20\n",
            "55000/55000 [==============================] - 2s 37us/sample - loss: 0.1167 - accuracy: 0.9574 - val_loss: 0.2458 - val_accuracy: 0.9192\n",
            "Epoch 14/20\n",
            "55000/55000 [==============================] - 2s 37us/sample - loss: 0.1072 - accuracy: 0.9611 - val_loss: 0.2339 - val_accuracy: 0.9234\n",
            "Epoch 15/20\n",
            "55000/55000 [==============================] - 2s 38us/sample - loss: 0.0946 - accuracy: 0.9649 - val_loss: 0.2463 - val_accuracy: 0.9216\n",
            "Epoch 16/20\n",
            "55000/55000 [==============================] - 2s 37us/sample - loss: 0.0868 - accuracy: 0.9684 - val_loss: 0.2607 - val_accuracy: 0.9208\n",
            "Epoch 17/20\n",
            "55000/55000 [==============================] - 2s 38us/sample - loss: 0.0787 - accuracy: 0.9704 - val_loss: 0.2771 - val_accuracy: 0.9210\n",
            "Epoch 18/20\n",
            "55000/55000 [==============================] - 2s 38us/sample - loss: 0.0694 - accuracy: 0.9750 - val_loss: 0.2903 - val_accuracy: 0.9188\n",
            "Epoch 19/20\n",
            "55000/55000 [==============================] - 2s 38us/sample - loss: 0.0606 - accuracy: 0.9785 - val_loss: 0.2822 - val_accuracy: 0.9232\n",
            "Epoch 20/20\n",
            "55000/55000 [==============================] - 2s 38us/sample - loss: 0.0574 - accuracy: 0.9789 - val_loss: 0.2934 - val_accuracy: 0.9198\n",
            "--------------------------\n"
          ],
          "name": "stdout"
        }
      ]
    },
    {
      "cell_type": "code",
      "metadata": {
        "colab_type": "code",
        "id": "h9rxL6FGXXJk",
        "colab": {
          "base_uri": "https://localhost:8080/",
          "height": 34
        },
        "outputId": "5285a7a3-9717-4b8a-b660-f8d241aaf760"
      },
      "source": [
        "# Get the training time\n",
        "train_time = train_rt.process_time\n",
        "train_time # in seconds"
      ],
      "execution_count": 70,
      "outputs": [
        {
          "output_type": "execute_result",
          "data": {
            "text/plain": [
              "46.637185"
            ]
          },
          "metadata": {
            "tags": []
          },
          "execution_count": 70
        }
      ]
    },
    {
      "cell_type": "markdown",
      "metadata": {
        "colab_type": "text",
        "id": "FT9RLoKSXXJu"
      },
      "source": [
        "## 3C. Model Testing\n",
        "\n",
        "Evaluate the model on the test dataset using a callback to get the total test time."
      ]
    },
    {
      "cell_type": "code",
      "metadata": {
        "colab_type": "code",
        "id": "FQtSuH3ZXXJu",
        "colab": {}
      },
      "source": [
        "test_rt = TestRuntimeCallback()\n",
        "test_loss, test_acc = model_3a.evaluate(test_images, test_labels, callbacks=[test_rt])"
      ],
      "execution_count": 71,
      "outputs": []
    },
    {
      "cell_type": "code",
      "metadata": {
        "colab_type": "code",
        "id": "LoGKSyr4XXJx",
        "colab": {
          "base_uri": "https://localhost:8080/",
          "height": 34
        },
        "outputId": "28350b6b-687c-42fc-f4e6-bc2d84133710"
      },
      "source": [
        "# Get the test time\n",
        "test_time = test_rt.process_time\n",
        "test_time # in seconds"
      ],
      "execution_count": 72,
      "outputs": [
        {
          "output_type": "execute_result",
          "data": {
            "text/plain": [
              "0.587652"
            ]
          },
          "metadata": {
            "tags": []
          },
          "execution_count": 72
        }
      ]
    },
    {
      "cell_type": "code",
      "metadata": {
        "colab_type": "code",
        "id": "1kFote3tXXJz",
        "colab": {
          "base_uri": "https://localhost:8080/",
          "height": 34
        },
        "outputId": "19b69e7c-4d51-4167-c70c-3301717e4d33"
      },
      "source": [
        "history_dict = history.history\n",
        "history_dict.keys()"
      ],
      "execution_count": 73,
      "outputs": [
        {
          "output_type": "execute_result",
          "data": {
            "text/plain": [
              "dict_keys(['loss', 'accuracy', 'val_loss', 'val_accuracy'])"
            ]
          },
          "metadata": {
            "tags": []
          },
          "execution_count": 73
        }
      ]
    },
    {
      "cell_type": "code",
      "metadata": {
        "colab_type": "code",
        "id": "pBmU9j0OXXJ2",
        "colab": {
          "base_uri": "https://localhost:8080/",
          "height": 204
        },
        "outputId": "8958d31e-3527-45aa-d586-f113fcae2ee1"
      },
      "source": [
        "history_df=pd.DataFrame(history_dict)\n",
        "history_df.tail()"
      ],
      "execution_count": 74,
      "outputs": [
        {
          "output_type": "execute_result",
          "data": {
            "text/html": [
              "<div>\n",
              "<style scoped>\n",
              "    .dataframe tbody tr th:only-of-type {\n",
              "        vertical-align: middle;\n",
              "    }\n",
              "\n",
              "    .dataframe tbody tr th {\n",
              "        vertical-align: top;\n",
              "    }\n",
              "\n",
              "    .dataframe thead th {\n",
              "        text-align: right;\n",
              "    }\n",
              "</style>\n",
              "<table border=\"1\" class=\"dataframe\">\n",
              "  <thead>\n",
              "    <tr style=\"text-align: right;\">\n",
              "      <th></th>\n",
              "      <th>loss</th>\n",
              "      <th>accuracy</th>\n",
              "      <th>val_loss</th>\n",
              "      <th>val_accuracy</th>\n",
              "    </tr>\n",
              "  </thead>\n",
              "  <tbody>\n",
              "    <tr>\n",
              "      <th>15</th>\n",
              "      <td>0.086847</td>\n",
              "      <td>0.968436</td>\n",
              "      <td>0.260744</td>\n",
              "      <td>0.9208</td>\n",
              "    </tr>\n",
              "    <tr>\n",
              "      <th>16</th>\n",
              "      <td>0.078712</td>\n",
              "      <td>0.970418</td>\n",
              "      <td>0.277085</td>\n",
              "      <td>0.9210</td>\n",
              "    </tr>\n",
              "    <tr>\n",
              "      <th>17</th>\n",
              "      <td>0.069431</td>\n",
              "      <td>0.974964</td>\n",
              "      <td>0.290287</td>\n",
              "      <td>0.9188</td>\n",
              "    </tr>\n",
              "    <tr>\n",
              "      <th>18</th>\n",
              "      <td>0.060553</td>\n",
              "      <td>0.978473</td>\n",
              "      <td>0.282228</td>\n",
              "      <td>0.9232</td>\n",
              "    </tr>\n",
              "    <tr>\n",
              "      <th>19</th>\n",
              "      <td>0.057423</td>\n",
              "      <td>0.978873</td>\n",
              "      <td>0.293414</td>\n",
              "      <td>0.9198</td>\n",
              "    </tr>\n",
              "  </tbody>\n",
              "</table>\n",
              "</div>"
            ],
            "text/plain": [
              "        loss  accuracy  val_loss  val_accuracy\n",
              "15  0.086847  0.968436  0.260744        0.9208\n",
              "16  0.078712  0.970418  0.277085        0.9210\n",
              "17  0.069431  0.974964  0.290287        0.9188\n",
              "18  0.060553  0.978473  0.282228        0.9232\n",
              "19  0.057423  0.978873  0.293414        0.9198"
            ]
          },
          "metadata": {
            "tags": []
          },
          "execution_count": 74
        }
      ]
    },
    {
      "cell_type": "code",
      "metadata": {
        "colab_type": "code",
        "id": "iz58dMJvXXJ3",
        "colab": {
          "base_uri": "https://localhost:8080/",
          "height": 80
        },
        "outputId": "43e088d4-5043-4825-999e-bc54e17539ac"
      },
      "source": [
        "# Pull statistics \n",
        "results_df3a = history_df.iloc[-1:].copy()\n",
        "results_df3a.insert(0,'model','CNN (2 layers)') # want the model name to appear first\n",
        "results_df3a['training time (sec)'] = train_time      # we are okay with training time appearing last\n",
        "results_df3a['testing time (sec)'] = test_time      # we are okay with training time appearing last\n",
        "results_df3a"
      ],
      "execution_count": 75,
      "outputs": [
        {
          "output_type": "execute_result",
          "data": {
            "text/html": [
              "<div>\n",
              "<style scoped>\n",
              "    .dataframe tbody tr th:only-of-type {\n",
              "        vertical-align: middle;\n",
              "    }\n",
              "\n",
              "    .dataframe tbody tr th {\n",
              "        vertical-align: top;\n",
              "    }\n",
              "\n",
              "    .dataframe thead th {\n",
              "        text-align: right;\n",
              "    }\n",
              "</style>\n",
              "<table border=\"1\" class=\"dataframe\">\n",
              "  <thead>\n",
              "    <tr style=\"text-align: right;\">\n",
              "      <th></th>\n",
              "      <th>model</th>\n",
              "      <th>loss</th>\n",
              "      <th>accuracy</th>\n",
              "      <th>val_loss</th>\n",
              "      <th>val_accuracy</th>\n",
              "      <th>training time (sec)</th>\n",
              "      <th>testing time (sec)</th>\n",
              "    </tr>\n",
              "  </thead>\n",
              "  <tbody>\n",
              "    <tr>\n",
              "      <th>19</th>\n",
              "      <td>CNN (2 layers)</td>\n",
              "      <td>0.057423</td>\n",
              "      <td>0.978873</td>\n",
              "      <td>0.293414</td>\n",
              "      <td>0.9198</td>\n",
              "      <td>46.637185</td>\n",
              "      <td>0.587652</td>\n",
              "    </tr>\n",
              "  </tbody>\n",
              "</table>\n",
              "</div>"
            ],
            "text/plain": [
              "             model      loss  ...  training time (sec)  testing time (sec)\n",
              "19  CNN (2 layers)  0.057423  ...            46.637185            0.587652\n",
              "\n",
              "[1 rows x 7 columns]"
            ]
          },
          "metadata": {
            "tags": []
          },
          "execution_count": 75
        }
      ]
    },
    {
      "cell_type": "code",
      "metadata": {
        "colab_type": "code",
        "id": "y87J_fW7XXJ8",
        "scrolled": true,
        "colab": {
          "base_uri": "https://localhost:8080/",
          "height": 324
        },
        "outputId": "e6f53953-0d21-4a9a-ba7a-5b70ef3c5726"
      },
      "source": [
        "# Plot learning curves for model\n",
        "pd.DataFrame(history.history).plot(figsize=(8, 5))\n",
        "plt.grid(True)\n",
        "plt.gca().set_ylim(0, 1) # set the vertical range to [0-1]\n",
        "plt.show()"
      ],
      "execution_count": 76,
      "outputs": [
        {
          "output_type": "display_data",
          "data": {
            "image/png": "[encoded data removed]",
            "text/plain": [
              "<Figure size 576x360 with 1 Axes>"
            ]
          },
          "metadata": {
            "tags": [],
            "needs_background": "light"
          }
        }
      ]
    },
    {
      "cell_type": "markdown",
      "metadata": {
        "id": "Vtz98FGAWYDk",
        "colab_type": "text"
      },
      "source": [
        "## 3D. Intermediate Activations"
      ]
    },
    {
      "cell_type": "code",
      "metadata": {
        "id": "jGnSisrgWjRY",
        "colab_type": "code",
        "colab": {}
      },
      "source": [
        "# import tensorflow as tf\n",
        "# from tensorflow import keras\n",
        "# from tensorflow.keras import models\n",
        "# from tensorflow.keras import layers\n",
        "# from tensorflow.keras import optimizers\n",
        "# from tensorflow.keras import regularizers\n",
        "# from tensorflow.keras.preprocessing.image import ImageDataGenerator\n",
        "# from tensorflow.keras.preprocessing import image\n",
        "# from tensorflow.keras.models import load_model\n",
        "# # Use model 3b\n",
        "# # model = load_model('results/fashion_mnist_model_3b.h5')\n",
        "# # model.summary()  # As a reminder.\n",
        "# model = models.Sequential()\n",
        "# model.add(layers.Conv2D(32, (3, 3), activation='relu', input_shape=(28, 28, 1)))\n",
        "# model.add(layers.MaxPooling2D((2, 2)))\n",
        "# model.add(layers.Conv2D(64, (3, 3), activation='relu'))\n",
        "# model.add(layers.MaxPooling2D((2, 2)))\n",
        "# model.add(layers.Flatten())\n",
        "# model.add(layers.Dense(512, activation='relu'))\n",
        "# model.add(layers.Dense(10, activation='softmax'))"
      ],
      "execution_count": 77,
      "outputs": []
    },
    {
      "cell_type": "code",
      "metadata": {
        "id": "XjJKSD62WcVD",
        "colab_type": "code",
        "colab": {}
      },
      "source": [
        "# # import matplotlib.pyplot as plt\n",
        "# # import tensorflow as tf\n",
        "# tf.compat.v1.disable_eager_execution() # ADDED FOR EXPERIMENTAL PART\n",
        "# # from tensorflow import keras\n",
        "# # keras.__version__"
      ],
      "execution_count": 78,
      "outputs": []
    },
    {
      "cell_type": "code",
      "metadata": {
        "id": "4LI03FKHWlZN",
        "colab_type": "code",
        "colab": {}
      },
      "source": [
        "# # https://www.tensorflow.org/api_docs/python/tf/keras/datasets/fashion_mnist/load_data\n",
        "# from tensorflow.keras.datasets import fashion_mnist\n",
        "\n",
        "# (_,_), (test_images, test_labels) = fashion_mnist.load_data()"
      ],
      "execution_count": 79,
      "outputs": []
    },
    {
      "cell_type": "code",
      "metadata": {
        "id": "INQMHC2oWn8e",
        "colab_type": "code",
        "colab": {}
      },
      "source": [
        "# # an ankle boot is used as the input image\n",
        "# from tensorflow.keras.preprocessing import image\n",
        "# import numpy as np\n",
        "\n",
        "# img = test_images[0]\n",
        "# img_tensor = image.img_to_array(img)\n",
        "# img_tensor = np.expand_dims(img_tensor, axis=0)"
      ],
      "execution_count": 80,
      "outputs": []
    },
    {
      "cell_type": "code",
      "metadata": {
        "id": "a4u0o5CpWpSz",
        "colab_type": "code",
        "colab": {}
      },
      "source": [
        "# # https://www.tensorflow.org/tutorials/keras/classification\n",
        "# class_names = ['T-shirt/top', 'Trouser', 'Pullover', 'Dress', 'Coat',\n",
        "#                'Sandal', 'Shirt', 'Sneaker', 'Bag', 'Ankle boot']"
      ],
      "execution_count": 81,
      "outputs": []
    },
    {
      "cell_type": "code",
      "metadata": {
        "id": "z4wPgsHFWsGg",
        "colab_type": "code",
        "colab": {}
      },
      "source": [
        "# # Extracts the outputs of the all the layers\n",
        "# layer_outputs = [layer.output for layer in model.layers]\n",
        "# # Creates a model that will return these outputs, given the model input:\n",
        "# activation_model = models.Model(inputs=model.input, outputs=layer_outputs)"
      ],
      "execution_count": 82,
      "outputs": []
    },
    {
      "cell_type": "code",
      "metadata": {
        "id": "GUF3ydJxWuhy",
        "colab_type": "code",
        "colab": {}
      },
      "source": [
        "# # Examine layer names\n",
        "# layer_names = []\n",
        "# for layer in model.layers[:7]:\n",
        "#     layer_names.append(layer.name)\n",
        "    \n",
        "# layer_names"
      ],
      "execution_count": 83,
      "outputs": []
    },
    {
      "cell_type": "code",
      "metadata": {
        "id": "gEmZUVkdWwaP",
        "colab_type": "code",
        "colab": {}
      },
      "source": [
        "# # When fed the image input, this model returns the values of the layer activations in the original model. \n",
        "# # The model has 1 input and 7 outputs, one output per layer activation. \n",
        "# activations = activation_model.predict(img_tensor)\n",
        "# len(activations)"
      ],
      "execution_count": 84,
      "outputs": []
    },
    {
      "cell_type": "code",
      "metadata": {
        "id": "Sbk06IM2WxZ1",
        "colab_type": "code",
        "colab": {}
      },
      "source": [
        "# # For instance, this is the activation of the first convolution layer for our ankle boot image input\n",
        "# first_layer_activation = activations[0]\n",
        "# first_layer_activation.shape"
      ],
      "execution_count": 85,
      "outputs": []
    },
    {
      "cell_type": "code",
      "metadata": {
        "id": "JDNb2_YLWz0R",
        "colab_type": "code",
        "colab": {}
      },
      "source": [
        "# # It's a 148x148 feature map with 32 channels. Let's try visualizing the 3rd channel: \n",
        "# third_channel = first_layer_activation[0,:, :,3]\n",
        "# third_channel.shape"
      ],
      "execution_count": 86,
      "outputs": []
    },
    {
      "cell_type": "code",
      "metadata": {
        "id": "kmVeT6MOatUJ",
        "colab_type": "code",
        "colab": {}
      },
      "source": [
        "# # Activations for all the channels in the first max pooling layer. \n",
        "# images_per_row = 16\n",
        "\n",
        "# layer_name, layer_activation = layer_names[1], activations[1]\n",
        "    \n",
        "# # This is the number of features in the feature map\n",
        "# n_features = layer_activation.shape[-1]\n",
        "\n",
        "# # The feature map has shape (1, size, size, n_features)\n",
        "# size = layer_activation.shape[1]\n",
        "\n",
        "# print(f\"The feature map has shape (1, {size}, {size}, {n_features})\")\n",
        "\n",
        "# # We will tile the activation channels in this matrix\n",
        "# n_cols = n_features // images_per_row\n",
        "# display_grid = np.zeros((size * n_cols, images_per_row * size))\n",
        "\n",
        "# # We'll tile each filter into this big horizontal grid\n",
        "# for col in range(n_cols):\n",
        "#     for row in range(images_per_row):\n",
        "#         channel_image = layer_activation[0,\n",
        "#                                          :, :,\n",
        "#                                          col * images_per_row + row]\n",
        "#         # Post-process the feature to make it visually palatable\n",
        "#         channel_image -= channel_image.mean()\n",
        "#         channel_image /= channel_image.std()\n",
        "#         channel_image *= 64\n",
        "#         channel_image += 128\n",
        "#         channel_image = np.clip(channel_image, 0, 255).astype('uint8')\n",
        "#         display_grid[col * size : (col + 1) * size,\n",
        "#                      row * size : (row + 1) * size] = channel_image\n",
        "\n",
        "# # Display the grid\n",
        "# scale = 1. / size\n",
        "# plt.figure(figsize=(scale * display_grid.shape[1],\n",
        "#                     scale * display_grid.shape[0]))\n",
        "# plt.title(layer_name)\n",
        "# plt.grid(False)\n",
        "# plt.imshow(display_grid, aspect='auto', cmap='binary')\n",
        "\n",
        "# plt.show()"
      ],
      "execution_count": 87,
      "outputs": []
    },
    {
      "cell_type": "markdown",
      "metadata": {
        "colab_type": "text",
        "id": "Wxudy87WXXME"
      },
      "source": [
        "# 4. Experiment 4: CNN w/3 layers"
      ]
    },
    {
      "cell_type": "markdown",
      "metadata": {
        "colab_type": "text",
        "id": "1M4VbwpsXXME"
      },
      "source": [
        "## Model 4a: baseline CNN with 3 layers (no L2 regularization)"
      ]
    },
    {
      "cell_type": "code",
      "metadata": {
        "colab_type": "code",
        "id": "64TXVGxZXXME",
        "colab": {}
      },
      "source": [
        "model_4a = models.Sequential()\n",
        "model_4a.add(layers.Conv2D(32, (3, 3), activation='relu', input_shape=(28, 28, 1)))\n",
        "model_4a.add(layers.MaxPooling2D((2, 2)))\n",
        "model_4a.add(layers.Conv2D(64, (3, 3), activation='relu'))\n",
        "model_4a.add(layers.MaxPooling2D((2, 2)))\n",
        "model_4a.add(layers.Conv2D(64, (3, 3), activation='relu'))\n",
        "model_4a.add(layers.Flatten())\n",
        "model_4a.add(layers.Dense(64, activation='relu'))\n",
        "model_4a.add(layers.Dense(10, activation='softmax'))"
      ],
      "execution_count": 88,
      "outputs": []
    },
    {
      "cell_type": "code",
      "metadata": {
        "colab_type": "code",
        "id": "kv3v7_PHXXMH",
        "colab": {
          "base_uri": "https://localhost:8080/",
          "height": 425
        },
        "outputId": "c255c5f8-42bf-4959-c046-4e0bdbac8d96"
      },
      "source": [
        "model_4a.summary()"
      ],
      "execution_count": 89,
      "outputs": [
        {
          "output_type": "stream",
          "text": [
            "Model: \"sequential_3\"\n",
            "_________________________________________________________________\n",
            "Layer (type)                 Output Shape              Param #   \n",
            "=================================================================\n",
            "conv2d_2 (Conv2D)            (None, 26, 26, 32)        320       \n",
            "_________________________________________________________________\n",
            "max_pooling2d_2 (MaxPooling2 (None, 13, 13, 32)        0         \n",
            "_________________________________________________________________\n",
            "conv2d_3 (Conv2D)            (None, 11, 11, 64)        18496     \n",
            "_________________________________________________________________\n",
            "max_pooling2d_3 (MaxPooling2 (None, 5, 5, 64)          0         \n",
            "_________________________________________________________________\n",
            "conv2d_4 (Conv2D)            (None, 3, 3, 64)          36928     \n",
            "_________________________________________________________________\n",
            "flatten_3 (Flatten)          (None, 576)               0         \n",
            "_________________________________________________________________\n",
            "dense_7 (Dense)              (None, 64)                36928     \n",
            "_________________________________________________________________\n",
            "dense_8 (Dense)              (None, 10)                650       \n",
            "=================================================================\n",
            "Total params: 93,322\n",
            "Trainable params: 93,322\n",
            "Non-trainable params: 0\n",
            "_________________________________________________________________\n"
          ],
          "name": "stdout"
        }
      ]
    },
    {
      "cell_type": "code",
      "metadata": {
        "colab_type": "code",
        "id": "zpCS9HKJXXMI",
        "colab": {
          "base_uri": "https://localhost:8080/",
          "height": 976
        },
        "outputId": "66ed2ad4-4625-40d2-b5a7-56e134f15a22"
      },
      "source": [
        "keras.utils.plot_model(model_4a, show_shapes=True)"
      ],
      "execution_count": 90,
      "outputs": [
        {
          "output_type": "execute_result",
          "data": {
            "image/png": "[encoded data removed]",
            "text/plain": [
              "<IPython.core.display.Image object>"
            ]
          },
          "metadata": {
            "tags": []
          },
          "execution_count": 90
        }
      ]
    },
    {
      "cell_type": "markdown",
      "metadata": {
        "colab_type": "text",
        "id": "VqlsBNNmXXMK"
      },
      "source": [
        "## 4A. Model Compilation"
      ]
    },
    {
      "cell_type": "code",
      "metadata": {
        "colab_type": "code",
        "id": "Pv_bFkuIXXMK",
        "colab": {}
      },
      "source": [
        "model_4a.compile(optimizer='adam',\n",
        "                loss='sparse_categorical_crossentropy',\n",
        "                metrics=['accuracy'])"
      ],
      "execution_count": 91,
      "outputs": []
    },
    {
      "cell_type": "markdown",
      "metadata": {
        "colab_type": "text",
        "id": "OF4r3ethXXMM"
      },
      "source": [
        "## 4B. Model Compilation"
      ]
    },
    {
      "cell_type": "code",
      "metadata": {
        "colab_type": "code",
        "id": "59EUkTeBXXMM",
        "colab": {
          "base_uri": "https://localhost:8080/",
          "height": 751
        },
        "outputId": "7f3a05e9-0602-42da-db09-ca2da255c170"
      },
      "source": [
        "train_rt = TrainRuntimeCallback()\n",
        "history = model_4a.fit(train_images, train_labels, callbacks=[train_rt], epochs=20, batch_size = 100,\n",
        "                    validation_data=(val_images, val_labels))\n",
        "\n",
        "# Saving models locally after fitting\n",
        "save_dir = \"results/\"\n",
        "model_name = 'fashion_mnist_model_4a.h5'\n",
        "model_path = os.path.join(save_dir, model_name)\n",
        "print('--------------------------')"
      ],
      "execution_count": 92,
      "outputs": [
        {
          "output_type": "stream",
          "text": [
            "Train on 55000 samples, validate on 5000 samples\n",
            "Epoch 1/20\n",
            "55000/55000 [==============================] - 2s 43us/sample - loss: 0.6201 - accuracy: 0.7752 - val_loss: 0.4105 - val_accuracy: 0.8566\n",
            "Epoch 2/20\n",
            "55000/55000 [==============================] - 2s 40us/sample - loss: 0.3800 - accuracy: 0.8629 - val_loss: 0.3543 - val_accuracy: 0.8764\n",
            "Epoch 3/20\n",
            "55000/55000 [==============================] - 2s 40us/sample - loss: 0.3190 - accuracy: 0.8846 - val_loss: 0.3068 - val_accuracy: 0.8932\n",
            "Epoch 4/20\n",
            "55000/55000 [==============================] - 2s 40us/sample - loss: 0.2893 - accuracy: 0.8935 - val_loss: 0.2999 - val_accuracy: 0.8942\n",
            "Epoch 5/20\n",
            "55000/55000 [==============================] - 2s 40us/sample - loss: 0.2648 - accuracy: 0.9044 - val_loss: 0.2879 - val_accuracy: 0.8942\n",
            "Epoch 6/20\n",
            "55000/55000 [==============================] - 2s 40us/sample - loss: 0.2444 - accuracy: 0.9122 - val_loss: 0.2623 - val_accuracy: 0.9042\n",
            "Epoch 7/20\n",
            "55000/55000 [==============================] - 2s 40us/sample - loss: 0.2266 - accuracy: 0.9179 - val_loss: 0.2467 - val_accuracy: 0.9120\n",
            "Epoch 8/20\n",
            "55000/55000 [==============================] - 2s 40us/sample - loss: 0.2110 - accuracy: 0.9223 - val_loss: 0.2582 - val_accuracy: 0.9080\n",
            "Epoch 9/20\n",
            "55000/55000 [==============================] - 2s 39us/sample - loss: 0.1985 - accuracy: 0.9279 - val_loss: 0.2418 - val_accuracy: 0.9114\n",
            "Epoch 10/20\n",
            "55000/55000 [==============================] - 2s 40us/sample - loss: 0.1856 - accuracy: 0.9315 - val_loss: 0.2415 - val_accuracy: 0.9118\n",
            "Epoch 11/20\n",
            "55000/55000 [==============================] - 2s 40us/sample - loss: 0.1720 - accuracy: 0.9369 - val_loss: 0.2460 - val_accuracy: 0.9158\n",
            "Epoch 12/20\n",
            "55000/55000 [==============================] - 2s 40us/sample - loss: 0.1608 - accuracy: 0.9411 - val_loss: 0.2444 - val_accuracy: 0.9170\n",
            "Epoch 13/20\n",
            "55000/55000 [==============================] - 2s 40us/sample - loss: 0.1510 - accuracy: 0.9436 - val_loss: 0.2510 - val_accuracy: 0.9130\n",
            "Epoch 14/20\n",
            "55000/55000 [==============================] - 2s 40us/sample - loss: 0.1422 - accuracy: 0.9478 - val_loss: 0.2519 - val_accuracy: 0.9144\n",
            "Epoch 15/20\n",
            "55000/55000 [==============================] - 2s 40us/sample - loss: 0.1338 - accuracy: 0.9505 - val_loss: 0.2468 - val_accuracy: 0.9174\n",
            "Epoch 16/20\n",
            "55000/55000 [==============================] - 2s 40us/sample - loss: 0.1198 - accuracy: 0.9559 - val_loss: 0.2703 - val_accuracy: 0.9154\n",
            "Epoch 17/20\n",
            "55000/55000 [==============================] - 2s 40us/sample - loss: 0.1112 - accuracy: 0.9586 - val_loss: 0.2791 - val_accuracy: 0.9158\n",
            "Epoch 18/20\n",
            "55000/55000 [==============================] - 2s 40us/sample - loss: 0.1043 - accuracy: 0.9604 - val_loss: 0.2853 - val_accuracy: 0.9170\n",
            "Epoch 19/20\n",
            "55000/55000 [==============================] - 2s 40us/sample - loss: 0.1006 - accuracy: 0.9627 - val_loss: 0.3091 - val_accuracy: 0.9142\n",
            "Epoch 20/20\n",
            "55000/55000 [==============================] - 2s 41us/sample - loss: 0.0909 - accuracy: 0.9659 - val_loss: 0.3038 - val_accuracy: 0.9144\n",
            "--------------------------\n"
          ],
          "name": "stdout"
        }
      ]
    },
    {
      "cell_type": "code",
      "metadata": {
        "colab_type": "code",
        "id": "2yNrUFL4XXMN",
        "colab": {
          "base_uri": "https://localhost:8080/",
          "height": 34
        },
        "outputId": "164d6d0a-9935-402b-df17-dfed11ad98ee"
      },
      "source": [
        "# Get the training time\n",
        "train_time = train_rt.process_time\n",
        "train_time # in seconds"
      ],
      "execution_count": 93,
      "outputs": [
        {
          "output_type": "execute_result",
          "data": {
            "text/plain": [
              "44.702734"
            ]
          },
          "metadata": {
            "tags": []
          },
          "execution_count": 93
        }
      ]
    },
    {
      "cell_type": "markdown",
      "metadata": {
        "colab_type": "text",
        "id": "wVPSu-RvXXMQ"
      },
      "source": [
        "## 4C. Model Testing"
      ]
    },
    {
      "cell_type": "code",
      "metadata": {
        "colab_type": "code",
        "id": "bE_WhzOmXXMQ",
        "colab": {}
      },
      "source": [
        "test_rt = TestRuntimeCallback()\n",
        "test_loss, test_acc = model_4a.evaluate(test_images, test_labels, callbacks=[test_rt])"
      ],
      "execution_count": 94,
      "outputs": []
    },
    {
      "cell_type": "code",
      "metadata": {
        "colab_type": "code",
        "id": "ek023mMVXXMR",
        "colab": {
          "base_uri": "https://localhost:8080/",
          "height": 34
        },
        "outputId": "51fee034-7b5c-4961-ffc2-4a34659cdc85"
      },
      "source": [
        "# Get the test time\n",
        "test_time = test_rt.process_time\n",
        "test_time # in seconds"
      ],
      "execution_count": 95,
      "outputs": [
        {
          "output_type": "execute_result",
          "data": {
            "text/plain": [
              "0.566357"
            ]
          },
          "metadata": {
            "tags": []
          },
          "execution_count": 95
        }
      ]
    },
    {
      "cell_type": "code",
      "metadata": {
        "colab_type": "code",
        "id": "rjWR65BzXXMS",
        "colab": {
          "base_uri": "https://localhost:8080/",
          "height": 34
        },
        "outputId": "1bab174e-2bd5-421f-8e39-74aa571daf2c"
      },
      "source": [
        "history_dict = history.history\n",
        "history_dict.keys()"
      ],
      "execution_count": 96,
      "outputs": [
        {
          "output_type": "execute_result",
          "data": {
            "text/plain": [
              "dict_keys(['loss', 'accuracy', 'val_loss', 'val_accuracy'])"
            ]
          },
          "metadata": {
            "tags": []
          },
          "execution_count": 96
        }
      ]
    },
    {
      "cell_type": "code",
      "metadata": {
        "colab_type": "code",
        "id": "H_zfwtbCXXMU",
        "colab": {
          "base_uri": "https://localhost:8080/",
          "height": 204
        },
        "outputId": "3c054ff6-834f-47a2-befd-299d22d53944"
      },
      "source": [
        "history_df=pd.DataFrame(history_dict)\n",
        "history_df.tail()"
      ],
      "execution_count": 97,
      "outputs": [
        {
          "output_type": "execute_result",
          "data": {
            "text/html": [
              "<div>\n",
              "<style scoped>\n",
              "    .dataframe tbody tr th:only-of-type {\n",
              "        vertical-align: middle;\n",
              "    }\n",
              "\n",
              "    .dataframe tbody tr th {\n",
              "        vertical-align: top;\n",
              "    }\n",
              "\n",
              "    .dataframe thead th {\n",
              "        text-align: right;\n",
              "    }\n",
              "</style>\n",
              "<table border=\"1\" class=\"dataframe\">\n",
              "  <thead>\n",
              "    <tr style=\"text-align: right;\">\n",
              "      <th></th>\n",
              "      <th>loss</th>\n",
              "      <th>accuracy</th>\n",
              "      <th>val_loss</th>\n",
              "      <th>val_accuracy</th>\n",
              "    </tr>\n",
              "  </thead>\n",
              "  <tbody>\n",
              "    <tr>\n",
              "      <th>15</th>\n",
              "      <td>0.119815</td>\n",
              "      <td>0.955891</td>\n",
              "      <td>0.270317</td>\n",
              "      <td>0.9154</td>\n",
              "    </tr>\n",
              "    <tr>\n",
              "      <th>16</th>\n",
              "      <td>0.111189</td>\n",
              "      <td>0.958600</td>\n",
              "      <td>0.279117</td>\n",
              "      <td>0.9158</td>\n",
              "    </tr>\n",
              "    <tr>\n",
              "      <th>17</th>\n",
              "      <td>0.104301</td>\n",
              "      <td>0.960418</td>\n",
              "      <td>0.285327</td>\n",
              "      <td>0.9170</td>\n",
              "    </tr>\n",
              "    <tr>\n",
              "      <th>18</th>\n",
              "      <td>0.100560</td>\n",
              "      <td>0.962745</td>\n",
              "      <td>0.309135</td>\n",
              "      <td>0.9142</td>\n",
              "    </tr>\n",
              "    <tr>\n",
              "      <th>19</th>\n",
              "      <td>0.090918</td>\n",
              "      <td>0.965909</td>\n",
              "      <td>0.303845</td>\n",
              "      <td>0.9144</td>\n",
              "    </tr>\n",
              "  </tbody>\n",
              "</table>\n",
              "</div>"
            ],
            "text/plain": [
              "        loss  accuracy  val_loss  val_accuracy\n",
              "15  0.119815  0.955891  0.270317        0.9154\n",
              "16  0.111189  0.958600  0.279117        0.9158\n",
              "17  0.104301  0.960418  0.285327        0.9170\n",
              "18  0.100560  0.962745  0.309135        0.9142\n",
              "19  0.090918  0.965909  0.303845        0.9144"
            ]
          },
          "metadata": {
            "tags": []
          },
          "execution_count": 97
        }
      ]
    },
    {
      "cell_type": "code",
      "metadata": {
        "colab_type": "code",
        "id": "lGfL12J_XXMV",
        "colab": {
          "base_uri": "https://localhost:8080/",
          "height": 80
        },
        "outputId": "b2cd28e7-24cb-4180-9349-2de5a1d0bb91"
      },
      "source": [
        "# Pull statistics \n",
        "# Pull statistics \n",
        "results_df4a = history_df.iloc[-1:].copy()\n",
        "results_df4a.insert(0,'model','CNN (3 layers)') # want the model name to appear first\n",
        "results_df4a['training time (sec)'] = train_time      # we are okay with training time appearing last\n",
        "results_df4a['testing time (sec)'] = test_time      # we are okay with training time appearing last\n",
        "results_df4a"
      ],
      "execution_count": 98,
      "outputs": [
        {
          "output_type": "execute_result",
          "data": {
            "text/html": [
              "<div>\n",
              "<style scoped>\n",
              "    .dataframe tbody tr th:only-of-type {\n",
              "        vertical-align: middle;\n",
              "    }\n",
              "\n",
              "    .dataframe tbody tr th {\n",
              "        vertical-align: top;\n",
              "    }\n",
              "\n",
              "    .dataframe thead th {\n",
              "        text-align: right;\n",
              "    }\n",
              "</style>\n",
              "<table border=\"1\" class=\"dataframe\">\n",
              "  <thead>\n",
              "    <tr style=\"text-align: right;\">\n",
              "      <th></th>\n",
              "      <th>model</th>\n",
              "      <th>loss</th>\n",
              "      <th>accuracy</th>\n",
              "      <th>val_loss</th>\n",
              "      <th>val_accuracy</th>\n",
              "      <th>training time (sec)</th>\n",
              "      <th>testing time (sec)</th>\n",
              "    </tr>\n",
              "  </thead>\n",
              "  <tbody>\n",
              "    <tr>\n",
              "      <th>19</th>\n",
              "      <td>CNN (3 layers)</td>\n",
              "      <td>0.090918</td>\n",
              "      <td>0.965909</td>\n",
              "      <td>0.303845</td>\n",
              "      <td>0.9144</td>\n",
              "      <td>44.702734</td>\n",
              "      <td>0.566357</td>\n",
              "    </tr>\n",
              "  </tbody>\n",
              "</table>\n",
              "</div>"
            ],
            "text/plain": [
              "             model      loss  ...  training time (sec)  testing time (sec)\n",
              "19  CNN (3 layers)  0.090918  ...            44.702734            0.566357\n",
              "\n",
              "[1 rows x 7 columns]"
            ]
          },
          "metadata": {
            "tags": []
          },
          "execution_count": 98
        }
      ]
    },
    {
      "cell_type": "code",
      "metadata": {
        "colab_type": "code",
        "id": "a6IwTC56XXMY",
        "colab": {}
      },
      "source": [
        "# Combine with previous results\n",
        "# prev_results_df = pd.read_pickle('results.pkl')\n",
        "# results_df = results_df.append(results_df3a,ignore_index=True)\n",
        "# results_df = results_df.append(results_df3b,ignore_index=True)\n",
        "# results_df"
      ],
      "execution_count": 99,
      "outputs": []
    },
    {
      "cell_type": "code",
      "metadata": {
        "colab_type": "code",
        "id": "vco4rEt_XXMa",
        "scrolled": true,
        "colab": {
          "base_uri": "https://localhost:8080/",
          "height": 324
        },
        "outputId": "6b514fcb-3fc9-474c-9931-7683e0a917dd"
      },
      "source": [
        "# Plot learning curves for model\n",
        "pd.DataFrame(history.history).plot(figsize=(8, 5))\n",
        "plt.grid(True)\n",
        "plt.gca().set_ylim(0, 1) # set the vertical range to [0-1]\n",
        "plt.show()"
      ],
      "execution_count": 100,
      "outputs": [
        {
          "output_type": "display_data",
          "data": {
            "image/png": "[encoded data removed]",
            "text/plain": [
              "<Figure size 576x360 with 1 Axes>"
            ]
          },
          "metadata": {
            "tags": [],
            "needs_background": "light"
          }
        }
      ]
    },
    {
      "cell_type": "markdown",
      "metadata": {
        "id": "b7nc2e49jcpA",
        "colab_type": "text"
      },
      "source": [
        "# 5. Experiment 5: Add Dropout to All Models"
      ]
    },
    {
      "cell_type": "code",
      "metadata": {
        "id": "hgnCT7r5lero",
        "colab_type": "code",
        "colab": {
          "base_uri": "https://localhost:8080/",
          "height": 34
        },
        "outputId": "0a1a8a8d-0c2a-41c8-d6c5-8797ed04f928"
      },
      "source": [
        "# https://www.tensorflow.org/api_docs/python/tf/keras/datasets/fashion_mnist/load_data\n",
        "from tensorflow.keras.datasets import fashion_mnist\n",
        "(train_images, train_labels), (test_images, test_labels) = fashion_mnist.load_data()\n",
        "train_images.shape, test_images.shape, test_labels.shape, test_labels.shape"
      ],
      "execution_count": 101,
      "outputs": [
        {
          "output_type": "execute_result",
          "data": {
            "text/plain": [
              "((60000, 28, 28), (10000, 28, 28), (10000,), (10000,))"
            ]
          },
          "metadata": {
            "tags": []
          },
          "execution_count": 101
        }
      ]
    },
    {
      "cell_type": "code",
      "metadata": {
        "id": "qgE1IvwNlEEr",
        "colab_type": "code",
        "colab": {}
      },
      "source": [
        "# We transform it into a float32 array of shape (60000, 28 * 28) with values between 0 and 1. \n",
        "train_images = train_images.reshape((60000, 28 * 28)) \n",
        "train_images = train_images.astype('float32') / 255\n",
        "\n",
        "test_images = test_images.reshape((10000, 28 * 28))  \n",
        "test_images = test_images.astype('float32') / 255\n",
        "\n",
        "# Create validation data\n",
        "val_images, train_images = train_images[:5000], train_images[5000:] \n",
        "val_labels, train_labels = train_labels[:5000], train_labels[5000:]"
      ],
      "execution_count": 102,
      "outputs": []
    },
    {
      "cell_type": "markdown",
      "metadata": {
        "id": "r_qz1LX0kCcT",
        "colab_type": "text"
      },
      "source": [
        "## 5A. Model 1"
      ]
    },
    {
      "cell_type": "code",
      "metadata": {
        "id": "_qM94v8ekBY2",
        "colab_type": "code",
        "colab": {
          "base_uri": "https://localhost:8080/",
          "height": 255
        },
        "outputId": "a2a9939d-6313-4e80-f31a-2e5e08613644"
      },
      "source": [
        "model_1do = models.Sequential()\n",
        "# model_1do.add(layers.Flatten(input_shape=[28, 28]))\n",
        "model_1do.add(layers.Dense(5, activation='relu', input_shape=(28 * 28,)))\n",
        "model_1do.add(layers.Dropout(0.2))\n",
        "model_1do.add(layers.Dense(10, activation='softmax')) \n",
        "\n",
        "model_1do.compile(optimizer='adam', loss='sparse_categorical_crossentropy', metrics=['accuracy'])\n",
        "\n",
        "model_1do.summary()"
      ],
      "execution_count": 103,
      "outputs": [
        {
          "output_type": "stream",
          "text": [
            "Model: \"sequential_4\"\n",
            "_________________________________________________________________\n",
            "Layer (type)                 Output Shape              Param #   \n",
            "=================================================================\n",
            "dense_9 (Dense)              (None, 5)                 3925      \n",
            "_________________________________________________________________\n",
            "dropout (Dropout)            (None, 5)                 0         \n",
            "_________________________________________________________________\n",
            "dense_10 (Dense)             (None, 10)                60        \n",
            "=================================================================\n",
            "Total params: 3,985\n",
            "Trainable params: 3,985\n",
            "Non-trainable params: 0\n",
            "_________________________________________________________________\n"
          ],
          "name": "stdout"
        }
      ]
    },
    {
      "cell_type": "code",
      "metadata": {
        "id": "tpvA5xtfkEYy",
        "colab_type": "code",
        "colab": {
          "base_uri": "https://localhost:8080/",
          "height": 751
        },
        "outputId": "e1d21a2d-9e62-4598-c587-fc9e68ae600d"
      },
      "source": [
        "train_rt = TrainRuntimeCallback()\n",
        "history = model_1do.fit(train_images, train_labels, callbacks=[train_rt], epochs=20, batch_size=100, validation_data=(val_images, val_labels))\n",
        "\n",
        "# Saving models locally after fitting\n",
        "save_dir = \"results/\"\n",
        "model_name = 'fashion_mnist_model_1do.h5'\n",
        "# model_path = os.path.join(save_dir, model_name)\n",
        "print('--------------------------')"
      ],
      "execution_count": 104,
      "outputs": [
        {
          "output_type": "stream",
          "text": [
            "Train on 55000 samples, validate on 5000 samples\n",
            "Epoch 1/20\n",
            "55000/55000 [==============================] - 2s 30us/sample - loss: 1.5454 - accuracy: 0.4225 - val_loss: 1.0409 - val_accuracy: 0.6776\n",
            "Epoch 2/20\n",
            "55000/55000 [==============================] - 2s 29us/sample - loss: 1.1778 - accuracy: 0.5659 - val_loss: 0.8091 - val_accuracy: 0.7468\n",
            "Epoch 3/20\n",
            "55000/55000 [==============================] - 2s 29us/sample - loss: 1.0413 - accuracy: 0.6116 - val_loss: 0.7341 - val_accuracy: 0.7782\n",
            "Epoch 4/20\n",
            "55000/55000 [==============================] - 2s 29us/sample - loss: 0.9985 - accuracy: 0.6303 - val_loss: 0.6966 - val_accuracy: 0.7896\n",
            "Epoch 5/20\n",
            "55000/55000 [==============================] - 2s 28us/sample - loss: 0.9607 - accuracy: 0.6459 - val_loss: 0.6460 - val_accuracy: 0.8144\n",
            "Epoch 6/20\n",
            "55000/55000 [==============================] - 2s 29us/sample - loss: 0.9414 - accuracy: 0.6541 - val_loss: 0.6356 - val_accuracy: 0.8152\n",
            "Epoch 7/20\n",
            "55000/55000 [==============================] - 2s 29us/sample - loss: 0.9165 - accuracy: 0.6627 - val_loss: 0.6205 - val_accuracy: 0.8182\n",
            "Epoch 8/20\n",
            "55000/55000 [==============================] - 2s 29us/sample - loss: 0.9128 - accuracy: 0.6643 - val_loss: 0.6223 - val_accuracy: 0.8142\n",
            "Epoch 9/20\n",
            "55000/55000 [==============================] - 2s 30us/sample - loss: 0.9043 - accuracy: 0.6692 - val_loss: 0.6167 - val_accuracy: 0.8194\n",
            "Epoch 10/20\n",
            "55000/55000 [==============================] - 2s 28us/sample - loss: 0.8948 - accuracy: 0.6732 - val_loss: 0.6007 - val_accuracy: 0.8216\n",
            "Epoch 11/20\n",
            "55000/55000 [==============================] - 2s 30us/sample - loss: 0.8898 - accuracy: 0.6764 - val_loss: 0.5952 - val_accuracy: 0.8222\n",
            "Epoch 12/20\n",
            "55000/55000 [==============================] - 2s 30us/sample - loss: 0.8800 - accuracy: 0.6840 - val_loss: 0.5955 - val_accuracy: 0.8180\n",
            "Epoch 13/20\n",
            "55000/55000 [==============================] - 2s 28us/sample - loss: 0.8791 - accuracy: 0.6835 - val_loss: 0.5925 - val_accuracy: 0.8204\n",
            "Epoch 14/20\n",
            "55000/55000 [==============================] - 2s 29us/sample - loss: 0.8770 - accuracy: 0.6839 - val_loss: 0.5961 - val_accuracy: 0.8184\n",
            "Epoch 15/20\n",
            "55000/55000 [==============================] - 2s 29us/sample - loss: 0.8764 - accuracy: 0.6849 - val_loss: 0.5936 - val_accuracy: 0.8230\n",
            "Epoch 16/20\n",
            "55000/55000 [==============================] - 2s 30us/sample - loss: 0.8711 - accuracy: 0.6856 - val_loss: 0.5916 - val_accuracy: 0.8200\n",
            "Epoch 17/20\n",
            "55000/55000 [==============================] - 2s 30us/sample - loss: 0.8805 - accuracy: 0.6852 - val_loss: 0.6056 - val_accuracy: 0.8164\n",
            "Epoch 18/20\n",
            "55000/55000 [==============================] - 2s 30us/sample - loss: 0.8668 - accuracy: 0.6889 - val_loss: 0.5847 - val_accuracy: 0.8252\n",
            "Epoch 19/20\n",
            "55000/55000 [==============================] - 2s 30us/sample - loss: 0.8663 - accuracy: 0.6902 - val_loss: 0.5967 - val_accuracy: 0.8166\n",
            "Epoch 20/20\n",
            "55000/55000 [==============================] - 2s 31us/sample - loss: 0.8688 - accuracy: 0.6913 - val_loss: 0.5878 - val_accuracy: 0.8232\n",
            "--------------------------\n"
          ],
          "name": "stdout"
        }
      ]
    },
    {
      "cell_type": "code",
      "metadata": {
        "id": "sIFmSX2GkOVI",
        "colab_type": "code",
        "colab": {
          "base_uri": "https://localhost:8080/",
          "height": 34
        },
        "outputId": "93fa955a-9e78-46ec-b990-2cab8d5d70d8"
      },
      "source": [
        "# Get the training time\n",
        "train_time = train_rt.process_time\n",
        "train_time # in seconds"
      ],
      "execution_count": 105,
      "outputs": [
        {
          "output_type": "execute_result",
          "data": {
            "text/plain": [
              "32.724154"
            ]
          },
          "metadata": {
            "tags": []
          },
          "execution_count": 105
        }
      ]
    },
    {
      "cell_type": "code",
      "metadata": {
        "id": "bTYW_zNbltIz",
        "colab_type": "code",
        "colab": {}
      },
      "source": [
        "test_rt = TestRuntimeCallback()\n",
        "test_loss, test_acc = model_1do.evaluate(test_images, test_labels, callbacks=[test_rt])"
      ],
      "execution_count": 106,
      "outputs": []
    },
    {
      "cell_type": "code",
      "metadata": {
        "id": "k9EScQmTlvK4",
        "colab_type": "code",
        "colab": {
          "base_uri": "https://localhost:8080/",
          "height": 34
        },
        "outputId": "ae22d7cb-ca46-427b-ae64-4eab89ca39ac"
      },
      "source": [
        "# Get the test time\n",
        "test_time = test_rt.process_time\n",
        "test_time # in seconds"
      ],
      "execution_count": 107,
      "outputs": [
        {
          "output_type": "execute_result",
          "data": {
            "text/plain": [
              "0.508009"
            ]
          },
          "metadata": {
            "tags": []
          },
          "execution_count": 107
        }
      ]
    },
    {
      "cell_type": "code",
      "metadata": {
        "id": "5hz25tGClvqg",
        "colab_type": "code",
        "colab": {
          "base_uri": "https://localhost:8080/",
          "height": 114
        },
        "outputId": "d0b6292b-2c06-4389-b421-4d74dd699811"
      },
      "source": [
        "history_dict = history.history\n",
        "history_dict.keys()\n",
        "\n",
        "history_df=pd.DataFrame(history_dict)\n",
        "history_df.tail()\n",
        "\n",
        "# Create a results DataFrame using the last row of history_df\n",
        "results_df_do = history_df.iloc[-1:].copy()\n",
        "results_df_do.insert(0,'model','DNN (2 layers DO)') # went the model name to appear first\n",
        "results_df_do['training time (sec)'] = train_time      # we are okay with training time appearing last\n",
        "results_df_do['testing time (sec)'] = test_time      # we are okay with training time appearing last\n",
        "results_df_do"
      ],
      "execution_count": 108,
      "outputs": [
        {
          "output_type": "execute_result",
          "data": {
            "text/html": [
              "<div>\n",
              "<style scoped>\n",
              "    .dataframe tbody tr th:only-of-type {\n",
              "        vertical-align: middle;\n",
              "    }\n",
              "\n",
              "    .dataframe tbody tr th {\n",
              "        vertical-align: top;\n",
              "    }\n",
              "\n",
              "    .dataframe thead th {\n",
              "        text-align: right;\n",
              "    }\n",
              "</style>\n",
              "<table border=\"1\" class=\"dataframe\">\n",
              "  <thead>\n",
              "    <tr style=\"text-align: right;\">\n",
              "      <th></th>\n",
              "      <th>model</th>\n",
              "      <th>loss</th>\n",
              "      <th>accuracy</th>\n",
              "      <th>val_loss</th>\n",
              "      <th>val_accuracy</th>\n",
              "      <th>training time (sec)</th>\n",
              "      <th>testing time (sec)</th>\n",
              "    </tr>\n",
              "  </thead>\n",
              "  <tbody>\n",
              "    <tr>\n",
              "      <th>19</th>\n",
              "      <td>DNN (2 layers DO)</td>\n",
              "      <td>0.868838</td>\n",
              "      <td>0.691327</td>\n",
              "      <td>0.587843</td>\n",
              "      <td>0.8232</td>\n",
              "      <td>32.724154</td>\n",
              "      <td>0.508009</td>\n",
              "    </tr>\n",
              "  </tbody>\n",
              "</table>\n",
              "</div>"
            ],
            "text/plain": [
              "                model      loss  ...  training time (sec)  testing time (sec)\n",
              "19  DNN (2 layers DO)  0.868838  ...            32.724154            0.508009\n",
              "\n",
              "[1 rows x 7 columns]"
            ]
          },
          "metadata": {
            "tags": []
          },
          "execution_count": 108
        }
      ]
    },
    {
      "cell_type": "code",
      "metadata": {
        "id": "SlM_YWd6lzpe",
        "colab_type": "code",
        "colab": {
          "base_uri": "https://localhost:8080/",
          "height": 320
        },
        "outputId": "526d8e99-5819-4377-b133-50f73f002bba"
      },
      "source": [
        "# Plot learning curves for model\n",
        "pd.DataFrame(history.history).plot(figsize=(8, 5))\n",
        "plt.grid(True)\n",
        "plt.gca().set_ylim(0, 1.5) # set the vertical range to [0-1]\n",
        "plt.show()"
      ],
      "execution_count": 109,
      "outputs": [
        {
          "output_type": "display_data",
          "data": {
            "image/png": "[encoded data removed]",
            "text/plain": [
              "<Figure size 576x360 with 1 Axes>"
            ]
          },
          "metadata": {
            "tags": [],
            "needs_background": "light"
          }
        }
      ]
    },
    {
      "cell_type": "markdown",
      "metadata": {
        "id": "O5KLvmUil6rF",
        "colab_type": "text"
      },
      "source": [
        "## 5B. Model 2"
      ]
    },
    {
      "cell_type": "code",
      "metadata": {
        "id": "EWQF87r4l4HO",
        "colab_type": "code",
        "colab": {
          "base_uri": "https://localhost:8080/",
          "height": 323
        },
        "outputId": "d0bee1ba-2437-4dd6-e3dd-9572a1b02f83"
      },
      "source": [
        "model_2do = models.Sequential()\n",
        "# model_1do.add(layers.Flatten(input_shape=[28, 28]))\n",
        "model_2do.add(layers.Dense(5, activation='relu', input_shape=(28 * 28,)))\n",
        "model_2do.add(layers.Dropout(0.2))\n",
        "model_2do.add(layers.Dense(10, activation='relu'))\n",
        "model_2do.add(layers.Dropout(0.2))\n",
        "model_2do.add(layers.Dense(10, activation='softmax')) \n",
        "\n",
        "model_2do.compile(optimizer='adam', loss='sparse_categorical_crossentropy', metrics=['accuracy'])\n",
        "\n",
        "model_2do.summary()"
      ],
      "execution_count": 110,
      "outputs": [
        {
          "output_type": "stream",
          "text": [
            "Model: \"sequential_5\"\n",
            "_________________________________________________________________\n",
            "Layer (type)                 Output Shape              Param #   \n",
            "=================================================================\n",
            "dense_11 (Dense)             (None, 5)                 3925      \n",
            "_________________________________________________________________\n",
            "dropout_1 (Dropout)          (None, 5)                 0         \n",
            "_________________________________________________________________\n",
            "dense_12 (Dense)             (None, 10)                60        \n",
            "_________________________________________________________________\n",
            "dropout_2 (Dropout)          (None, 10)                0         \n",
            "_________________________________________________________________\n",
            "dense_13 (Dense)             (None, 10)                110       \n",
            "=================================================================\n",
            "Total params: 4,095\n",
            "Trainable params: 4,095\n",
            "Non-trainable params: 0\n",
            "_________________________________________________________________\n"
          ],
          "name": "stdout"
        }
      ]
    },
    {
      "cell_type": "code",
      "metadata": {
        "id": "XmjlFgPcmB8K",
        "colab_type": "code",
        "colab": {
          "base_uri": "https://localhost:8080/",
          "height": 751
        },
        "outputId": "198c17a7-b2d1-4328-b527-51ee87b037ae"
      },
      "source": [
        "train_rt = TrainRuntimeCallback()\n",
        "history = model_2do.fit(train_images, train_labels, callbacks=[train_rt], epochs=20, batch_size = 100,\n",
        "                    validation_data=(val_images, val_labels))\n",
        "\n",
        "# Saving models locally after fitting\n",
        "save_dir = \"results/\"\n",
        "model_name = 'fashion_mnist_model_2do.h5'\n",
        "model_path = os.path.join(save_dir, model_name)\n",
        "print('--------------------------')"
      ],
      "execution_count": 111,
      "outputs": [
        {
          "output_type": "stream",
          "text": [
            "Train on 55000 samples, validate on 5000 samples\n",
            "Epoch 1/20\n",
            "55000/55000 [==============================] - 2s 38us/sample - loss: 1.6658 - accuracy: 0.3699 - val_loss: 0.9806 - val_accuracy: 0.6738\n",
            "Epoch 2/20\n",
            "55000/55000 [==============================] - 2s 34us/sample - loss: 1.2224 - accuracy: 0.5197 - val_loss: 0.8423 - val_accuracy: 0.7282\n",
            "Epoch 3/20\n",
            "55000/55000 [==============================] - 2s 34us/sample - loss: 1.1327 - accuracy: 0.5509 - val_loss: 0.7830 - val_accuracy: 0.7392\n",
            "Epoch 4/20\n",
            "55000/55000 [==============================] - 2s 35us/sample - loss: 1.1065 - accuracy: 0.5629 - val_loss: 0.7699 - val_accuracy: 0.7434\n",
            "Epoch 5/20\n",
            "55000/55000 [==============================] - 2s 35us/sample - loss: 1.0777 - accuracy: 0.5825 - val_loss: 0.7445 - val_accuracy: 0.7556\n",
            "Epoch 6/20\n",
            "55000/55000 [==============================] - 2s 35us/sample - loss: 1.0649 - accuracy: 0.5901 - val_loss: 0.7270 - val_accuracy: 0.7588\n",
            "Epoch 7/20\n",
            "55000/55000 [==============================] - 2s 35us/sample - loss: 1.0492 - accuracy: 0.5993 - val_loss: 0.7080 - val_accuracy: 0.7616\n",
            "Epoch 8/20\n",
            "55000/55000 [==============================] - 2s 34us/sample - loss: 1.0410 - accuracy: 0.6043 - val_loss: 0.6906 - val_accuracy: 0.7662\n",
            "Epoch 9/20\n",
            "55000/55000 [==============================] - 2s 34us/sample - loss: 1.0305 - accuracy: 0.6050 - val_loss: 0.6826 - val_accuracy: 0.7684\n",
            "Epoch 10/20\n",
            "55000/55000 [==============================] - 2s 35us/sample - loss: 1.0187 - accuracy: 0.6121 - val_loss: 0.6979 - val_accuracy: 0.7612\n",
            "Epoch 11/20\n",
            "55000/55000 [==============================] - 2s 34us/sample - loss: 1.0122 - accuracy: 0.6137 - val_loss: 0.6941 - val_accuracy: 0.7638\n",
            "Epoch 12/20\n",
            "55000/55000 [==============================] - 2s 35us/sample - loss: 1.0084 - accuracy: 0.6161 - val_loss: 0.6912 - val_accuracy: 0.7624\n",
            "Epoch 13/20\n",
            "55000/55000 [==============================] - 2s 34us/sample - loss: 1.0047 - accuracy: 0.6187 - val_loss: 0.6939 - val_accuracy: 0.7594\n",
            "Epoch 14/20\n",
            "55000/55000 [==============================] - 2s 34us/sample - loss: 1.0018 - accuracy: 0.6189 - val_loss: 0.6827 - val_accuracy: 0.7670\n",
            "Epoch 15/20\n",
            "55000/55000 [==============================] - 2s 33us/sample - loss: 0.9979 - accuracy: 0.6208 - val_loss: 0.6851 - val_accuracy: 0.7548\n",
            "Epoch 16/20\n",
            "55000/55000 [==============================] - 2s 34us/sample - loss: 0.9946 - accuracy: 0.6217 - val_loss: 0.6980 - val_accuracy: 0.7542\n",
            "Epoch 17/20\n",
            "55000/55000 [==============================] - 2s 34us/sample - loss: 0.9936 - accuracy: 0.6233 - val_loss: 0.6728 - val_accuracy: 0.7650\n",
            "Epoch 18/20\n",
            "55000/55000 [==============================] - 2s 34us/sample - loss: 0.9833 - accuracy: 0.6270 - val_loss: 0.6722 - val_accuracy: 0.7718\n",
            "Epoch 19/20\n",
            "55000/55000 [==============================] - 2s 34us/sample - loss: 0.9801 - accuracy: 0.6274 - val_loss: 0.6790 - val_accuracy: 0.7638\n",
            "Epoch 20/20\n",
            "55000/55000 [==============================] - 2s 34us/sample - loss: 0.9792 - accuracy: 0.6283 - val_loss: 0.6739 - val_accuracy: 0.7566\n",
            "--------------------------\n"
          ],
          "name": "stdout"
        }
      ]
    },
    {
      "cell_type": "code",
      "metadata": {
        "id": "g7rBbevPmIT-",
        "colab_type": "code",
        "colab": {
          "base_uri": "https://localhost:8080/",
          "height": 34
        },
        "outputId": "4e29974c-69e6-4442-ca62-d2ed346d3083"
      },
      "source": [
        "# Get the training time\n",
        "train_time = train_rt.process_time\n",
        "train_time # in seconds"
      ],
      "execution_count": 112,
      "outputs": [
        {
          "output_type": "execute_result",
          "data": {
            "text/plain": [
              "38.402772"
            ]
          },
          "metadata": {
            "tags": []
          },
          "execution_count": 112
        }
      ]
    },
    {
      "cell_type": "code",
      "metadata": {
        "id": "5wD9fY2RmPcq",
        "colab_type": "code",
        "colab": {}
      },
      "source": [
        "test_rt = TestRuntimeCallback()\n",
        "test_loss, test_acc = model_2do.evaluate(test_images, test_labels, callbacks=[test_rt])"
      ],
      "execution_count": 113,
      "outputs": []
    },
    {
      "cell_type": "code",
      "metadata": {
        "id": "9GlAAScKmQlG",
        "colab_type": "code",
        "colab": {
          "base_uri": "https://localhost:8080/",
          "height": 34
        },
        "outputId": "da75a6ca-ea3f-438e-a250-d88af490ca1f"
      },
      "source": [
        "# Get the test time\n",
        "test_time = test_rt.process_time\n",
        "test_time # in seconds"
      ],
      "execution_count": 114,
      "outputs": [
        {
          "output_type": "execute_result",
          "data": {
            "text/plain": [
              "0.492156"
            ]
          },
          "metadata": {
            "tags": []
          },
          "execution_count": 114
        }
      ]
    },
    {
      "cell_type": "code",
      "metadata": {
        "id": "HAUle7qymRZe",
        "colab_type": "code",
        "colab": {
          "base_uri": "https://localhost:8080/",
          "height": 114
        },
        "outputId": "d66c1bce-cf13-4431-d433-3b5c5fde9cd3"
      },
      "source": [
        "history_dict = history.history\n",
        "history_dict.keys()\n",
        "\n",
        "istory_df=pd.DataFrame(history_dict)\n",
        "history_df.tail()\n",
        "\n",
        "history_dict = history.history\n",
        "history_df=pd.DataFrame(history_dict)\n",
        "results_df_do_2 = history_df.iloc[-1:].copy()\n",
        "results_df_do_2.insert(0,'model','DNN (3 layers DO)') # went the model name to appear first\n",
        "results_df_do_2['training time (sec)'] = train_time      # we are okay with training time appearing last\n",
        "results_df_do_2['testing time (sec)'] = test_time      # we are okay with training time appearing last\n",
        "results_df_do_2"
      ],
      "execution_count": 115,
      "outputs": [
        {
          "output_type": "execute_result",
          "data": {
            "text/html": [
              "<div>\n",
              "<style scoped>\n",
              "    .dataframe tbody tr th:only-of-type {\n",
              "        vertical-align: middle;\n",
              "    }\n",
              "\n",
              "    .dataframe tbody tr th {\n",
              "        vertical-align: top;\n",
              "    }\n",
              "\n",
              "    .dataframe thead th {\n",
              "        text-align: right;\n",
              "    }\n",
              "</style>\n",
              "<table border=\"1\" class=\"dataframe\">\n",
              "  <thead>\n",
              "    <tr style=\"text-align: right;\">\n",
              "      <th></th>\n",
              "      <th>model</th>\n",
              "      <th>loss</th>\n",
              "      <th>accuracy</th>\n",
              "      <th>val_loss</th>\n",
              "      <th>val_accuracy</th>\n",
              "      <th>training time (sec)</th>\n",
              "      <th>testing time (sec)</th>\n",
              "    </tr>\n",
              "  </thead>\n",
              "  <tbody>\n",
              "    <tr>\n",
              "      <th>19</th>\n",
              "      <td>DNN (3 layers DO)</td>\n",
              "      <td>0.979208</td>\n",
              "      <td>0.628291</td>\n",
              "      <td>0.673944</td>\n",
              "      <td>0.7566</td>\n",
              "      <td>38.402772</td>\n",
              "      <td>0.492156</td>\n",
              "    </tr>\n",
              "  </tbody>\n",
              "</table>\n",
              "</div>"
            ],
            "text/plain": [
              "                model      loss  ...  training time (sec)  testing time (sec)\n",
              "19  DNN (3 layers DO)  0.979208  ...            38.402772            0.492156\n",
              "\n",
              "[1 rows x 7 columns]"
            ]
          },
          "metadata": {
            "tags": []
          },
          "execution_count": 115
        }
      ]
    },
    {
      "cell_type": "code",
      "metadata": {
        "id": "oWS83lypmVsC",
        "colab_type": "code",
        "colab": {
          "base_uri": "https://localhost:8080/",
          "height": 320
        },
        "outputId": "ff79b88e-9b2d-4fad-d9d3-6fb8f9b00490"
      },
      "source": [
        "# Plot learning curves for model\n",
        "pd.DataFrame(history.history).plot(figsize=(8, 5))\n",
        "plt.grid(True)\n",
        "plt.gca().set_ylim(0, 1.5) # set the vertical range to [0-1]\n",
        "plt.show()"
      ],
      "execution_count": 116,
      "outputs": [
        {
          "output_type": "display_data",
          "data": {
            "image/png": "[encoded data removed]",
            "text/plain": [
              "<Figure size 576x360 with 1 Axes>"
            ]
          },
          "metadata": {
            "tags": [],
            "needs_background": "light"
          }
        }
      ]
    },
    {
      "cell_type": "markdown",
      "metadata": {
        "id": "PJcM5yfCmyoZ",
        "colab_type": "text"
      },
      "source": [
        "## 5C. Model 3"
      ]
    },
    {
      "cell_type": "code",
      "metadata": {
        "id": "RfwSmNtLmwtC",
        "colab_type": "code",
        "colab": {}
      },
      "source": [
        "# We transform it into a float32 array of shape (60000, 28, 28, 1) with values between 0 and 1. \n",
        "train_images = train_images.reshape((55000, 28, 28, 1))\n",
        "val_images =val_images.reshape((5000, 28, 28, 1))\n",
        "test_images = test_images.reshape((10000, 28, 28, 1))"
      ],
      "execution_count": 117,
      "outputs": []
    },
    {
      "cell_type": "code",
      "metadata": {
        "id": "Sp5cpgYfm6PW",
        "colab_type": "code",
        "colab": {
          "base_uri": "https://localhost:8080/",
          "height": 459
        },
        "outputId": "f5cea8f9-8fc5-448d-9a08-1ebd90834c0b"
      },
      "source": [
        "model_3ado = models.Sequential()\n",
        "model_3ado.add(layers.Conv2D(32, (3, 3), activation='relu', input_shape=(28, 28, 1)))\n",
        "model_3ado.add(layers.MaxPooling2D((2, 2)))\n",
        "model_3ado.add(layers.Dropout(0.2))\n",
        "model_3ado.add(layers.Conv2D(64, (3, 3), activation='relu'))\n",
        "model_3ado.add(layers.MaxPooling2D((2, 2)))\n",
        "model_3ado.add(layers.Dropout(0.2))\n",
        "model_3ado.add(layers.Flatten())\n",
        "model_3ado.add(layers.Dense(128, activation='relu'))\n",
        "model_3ado.add(layers.Dense(10, activation='softmax'))\n",
        "\n",
        "model_3ado.compile(optimizer='adam', loss='sparse_categorical_crossentropy', metrics=['accuracy'])\n",
        "\n",
        "model_3ado.summary()"
      ],
      "execution_count": 118,
      "outputs": [
        {
          "output_type": "stream",
          "text": [
            "Model: \"sequential_6\"\n",
            "_________________________________________________________________\n",
            "Layer (type)                 Output Shape              Param #   \n",
            "=================================================================\n",
            "conv2d_5 (Conv2D)            (None, 26, 26, 32)        320       \n",
            "_________________________________________________________________\n",
            "max_pooling2d_4 (MaxPooling2 (None, 13, 13, 32)        0         \n",
            "_________________________________________________________________\n",
            "dropout_3 (Dropout)          (None, 13, 13, 32)        0         \n",
            "_________________________________________________________________\n",
            "conv2d_6 (Conv2D)            (None, 11, 11, 64)        18496     \n",
            "_________________________________________________________________\n",
            "max_pooling2d_5 (MaxPooling2 (None, 5, 5, 64)          0         \n",
            "_________________________________________________________________\n",
            "dropout_4 (Dropout)          (None, 5, 5, 64)          0         \n",
            "_________________________________________________________________\n",
            "flatten_4 (Flatten)          (None, 1600)              0         \n",
            "_________________________________________________________________\n",
            "dense_14 (Dense)             (None, 128)               204928    \n",
            "_________________________________________________________________\n",
            "dense_15 (Dense)             (None, 10)                1290      \n",
            "=================================================================\n",
            "Total params: 225,034\n",
            "Trainable params: 225,034\n",
            "Non-trainable params: 0\n",
            "_________________________________________________________________\n"
          ],
          "name": "stdout"
        }
      ]
    },
    {
      "cell_type": "code",
      "metadata": {
        "id": "UqoDHsfQnBBK",
        "colab_type": "code",
        "colab": {
          "base_uri": "https://localhost:8080/",
          "height": 1000
        },
        "outputId": "eb1129fd-c170-4c34-ab34-5a72f9959f3d"
      },
      "source": [
        "keras.utils.plot_model(model_3ado, show_shapes=True)"
      ],
      "execution_count": 119,
      "outputs": [
        {
          "output_type": "execute_result",
          "data": {
            "image/png": "[encoded data removed]",
            "text/plain": [
              "<IPython.core.display.Image object>"
            ]
          },
          "metadata": {
            "tags": []
          },
          "execution_count": 119
        }
      ]
    },
    {
      "cell_type": "code",
      "metadata": {
        "id": "rCdyWdWznBch",
        "colab_type": "code",
        "colab": {
          "base_uri": "https://localhost:8080/",
          "height": 751
        },
        "outputId": "1da4d44f-40a8-4b35-b361-cba94ce0dbce"
      },
      "source": [
        "train_rt = TrainRuntimeCallback()\n",
        "history = model_3ado.fit(train_images, train_labels, callbacks=[train_rt], epochs=20, batch_size = 100,\n",
        "                    validation_data=(val_images, val_labels))\n",
        "\n",
        "# Saving models locally after fitting\n",
        "save_dir = \"results/\"\n",
        "model_name = 'fashion_mnist_model_3ado.h5'\n",
        "model_path = os.path.join(save_dir, model_name)\n",
        "print('--------------------------')"
      ],
      "execution_count": 120,
      "outputs": [
        {
          "output_type": "stream",
          "text": [
            "Train on 55000 samples, validate on 5000 samples\n",
            "Epoch 1/20\n",
            "55000/55000 [==============================] - 3s 59us/sample - loss: 0.5937 - accuracy: 0.7824 - val_loss: 0.4040 - val_accuracy: 0.8616\n",
            "Epoch 2/20\n",
            "55000/55000 [==============================] - 3s 56us/sample - loss: 0.3993 - accuracy: 0.8555 - val_loss: 0.3379 - val_accuracy: 0.8818\n",
            "Epoch 3/20\n",
            "55000/55000 [==============================] - 3s 55us/sample - loss: 0.3463 - accuracy: 0.8741 - val_loss: 0.3116 - val_accuracy: 0.8866\n",
            "Epoch 4/20\n",
            "55000/55000 [==============================] - 3s 56us/sample - loss: 0.3147 - accuracy: 0.8867 - val_loss: 0.3009 - val_accuracy: 0.8906\n",
            "Epoch 5/20\n",
            "55000/55000 [==============================] - 3s 57us/sample - loss: 0.2920 - accuracy: 0.8932 - val_loss: 0.2630 - val_accuracy: 0.9066\n",
            "Epoch 6/20\n",
            "55000/55000 [==============================] - 3s 56us/sample - loss: 0.2740 - accuracy: 0.8989 - val_loss: 0.2470 - val_accuracy: 0.9116\n",
            "Epoch 7/20\n",
            "55000/55000 [==============================] - 3s 56us/sample - loss: 0.2562 - accuracy: 0.9058 - val_loss: 0.2411 - val_accuracy: 0.9134\n",
            "Epoch 8/20\n",
            "55000/55000 [==============================] - 3s 57us/sample - loss: 0.2446 - accuracy: 0.9090 - val_loss: 0.2488 - val_accuracy: 0.9106\n",
            "Epoch 9/20\n",
            "55000/55000 [==============================] - 3s 56us/sample - loss: 0.2340 - accuracy: 0.9130 - val_loss: 0.2425 - val_accuracy: 0.9086\n",
            "Epoch 10/20\n",
            "55000/55000 [==============================] - 3s 56us/sample - loss: 0.2220 - accuracy: 0.9169 - val_loss: 0.2219 - val_accuracy: 0.9186\n",
            "Epoch 11/20\n",
            "55000/55000 [==============================] - 3s 55us/sample - loss: 0.2114 - accuracy: 0.9205 - val_loss: 0.2113 - val_accuracy: 0.9230\n",
            "Epoch 12/20\n",
            "55000/55000 [==============================] - 3s 56us/sample - loss: 0.2032 - accuracy: 0.9239 - val_loss: 0.2185 - val_accuracy: 0.9172\n",
            "Epoch 13/20\n",
            "55000/55000 [==============================] - 3s 56us/sample - loss: 0.1931 - accuracy: 0.9259 - val_loss: 0.2121 - val_accuracy: 0.9222\n",
            "Epoch 14/20\n",
            "55000/55000 [==============================] - 3s 56us/sample - loss: 0.1861 - accuracy: 0.9303 - val_loss: 0.2286 - val_accuracy: 0.9130\n",
            "Epoch 15/20\n",
            "55000/55000 [==============================] - 3s 56us/sample - loss: 0.1774 - accuracy: 0.9328 - val_loss: 0.2202 - val_accuracy: 0.9208\n",
            "Epoch 16/20\n",
            "55000/55000 [==============================] - 3s 56us/sample - loss: 0.1714 - accuracy: 0.9350 - val_loss: 0.2159 - val_accuracy: 0.9218\n",
            "Epoch 17/20\n",
            "55000/55000 [==============================] - 3s 56us/sample - loss: 0.1644 - accuracy: 0.9375 - val_loss: 0.2163 - val_accuracy: 0.9218\n",
            "Epoch 18/20\n",
            "55000/55000 [==============================] - 3s 56us/sample - loss: 0.1592 - accuracy: 0.9399 - val_loss: 0.2192 - val_accuracy: 0.9218\n",
            "Epoch 19/20\n",
            "55000/55000 [==============================] - 3s 56us/sample - loss: 0.1539 - accuracy: 0.9416 - val_loss: 0.2256 - val_accuracy: 0.9198\n",
            "Epoch 20/20\n",
            "55000/55000 [==============================] - 3s 56us/sample - loss: 0.1497 - accuracy: 0.9429 - val_loss: 0.2109 - val_accuracy: 0.9238\n",
            "--------------------------\n"
          ],
          "name": "stdout"
        }
      ]
    },
    {
      "cell_type": "code",
      "metadata": {
        "id": "p21iVXpDnEwR",
        "colab_type": "code",
        "colab": {
          "base_uri": "https://localhost:8080/",
          "height": 34
        },
        "outputId": "d04819cf-62fe-48f9-b360-15bf67b61ea7"
      },
      "source": [
        "# Get the training time\n",
        "train_time = train_rt.process_time\n",
        "train_time # in seconds"
      ],
      "execution_count": 121,
      "outputs": [
        {
          "output_type": "execute_result",
          "data": {
            "text/plain": [
              "62.399543"
            ]
          },
          "metadata": {
            "tags": []
          },
          "execution_count": 121
        }
      ]
    },
    {
      "cell_type": "code",
      "metadata": {
        "id": "KYgxi5gwneXo",
        "colab_type": "code",
        "colab": {}
      },
      "source": [
        "test_rt = TestRuntimeCallback()\n",
        "test_loss, test_acc = model_3ado.evaluate(test_images, test_labels, callbacks=[test_rt])"
      ],
      "execution_count": 122,
      "outputs": []
    },
    {
      "cell_type": "code",
      "metadata": {
        "id": "U8kXeG92nfi0",
        "colab_type": "code",
        "colab": {
          "base_uri": "https://localhost:8080/",
          "height": 34
        },
        "outputId": "4a4ab2c7-4445-4ee4-b63b-da3c88dcf9f8"
      },
      "source": [
        "# Get the test time\n",
        "test_time = test_rt.process_time\n",
        "test_time # in seconds"
      ],
      "execution_count": 123,
      "outputs": [
        {
          "output_type": "execute_result",
          "data": {
            "text/plain": [
              "0.581591"
            ]
          },
          "metadata": {
            "tags": []
          },
          "execution_count": 123
        }
      ]
    },
    {
      "cell_type": "code",
      "metadata": {
        "id": "21Rir2FQngdL",
        "colab_type": "code",
        "colab": {
          "base_uri": "https://localhost:8080/",
          "height": 114
        },
        "outputId": "91cd0512-dee2-48cc-d930-c1caee061a0e"
      },
      "source": [
        "history_dict = history.history\n",
        "history_dict.keys()\n",
        "\n",
        "history_df=pd.DataFrame(history_dict)\n",
        "history_df.tail()\n",
        "\n",
        "# Pull statistics \n",
        "results_df_do_3a = history_df.iloc[-1:].copy()\n",
        "results_df_do_3a.insert(0,'model','CNN (2 layers DO)') # want the model name to appear first\n",
        "results_df_do_3a['training time (sec)'] = train_time      # we are okay with training time appearing last\n",
        "results_df_do_3a['testing time (sec)'] = test_time      # we are okay with training time appearing last\n",
        "results_df_do_3a"
      ],
      "execution_count": 124,
      "outputs": [
        {
          "output_type": "execute_result",
          "data": {
            "text/html": [
              "<div>\n",
              "<style scoped>\n",
              "    .dataframe tbody tr th:only-of-type {\n",
              "        vertical-align: middle;\n",
              "    }\n",
              "\n",
              "    .dataframe tbody tr th {\n",
              "        vertical-align: top;\n",
              "    }\n",
              "\n",
              "    .dataframe thead th {\n",
              "        text-align: right;\n",
              "    }\n",
              "</style>\n",
              "<table border=\"1\" class=\"dataframe\">\n",
              "  <thead>\n",
              "    <tr style=\"text-align: right;\">\n",
              "      <th></th>\n",
              "      <th>model</th>\n",
              "      <th>loss</th>\n",
              "      <th>accuracy</th>\n",
              "      <th>val_loss</th>\n",
              "      <th>val_accuracy</th>\n",
              "      <th>training time (sec)</th>\n",
              "      <th>testing time (sec)</th>\n",
              "    </tr>\n",
              "  </thead>\n",
              "  <tbody>\n",
              "    <tr>\n",
              "      <th>19</th>\n",
              "      <td>CNN (2 layers DO)</td>\n",
              "      <td>0.149728</td>\n",
              "      <td>0.942927</td>\n",
              "      <td>0.210911</td>\n",
              "      <td>0.9238</td>\n",
              "      <td>62.399543</td>\n",
              "      <td>0.581591</td>\n",
              "    </tr>\n",
              "  </tbody>\n",
              "</table>\n",
              "</div>"
            ],
            "text/plain": [
              "                model      loss  ...  training time (sec)  testing time (sec)\n",
              "19  CNN (2 layers DO)  0.149728  ...            62.399543            0.581591\n",
              "\n",
              "[1 rows x 7 columns]"
            ]
          },
          "metadata": {
            "tags": []
          },
          "execution_count": 124
        }
      ]
    },
    {
      "cell_type": "code",
      "metadata": {
        "id": "6iyr8s5fnkQJ",
        "colab_type": "code",
        "colab": {}
      },
      "source": [
        "# # Combine with previous results\n",
        "# prev_results_df = pd.read_pickle('results.pkl')\n",
        "# results_df = prev_results_df.append(results_df,ignore_index=True)\n",
        "# results_df"
      ],
      "execution_count": 125,
      "outputs": []
    },
    {
      "cell_type": "code",
      "metadata": {
        "id": "yFb_6ppznnIu",
        "colab_type": "code",
        "colab": {
          "base_uri": "https://localhost:8080/",
          "height": 324
        },
        "outputId": "92710d54-2404-482b-896e-22eb27b20fdb"
      },
      "source": [
        "# Plot learning curves for model\n",
        "pd.DataFrame(history.history).plot(figsize=(8, 5))\n",
        "plt.grid(True)\n",
        "plt.gca().set_ylim(0, 1) # set the vertical range to [0-1]\n",
        "plt.show()"
      ],
      "execution_count": 126,
      "outputs": [
        {
          "output_type": "display_data",
          "data": {
            "image/png": "[encoded data removed]",
            "text/plain": [
              "<Figure size 576x360 with 1 Axes>"
            ]
          },
          "metadata": {
            "tags": [],
            "needs_background": "light"
          }
        }
      ]
    },
    {
      "cell_type": "markdown",
      "metadata": {
        "id": "RsbOqWm5nr8x",
        "colab_type": "text"
      },
      "source": [
        "## 5D. Model 4"
      ]
    },
    {
      "cell_type": "code",
      "metadata": {
        "id": "XGDJjVHNnn5N",
        "colab_type": "code",
        "colab": {
          "base_uri": "https://localhost:8080/",
          "height": 527
        },
        "outputId": "66e3c79b-7b46-4d29-dbea-e3efb9023c35"
      },
      "source": [
        "model_4ado = models.Sequential()\n",
        "model_4ado.add(layers.Conv2D(32, (3, 3), activation='relu', input_shape=(28, 28, 1)))\n",
        "model_4ado.add(layers.MaxPooling2D((2, 2)))\n",
        "model_4ado.add(layers.Dropout(0.2))\n",
        "model_4ado.add(layers.Conv2D(64, (3, 3), activation='relu'))\n",
        "model_4ado.add(layers.MaxPooling2D((2, 2)))\n",
        "model_4ado.add(layers.Dropout(0.2))\n",
        "model_4ado.add(layers.Conv2D(64, (3, 3), activation='relu'))\n",
        "model_4ado.add(layers.Dropout(0.2))\n",
        "model_4ado.add(layers.Flatten())\n",
        "model_4ado.add(layers.Dense(64, activation='relu'))\n",
        "model_4ado.add(layers.Dense(10, activation='softmax'))\n",
        "\n",
        "model_4ado.compile(optimizer='adam', loss='sparse_categorical_crossentropy', metrics=['accuracy'])\n",
        "\n",
        "model_4ado.summary()"
      ],
      "execution_count": 127,
      "outputs": [
        {
          "output_type": "stream",
          "text": [
            "Model: \"sequential_7\"\n",
            "_________________________________________________________________\n",
            "Layer (type)                 Output Shape              Param #   \n",
            "=================================================================\n",
            "conv2d_7 (Conv2D)            (None, 26, 26, 32)        320       \n",
            "_________________________________________________________________\n",
            "max_pooling2d_6 (MaxPooling2 (None, 13, 13, 32)        0         \n",
            "_________________________________________________________________\n",
            "dropout_5 (Dropout)          (None, 13, 13, 32)        0         \n",
            "_________________________________________________________________\n",
            "conv2d_8 (Conv2D)            (None, 11, 11, 64)        18496     \n",
            "_________________________________________________________________\n",
            "max_pooling2d_7 (MaxPooling2 (None, 5, 5, 64)          0         \n",
            "_________________________________________________________________\n",
            "dropout_6 (Dropout)          (None, 5, 5, 64)          0         \n",
            "_________________________________________________________________\n",
            "conv2d_9 (Conv2D)            (None, 3, 3, 64)          36928     \n",
            "_________________________________________________________________\n",
            "dropout_7 (Dropout)          (None, 3, 3, 64)          0         \n",
            "_________________________________________________________________\n",
            "flatten_5 (Flatten)          (None, 576)               0         \n",
            "_________________________________________________________________\n",
            "dense_16 (Dense)             (None, 64)                36928     \n",
            "_________________________________________________________________\n",
            "dense_17 (Dense)             (None, 10)                650       \n",
            "=================================================================\n",
            "Total params: 93,322\n",
            "Trainable params: 93,322\n",
            "Non-trainable params: 0\n",
            "_________________________________________________________________\n"
          ],
          "name": "stdout"
        }
      ]
    },
    {
      "cell_type": "code",
      "metadata": {
        "id": "-7CkXG1vnvp9",
        "colab_type": "code",
        "colab": {
          "base_uri": "https://localhost:8080/",
          "height": 1000
        },
        "outputId": "a79b8fce-4e1a-48a5-de96-a2ed41c2de15"
      },
      "source": [
        "keras.utils.plot_model(model_4ado, show_shapes=True)"
      ],
      "execution_count": 128,
      "outputs": [
        {
          "output_type": "execute_result",
          "data": {
            "image/png": "[encoded data removed]",
            "text/plain": [
              "<IPython.core.display.Image object>"
            ]
          },
          "metadata": {
            "tags": []
          },
          "execution_count": 128
        }
      ]
    },
    {
      "cell_type": "code",
      "metadata": {
        "id": "-Uh9KeGNn03Q",
        "colab_type": "code",
        "colab": {
          "base_uri": "https://localhost:8080/",
          "height": 751
        },
        "outputId": "45dc6167-b8de-47e6-f6c9-1de7a65c22ff"
      },
      "source": [
        "train_rt = TrainRuntimeCallback()\n",
        "history = model_4ado.fit(train_images, train_labels, callbacks=[train_rt], epochs=20, batch_size = 100,\n",
        "                    validation_data=(val_images, val_labels))\n",
        "\n",
        "# Saving models locally after fitting\n",
        "save_dir = \"results/\"\n",
        "model_name = 'fashion_mnist_model_4ado.h5'\n",
        "model_path = os.path.join(save_dir, model_name)\n",
        "print('--------------------------')"
      ],
      "execution_count": 129,
      "outputs": [
        {
          "output_type": "stream",
          "text": [
            "Train on 55000 samples, validate on 5000 samples\n",
            "Epoch 1/20\n",
            "55000/55000 [==============================] - 4s 68us/sample - loss: 0.6903 - accuracy: 0.7400 - val_loss: 0.4231 - val_accuracy: 0.8492\n",
            "Epoch 2/20\n",
            "55000/55000 [==============================] - 3s 63us/sample - loss: 0.4404 - accuracy: 0.8388 - val_loss: 0.3556 - val_accuracy: 0.8752\n",
            "Epoch 3/20\n",
            "55000/55000 [==============================] - 3s 63us/sample - loss: 0.3807 - accuracy: 0.8602 - val_loss: 0.3266 - val_accuracy: 0.8744\n",
            "Epoch 4/20\n",
            "55000/55000 [==============================] - 3s 64us/sample - loss: 0.3464 - accuracy: 0.8733 - val_loss: 0.2901 - val_accuracy: 0.8948\n",
            "Epoch 5/20\n",
            "55000/55000 [==============================] - 3s 63us/sample - loss: 0.3221 - accuracy: 0.8823 - val_loss: 0.2843 - val_accuracy: 0.8944\n",
            "Epoch 6/20\n",
            "55000/55000 [==============================] - 3s 62us/sample - loss: 0.3027 - accuracy: 0.8890 - val_loss: 0.2709 - val_accuracy: 0.8986\n",
            "Epoch 7/20\n",
            "55000/55000 [==============================] - 4s 64us/sample - loss: 0.2891 - accuracy: 0.8937 - val_loss: 0.2549 - val_accuracy: 0.9022\n",
            "Epoch 8/20\n",
            "55000/55000 [==============================] - 3s 63us/sample - loss: 0.2773 - accuracy: 0.8970 - val_loss: 0.2412 - val_accuracy: 0.9080\n",
            "Epoch 9/20\n",
            "55000/55000 [==============================] - 3s 62us/sample - loss: 0.2659 - accuracy: 0.9008 - val_loss: 0.2421 - val_accuracy: 0.9088\n",
            "Epoch 10/20\n",
            "55000/55000 [==============================] - 4s 64us/sample - loss: 0.2611 - accuracy: 0.9037 - val_loss: 0.2321 - val_accuracy: 0.9140\n",
            "Epoch 11/20\n",
            "55000/55000 [==============================] - 3s 63us/sample - loss: 0.2545 - accuracy: 0.9049 - val_loss: 0.2293 - val_accuracy: 0.9148\n",
            "Epoch 12/20\n",
            "55000/55000 [==============================] - 3s 63us/sample - loss: 0.2438 - accuracy: 0.9091 - val_loss: 0.2321 - val_accuracy: 0.9122\n",
            "Epoch 13/20\n",
            "55000/55000 [==============================] - 3s 61us/sample - loss: 0.2389 - accuracy: 0.9105 - val_loss: 0.2195 - val_accuracy: 0.9180\n",
            "Epoch 14/20\n",
            "55000/55000 [==============================] - 3s 60us/sample - loss: 0.2331 - accuracy: 0.9123 - val_loss: 0.2261 - val_accuracy: 0.9166\n",
            "Epoch 15/20\n",
            "55000/55000 [==============================] - 3s 61us/sample - loss: 0.2304 - accuracy: 0.9131 - val_loss: 0.2257 - val_accuracy: 0.9140\n",
            "Epoch 16/20\n",
            "55000/55000 [==============================] - 3s 61us/sample - loss: 0.2239 - accuracy: 0.9160 - val_loss: 0.2151 - val_accuracy: 0.9240\n",
            "Epoch 17/20\n",
            "55000/55000 [==============================] - 3s 61us/sample - loss: 0.2194 - accuracy: 0.9183 - val_loss: 0.2244 - val_accuracy: 0.9142\n",
            "Epoch 18/20\n",
            "55000/55000 [==============================] - 3s 61us/sample - loss: 0.2170 - accuracy: 0.9186 - val_loss: 0.2095 - val_accuracy: 0.9226\n",
            "Epoch 19/20\n",
            "55000/55000 [==============================] - 3s 61us/sample - loss: 0.2100 - accuracy: 0.9217 - val_loss: 0.2177 - val_accuracy: 0.9232\n",
            "Epoch 20/20\n",
            "55000/55000 [==============================] - 3s 61us/sample - loss: 0.2107 - accuracy: 0.9203 - val_loss: 0.2189 - val_accuracy: 0.9198\n",
            "--------------------------\n"
          ],
          "name": "stdout"
        }
      ]
    },
    {
      "cell_type": "code",
      "metadata": {
        "id": "iSSu2vtLn2ha",
        "colab_type": "code",
        "colab": {
          "base_uri": "https://localhost:8080/",
          "height": 34
        },
        "outputId": "53182aa4-967a-4df5-dc6d-d08be93738c4"
      },
      "source": [
        "# Get the training time\n",
        "train_time = train_rt.process_time\n",
        "train_time # in seconds"
      ],
      "execution_count": 130,
      "outputs": [
        {
          "output_type": "execute_result",
          "data": {
            "text/plain": [
              "69.335093"
            ]
          },
          "metadata": {
            "tags": []
          },
          "execution_count": 130
        }
      ]
    },
    {
      "cell_type": "code",
      "metadata": {
        "id": "kJx4rc9HoCyG",
        "colab_type": "code",
        "colab": {}
      },
      "source": [
        "test_rt = TestRuntimeCallback()\n",
        "test_loss, test_acc = model_4ado.evaluate(test_images, test_labels, callbacks=[test_rt])"
      ],
      "execution_count": 131,
      "outputs": []
    },
    {
      "cell_type": "code",
      "metadata": {
        "id": "Zln5WfXPoD3A",
        "colab_type": "code",
        "colab": {
          "base_uri": "https://localhost:8080/",
          "height": 34
        },
        "outputId": "efc28ccd-953e-4bb3-9f74-934b506744c5"
      },
      "source": [
        "# Get the test time\n",
        "test_time = test_rt.process_time\n",
        "test_time # in seconds"
      ],
      "execution_count": 132,
      "outputs": [
        {
          "output_type": "execute_result",
          "data": {
            "text/plain": [
              "0.598993"
            ]
          },
          "metadata": {
            "tags": []
          },
          "execution_count": 132
        }
      ]
    },
    {
      "cell_type": "code",
      "metadata": {
        "id": "KJHH8yrloF5G",
        "colab_type": "code",
        "colab": {
          "base_uri": "https://localhost:8080/",
          "height": 114
        },
        "outputId": "1612668c-92d7-400a-b294-5dfa886c3704"
      },
      "source": [
        "history_dict = history.history\n",
        "history_dict.keys()\n",
        "\n",
        "history_df=pd.DataFrame(history_dict)\n",
        "history_df.tail()\n",
        "\n",
        "# Pull statistics \n",
        "# Pull statistics \n",
        "results_df_do_4a = history_df.iloc[-1:].copy()\n",
        "results_df_do_4a.insert(0,'model','CNN (3 layers DO)') # want the model name to appear first\n",
        "results_df_do_4a['training time (sec)'] = train_time      # we are okay with training time appearing last\n",
        "results_df_do_4a['testing time (sec)'] = test_time      # we are okay with training time appearing last\n",
        "results_df_do_4a"
      ],
      "execution_count": 133,
      "outputs": [
        {
          "output_type": "execute_result",
          "data": {
            "text/html": [
              "<div>\n",
              "<style scoped>\n",
              "    .dataframe tbody tr th:only-of-type {\n",
              "        vertical-align: middle;\n",
              "    }\n",
              "\n",
              "    .dataframe tbody tr th {\n",
              "        vertical-align: top;\n",
              "    }\n",
              "\n",
              "    .dataframe thead th {\n",
              "        text-align: right;\n",
              "    }\n",
              "</style>\n",
              "<table border=\"1\" class=\"dataframe\">\n",
              "  <thead>\n",
              "    <tr style=\"text-align: right;\">\n",
              "      <th></th>\n",
              "      <th>model</th>\n",
              "      <th>loss</th>\n",
              "      <th>accuracy</th>\n",
              "      <th>val_loss</th>\n",
              "      <th>val_accuracy</th>\n",
              "      <th>training time (sec)</th>\n",
              "      <th>testing time (sec)</th>\n",
              "    </tr>\n",
              "  </thead>\n",
              "  <tbody>\n",
              "    <tr>\n",
              "      <th>19</th>\n",
              "      <td>CNN (3 layers DO)</td>\n",
              "      <td>0.21071</td>\n",
              "      <td>0.920309</td>\n",
              "      <td>0.218927</td>\n",
              "      <td>0.9198</td>\n",
              "      <td>69.335093</td>\n",
              "      <td>0.598993</td>\n",
              "    </tr>\n",
              "  </tbody>\n",
              "</table>\n",
              "</div>"
            ],
            "text/plain": [
              "                model     loss  ...  training time (sec)  testing time (sec)\n",
              "19  CNN (3 layers DO)  0.21071  ...            69.335093            0.598993\n",
              "\n",
              "[1 rows x 7 columns]"
            ]
          },
          "metadata": {
            "tags": []
          },
          "execution_count": 133
        }
      ]
    },
    {
      "cell_type": "code",
      "metadata": {
        "id": "OueaFjnooNlq",
        "colab_type": "code",
        "colab": {}
      },
      "source": [
        "# Combine with previous results\n",
        "# prev_results_df = pd.read_pickle('results.pkl')\n",
        "# results_df = results_df.append(results_df3a,ignore_index=True)\n",
        "# results_df = results_df.append(results_df3b,ignore_index=True)\n",
        "# results_df"
      ],
      "execution_count": 134,
      "outputs": []
    },
    {
      "cell_type": "code",
      "metadata": {
        "id": "tPwAj5W8oQxj",
        "colab_type": "code",
        "colab": {
          "base_uri": "https://localhost:8080/",
          "height": 324
        },
        "outputId": "4358be79-b8ed-4be6-df28-e7c6af807144"
      },
      "source": [
        "# Plot learning curves for model\n",
        "pd.DataFrame(history.history).plot(figsize=(8, 5))\n",
        "plt.grid(True)\n",
        "plt.gca().set_ylim(0, 1) # set the vertical range to [0-1]\n",
        "plt.show()"
      ],
      "execution_count": 135,
      "outputs": [
        {
          "output_type": "display_data",
          "data": {
            "image/png": "[encoded data removed]",
            "text/plain": [
              "<Figure size 576x360 with 1 Axes>"
            ]
          },
          "metadata": {
            "tags": [],
            "needs_background": "light"
          }
        }
      ]
    },
    {
      "cell_type": "markdown",
      "metadata": {
        "id": "TxSLIw3AoX4V",
        "colab_type": "text"
      },
      "source": [
        "# 6. Final Results"
      ]
    },
    {
      "cell_type": "code",
      "metadata": {
        "id": "BAF8LkEx4NSj",
        "colab_type": "code",
        "colab": {
          "base_uri": "https://localhost:8080/",
          "height": 80
        },
        "outputId": "447ff318-0045-4479-a087-4639fc3a35bf"
      },
      "source": [
        "results_df"
      ],
      "execution_count": 136,
      "outputs": [
        {
          "output_type": "execute_result",
          "data": {
            "text/html": [
              "<div>\n",
              "<style scoped>\n",
              "    .dataframe tbody tr th:only-of-type {\n",
              "        vertical-align: middle;\n",
              "    }\n",
              "\n",
              "    .dataframe tbody tr th {\n",
              "        vertical-align: top;\n",
              "    }\n",
              "\n",
              "    .dataframe thead th {\n",
              "        text-align: right;\n",
              "    }\n",
              "</style>\n",
              "<table border=\"1\" class=\"dataframe\">\n",
              "  <thead>\n",
              "    <tr style=\"text-align: right;\">\n",
              "      <th></th>\n",
              "      <th>model</th>\n",
              "      <th>loss</th>\n",
              "      <th>accuracy</th>\n",
              "      <th>val_loss</th>\n",
              "      <th>val_accuracy</th>\n",
              "      <th>training time (sec)</th>\n",
              "      <th>testing time (sec)</th>\n",
              "    </tr>\n",
              "  </thead>\n",
              "  <tbody>\n",
              "    <tr>\n",
              "      <th>19</th>\n",
              "      <td>DNN (2 layers)</td>\n",
              "      <td>0.439656</td>\n",
              "      <td>0.846909</td>\n",
              "      <td>0.453395</td>\n",
              "      <td>0.8478</td>\n",
              "      <td>25.623617</td>\n",
              "      <td>0.448479</td>\n",
              "    </tr>\n",
              "  </tbody>\n",
              "</table>\n",
              "</div>"
            ],
            "text/plain": [
              "             model      loss  ...  training time (sec)  testing time (sec)\n",
              "19  DNN (2 layers)  0.439656  ...            25.623617            0.448479\n",
              "\n",
              "[1 rows x 7 columns]"
            ]
          },
          "metadata": {
            "tags": []
          },
          "execution_count": 136
        }
      ]
    },
    {
      "cell_type": "code",
      "metadata": {
        "id": "4QtUgsqNoa7P",
        "colab_type": "code",
        "colab": {
          "base_uri": "https://localhost:8080/",
          "height": 382
        },
        "outputId": "97767d0e-7e3f-4c01-a012-055497edee0a"
      },
      "source": [
        "# # Add the new data to results_df:\n",
        "\n",
        "results_df=results_df.append(results_df2,ignore_index=True)\n",
        "results_df=results_df.append(results_df3a,ignore_index=True)\n",
        "results_df=results_df.append(results_df4a,ignore_index=True)\n",
        "results_df=results_df.append(results_df_do,ignore_index=True)\n",
        "results_df=results_df.append(results_df_do_2,ignore_index=True)\n",
        "results_df=results_df.append(results_df_do_3a,ignore_index=True)\n",
        "results_df=results_df.append(results_df_do_4a,ignore_index=True)\n",
        "\n",
        "results_df"
      ],
      "execution_count": 138,
      "outputs": [
        {
          "output_type": "execute_result",
          "data": {
            "text/html": [
              "<div>\n",
              "<style scoped>\n",
              "    .dataframe tbody tr th:only-of-type {\n",
              "        vertical-align: middle;\n",
              "    }\n",
              "\n",
              "    .dataframe tbody tr th {\n",
              "        vertical-align: top;\n",
              "    }\n",
              "\n",
              "    .dataframe thead th {\n",
              "        text-align: right;\n",
              "    }\n",
              "</style>\n",
              "<table border=\"1\" class=\"dataframe\">\n",
              "  <thead>\n",
              "    <tr style=\"text-align: right;\">\n",
              "      <th></th>\n",
              "      <th>model</th>\n",
              "      <th>loss</th>\n",
              "      <th>accuracy</th>\n",
              "      <th>val_loss</th>\n",
              "      <th>val_accuracy</th>\n",
              "      <th>training time (sec)</th>\n",
              "      <th>testing time (sec)</th>\n",
              "    </tr>\n",
              "  </thead>\n",
              "  <tbody>\n",
              "    <tr>\n",
              "      <th>0</th>\n",
              "      <td>DNN (2 layers)</td>\n",
              "      <td>0.439656</td>\n",
              "      <td>0.846909</td>\n",
              "      <td>0.453395</td>\n",
              "      <td>0.8478</td>\n",
              "      <td>25.623617</td>\n",
              "      <td>0.448479</td>\n",
              "    </tr>\n",
              "    <tr>\n",
              "      <th>1</th>\n",
              "      <td>DNN (3 layers)</td>\n",
              "      <td>0.528516</td>\n",
              "      <td>0.821709</td>\n",
              "      <td>0.544680</td>\n",
              "      <td>0.8134</td>\n",
              "      <td>25.145170</td>\n",
              "      <td>0.464393</td>\n",
              "    </tr>\n",
              "    <tr>\n",
              "      <th>2</th>\n",
              "      <td>CNN (2 layers)</td>\n",
              "      <td>0.057423</td>\n",
              "      <td>0.978873</td>\n",
              "      <td>0.293414</td>\n",
              "      <td>0.9198</td>\n",
              "      <td>46.637185</td>\n",
              "      <td>0.587652</td>\n",
              "    </tr>\n",
              "    <tr>\n",
              "      <th>3</th>\n",
              "      <td>CNN (3 layers)</td>\n",
              "      <td>0.090918</td>\n",
              "      <td>0.965909</td>\n",
              "      <td>0.303845</td>\n",
              "      <td>0.9144</td>\n",
              "      <td>44.702734</td>\n",
              "      <td>0.566357</td>\n",
              "    </tr>\n",
              "    <tr>\n",
              "      <th>4</th>\n",
              "      <td>DNN (2 layers DO)</td>\n",
              "      <td>0.868838</td>\n",
              "      <td>0.691327</td>\n",
              "      <td>0.587843</td>\n",
              "      <td>0.8232</td>\n",
              "      <td>32.724154</td>\n",
              "      <td>0.508009</td>\n",
              "    </tr>\n",
              "    <tr>\n",
              "      <th>5</th>\n",
              "      <td>DNN (3 layers DO)</td>\n",
              "      <td>0.979208</td>\n",
              "      <td>0.628291</td>\n",
              "      <td>0.673944</td>\n",
              "      <td>0.7566</td>\n",
              "      <td>38.402772</td>\n",
              "      <td>0.492156</td>\n",
              "    </tr>\n",
              "    <tr>\n",
              "      <th>6</th>\n",
              "      <td>CNN (2 layers DO)</td>\n",
              "      <td>0.149728</td>\n",
              "      <td>0.942927</td>\n",
              "      <td>0.210911</td>\n",
              "      <td>0.9238</td>\n",
              "      <td>62.399543</td>\n",
              "      <td>0.581591</td>\n",
              "    </tr>\n",
              "    <tr>\n",
              "      <th>7</th>\n",
              "      <td>CNN (3 layers DO)</td>\n",
              "      <td>0.210710</td>\n",
              "      <td>0.920309</td>\n",
              "      <td>0.218927</td>\n",
              "      <td>0.9198</td>\n",
              "      <td>69.335093</td>\n",
              "      <td>0.598993</td>\n",
              "    </tr>\n",
              "  </tbody>\n",
              "</table>\n",
              "</div>"
            ],
            "text/plain": [
              "               model      loss  ...  training time (sec)  testing time (sec)\n",
              "0     DNN (2 layers)  0.439656  ...            25.623617            0.448479\n",
              "1     DNN (3 layers)  0.528516  ...            25.145170            0.464393\n",
              "2     CNN (2 layers)  0.057423  ...            46.637185            0.587652\n",
              "3     CNN (3 layers)  0.090918  ...            44.702734            0.566357\n",
              "4  DNN (2 layers DO)  0.868838  ...            32.724154            0.508009\n",
              "5  DNN (3 layers DO)  0.979208  ...            38.402772            0.492156\n",
              "6  CNN (2 layers DO)  0.149728  ...            62.399543            0.581591\n",
              "7  CNN (3 layers DO)  0.210710  ...            69.335093            0.598993\n",
              "\n",
              "[8 rows x 7 columns]"
            ]
          },
          "metadata": {
            "tags": []
          },
          "execution_count": 138
        }
      ]
    }
  ]
}