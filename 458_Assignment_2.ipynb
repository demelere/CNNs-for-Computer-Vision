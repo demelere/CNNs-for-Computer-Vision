{
  "nbformat": 4,
  "nbformat_minor": 0,
  "metadata": {
    "accelerator": "GPU",
    "colab": {
      "name": "458 - Assignment 2",
      "provenance": [],
      "collapsed_sections": [],
      "include_colab_link": true
    },
    "kernelspec": {
      "display_name": "Python 3",
      "language": "python",
      "name": "python3"
    },
    "language_info": {
      "codemirror_mode": {
        "name": "ipython",
        "version": 3
      },
      "file_extension": ".py",
      "mimetype": "text/x-python",
      "name": "python",
      "nbconvert_exporter": "python",
      "pygments_lexer": "ipython3",
      "version": "3.6.8"
    },
    "toc": {
      "base_numbering": 1,
      "nav_menu": {},
      "number_sections": false,
      "sideBar": true,
      "skip_h1_title": false,
      "title_cell": "Table of Contents",
      "title_sidebar": "Contents",
      "toc_cell": false,
      "toc_position": {},
      "toc_section_display": true,
      "toc_window_display": true
    }
  },
  "cells": [
    {
      "cell_type": "markdown",
      "metadata": {
        "id": "view-in-github",
        "colab_type": "text"
      },
      "source": [
        "<a href=\"https://colab.research.google.com/github/demelere/CNNs-for-Computer-Vision/blob/master/458_Assignment_2.ipynb\" target=\"_parent\"><img src=\"https://colab.research.google.com/assets/colab-badge.svg\" alt=\"Open In Colab\"/></a>"
      ]
    },
    {
      "cell_type": "markdown",
      "metadata": {
        "colab_type": "text",
        "id": "ahuunsCJXXFx"
      },
      "source": [
        "# Overview\n",
        "\n",
        "Model | Loss | Accuracy | Val Loss | Val Accuracy | Training | Testing\n",
        "--- | --- | --- | --- | --- | --- | --- \n",
        "DNN (2 layers no dropout) | Row 1, Col 2 | \n",
        "DNN (3 layers no dropout) | Row 2, Col 2 |\n",
        "CNN (2 layers no dropout) | Row 2, Col 2 |\n",
        "CNN (2 layers no dropout) | Row 2, Col 2 |\n",
        "\n",
        "Model | Loss | Accuracy | Val Loss | Val Accuracy | Training | Testing\n",
        "--- | --- | --- | --- | --- | --- | --- \n",
        "DNN (2 layers w/dropout) | Row 1, Col 2 | \n",
        "DNN (3 layers w/dropout) | Row 2, Col 2 |\n",
        "CNN (2 layers w/dropout) | Row 2, Col 2 |\n",
        "CNN (2 layers w/dropout) | Row 2, Col 2 |\n",
        "\n",
        "Parameters for all models: \n",
        "* Batch size = 100\n",
        "* Epochs = 20\n",
        "* Loss function = sparse categorical cross-entropy\n",
        "* Optimizer = Adam"
      ]
    },
    {
      "cell_type": "markdown",
      "metadata": {
        "colab_type": "text",
        "id": "FbTDtmJlXXFy"
      },
      "source": [
        "# A. Setup and Import"
      ]
    },
    {
      "cell_type": "code",
      "metadata": {
        "colab_type": "code",
        "id": "HAXsecMAXXF0",
        "colab": {}
      },
      "source": [
        "# Import dependencies\n",
        "import numpy as np\n",
        "import pandas as pd\n",
        "import os\n",
        "from collections import Counter\n",
        "import datetime\n",
        "\n",
        "import tensorflow as tf\n",
        "from tensorflow import keras\n",
        "from tensorflow.keras import models\n",
        "from tensorflow.keras import layers\n",
        "from tensorflow.keras import optimizers\n",
        "from tensorflow.keras import regularizers\n",
        "from tensorflow.keras.preprocessing.image import ImageDataGenerator\n",
        "from tensorflow.keras.preprocessing import image\n",
        "\n",
        "%matplotlib inline\n",
        "import matplotlib.pyplot as plt\n",
        "import seaborn as sns"
      ],
      "execution_count": 328,
      "outputs": []
    },
    {
      "cell_type": "code",
      "metadata": {
        "colab_type": "code",
        "id": "LYCZ3TV_XXGB",
        "colab": {}
      },
      "source": [
        "# check Keras version\n",
        "keras.__version__\n",
        "\n",
        "# check tensorflow version\n",
        "tf.__version__\n",
        "\n",
        "# set seed\n",
        "keras.backend.clear_session()\n",
        "np.random.seed(42)\n",
        "tf.random.set_seed(42)"
      ],
      "execution_count": 329,
      "outputs": []
    },
    {
      "cell_type": "code",
      "metadata": {
        "colab_type": "code",
        "id": "jNeB1k8tXXGY",
        "colab": {
          "base_uri": "https://localhost:8080/",
          "height": 54
        },
        "outputId": "7656f502-f786-4722-9bb8-7068d7194651"
      },
      "source": [
        "from google.colab import drive\n",
        "drive.mount('/content/gdrive')"
      ],
      "execution_count": 330,
      "outputs": [
        {
          "output_type": "stream",
          "text": [
            "Drive already mounted at /content/gdrive; to attempt to forcibly remount, call drive.mount(\"/content/gdrive\", force_remount=True).\n"
          ],
          "name": "stdout"
        }
      ]
    },
    {
      "cell_type": "code",
      "metadata": {
        "colab_type": "code",
        "id": "-sSk6UJcXXGg",
        "colab": {}
      },
      "source": [
        "# Saving in Colab\n",
        "# os.getcwd()\n",
        "# %cd /content/gdrive/My\\ Drive/MSDS458/weekfive\n",
        "# !pwd\n",
        "# !ls\n",
        "# print('Working Directory')\n",
        "# print(os.getcwd())\n",
        "# work_dir = \"content/gdrive/My Drive/MSDS458/weekfive\"\n",
        "# chp_id = \"ann\""
      ],
      "execution_count": 331,
      "outputs": []
    },
    {
      "cell_type": "markdown",
      "metadata": {
        "colab_type": "text",
        "id": "6pR2s38pXXGm"
      },
      "source": [
        "## A.1 Import data"
      ]
    },
    {
      "cell_type": "code",
      "metadata": {
        "colab_type": "code",
        "id": "49o4f6jiXXGm",
        "colab": {
          "base_uri": "https://localhost:8080/",
          "height": 34
        },
        "outputId": "558af27e-93e7-4438-f5bd-c862c216c505"
      },
      "source": [
        "from tensorflow.keras.datasets import fashion_mnist\n",
        "(train_images, train_labels), (test_images, test_labels) = fashion_mnist.load_data()\n",
        "train_images.shape, test_images.shape, test_labels.shape, test_labels.shape"
      ],
      "execution_count": 332,
      "outputs": [
        {
          "output_type": "execute_result",
          "data": {
            "text/plain": [
              "((60000, 28, 28), (10000, 28, 28), (10000,), (10000,))"
            ]
          },
          "metadata": {
            "tags": []
          },
          "execution_count": 332
        }
      ]
    },
    {
      "cell_type": "code",
      "metadata": {
        "colab_type": "code",
        "id": "74rhoyr5XXGs",
        "colab": {
          "base_uri": "https://localhost:8080/",
          "height": 187
        },
        "outputId": "516354da-2755-4ce8-8318-7c36aeb91598"
      },
      "source": [
        "# training labels are integers btw/0 and 9, and correspond to different articles of clothing\n",
        "Counter(train_labels).most_common()"
      ],
      "execution_count": 333,
      "outputs": [
        {
          "output_type": "execute_result",
          "data": {
            "text/plain": [
              "[(9, 6000),\n",
              " (0, 6000),\n",
              " (3, 6000),\n",
              " (2, 6000),\n",
              " (7, 6000),\n",
              " (5, 6000),\n",
              " (1, 6000),\n",
              " (6, 6000),\n",
              " (4, 6000),\n",
              " (8, 6000)]"
            ]
          },
          "metadata": {
            "tags": []
          },
          "execution_count": 333
        }
      ]
    },
    {
      "cell_type": "code",
      "metadata": {
        "colab_type": "code",
        "id": "_2dOESWUXXGx",
        "colab": {}
      },
      "source": [
        "class_names = ['T-shirt/top', 'Trouser', 'Pullover', 'Dress', 'Coat',\n",
        "               'Sandal', 'Shirt', 'Sneaker', 'Bag', 'Ankle boot']"
      ],
      "execution_count": 334,
      "outputs": []
    },
    {
      "cell_type": "code",
      "metadata": {
        "id": "noB62aIUYGT2",
        "colab_type": "code",
        "colab": {
          "base_uri": "https://localhost:8080/",
          "height": 1000
        },
        "outputId": "6fec8727-f556-4020-beaf-750e4796d267"
      },
      "source": [
        "for i in range (9):\n",
        "  plt.imshow(train_images[i], cmap=\"binary\") \n",
        "  plt.axis('off')\n",
        "  plt.title(class_names[test_labels[i]], fontsize=12)\n",
        "  plt.show()"
      ],
      "execution_count": 335,
      "outputs": [
        {
          "output_type": "display_data",
          "data": {
            "image/png": "[encoded data removed]",
            "text/plain": [
              "<Figure size 432x288 with 1 Axes>"
            ]
          },
          "metadata": {
            "tags": [],
            "needs_background": "light"
          }
        },
        {
          "output_type": "display_data",
          "data": {
            "image/png": "[encoded data removed]",
            "text/plain": [
              "<Figure size 432x288 with 1 Axes>"
            ]
          },
          "metadata": {
            "tags": [],
            "needs_background": "light"
          }
        },
        {
          "output_type": "display_data",
          "data": {
            "image/png": "[encoded data removed]",
            "text/plain": [
              "<Figure size 432x288 with 1 Axes>"
            ]
          },
          "metadata": {
            "tags": [],
            "needs_background": "light"
          }
        },
        {
          "output_type": "display_data",
          "data": {
            "image/png": "[encoded data removed]",
            "text/plain": [
              "<Figure size 432x288 with 1 Axes>"
            ]
          },
          "metadata": {
            "tags": [],
            "needs_background": "light"
          }
        },
        {
          "output_type": "display_data",
          "data": {
            "image/png": "[encoded data removed]",
            "text/plain": [
              "<Figure size 432x288 with 1 Axes>"
            ]
          },
          "metadata": {
            "tags": [],
            "needs_background": "light"
          }
        },
        {
          "output_type": "display_data",
          "data": {
            "image/png": "[encoded data removed]",
            "text/plain": [
              "<Figure size 432x288 with 1 Axes>"
            ]
          },
          "metadata": {
            "tags": [],
            "needs_background": "light"
          }
        },
        {
          "output_type": "display_data",
          "data": {
            "image/png": "[encoded data removed]",
            "text/plain": [
              "<Figure size 432x288 with 1 Axes>"
            ]
          },
          "metadata": {
            "tags": [],
            "needs_background": "light"
          }
        },
        {
          "output_type": "display_data",
          "data": {
            "image/png": "[encoded data removed]",
            "text/plain": [
              "<Figure size 432x288 with 1 Axes>"
            ]
          },
          "metadata": {
            "tags": [],
            "needs_background": "light"
          }
        },
        {
          "output_type": "display_data",
          "data": {
            "image/png": "[encoded data removed]",
            "text/plain": [
              "<Figure size 432x288 with 1 Axes>"
            ]
          },
          "metadata": {
            "tags": [],
            "needs_background": "light"
          }
        }
      ]
    },
    {
      "cell_type": "markdown",
      "metadata": {
        "colab_type": "text",
        "id": "391ZFdRzXXHD"
      },
      "source": [
        "## A.2 Data Cleaning and Transformation"
      ]
    },
    {
      "cell_type": "code",
      "metadata": {
        "colab_type": "code",
        "id": "3P5LUQiEXXHD",
        "colab": {}
      },
      "source": [
        "# Reshape the data into the right format for model (float32 array w/shape 60000, 28*28 and values btw/ 0 and 1).\n",
        "#train_images = train_images.reshape((60000, 28 * 28))  # Decided instead to use a Flatten layer in the model\n",
        "train_images = train_images.astype('float32') / 255\n",
        "\n",
        "#test_images = test_images.reshape((10000, 28 * 28))  # Decided instead to use a Flatten layer in the model\n",
        "test_images = test_images.astype('float32') / 255"
      ],
      "execution_count": 336,
      "outputs": []
    },
    {
      "cell_type": "code",
      "metadata": {
        "colab_type": "code",
        "id": "eTgoHS6wXXHM",
        "colab": {}
      },
      "source": [
        "# Hold back 5,000 of the 60,000 training images for validation.\n",
        "val_images, train_images = train_images[:5000], train_images[5000:] \n",
        "val_labels, train_labels = train_labels[:5000], train_labels[5000:]"
      ],
      "execution_count": 337,
      "outputs": []
    },
    {
      "cell_type": "code",
      "metadata": {
        "colab_type": "code",
        "id": "wtmDm5WIXXHR",
        "colab": {}
      },
      "source": [
        "# function to help calculate training and test evaluation times\n",
        "class TrainRuntimeCallback(keras.callbacks.Callback):\n",
        "\n",
        "  def on_train_begin(self,logs={}):\n",
        "    self.start = datetime.datetime.now()\n",
        "\n",
        "  def on_train_end(self,logs={}):\n",
        "    self.process_time = (datetime.datetime.now() - self.start).total_seconds()"
      ],
      "execution_count": 338,
      "outputs": []
    },
    {
      "cell_type": "code",
      "metadata": {
        "colab_type": "code",
        "id": "pAQ24bJWXXHW",
        "colab": {}
      },
      "source": [
        "class TestRuntimeCallback(keras.callbacks.Callback):\n",
        "\n",
        "  def on_test_begin(self,logs={}):\n",
        "    self.start = datetime.datetime.now()\n",
        "\n",
        "  def on_test_end(self,logs={}):\n",
        "    self.process_time = (datetime.datetime.now() - self.start).total_seconds()"
      ],
      "execution_count": 339,
      "outputs": []
    },
    {
      "cell_type": "markdown",
      "metadata": {
        "colab_type": "text",
        "id": "0ib-5EmTXXHb"
      },
      "source": [
        "# 1. Experiment 1: Baseline DNN w/2 layers\n",
        "\n",
        "This model will have 784 input nodes.  It will take two dense (fully-connected) layers.  The first (hidden) layer will have 5 nodes, and the second (softmax) layer will have 10 output nodes."
      ]
    },
    {
      "cell_type": "code",
      "metadata": {
        "colab_type": "code",
        "id": "7o2Rq2T4XXHd",
        "colab": {}
      },
      "source": [
        "model_1 = models.Sequential()\n",
        "model_1.add(layers.Flatten(input_shape=[28, 28]))\n",
        "model_1.add(layers.Dense(5, activation='relu'))\n",
        "model_1.add(layers.Dense(10, activation='softmax')) "
      ],
      "execution_count": 340,
      "outputs": []
    },
    {
      "cell_type": "code",
      "metadata": {
        "colab_type": "code",
        "id": "E2zDUJXdXXHg",
        "colab": {
          "base_uri": "https://localhost:8080/",
          "height": 255
        },
        "outputId": "4810633c-03f7-4024-dff7-7710db9e7875"
      },
      "source": [
        "model_1.summary()"
      ],
      "execution_count": 341,
      "outputs": [
        {
          "output_type": "stream",
          "text": [
            "Model: \"sequential\"\n",
            "_________________________________________________________________\n",
            "Layer (type)                 Output Shape              Param #   \n",
            "=================================================================\n",
            "flatten (Flatten)            (None, 784)               0         \n",
            "_________________________________________________________________\n",
            "dense (Dense)                (None, 5)                 3925      \n",
            "_________________________________________________________________\n",
            "dense_1 (Dense)              (None, 10)                60        \n",
            "=================================================================\n",
            "Total params: 3,985\n",
            "Trainable params: 3,985\n",
            "Non-trainable params: 0\n",
            "_________________________________________________________________\n"
          ],
          "name": "stdout"
        }
      ]
    },
    {
      "cell_type": "code",
      "metadata": {
        "colab_type": "code",
        "id": "q5zLkPPMXXHk",
        "colab": {
          "base_uri": "https://localhost:8080/",
          "height": 422
        },
        "outputId": "d0ebb802-d139-4807-e732-46273dcbf92e"
      },
      "source": [
        "keras.utils.plot_model(model_1, show_shapes=True)"
      ],
      "execution_count": 342,
      "outputs": [
        {
          "output_type": "execute_result",
          "data": {
            "image/png": "[encoded data removed]",
            "text/plain": [
              "<IPython.core.display.Image object>"
            ]
          },
          "metadata": {
            "tags": []
          },
          "execution_count": 342
        }
      ]
    },
    {
      "cell_type": "markdown",
      "metadata": {
        "colab_type": "text",
        "id": "XspoH2AZXXHn"
      },
      "source": [
        "## 1A. Model Compilation\n",
        "\n",
        "This step includes an optimizer (how the network updates itself based on the data and the loss function), a loss function (how the network measures how good a job it is doing on the data and adjusts), and metrics (accuracy)."
      ]
    },
    {
      "cell_type": "code",
      "metadata": {
        "colab_type": "code",
        "id": "WIAmczv3XXHo",
        "colab": {}
      },
      "source": [
        "model_1.compile(optimizer='adam',\n",
        "                loss='sparse_categorical_crossentropy',\n",
        "                metrics=['accuracy'])"
      ],
      "execution_count": 343,
      "outputs": []
    },
    {
      "cell_type": "markdown",
      "metadata": {
        "colab_type": "text",
        "id": "-kJgeHo1XXHu"
      },
      "source": [
        "## 1B. Model Training\n",
        "\n",
        "Train model for 20 epochs with batch size 100"
      ]
    },
    {
      "cell_type": "code",
      "metadata": {
        "colab_type": "code",
        "id": "ef3NJp4JXXHu",
        "colab": {
          "base_uri": "https://localhost:8080/",
          "height": 734
        },
        "outputId": "0cb9215a-fd17-4d22-d9d7-f7e69d0ffa31"
      },
      "source": [
        "train_rt = TrainRuntimeCallback()\n",
        "history = model_1.fit(train_images, train_labels, callbacks=[train_rt], epochs=20, batch_size=100,\n",
        "                    validation_data=(val_images, val_labels))\n",
        "\n",
        "# Saving models locally after fitting\n",
        "save_dir = \"results/\"\n",
        "model_name = 'fashion_mnist_model_1.h5'\n",
        "model_path = os.path.join(save_dir, model_name)\n",
        "print('--------------------------')"
      ],
      "execution_count": 344,
      "outputs": [
        {
          "output_type": "stream",
          "text": [
            "Epoch 1/20\n",
            "550/550 [==============================] - 1s 2ms/step - loss: 1.5333 - accuracy: 0.5120 - val_loss: 1.0563 - val_accuracy: 0.7034\n",
            "Epoch 2/20\n",
            "550/550 [==============================] - 1s 2ms/step - loss: 0.8434 - accuracy: 0.7454 - val_loss: 0.6535 - val_accuracy: 0.7846\n",
            "Epoch 3/20\n",
            "550/550 [==============================] - 1s 2ms/step - loss: 0.6183 - accuracy: 0.7958 - val_loss: 0.5835 - val_accuracy: 0.8096\n",
            "Epoch 4/20\n",
            "550/550 [==============================] - 1s 2ms/step - loss: 0.5639 - accuracy: 0.8114 - val_loss: 0.5502 - val_accuracy: 0.8138\n",
            "Epoch 5/20\n",
            "550/550 [==============================] - 1s 2ms/step - loss: 0.5399 - accuracy: 0.8178 - val_loss: 0.5279 - val_accuracy: 0.8230\n",
            "Epoch 6/20\n",
            "550/550 [==============================] - 1s 2ms/step - loss: 0.5250 - accuracy: 0.8205 - val_loss: 0.5145 - val_accuracy: 0.8288\n",
            "Epoch 7/20\n",
            "550/550 [==============================] - 1s 2ms/step - loss: 0.5135 - accuracy: 0.8244 - val_loss: 0.5108 - val_accuracy: 0.8294\n",
            "Epoch 8/20\n",
            "550/550 [==============================] - 1s 2ms/step - loss: 0.5047 - accuracy: 0.8245 - val_loss: 0.5053 - val_accuracy: 0.8282\n",
            "Epoch 9/20\n",
            "550/550 [==============================] - 1s 2ms/step - loss: 0.4980 - accuracy: 0.8274 - val_loss: 0.5042 - val_accuracy: 0.8292\n",
            "Epoch 10/20\n",
            "550/550 [==============================] - 1s 2ms/step - loss: 0.4922 - accuracy: 0.8294 - val_loss: 0.4969 - val_accuracy: 0.8316\n",
            "Epoch 11/20\n",
            "550/550 [==============================] - 1s 2ms/step - loss: 0.4889 - accuracy: 0.8298 - val_loss: 0.4961 - val_accuracy: 0.8316\n",
            "Epoch 12/20\n",
            "550/550 [==============================] - 1s 2ms/step - loss: 0.4847 - accuracy: 0.8309 - val_loss: 0.4964 - val_accuracy: 0.8310\n",
            "Epoch 13/20\n",
            "550/550 [==============================] - 1s 2ms/step - loss: 0.4815 - accuracy: 0.8327 - val_loss: 0.4896 - val_accuracy: 0.8344\n",
            "Epoch 14/20\n",
            "550/550 [==============================] - 1s 2ms/step - loss: 0.4780 - accuracy: 0.8333 - val_loss: 0.4904 - val_accuracy: 0.8338\n",
            "Epoch 15/20\n",
            "550/550 [==============================] - 1s 2ms/step - loss: 0.4750 - accuracy: 0.8344 - val_loss: 0.4850 - val_accuracy: 0.8362\n",
            "Epoch 16/20\n",
            "550/550 [==============================] - 1s 2ms/step - loss: 0.4724 - accuracy: 0.8342 - val_loss: 0.4849 - val_accuracy: 0.8346\n",
            "Epoch 17/20\n",
            "550/550 [==============================] - 1s 2ms/step - loss: 0.4695 - accuracy: 0.8354 - val_loss: 0.4900 - val_accuracy: 0.8330\n",
            "Epoch 18/20\n",
            "550/550 [==============================] - 1s 2ms/step - loss: 0.4670 - accuracy: 0.8373 - val_loss: 0.4860 - val_accuracy: 0.8356\n",
            "Epoch 19/20\n",
            "550/550 [==============================] - 1s 2ms/step - loss: 0.4662 - accuracy: 0.8371 - val_loss: 0.4875 - val_accuracy: 0.8384\n",
            "Epoch 20/20\n",
            "550/550 [==============================] - 1s 2ms/step - loss: 0.4638 - accuracy: 0.8378 - val_loss: 0.4851 - val_accuracy: 0.8342\n",
            "--------------------------\n"
          ],
          "name": "stdout"
        }
      ]
    },
    {
      "cell_type": "code",
      "metadata": {
        "colab_type": "code",
        "id": "-U-ofxckXXHy",
        "colab": {
          "base_uri": "https://localhost:8080/",
          "height": 34
        },
        "outputId": "0c4cb6b5-fc38-4a4e-dad6-5d80de5b9f04"
      },
      "source": [
        "# Get the training time\n",
        "train_time = train_rt.process_time\n",
        "train_time # in seconds"
      ],
      "execution_count": 345,
      "outputs": [
        {
          "output_type": "execute_result",
          "data": {
            "text/plain": [
              "24.588407"
            ]
          },
          "metadata": {
            "tags": []
          },
          "execution_count": 345
        }
      ]
    },
    {
      "cell_type": "code",
      "metadata": {
        "colab_type": "code",
        "id": "gOIPjzQPXXH2",
        "colab": {
          "base_uri": "https://localhost:8080/",
          "height": 221
        },
        "outputId": "45430b90-8606-459a-95fb-e2e98d909f23"
      },
      "source": [
        "model_1.layers[1].weights"
      ],
      "execution_count": 346,
      "outputs": [
        {
          "output_type": "execute_result",
          "data": {
            "text/plain": [
              "[<tf.Variable 'dense/kernel:0' shape=(784, 5) dtype=float32, numpy=\n",
              " array([[-0.08495633, -0.02450575,  0.58677256, -0.18403251, -0.3040384 ],\n",
              "        [-0.1338196 ,  0.01560648,  0.09165894, -0.07803695,  0.00608803],\n",
              "        [ 0.39040834, -0.406651  , -0.47576344, -0.4887887 , -0.10543978],\n",
              "        ...,\n",
              "        [ 0.47443527,  0.41354403,  0.10598994, -0.03145842,  0.23590444],\n",
              "        [ 0.00998973,  0.6004994 , -0.11730618, -0.19239648,  0.39222446],\n",
              "        [ 0.07808972,  0.43139702,  0.21162088, -0.4896957 ,  0.1083212 ]],\n",
              "       dtype=float32)>,\n",
              " <tf.Variable 'dense/bias:0' shape=(5,) dtype=float32, numpy=\n",
              " array([ 1.0045778 ,  0.89614666,  0.67530775,  0.92306286, -0.32683712],\n",
              "       dtype=float32)>]"
            ]
          },
          "metadata": {
            "tags": []
          },
          "execution_count": 346
        }
      ]
    },
    {
      "cell_type": "markdown",
      "metadata": {
        "colab_type": "text",
        "id": "QxUSbTVuXXH8"
      },
      "source": [
        "## 1C. Model Testing\n",
        "\n",
        "Test the model on the test dataset."
      ]
    },
    {
      "cell_type": "code",
      "metadata": {
        "colab_type": "code",
        "id": "bQvx1-KjXXH8",
        "colab": {
          "base_uri": "https://localhost:8080/",
          "height": 34
        },
        "outputId": "f1059f2e-4ed7-4beb-8526-26988e35b162"
      },
      "source": [
        "test_rt = TestRuntimeCallback()\n",
        "test_loss, test_acc = model_1.evaluate(test_images, test_labels, callbacks=[test_rt])"
      ],
      "execution_count": 347,
      "outputs": [
        {
          "output_type": "stream",
          "text": [
            "313/313 [==============================] - 1s 2ms/step - loss: 0.5112 - accuracy: 0.8244\n"
          ],
          "name": "stdout"
        }
      ]
    },
    {
      "cell_type": "code",
      "metadata": {
        "colab_type": "code",
        "id": "X-u1CkZGXXIB",
        "colab": {
          "base_uri": "https://localhost:8080/",
          "height": 34
        },
        "outputId": "46972fba-be67-49e5-dee6-f9505ea26637"
      },
      "source": [
        "# Get the test time\n",
        "test_time = test_rt.process_time\n",
        "test_time # in seconds"
      ],
      "execution_count": 348,
      "outputs": [
        {
          "output_type": "execute_result",
          "data": {
            "text/plain": [
              "0.680281"
            ]
          },
          "metadata": {
            "tags": []
          },
          "execution_count": 348
        }
      ]
    },
    {
      "cell_type": "code",
      "metadata": {
        "colab_type": "code",
        "id": "K0-Rd1biXXIG",
        "colab": {
          "base_uri": "https://localhost:8080/",
          "height": 34
        },
        "outputId": "6c985108-f794-4dca-f4e5-ecd4ca1035cf"
      },
      "source": [
        "history_dict = history.history\n",
        "history_dict.keys()"
      ],
      "execution_count": 349,
      "outputs": [
        {
          "output_type": "execute_result",
          "data": {
            "text/plain": [
              "dict_keys(['loss', 'accuracy', 'val_loss', 'val_accuracy'])"
            ]
          },
          "metadata": {
            "tags": []
          },
          "execution_count": 349
        }
      ]
    },
    {
      "cell_type": "code",
      "metadata": {
        "colab_type": "code",
        "id": "qpeeQDfCXXIJ",
        "colab": {}
      },
      "source": [
        "history_df=pd.DataFrame(history_dict)\n",
        "# history_df.tail()"
      ],
      "execution_count": 350,
      "outputs": []
    },
    {
      "cell_type": "code",
      "metadata": {
        "colab_type": "code",
        "id": "hCjV5Z3eXXIP",
        "colab": {
          "base_uri": "https://localhost:8080/",
          "height": 80
        },
        "outputId": "a576343d-6d53-4bd8-d719-f42cf6623042"
      },
      "source": [
        "# Create a results DataFrame using the last row of history_df\n",
        "results_df = history_df.iloc[-1:].copy()\n",
        "results_df.insert(0,'model','DNN (2 layers)') # went the model name to appear first\n",
        "results_df['training time (sec)'] = train_time      # we are okay with training time appearing last\n",
        "results_df['testing time (sec)'] = test_time      # we are okay with training time appearing last\n",
        "results_df"
      ],
      "execution_count": 351,
      "outputs": [
        {
          "output_type": "execute_result",
          "data": {
            "text/html": [
              "<div>\n",
              "<style scoped>\n",
              "    .dataframe tbody tr th:only-of-type {\n",
              "        vertical-align: middle;\n",
              "    }\n",
              "\n",
              "    .dataframe tbody tr th {\n",
              "        vertical-align: top;\n",
              "    }\n",
              "\n",
              "    .dataframe thead th {\n",
              "        text-align: right;\n",
              "    }\n",
              "</style>\n",
              "<table border=\"1\" class=\"dataframe\">\n",
              "  <thead>\n",
              "    <tr style=\"text-align: right;\">\n",
              "      <th></th>\n",
              "      <th>model</th>\n",
              "      <th>loss</th>\n",
              "      <th>accuracy</th>\n",
              "      <th>val_loss</th>\n",
              "      <th>val_accuracy</th>\n",
              "      <th>training time (sec)</th>\n",
              "      <th>testing time (sec)</th>\n",
              "    </tr>\n",
              "  </thead>\n",
              "  <tbody>\n",
              "    <tr>\n",
              "      <th>19</th>\n",
              "      <td>DNN (2 layers)</td>\n",
              "      <td>0.463785</td>\n",
              "      <td>0.837818</td>\n",
              "      <td>0.485111</td>\n",
              "      <td>0.8342</td>\n",
              "      <td>24.588407</td>\n",
              "      <td>0.680281</td>\n",
              "    </tr>\n",
              "  </tbody>\n",
              "</table>\n",
              "</div>"
            ],
            "text/plain": [
              "             model      loss  ...  training time (sec)  testing time (sec)\n",
              "19  DNN (2 layers)  0.463785  ...            24.588407            0.680281\n",
              "\n",
              "[1 rows x 7 columns]"
            ]
          },
          "metadata": {
            "tags": []
          },
          "execution_count": 351
        }
      ]
    },
    {
      "cell_type": "code",
      "metadata": {
        "id": "vZvTkOJUmnph",
        "colab_type": "code",
        "colab": {}
      },
      "source": [
        "# # Add the new data to results_df\n",
        "# results_df=results_df.append(results_df2,ignore_index=True)\n",
        "# results_df"
      ],
      "execution_count": 352,
      "outputs": []
    },
    {
      "cell_type": "markdown",
      "metadata": {
        "colab_type": "text",
        "id": "dYkGwPfAXXIS"
      },
      "source": [
        "## 1D. Performance"
      ]
    },
    {
      "cell_type": "code",
      "metadata": {
        "colab_type": "code",
        "id": "NbS9aBIoXXIT",
        "colab": {
          "base_uri": "https://localhost:8080/",
          "height": 324
        },
        "outputId": "e57ac306-7d85-4533-ef61-3385bd087dc8"
      },
      "source": [
        "# Plot learning curves for model\n",
        "pd.DataFrame(history.history).plot(figsize=(8, 5))\n",
        "plt.grid(True)\n",
        "plt.gca().set_ylim(0, 1) # set the vertical range to [0-1]\n",
        "plt.show()"
      ],
      "execution_count": 353,
      "outputs": [
        {
          "output_type": "display_data",
          "data": {
            "image/png": "[encoded data removed]",
            "text/plain": [
              "<Figure size 576x360 with 1 Axes>"
            ]
          },
          "metadata": {
            "tags": [],
            "needs_background": "light"
          }
        }
      ]
    },
    {
      "cell_type": "markdown",
      "metadata": {
        "colab_type": "text",
        "id": "8e21diN7XXIX"
      },
      "source": [
        "# 2. Experiment 2: DNN w/3 layers\n",
        "\n",
        "This model will have 784 input nodes.  It will take three dense (fully-connected) layers.  The first (hidden) layer will have 10 nodes, a second hidden layer with 10 nodes, and a third (softmax) layer will have 10 output nodes."
      ]
    },
    {
      "cell_type": "code",
      "metadata": {
        "colab_type": "code",
        "id": "Xgj2iP1tXXIX",
        "colab": {}
      },
      "source": [
        "# Instead of adding the layers one by one, we can pass a list of layers when creating the Sequential mode.\n",
        "model_2 = models.Sequential([\n",
        "    keras.layers.Flatten(input_shape=[28, 28]),\n",
        "    keras.layers.Dense(10, activation=\"relu\"),\n",
        "    keras.layers.Dense(5, activation=\"relu\"),\n",
        "    keras.layers.Dense(10, activation=\"softmax\")\n",
        "])"
      ],
      "execution_count": 354,
      "outputs": []
    },
    {
      "cell_type": "code",
      "metadata": {
        "colab_type": "code",
        "id": "D_EzZBMmXXIZ",
        "colab": {
          "base_uri": "https://localhost:8080/",
          "height": 289
        },
        "outputId": "6c5dbcc4-8d95-4ae7-d950-d6c08c0b9e91"
      },
      "source": [
        "model_2.summary()"
      ],
      "execution_count": 355,
      "outputs": [
        {
          "output_type": "stream",
          "text": [
            "Model: \"sequential_1\"\n",
            "_________________________________________________________________\n",
            "Layer (type)                 Output Shape              Param #   \n",
            "=================================================================\n",
            "flatten_1 (Flatten)          (None, 784)               0         \n",
            "_________________________________________________________________\n",
            "dense_2 (Dense)              (None, 10)                7850      \n",
            "_________________________________________________________________\n",
            "dense_3 (Dense)              (None, 5)                 55        \n",
            "_________________________________________________________________\n",
            "dense_4 (Dense)              (None, 10)                60        \n",
            "=================================================================\n",
            "Total params: 7,965\n",
            "Trainable params: 7,965\n",
            "Non-trainable params: 0\n",
            "_________________________________________________________________\n"
          ],
          "name": "stdout"
        }
      ]
    },
    {
      "cell_type": "code",
      "metadata": {
        "colab_type": "code",
        "id": "oGn5XRXLXXId",
        "colab": {
          "base_uri": "https://localhost:8080/",
          "height": 533
        },
        "outputId": "13c37540-0ef9-416d-d192-7bb6b71462c9"
      },
      "source": [
        "keras.utils.plot_model(model_2, show_shapes=True)"
      ],
      "execution_count": 356,
      "outputs": [
        {
          "output_type": "execute_result",
          "data": {
            "image/png": "[encoded data removed]",
            "text/plain": [
              "<IPython.core.display.Image object>"
            ]
          },
          "metadata": {
            "tags": []
          },
          "execution_count": 356
        }
      ]
    },
    {
      "cell_type": "markdown",
      "metadata": {
        "colab_type": "text",
        "id": "biMa0SaBXXIg"
      },
      "source": [
        "## 2A. Model Compilation"
      ]
    },
    {
      "cell_type": "code",
      "metadata": {
        "colab_type": "code",
        "id": "Gkvx5x-0XXIg",
        "colab": {}
      },
      "source": [
        "model_2.compile(optimizer='adam',\n",
        "                loss='sparse_categorical_crossentropy',\n",
        "                metrics=['accuracy'])"
      ],
      "execution_count": 357,
      "outputs": []
    },
    {
      "cell_type": "markdown",
      "metadata": {
        "colab_type": "text",
        "id": "DS7SkccpXXIk"
      },
      "source": [
        "## 2B. Model Training\n"
      ]
    },
    {
      "cell_type": "code",
      "metadata": {
        "colab_type": "code",
        "id": "-Arbr0FKXXIk",
        "colab": {
          "base_uri": "https://localhost:8080/",
          "height": 734
        },
        "outputId": "f81d4e47-fe35-4cf0-8983-e58f062bcb67"
      },
      "source": [
        "train_rt = TrainRuntimeCallback()\n",
        "history = model_2.fit(train_images, train_labels, callbacks=[train_rt], epochs=20, batch_size = 100,\n",
        "                    validation_data=(val_images, val_labels))\n",
        "\n",
        "# Saving models locally after fitting\n",
        "save_dir = \"results/\"\n",
        "model_name = 'fashion_mnist_model_2.h5'\n",
        "model_path = os.path.join(save_dir, model_name)\n",
        "print('--------------------------')"
      ],
      "execution_count": 358,
      "outputs": [
        {
          "output_type": "stream",
          "text": [
            "Epoch 1/20\n",
            "550/550 [==============================] - 1s 2ms/step - loss: 1.0934 - accuracy: 0.6273 - val_loss: 0.6276 - val_accuracy: 0.7880\n",
            "Epoch 2/20\n",
            "550/550 [==============================] - 1s 2ms/step - loss: 0.5943 - accuracy: 0.7963 - val_loss: 0.5267 - val_accuracy: 0.8194\n",
            "Epoch 3/20\n",
            "550/550 [==============================] - 1s 2ms/step - loss: 0.5254 - accuracy: 0.8206 - val_loss: 0.5050 - val_accuracy: 0.8320\n",
            "Epoch 4/20\n",
            "550/550 [==============================] - 1s 2ms/step - loss: 0.4917 - accuracy: 0.8315 - val_loss: 0.4757 - val_accuracy: 0.8402\n",
            "Epoch 5/20\n",
            "550/550 [==============================] - 1s 2ms/step - loss: 0.4727 - accuracy: 0.8371 - val_loss: 0.4547 - val_accuracy: 0.8458\n",
            "Epoch 6/20\n",
            "550/550 [==============================] - 1s 2ms/step - loss: 0.4590 - accuracy: 0.8415 - val_loss: 0.4435 - val_accuracy: 0.8494\n",
            "Epoch 7/20\n",
            "550/550 [==============================] - 1s 2ms/step - loss: 0.4444 - accuracy: 0.8459 - val_loss: 0.4326 - val_accuracy: 0.8546\n",
            "Epoch 8/20\n",
            "550/550 [==============================] - 1s 2ms/step - loss: 0.4358 - accuracy: 0.8490 - val_loss: 0.4361 - val_accuracy: 0.8552\n",
            "Epoch 9/20\n",
            "550/550 [==============================] - 1s 2ms/step - loss: 0.4267 - accuracy: 0.8520 - val_loss: 0.4309 - val_accuracy: 0.8540\n",
            "Epoch 10/20\n",
            "550/550 [==============================] - 1s 2ms/step - loss: 0.4189 - accuracy: 0.8555 - val_loss: 0.4209 - val_accuracy: 0.8570\n",
            "Epoch 11/20\n",
            "550/550 [==============================] - 1s 2ms/step - loss: 0.4135 - accuracy: 0.8573 - val_loss: 0.4165 - val_accuracy: 0.8630\n",
            "Epoch 12/20\n",
            "550/550 [==============================] - 1s 2ms/step - loss: 0.4103 - accuracy: 0.8583 - val_loss: 0.4095 - val_accuracy: 0.8596\n",
            "Epoch 13/20\n",
            "550/550 [==============================] - 1s 2ms/step - loss: 0.4054 - accuracy: 0.8586 - val_loss: 0.4264 - val_accuracy: 0.8564\n",
            "Epoch 14/20\n",
            "550/550 [==============================] - 1s 2ms/step - loss: 0.4001 - accuracy: 0.8616 - val_loss: 0.4125 - val_accuracy: 0.8626\n",
            "Epoch 15/20\n",
            "550/550 [==============================] - 1s 2ms/step - loss: 0.3989 - accuracy: 0.8626 - val_loss: 0.4095 - val_accuracy: 0.8628\n",
            "Epoch 16/20\n",
            "550/550 [==============================] - 1s 2ms/step - loss: 0.3944 - accuracy: 0.8639 - val_loss: 0.4210 - val_accuracy: 0.8582\n",
            "Epoch 17/20\n",
            "550/550 [==============================] - 1s 2ms/step - loss: 0.3912 - accuracy: 0.8636 - val_loss: 0.4026 - val_accuracy: 0.8682\n",
            "Epoch 18/20\n",
            "550/550 [==============================] - 1s 2ms/step - loss: 0.3885 - accuracy: 0.8655 - val_loss: 0.4005 - val_accuracy: 0.8686\n",
            "Epoch 19/20\n",
            "550/550 [==============================] - 1s 2ms/step - loss: 0.3877 - accuracy: 0.8657 - val_loss: 0.4071 - val_accuracy: 0.8646\n",
            "Epoch 20/20\n",
            "550/550 [==============================] - 1s 2ms/step - loss: 0.3856 - accuracy: 0.8660 - val_loss: 0.4013 - val_accuracy: 0.8648\n",
            "--------------------------\n"
          ],
          "name": "stdout"
        }
      ]
    },
    {
      "cell_type": "code",
      "metadata": {
        "colab_type": "code",
        "id": "99ISKmYHXXIn",
        "colab": {
          "base_uri": "https://localhost:8080/",
          "height": 34
        },
        "outputId": "5a6905fd-5d75-4829-b617-17fca4e2eb1b"
      },
      "source": [
        "# Get the training time\n",
        "train_time = train_rt.process_time\n",
        "train_time # in seconds"
      ],
      "execution_count": 359,
      "outputs": [
        {
          "output_type": "execute_result",
          "data": {
            "text/plain": [
              "25.708726"
            ]
          },
          "metadata": {
            "tags": []
          },
          "execution_count": 359
        }
      ]
    },
    {
      "cell_type": "code",
      "metadata": {
        "colab_type": "code",
        "id": "zswEiZQfXXIp",
        "colab": {
          "base_uri": "https://localhost:8080/",
          "height": 323
        },
        "outputId": "f5374666-db3c-41e4-f788-6278ea2dc79f"
      },
      "source": [
        "model_2.layers[1].weights"
      ],
      "execution_count": 360,
      "outputs": [
        {
          "output_type": "execute_result",
          "data": {
            "text/plain": [
              "[<tf.Variable 'dense_2/kernel:0' shape=(784, 10) dtype=float32, numpy=\n",
              " array([[ 0.49256212,  0.04878264, -0.47940645, ...,  0.28546274,\n",
              "         -0.38828486, -0.02152865],\n",
              "        [ 0.51834637,  0.25312158,  0.5069262 , ..., -0.21221113,\n",
              "         -0.65054923,  0.3423171 ],\n",
              "        [ 0.18238324, -0.15022111, -0.2130859 , ...,  0.2730225 ,\n",
              "         -0.69527596, -0.1994193 ],\n",
              "        ...,\n",
              "        [-0.23606901, -0.13785186,  0.06954492, ..., -0.06773201,\n",
              "          0.23245054,  0.42269322],\n",
              "        [ 0.42236984, -0.7625251 , -0.14763378, ...,  0.2259654 ,\n",
              "          0.2537991 ,  0.16036204],\n",
              "        [ 0.21001178, -0.1154931 , -0.16125624, ...,  0.28574926,\n",
              "         -0.25067627, -0.07645912]], dtype=float32)>,\n",
              " <tf.Variable 'dense_2/bias:0' shape=(10,) dtype=float32, numpy=\n",
              " array([ 0.337356  ,  0.40660858, -0.00816519,  0.27010483, -0.31941086,\n",
              "         0.4764742 , -0.01031993, -0.1382693 , -0.25403658,  0.60228467],\n",
              "       dtype=float32)>]"
            ]
          },
          "metadata": {
            "tags": []
          },
          "execution_count": 360
        }
      ]
    },
    {
      "cell_type": "markdown",
      "metadata": {
        "colab_type": "text",
        "id": "UIeql6poXXIt"
      },
      "source": [
        "## 2C. Model Compilation"
      ]
    },
    {
      "cell_type": "code",
      "metadata": {
        "colab_type": "code",
        "id": "2vcjR_gUXXIt",
        "colab": {
          "base_uri": "https://localhost:8080/",
          "height": 34
        },
        "outputId": "cc6ebb1b-6b94-4709-870f-6cae551dc543"
      },
      "source": [
        "test_rt = TestRuntimeCallback()\n",
        "test_loss, test_acc = model_2.evaluate(test_images, test_labels, callbacks=[test_rt])"
      ],
      "execution_count": 361,
      "outputs": [
        {
          "output_type": "stream",
          "text": [
            "313/313 [==============================] - 1s 2ms/step - loss: 0.4404 - accuracy: 0.8490\n"
          ],
          "name": "stdout"
        }
      ]
    },
    {
      "cell_type": "code",
      "metadata": {
        "colab_type": "code",
        "id": "15xn8TpuXXIw",
        "colab": {
          "base_uri": "https://localhost:8080/",
          "height": 34
        },
        "outputId": "3758f850-8e3a-4f1a-c7f5-0deb2d2d5413"
      },
      "source": [
        "# Get the test time\n",
        "test_time = test_rt.process_time\n",
        "test_time # in seconds"
      ],
      "execution_count": 362,
      "outputs": [
        {
          "output_type": "execute_result",
          "data": {
            "text/plain": [
              "0.685052"
            ]
          },
          "metadata": {
            "tags": []
          },
          "execution_count": 362
        }
      ]
    },
    {
      "cell_type": "code",
      "metadata": {
        "colab_type": "code",
        "id": "3r41QL-zXXIy",
        "colab": {
          "base_uri": "https://localhost:8080/",
          "height": 34
        },
        "outputId": "e1cc1bef-f767-4ece-9857-d3e5771260d4"
      },
      "source": [
        "history_dict = history.history\n",
        "history_dict.keys()"
      ],
      "execution_count": 363,
      "outputs": [
        {
          "output_type": "execute_result",
          "data": {
            "text/plain": [
              "dict_keys(['loss', 'accuracy', 'val_loss', 'val_accuracy'])"
            ]
          },
          "metadata": {
            "tags": []
          },
          "execution_count": 363
        }
      ]
    },
    {
      "cell_type": "code",
      "metadata": {
        "colab_type": "code",
        "id": "FjI_bo2iXXI0",
        "colab": {
          "base_uri": "https://localhost:8080/",
          "height": 204
        },
        "outputId": "f11d509f-6c24-48ee-8a8f-400cfe06a67e"
      },
      "source": [
        "history_df=pd.DataFrame(history_dict)\n",
        "history_df.tail()"
      ],
      "execution_count": 364,
      "outputs": [
        {
          "output_type": "execute_result",
          "data": {
            "text/html": [
              "<div>\n",
              "<style scoped>\n",
              "    .dataframe tbody tr th:only-of-type {\n",
              "        vertical-align: middle;\n",
              "    }\n",
              "\n",
              "    .dataframe tbody tr th {\n",
              "        vertical-align: top;\n",
              "    }\n",
              "\n",
              "    .dataframe thead th {\n",
              "        text-align: right;\n",
              "    }\n",
              "</style>\n",
              "<table border=\"1\" class=\"dataframe\">\n",
              "  <thead>\n",
              "    <tr style=\"text-align: right;\">\n",
              "      <th></th>\n",
              "      <th>loss</th>\n",
              "      <th>accuracy</th>\n",
              "      <th>val_loss</th>\n",
              "      <th>val_accuracy</th>\n",
              "    </tr>\n",
              "  </thead>\n",
              "  <tbody>\n",
              "    <tr>\n",
              "      <th>15</th>\n",
              "      <td>0.394387</td>\n",
              "      <td>0.863873</td>\n",
              "      <td>0.421012</td>\n",
              "      <td>0.8582</td>\n",
              "    </tr>\n",
              "    <tr>\n",
              "      <th>16</th>\n",
              "      <td>0.391197</td>\n",
              "      <td>0.863582</td>\n",
              "      <td>0.402562</td>\n",
              "      <td>0.8682</td>\n",
              "    </tr>\n",
              "    <tr>\n",
              "      <th>17</th>\n",
              "      <td>0.388530</td>\n",
              "      <td>0.865491</td>\n",
              "      <td>0.400487</td>\n",
              "      <td>0.8686</td>\n",
              "    </tr>\n",
              "    <tr>\n",
              "      <th>18</th>\n",
              "      <td>0.387732</td>\n",
              "      <td>0.865745</td>\n",
              "      <td>0.407128</td>\n",
              "      <td>0.8646</td>\n",
              "    </tr>\n",
              "    <tr>\n",
              "      <th>19</th>\n",
              "      <td>0.385630</td>\n",
              "      <td>0.865982</td>\n",
              "      <td>0.401313</td>\n",
              "      <td>0.8648</td>\n",
              "    </tr>\n",
              "  </tbody>\n",
              "</table>\n",
              "</div>"
            ],
            "text/plain": [
              "        loss  accuracy  val_loss  val_accuracy\n",
              "15  0.394387  0.863873  0.421012        0.8582\n",
              "16  0.391197  0.863582  0.402562        0.8682\n",
              "17  0.388530  0.865491  0.400487        0.8686\n",
              "18  0.387732  0.865745  0.407128        0.8646\n",
              "19  0.385630  0.865982  0.401313        0.8648"
            ]
          },
          "metadata": {
            "tags": []
          },
          "execution_count": 364
        }
      ]
    },
    {
      "cell_type": "code",
      "metadata": {
        "colab_type": "code",
        "id": "zTWCTjJlXXI3",
        "colab": {
          "base_uri": "https://localhost:8080/",
          "height": 80
        },
        "outputId": "3bb06ec5-a83d-4cd2-f48f-01de28a9ddbd"
      },
      "source": [
        "history_dict = history.history\n",
        "history_df=pd.DataFrame(history_dict)\n",
        "results_df2 = history_df.iloc[-1:].copy()\n",
        "results_df2.insert(0,'model','DNN (3 layers)') # went the model name to appear first\n",
        "results_df2['training time (sec)'] = train_time      # we are okay with training time appearing last\n",
        "results_df2['testing time (sec)'] = test_time      # we are okay with training time appearing last\n",
        "results_df2"
      ],
      "execution_count": 365,
      "outputs": [
        {
          "output_type": "execute_result",
          "data": {
            "text/html": [
              "<div>\n",
              "<style scoped>\n",
              "    .dataframe tbody tr th:only-of-type {\n",
              "        vertical-align: middle;\n",
              "    }\n",
              "\n",
              "    .dataframe tbody tr th {\n",
              "        vertical-align: top;\n",
              "    }\n",
              "\n",
              "    .dataframe thead th {\n",
              "        text-align: right;\n",
              "    }\n",
              "</style>\n",
              "<table border=\"1\" class=\"dataframe\">\n",
              "  <thead>\n",
              "    <tr style=\"text-align: right;\">\n",
              "      <th></th>\n",
              "      <th>model</th>\n",
              "      <th>loss</th>\n",
              "      <th>accuracy</th>\n",
              "      <th>val_loss</th>\n",
              "      <th>val_accuracy</th>\n",
              "      <th>training time (sec)</th>\n",
              "      <th>testing time (sec)</th>\n",
              "    </tr>\n",
              "  </thead>\n",
              "  <tbody>\n",
              "    <tr>\n",
              "      <th>19</th>\n",
              "      <td>DNN (3 layers)</td>\n",
              "      <td>0.38563</td>\n",
              "      <td>0.865982</td>\n",
              "      <td>0.401313</td>\n",
              "      <td>0.8648</td>\n",
              "      <td>25.708726</td>\n",
              "      <td>0.685052</td>\n",
              "    </tr>\n",
              "  </tbody>\n",
              "</table>\n",
              "</div>"
            ],
            "text/plain": [
              "             model     loss  ...  training time (sec)  testing time (sec)\n",
              "19  DNN (3 layers)  0.38563  ...            25.708726            0.685052\n",
              "\n",
              "[1 rows x 7 columns]"
            ]
          },
          "metadata": {
            "tags": []
          },
          "execution_count": 365
        }
      ]
    },
    {
      "cell_type": "code",
      "metadata": {
        "colab_type": "code",
        "id": "c0MqqNx_XXI5",
        "colab": {}
      },
      "source": [
        "# # Add the new data to results_df\n",
        "# results_df=results_df.append(results_df2,ignore_index=True)\n",
        "# results_df"
      ],
      "execution_count": 366,
      "outputs": []
    },
    {
      "cell_type": "markdown",
      "metadata": {
        "colab_type": "text",
        "id": "QCCDKCbyXXJD"
      },
      "source": [
        "## 2D. Performance"
      ]
    },
    {
      "cell_type": "code",
      "metadata": {
        "colab_type": "code",
        "id": "Blw7e4dHXXJD",
        "colab": {
          "base_uri": "https://localhost:8080/",
          "height": 324
        },
        "outputId": "383b0168-d444-44c9-948f-1ccd935ad4f8"
      },
      "source": [
        "# Plot learning curves for model\n",
        "pd.DataFrame(history.history).plot(figsize=(8, 5))\n",
        "plt.grid(True)\n",
        "plt.gca().set_ylim(0, 1) # set the vertical range to [0-1]\n",
        "plt.show()"
      ],
      "execution_count": 367,
      "outputs": [
        {
          "output_type": "display_data",
          "data": {
            "image/png": "[encoded data removed]",
            "text/plain": [
              "<Figure size 576x360 with 1 Axes>"
            ]
          },
          "metadata": {
            "tags": [],
            "needs_background": "light"
          }
        }
      ]
    },
    {
      "cell_type": "markdown",
      "metadata": {
        "colab_type": "text",
        "id": "LHiKBhVRXXJG"
      },
      "source": [
        "# 3. Experiment 3: CNN w/2 layers\n",
        "\n",
        "This model will have 2 layers, each consisting of a convolution layer and a max pooling layer.  The second layer will return an array of 10 probability scores."
      ]
    },
    {
      "cell_type": "code",
      "metadata": {
        "colab_type": "code",
        "id": "TA7Tj7DCXXJG",
        "colab": {
          "base_uri": "https://localhost:8080/",
          "height": 34
        },
        "outputId": "de786354-2101-4c31-fe10-b0747e2c8d21"
      },
      "source": [
        "# Data re-import and preparation\n",
        "from tensorflow.keras.datasets import fashion_mnist\n",
        "\n",
        "(train_images, train_labels), (test_images, test_labels) = fashion_mnist.load_data()\n",
        "train_images.shape, test_images.shape, test_labels.shape, test_labels.shape"
      ],
      "execution_count": 368,
      "outputs": [
        {
          "output_type": "execute_result",
          "data": {
            "text/plain": [
              "((60000, 28, 28), (10000, 28, 28), (10000,), (10000,))"
            ]
          },
          "metadata": {
            "tags": []
          },
          "execution_count": 368
        }
      ]
    },
    {
      "cell_type": "code",
      "metadata": {
        "colab_type": "code",
        "id": "qc99QvPGXXJK",
        "colab": {}
      },
      "source": [
        "# Reshape images and scale\n",
        "train_images = train_images.reshape((60000, 28, 28, 1))\n",
        "train_images = train_images.astype('float32') / 255\n",
        "\n",
        "test_images = test_images.reshape((10000, 28, 28, 1))\n",
        "test_images = test_images.astype('float32') / 255"
      ],
      "execution_count": 369,
      "outputs": []
    },
    {
      "cell_type": "code",
      "metadata": {
        "colab_type": "code",
        "id": "XghNSBjCXXJM",
        "colab": {}
      },
      "source": [
        "# Validation images\n",
        "val_images, train_images = train_images[:5000], train_images[5000:] \n",
        "val_labels, train_labels = train_labels[:5000], train_labels[5000:]"
      ],
      "execution_count": 370,
      "outputs": []
    },
    {
      "cell_type": "code",
      "metadata": {
        "colab_type": "code",
        "id": "RNgqtz7nXXJR",
        "colab": {}
      },
      "source": [
        "model_3a = models.Sequential()\n",
        "model_3a.add(layers.Conv2D(32, (3, 3), activation='relu', input_shape=(28, 28, 1)))\n",
        "model_3a.add(layers.MaxPooling2D((2, 2)))\n",
        "model_3a.add(layers.Conv2D(64, (3, 3), activation='relu'))\n",
        "model_3a.add(layers.MaxPooling2D((2, 2)))\n",
        "model_3a.add(layers.Flatten())\n",
        "model_3a.add(layers.Dense(128, activation='relu'))\n",
        "model_3a.add(layers.Dense(10, activation='softmax'))"
      ],
      "execution_count": 371,
      "outputs": []
    },
    {
      "cell_type": "code",
      "metadata": {
        "colab_type": "code",
        "id": "ffSe2ASNXXJU",
        "colab": {
          "base_uri": "https://localhost:8080/",
          "height": 391
        },
        "outputId": "b24bc87b-4bea-486a-cb9d-753e77fd997c"
      },
      "source": [
        "model_3a.summary()"
      ],
      "execution_count": 372,
      "outputs": [
        {
          "output_type": "stream",
          "text": [
            "Model: \"sequential_2\"\n",
            "_________________________________________________________________\n",
            "Layer (type)                 Output Shape              Param #   \n",
            "=================================================================\n",
            "conv2d (Conv2D)              (None, 26, 26, 32)        320       \n",
            "_________________________________________________________________\n",
            "max_pooling2d (MaxPooling2D) (None, 13, 13, 32)        0         \n",
            "_________________________________________________________________\n",
            "conv2d_1 (Conv2D)            (None, 11, 11, 64)        18496     \n",
            "_________________________________________________________________\n",
            "max_pooling2d_1 (MaxPooling2 (None, 5, 5, 64)          0         \n",
            "_________________________________________________________________\n",
            "flatten_2 (Flatten)          (None, 1600)              0         \n",
            "_________________________________________________________________\n",
            "dense_5 (Dense)              (None, 128)               204928    \n",
            "_________________________________________________________________\n",
            "dense_6 (Dense)              (None, 10)                1290      \n",
            "=================================================================\n",
            "Total params: 225,034\n",
            "Trainable params: 225,034\n",
            "Non-trainable params: 0\n",
            "_________________________________________________________________\n"
          ],
          "name": "stdout"
        }
      ]
    },
    {
      "cell_type": "code",
      "metadata": {
        "colab_type": "code",
        "id": "FrMCJy_RXXJW",
        "colab": {
          "base_uri": "https://localhost:8080/",
          "height": 865
        },
        "outputId": "f28b1639-4267-4381-f40b-ad8b9ff3b9b7"
      },
      "source": [
        "keras.utils.plot_model(model_3a, show_shapes=True)"
      ],
      "execution_count": 373,
      "outputs": [
        {
          "output_type": "execute_result",
          "data": {
            "image/png": "[encoded data removed]",
            "text/plain": [
              "<IPython.core.display.Image object>"
            ]
          },
          "metadata": {
            "tags": []
          },
          "execution_count": 373
        }
      ]
    },
    {
      "cell_type": "markdown",
      "metadata": {
        "colab_type": "text",
        "id": "wn1DaQ7DXXJa"
      },
      "source": [
        "## 3A. Model Compilation"
      ]
    },
    {
      "cell_type": "code",
      "metadata": {
        "colab_type": "code",
        "id": "Kcxkq-g4XXJa",
        "colab": {}
      },
      "source": [
        "model_3a.compile(optimizer='adam',\n",
        "                loss='sparse_categorical_crossentropy',\n",
        "                metrics=['accuracy'])"
      ],
      "execution_count": 374,
      "outputs": []
    },
    {
      "cell_type": "markdown",
      "metadata": {
        "colab_type": "text",
        "id": "6eRuouGpXXJg"
      },
      "source": [
        "## 3B. Model Training"
      ]
    },
    {
      "cell_type": "code",
      "metadata": {
        "colab_type": "code",
        "id": "KO_8HU3FXXJh",
        "colab": {
          "base_uri": "https://localhost:8080/",
          "height": 734
        },
        "outputId": "a919e03d-d7f2-4421-b507-c82270b52535"
      },
      "source": [
        "train_rt = TrainRuntimeCallback()\n",
        "history = model_3a.fit(train_images, train_labels, callbacks=[train_rt], epochs=20, batch_size = 100,\n",
        "                    validation_data=(val_images, val_labels))\n",
        "\n",
        "# Saving models locally after fitting\n",
        "save_dir = \"results/\"\n",
        "model_name = 'fashion_mnist_model_3a.h5'\n",
        "model_path = os.path.join(save_dir, model_name)\n",
        "print('--------------------------')"
      ],
      "execution_count": 375,
      "outputs": [
        {
          "output_type": "stream",
          "text": [
            "Epoch 1/20\n",
            "550/550 [==============================] - 2s 4ms/step - loss: 0.5362 - accuracy: 0.8077 - val_loss: 0.3816 - val_accuracy: 0.8626\n",
            "Epoch 2/20\n",
            "550/550 [==============================] - 2s 3ms/step - loss: 0.3486 - accuracy: 0.8744 - val_loss: 0.3179 - val_accuracy: 0.8862\n",
            "Epoch 3/20\n",
            "550/550 [==============================] - 2s 3ms/step - loss: 0.3023 - accuracy: 0.8899 - val_loss: 0.2914 - val_accuracy: 0.8974\n",
            "Epoch 4/20\n",
            "550/550 [==============================] - 2s 3ms/step - loss: 0.2679 - accuracy: 0.9023 - val_loss: 0.2734 - val_accuracy: 0.9012\n",
            "Epoch 5/20\n",
            "550/550 [==============================] - 2s 3ms/step - loss: 0.2449 - accuracy: 0.9115 - val_loss: 0.2547 - val_accuracy: 0.9090\n",
            "Epoch 6/20\n",
            "550/550 [==============================] - 2s 3ms/step - loss: 0.2255 - accuracy: 0.9187 - val_loss: 0.2484 - val_accuracy: 0.9100\n",
            "Epoch 7/20\n",
            "550/550 [==============================] - 2s 3ms/step - loss: 0.2064 - accuracy: 0.9238 - val_loss: 0.2327 - val_accuracy: 0.9178\n",
            "Epoch 8/20\n",
            "550/550 [==============================] - 2s 3ms/step - loss: 0.1917 - accuracy: 0.9297 - val_loss: 0.2480 - val_accuracy: 0.9086\n",
            "Epoch 9/20\n",
            "550/550 [==============================] - 2s 3ms/step - loss: 0.1766 - accuracy: 0.9346 - val_loss: 0.2351 - val_accuracy: 0.9160\n",
            "Epoch 10/20\n",
            "550/550 [==============================] - 2s 3ms/step - loss: 0.1624 - accuracy: 0.9407 - val_loss: 0.2471 - val_accuracy: 0.9088\n",
            "Epoch 11/20\n",
            "550/550 [==============================] - 2s 3ms/step - loss: 0.1497 - accuracy: 0.9443 - val_loss: 0.2480 - val_accuracy: 0.9140\n",
            "Epoch 12/20\n",
            "550/550 [==============================] - 2s 3ms/step - loss: 0.1391 - accuracy: 0.9490 - val_loss: 0.2370 - val_accuracy: 0.9160\n",
            "Epoch 13/20\n",
            "550/550 [==============================] - 2s 3ms/step - loss: 0.1269 - accuracy: 0.9540 - val_loss: 0.2395 - val_accuracy: 0.9182\n",
            "Epoch 14/20\n",
            "550/550 [==============================] - 2s 3ms/step - loss: 0.1144 - accuracy: 0.9574 - val_loss: 0.2510 - val_accuracy: 0.9122\n",
            "Epoch 15/20\n",
            "550/550 [==============================] - 2s 3ms/step - loss: 0.1041 - accuracy: 0.9623 - val_loss: 0.2651 - val_accuracy: 0.9142\n",
            "Epoch 16/20\n",
            "550/550 [==============================] - 2s 3ms/step - loss: 0.0965 - accuracy: 0.9650 - val_loss: 0.2682 - val_accuracy: 0.9140\n",
            "Epoch 17/20\n",
            "550/550 [==============================] - 2s 3ms/step - loss: 0.0842 - accuracy: 0.9691 - val_loss: 0.2857 - val_accuracy: 0.9142\n",
            "Epoch 18/20\n",
            "550/550 [==============================] - 2s 3ms/step - loss: 0.0755 - accuracy: 0.9728 - val_loss: 0.3130 - val_accuracy: 0.9112\n",
            "Epoch 19/20\n",
            "550/550 [==============================] - 2s 3ms/step - loss: 0.0712 - accuracy: 0.9740 - val_loss: 0.3152 - val_accuracy: 0.9126\n",
            "Epoch 20/20\n",
            "550/550 [==============================] - 2s 3ms/step - loss: 0.0639 - accuracy: 0.9767 - val_loss: 0.3259 - val_accuracy: 0.9112\n",
            "--------------------------\n"
          ],
          "name": "stdout"
        }
      ]
    },
    {
      "cell_type": "code",
      "metadata": {
        "colab_type": "code",
        "id": "h9rxL6FGXXJk",
        "colab": {
          "base_uri": "https://localhost:8080/",
          "height": 34
        },
        "outputId": "36c4511a-227c-4518-d70b-75732fc24f0b"
      },
      "source": [
        "# Get the training time\n",
        "train_time = train_rt.process_time\n",
        "train_time # in seconds"
      ],
      "execution_count": 376,
      "outputs": [
        {
          "output_type": "execute_result",
          "data": {
            "text/plain": [
              "38.238292"
            ]
          },
          "metadata": {
            "tags": []
          },
          "execution_count": 376
        }
      ]
    },
    {
      "cell_type": "markdown",
      "metadata": {
        "colab_type": "text",
        "id": "FT9RLoKSXXJu"
      },
      "source": [
        "## 3C. Model Testing\n",
        "\n",
        "Evaluate the model on the test dataset using a callback to get the total test time."
      ]
    },
    {
      "cell_type": "code",
      "metadata": {
        "colab_type": "code",
        "id": "FQtSuH3ZXXJu",
        "colab": {
          "base_uri": "https://localhost:8080/",
          "height": 34
        },
        "outputId": "3c1c664c-ef57-45d3-80c9-f5ace2e72028"
      },
      "source": [
        "test_rt = TestRuntimeCallback()\n",
        "test_loss, test_acc = model_3a.evaluate(test_images, test_labels, callbacks=[test_rt])"
      ],
      "execution_count": 377,
      "outputs": [
        {
          "output_type": "stream",
          "text": [
            "313/313 [==============================] - 1s 2ms/step - loss: 0.3625 - accuracy: 0.9068\n"
          ],
          "name": "stdout"
        }
      ]
    },
    {
      "cell_type": "code",
      "metadata": {
        "colab_type": "code",
        "id": "LoGKSyr4XXJx",
        "colab": {
          "base_uri": "https://localhost:8080/",
          "height": 34
        },
        "outputId": "0afd5d0f-80ac-4354-f13d-25f991805f73"
      },
      "source": [
        "# Get the test time\n",
        "test_time = test_rt.process_time\n",
        "test_time # in seconds"
      ],
      "execution_count": 378,
      "outputs": [
        {
          "output_type": "execute_result",
          "data": {
            "text/plain": [
              "0.808707"
            ]
          },
          "metadata": {
            "tags": []
          },
          "execution_count": 378
        }
      ]
    },
    {
      "cell_type": "code",
      "metadata": {
        "colab_type": "code",
        "id": "1kFote3tXXJz",
        "colab": {
          "base_uri": "https://localhost:8080/",
          "height": 34
        },
        "outputId": "0d2e4df5-5a75-4e69-b710-13b901399c04"
      },
      "source": [
        "history_dict = history.history\n",
        "history_dict.keys()"
      ],
      "execution_count": 379,
      "outputs": [
        {
          "output_type": "execute_result",
          "data": {
            "text/plain": [
              "dict_keys(['loss', 'accuracy', 'val_loss', 'val_accuracy'])"
            ]
          },
          "metadata": {
            "tags": []
          },
          "execution_count": 379
        }
      ]
    },
    {
      "cell_type": "code",
      "metadata": {
        "colab_type": "code",
        "id": "pBmU9j0OXXJ2",
        "colab": {
          "base_uri": "https://localhost:8080/",
          "height": 204
        },
        "outputId": "b81381c0-4103-4f4b-d254-13b1fa5335bd"
      },
      "source": [
        "history_df=pd.DataFrame(history_dict)\n",
        "history_df.tail()"
      ],
      "execution_count": 380,
      "outputs": [
        {
          "output_type": "execute_result",
          "data": {
            "text/html": [
              "<div>\n",
              "<style scoped>\n",
              "    .dataframe tbody tr th:only-of-type {\n",
              "        vertical-align: middle;\n",
              "    }\n",
              "\n",
              "    .dataframe tbody tr th {\n",
              "        vertical-align: top;\n",
              "    }\n",
              "\n",
              "    .dataframe thead th {\n",
              "        text-align: right;\n",
              "    }\n",
              "</style>\n",
              "<table border=\"1\" class=\"dataframe\">\n",
              "  <thead>\n",
              "    <tr style=\"text-align: right;\">\n",
              "      <th></th>\n",
              "      <th>loss</th>\n",
              "      <th>accuracy</th>\n",
              "      <th>val_loss</th>\n",
              "      <th>val_accuracy</th>\n",
              "    </tr>\n",
              "  </thead>\n",
              "  <tbody>\n",
              "    <tr>\n",
              "      <th>15</th>\n",
              "      <td>0.096507</td>\n",
              "      <td>0.964982</td>\n",
              "      <td>0.268212</td>\n",
              "      <td>0.9140</td>\n",
              "    </tr>\n",
              "    <tr>\n",
              "      <th>16</th>\n",
              "      <td>0.084190</td>\n",
              "      <td>0.969127</td>\n",
              "      <td>0.285734</td>\n",
              "      <td>0.9142</td>\n",
              "    </tr>\n",
              "    <tr>\n",
              "      <th>17</th>\n",
              "      <td>0.075458</td>\n",
              "      <td>0.972800</td>\n",
              "      <td>0.313021</td>\n",
              "      <td>0.9112</td>\n",
              "    </tr>\n",
              "    <tr>\n",
              "      <th>18</th>\n",
              "      <td>0.071152</td>\n",
              "      <td>0.973982</td>\n",
              "      <td>0.315250</td>\n",
              "      <td>0.9126</td>\n",
              "    </tr>\n",
              "    <tr>\n",
              "      <th>19</th>\n",
              "      <td>0.063891</td>\n",
              "      <td>0.976691</td>\n",
              "      <td>0.325891</td>\n",
              "      <td>0.9112</td>\n",
              "    </tr>\n",
              "  </tbody>\n",
              "</table>\n",
              "</div>"
            ],
            "text/plain": [
              "        loss  accuracy  val_loss  val_accuracy\n",
              "15  0.096507  0.964982  0.268212        0.9140\n",
              "16  0.084190  0.969127  0.285734        0.9142\n",
              "17  0.075458  0.972800  0.313021        0.9112\n",
              "18  0.071152  0.973982  0.315250        0.9126\n",
              "19  0.063891  0.976691  0.325891        0.9112"
            ]
          },
          "metadata": {
            "tags": []
          },
          "execution_count": 380
        }
      ]
    },
    {
      "cell_type": "code",
      "metadata": {
        "colab_type": "code",
        "id": "iz58dMJvXXJ3",
        "colab": {
          "base_uri": "https://localhost:8080/",
          "height": 80
        },
        "outputId": "b92c896a-a0da-43a8-8a5e-0b994f2b6cbb"
      },
      "source": [
        "# Pull statistics \n",
        "results_df3a = history_df.iloc[-1:].copy()\n",
        "results_df3a.insert(0,'model','CNN (2 layers)') # want the model name to appear first\n",
        "results_df3a['training time (sec)'] = train_time      # we are okay with training time appearing last\n",
        "results_df3a['testing time (sec)'] = test_time      # we are okay with training time appearing last\n",
        "results_df3a"
      ],
      "execution_count": 381,
      "outputs": [
        {
          "output_type": "execute_result",
          "data": {
            "text/html": [
              "<div>\n",
              "<style scoped>\n",
              "    .dataframe tbody tr th:only-of-type {\n",
              "        vertical-align: middle;\n",
              "    }\n",
              "\n",
              "    .dataframe tbody tr th {\n",
              "        vertical-align: top;\n",
              "    }\n",
              "\n",
              "    .dataframe thead th {\n",
              "        text-align: right;\n",
              "    }\n",
              "</style>\n",
              "<table border=\"1\" class=\"dataframe\">\n",
              "  <thead>\n",
              "    <tr style=\"text-align: right;\">\n",
              "      <th></th>\n",
              "      <th>model</th>\n",
              "      <th>loss</th>\n",
              "      <th>accuracy</th>\n",
              "      <th>val_loss</th>\n",
              "      <th>val_accuracy</th>\n",
              "      <th>training time (sec)</th>\n",
              "      <th>testing time (sec)</th>\n",
              "    </tr>\n",
              "  </thead>\n",
              "  <tbody>\n",
              "    <tr>\n",
              "      <th>19</th>\n",
              "      <td>CNN (2 layers)</td>\n",
              "      <td>0.063891</td>\n",
              "      <td>0.976691</td>\n",
              "      <td>0.325891</td>\n",
              "      <td>0.9112</td>\n",
              "      <td>38.238292</td>\n",
              "      <td>0.808707</td>\n",
              "    </tr>\n",
              "  </tbody>\n",
              "</table>\n",
              "</div>"
            ],
            "text/plain": [
              "             model      loss  ...  training time (sec)  testing time (sec)\n",
              "19  CNN (2 layers)  0.063891  ...            38.238292            0.808707\n",
              "\n",
              "[1 rows x 7 columns]"
            ]
          },
          "metadata": {
            "tags": []
          },
          "execution_count": 381
        }
      ]
    },
    {
      "cell_type": "code",
      "metadata": {
        "colab_type": "code",
        "id": "y87J_fW7XXJ8",
        "scrolled": true,
        "colab": {
          "base_uri": "https://localhost:8080/",
          "height": 324
        },
        "outputId": "cb5ba8d9-b4ec-4edd-dd97-03c84fd0c276"
      },
      "source": [
        "# Plot learning curves for model\n",
        "pd.DataFrame(history.history).plot(figsize=(8, 5))\n",
        "plt.grid(True)\n",
        "plt.gca().set_ylim(0, 1) # set the vertical range to [0-1]\n",
        "plt.show()"
      ],
      "execution_count": 382,
      "outputs": [
        {
          "output_type": "display_data",
          "data": {
            "image/png": "[encoded data removed]",
            "text/plain": [
              "<Figure size 576x360 with 1 Axes>"
            ]
          },
          "metadata": {
            "tags": [],
            "needs_background": "light"
          }
        }
      ]
    },
    {
      "cell_type": "markdown",
      "metadata": {
        "colab_type": "text",
        "id": "Wxudy87WXXME"
      },
      "source": [
        "# 4. Experiment 4: CNN w/3 layers\n",
        "We create a `CNN` with 3 convolution/max pooling layers (**no drop out**) to work with our Fashion MNIST dataset. The experiment compares performance using L2 regularization in the convolutional layers. Image augmentation is not employed."
      ]
    },
    {
      "cell_type": "markdown",
      "metadata": {
        "colab_type": "text",
        "id": "1M4VbwpsXXME"
      },
      "source": [
        "## Model 4a: baseline CNN with 3 layers (no L2 regularization)"
      ]
    },
    {
      "cell_type": "code",
      "metadata": {
        "colab_type": "code",
        "id": "64TXVGxZXXME",
        "colab": {}
      },
      "source": [
        "model_4a = models.Sequential()\n",
        "model_4a.add(layers.Conv2D(32, (3, 3), activation='relu', input_shape=(28, 28, 1)))\n",
        "model_4a.add(layers.MaxPooling2D((2, 2)))\n",
        "model_4a.add(layers.Conv2D(64, (3, 3), activation='relu'))\n",
        "model_4a.add(layers.MaxPooling2D((2, 2)))\n",
        "model_4a.add(layers.Conv2D(64, (3, 3), activation='relu'))\n",
        "model_4a.add(layers.Flatten())\n",
        "model_4a.add(layers.Dense(64, activation='relu'))\n",
        "model_4a.add(layers.Dense(10, activation='softmax'))"
      ],
      "execution_count": 383,
      "outputs": []
    },
    {
      "cell_type": "code",
      "metadata": {
        "colab_type": "code",
        "id": "kv3v7_PHXXMH",
        "colab": {
          "base_uri": "https://localhost:8080/",
          "height": 425
        },
        "outputId": "1bfe6fbb-81b2-4131-8053-ebb949dc8652"
      },
      "source": [
        "model_4a.summary()"
      ],
      "execution_count": 384,
      "outputs": [
        {
          "output_type": "stream",
          "text": [
            "Model: \"sequential_3\"\n",
            "_________________________________________________________________\n",
            "Layer (type)                 Output Shape              Param #   \n",
            "=================================================================\n",
            "conv2d_2 (Conv2D)            (None, 26, 26, 32)        320       \n",
            "_________________________________________________________________\n",
            "max_pooling2d_2 (MaxPooling2 (None, 13, 13, 32)        0         \n",
            "_________________________________________________________________\n",
            "conv2d_3 (Conv2D)            (None, 11, 11, 64)        18496     \n",
            "_________________________________________________________________\n",
            "max_pooling2d_3 (MaxPooling2 (None, 5, 5, 64)          0         \n",
            "_________________________________________________________________\n",
            "conv2d_4 (Conv2D)            (None, 3, 3, 64)          36928     \n",
            "_________________________________________________________________\n",
            "flatten_3 (Flatten)          (None, 576)               0         \n",
            "_________________________________________________________________\n",
            "dense_7 (Dense)              (None, 64)                36928     \n",
            "_________________________________________________________________\n",
            "dense_8 (Dense)              (None, 10)                650       \n",
            "=================================================================\n",
            "Total params: 93,322\n",
            "Trainable params: 93,322\n",
            "Non-trainable params: 0\n",
            "_________________________________________________________________\n"
          ],
          "name": "stdout"
        }
      ]
    },
    {
      "cell_type": "code",
      "metadata": {
        "colab_type": "code",
        "id": "zpCS9HKJXXMI",
        "colab": {
          "base_uri": "https://localhost:8080/",
          "height": 976
        },
        "outputId": "c85b5fc8-e183-4092-a23d-3fb0b5dab5f5"
      },
      "source": [
        "keras.utils.plot_model(model_4a, show_shapes=True)"
      ],
      "execution_count": 385,
      "outputs": [
        {
          "output_type": "execute_result",
          "data": {
            "image/png": "[encoded data removed]",
            "text/plain": [
              "<IPython.core.display.Image object>"
            ]
          },
          "metadata": {
            "tags": []
          },
          "execution_count": 385
        }
      ]
    },
    {
      "cell_type": "markdown",
      "metadata": {
        "colab_type": "text",
        "id": "VqlsBNNmXXMK"
      },
      "source": [
        "## 4A. Model Compilation"
      ]
    },
    {
      "cell_type": "code",
      "metadata": {
        "colab_type": "code",
        "id": "Pv_bFkuIXXMK",
        "colab": {}
      },
      "source": [
        "model_4a.compile(optimizer='adam',\n",
        "                loss='sparse_categorical_crossentropy',\n",
        "                metrics=['accuracy'])"
      ],
      "execution_count": 386,
      "outputs": []
    },
    {
      "cell_type": "markdown",
      "metadata": {
        "colab_type": "text",
        "id": "OF4r3ethXXMM"
      },
      "source": [
        "## 4B. Model Compilation"
      ]
    },
    {
      "cell_type": "code",
      "metadata": {
        "colab_type": "code",
        "id": "59EUkTeBXXMM",
        "colab": {
          "base_uri": "https://localhost:8080/",
          "height": 734
        },
        "outputId": "33a567bd-51d5-42b5-9f46-4b3a0fac14d2"
      },
      "source": [
        "train_rt = TrainRuntimeCallback()\n",
        "history = model_4a.fit(train_images, train_labels, callbacks=[train_rt], epochs=20, batch_size = 100,\n",
        "                    validation_data=(val_images, val_labels))\n",
        "\n",
        "# Saving models locally after fitting\n",
        "save_dir = \"results/\"\n",
        "model_name = 'fashion_mnist_model_4a.h5'\n",
        "model_path = os.path.join(save_dir, model_name)\n",
        "print('--------------------------')"
      ],
      "execution_count": 387,
      "outputs": [
        {
          "output_type": "stream",
          "text": [
            "Epoch 1/20\n",
            "550/550 [==============================] - 2s 4ms/step - loss: 0.5858 - accuracy: 0.7859 - val_loss: 0.3799 - val_accuracy: 0.8686\n",
            "Epoch 2/20\n",
            "550/550 [==============================] - 2s 4ms/step - loss: 0.3641 - accuracy: 0.8671 - val_loss: 0.3218 - val_accuracy: 0.8862\n",
            "Epoch 3/20\n",
            "550/550 [==============================] - 2s 4ms/step - loss: 0.3125 - accuracy: 0.8855 - val_loss: 0.2956 - val_accuracy: 0.8942\n",
            "Epoch 4/20\n",
            "550/550 [==============================] - 2s 4ms/step - loss: 0.2807 - accuracy: 0.8974 - val_loss: 0.2737 - val_accuracy: 0.8976\n",
            "Epoch 5/20\n",
            "550/550 [==============================] - 2s 4ms/step - loss: 0.2567 - accuracy: 0.9056 - val_loss: 0.2613 - val_accuracy: 0.9048\n",
            "Epoch 6/20\n",
            "550/550 [==============================] - 2s 4ms/step - loss: 0.2396 - accuracy: 0.9115 - val_loss: 0.2554 - val_accuracy: 0.9066\n",
            "Epoch 7/20\n",
            "550/550 [==============================] - 2s 4ms/step - loss: 0.2186 - accuracy: 0.9189 - val_loss: 0.2430 - val_accuracy: 0.9078\n",
            "Epoch 8/20\n",
            "550/550 [==============================] - 2s 4ms/step - loss: 0.2039 - accuracy: 0.9248 - val_loss: 0.2518 - val_accuracy: 0.9082\n",
            "Epoch 9/20\n",
            "550/550 [==============================] - 2s 4ms/step - loss: 0.1897 - accuracy: 0.9299 - val_loss: 0.2510 - val_accuracy: 0.9110\n",
            "Epoch 10/20\n",
            "550/550 [==============================] - 2s 4ms/step - loss: 0.1779 - accuracy: 0.9347 - val_loss: 0.2449 - val_accuracy: 0.9138\n",
            "Epoch 11/20\n",
            "550/550 [==============================] - 2s 4ms/step - loss: 0.1656 - accuracy: 0.9389 - val_loss: 0.2457 - val_accuracy: 0.9170\n",
            "Epoch 12/20\n",
            "550/550 [==============================] - 2s 4ms/step - loss: 0.1550 - accuracy: 0.9420 - val_loss: 0.2386 - val_accuracy: 0.9150\n",
            "Epoch 13/20\n",
            "550/550 [==============================] - 2s 4ms/step - loss: 0.1430 - accuracy: 0.9467 - val_loss: 0.2619 - val_accuracy: 0.9150\n",
            "Epoch 14/20\n",
            "550/550 [==============================] - 2s 4ms/step - loss: 0.1299 - accuracy: 0.9513 - val_loss: 0.2650 - val_accuracy: 0.9114\n",
            "Epoch 15/20\n",
            "550/550 [==============================] - 2s 4ms/step - loss: 0.1206 - accuracy: 0.9556 - val_loss: 0.2795 - val_accuracy: 0.9132\n",
            "Epoch 16/20\n",
            "550/550 [==============================] - 2s 4ms/step - loss: 0.1112 - accuracy: 0.9586 - val_loss: 0.2851 - val_accuracy: 0.9148\n",
            "Epoch 17/20\n",
            "550/550 [==============================] - 2s 4ms/step - loss: 0.1012 - accuracy: 0.9623 - val_loss: 0.2866 - val_accuracy: 0.9124\n",
            "Epoch 18/20\n",
            "550/550 [==============================] - 2s 4ms/step - loss: 0.0921 - accuracy: 0.9667 - val_loss: 0.3055 - val_accuracy: 0.9166\n",
            "Epoch 19/20\n",
            "550/550 [==============================] - 2s 4ms/step - loss: 0.0851 - accuracy: 0.9680 - val_loss: 0.3274 - val_accuracy: 0.9122\n",
            "Epoch 20/20\n",
            "550/550 [==============================] - 2s 4ms/step - loss: 0.0800 - accuracy: 0.9699 - val_loss: 0.3330 - val_accuracy: 0.9122\n",
            "--------------------------\n"
          ],
          "name": "stdout"
        }
      ]
    },
    {
      "cell_type": "code",
      "metadata": {
        "colab_type": "code",
        "id": "2yNrUFL4XXMN",
        "colab": {
          "base_uri": "https://localhost:8080/",
          "height": 34
        },
        "outputId": "f04a8dfe-1159-4311-a955-3e6ee0b4fa70"
      },
      "source": [
        "# Get the training time\n",
        "train_time = train_rt.process_time\n",
        "train_time # in seconds"
      ],
      "execution_count": 388,
      "outputs": [
        {
          "output_type": "execute_result",
          "data": {
            "text/plain": [
              "40.20498"
            ]
          },
          "metadata": {
            "tags": []
          },
          "execution_count": 388
        }
      ]
    },
    {
      "cell_type": "markdown",
      "metadata": {
        "colab_type": "text",
        "id": "wVPSu-RvXXMQ"
      },
      "source": [
        "## 4C. Model Testing"
      ]
    },
    {
      "cell_type": "code",
      "metadata": {
        "colab_type": "code",
        "id": "bE_WhzOmXXMQ",
        "colab": {
          "base_uri": "https://localhost:8080/",
          "height": 34
        },
        "outputId": "e99d4062-2d19-4bff-c217-9de0a1e077d7"
      },
      "source": [
        "test_rt = TestRuntimeCallback()\n",
        "test_loss, test_acc = model_4a.evaluate(test_images, test_labels, callbacks=[test_rt])"
      ],
      "execution_count": 389,
      "outputs": [
        {
          "output_type": "stream",
          "text": [
            "313/313 [==============================] - 1s 2ms/step - loss: 0.3606 - accuracy: 0.9039\n"
          ],
          "name": "stdout"
        }
      ]
    },
    {
      "cell_type": "code",
      "metadata": {
        "colab_type": "code",
        "id": "ek023mMVXXMR",
        "colab": {
          "base_uri": "https://localhost:8080/",
          "height": 34
        },
        "outputId": "5fbc8e35-4284-469b-c38c-4993ce0d0625"
      },
      "source": [
        "# Get the test time\n",
        "test_time = test_rt.process_time\n",
        "test_time # in seconds"
      ],
      "execution_count": 390,
      "outputs": [
        {
          "output_type": "execute_result",
          "data": {
            "text/plain": [
              "0.782725"
            ]
          },
          "metadata": {
            "tags": []
          },
          "execution_count": 390
        }
      ]
    },
    {
      "cell_type": "code",
      "metadata": {
        "colab_type": "code",
        "id": "rjWR65BzXXMS",
        "colab": {
          "base_uri": "https://localhost:8080/",
          "height": 34
        },
        "outputId": "0c9ab8f8-5102-4b77-e367-a78445f5e6fc"
      },
      "source": [
        "history_dict = history.history\n",
        "history_dict.keys()"
      ],
      "execution_count": 391,
      "outputs": [
        {
          "output_type": "execute_result",
          "data": {
            "text/plain": [
              "dict_keys(['loss', 'accuracy', 'val_loss', 'val_accuracy'])"
            ]
          },
          "metadata": {
            "tags": []
          },
          "execution_count": 391
        }
      ]
    },
    {
      "cell_type": "code",
      "metadata": {
        "colab_type": "code",
        "id": "H_zfwtbCXXMU",
        "colab": {
          "base_uri": "https://localhost:8080/",
          "height": 204
        },
        "outputId": "dd34898d-e824-41ac-f28f-7bb6179f57a1"
      },
      "source": [
        "history_df=pd.DataFrame(history_dict)\n",
        "history_df.tail()"
      ],
      "execution_count": 392,
      "outputs": [
        {
          "output_type": "execute_result",
          "data": {
            "text/html": [
              "<div>\n",
              "<style scoped>\n",
              "    .dataframe tbody tr th:only-of-type {\n",
              "        vertical-align: middle;\n",
              "    }\n",
              "\n",
              "    .dataframe tbody tr th {\n",
              "        vertical-align: top;\n",
              "    }\n",
              "\n",
              "    .dataframe thead th {\n",
              "        text-align: right;\n",
              "    }\n",
              "</style>\n",
              "<table border=\"1\" class=\"dataframe\">\n",
              "  <thead>\n",
              "    <tr style=\"text-align: right;\">\n",
              "      <th></th>\n",
              "      <th>loss</th>\n",
              "      <th>accuracy</th>\n",
              "      <th>val_loss</th>\n",
              "      <th>val_accuracy</th>\n",
              "    </tr>\n",
              "  </thead>\n",
              "  <tbody>\n",
              "    <tr>\n",
              "      <th>15</th>\n",
              "      <td>0.111249</td>\n",
              "      <td>0.958618</td>\n",
              "      <td>0.285093</td>\n",
              "      <td>0.9148</td>\n",
              "    </tr>\n",
              "    <tr>\n",
              "      <th>16</th>\n",
              "      <td>0.101234</td>\n",
              "      <td>0.962273</td>\n",
              "      <td>0.286589</td>\n",
              "      <td>0.9124</td>\n",
              "    </tr>\n",
              "    <tr>\n",
              "      <th>17</th>\n",
              "      <td>0.092144</td>\n",
              "      <td>0.966655</td>\n",
              "      <td>0.305521</td>\n",
              "      <td>0.9166</td>\n",
              "    </tr>\n",
              "    <tr>\n",
              "      <th>18</th>\n",
              "      <td>0.085094</td>\n",
              "      <td>0.968036</td>\n",
              "      <td>0.327381</td>\n",
              "      <td>0.9122</td>\n",
              "    </tr>\n",
              "    <tr>\n",
              "      <th>19</th>\n",
              "      <td>0.080035</td>\n",
              "      <td>0.969855</td>\n",
              "      <td>0.333014</td>\n",
              "      <td>0.9122</td>\n",
              "    </tr>\n",
              "  </tbody>\n",
              "</table>\n",
              "</div>"
            ],
            "text/plain": [
              "        loss  accuracy  val_loss  val_accuracy\n",
              "15  0.111249  0.958618  0.285093        0.9148\n",
              "16  0.101234  0.962273  0.286589        0.9124\n",
              "17  0.092144  0.966655  0.305521        0.9166\n",
              "18  0.085094  0.968036  0.327381        0.9122\n",
              "19  0.080035  0.969855  0.333014        0.9122"
            ]
          },
          "metadata": {
            "tags": []
          },
          "execution_count": 392
        }
      ]
    },
    {
      "cell_type": "code",
      "metadata": {
        "colab_type": "code",
        "id": "lGfL12J_XXMV",
        "colab": {
          "base_uri": "https://localhost:8080/",
          "height": 80
        },
        "outputId": "45efb62d-f968-42a9-8562-407715f594e2"
      },
      "source": [
        "# Pull statistics \n",
        "# Pull statistics \n",
        "results_df4a = history_df.iloc[-1:].copy()\n",
        "results_df4a.insert(0,'model','CNN (3 layers)') # want the model name to appear first\n",
        "results_df4a['training time (sec)'] = train_time      # we are okay with training time appearing last\n",
        "results_df4a['testing time (sec)'] = test_time      # we are okay with training time appearing last\n",
        "results_df4a"
      ],
      "execution_count": 393,
      "outputs": [
        {
          "output_type": "execute_result",
          "data": {
            "text/html": [
              "<div>\n",
              "<style scoped>\n",
              "    .dataframe tbody tr th:only-of-type {\n",
              "        vertical-align: middle;\n",
              "    }\n",
              "\n",
              "    .dataframe tbody tr th {\n",
              "        vertical-align: top;\n",
              "    }\n",
              "\n",
              "    .dataframe thead th {\n",
              "        text-align: right;\n",
              "    }\n",
              "</style>\n",
              "<table border=\"1\" class=\"dataframe\">\n",
              "  <thead>\n",
              "    <tr style=\"text-align: right;\">\n",
              "      <th></th>\n",
              "      <th>model</th>\n",
              "      <th>loss</th>\n",
              "      <th>accuracy</th>\n",
              "      <th>val_loss</th>\n",
              "      <th>val_accuracy</th>\n",
              "      <th>training time (sec)</th>\n",
              "      <th>testing time (sec)</th>\n",
              "    </tr>\n",
              "  </thead>\n",
              "  <tbody>\n",
              "    <tr>\n",
              "      <th>19</th>\n",
              "      <td>CNN (3 layers)</td>\n",
              "      <td>0.080035</td>\n",
              "      <td>0.969855</td>\n",
              "      <td>0.333014</td>\n",
              "      <td>0.9122</td>\n",
              "      <td>40.20498</td>\n",
              "      <td>0.782725</td>\n",
              "    </tr>\n",
              "  </tbody>\n",
              "</table>\n",
              "</div>"
            ],
            "text/plain": [
              "             model      loss  ...  training time (sec)  testing time (sec)\n",
              "19  CNN (3 layers)  0.080035  ...             40.20498            0.782725\n",
              "\n",
              "[1 rows x 7 columns]"
            ]
          },
          "metadata": {
            "tags": []
          },
          "execution_count": 393
        }
      ]
    },
    {
      "cell_type": "code",
      "metadata": {
        "colab_type": "code",
        "id": "a6IwTC56XXMY",
        "colab": {}
      },
      "source": [
        "# Combine with previous results\n",
        "# prev_results_df = pd.read_pickle('results.pkl')\n",
        "# results_df = results_df.append(results_df3a,ignore_index=True)\n",
        "# results_df = results_df.append(results_df3b,ignore_index=True)\n",
        "# results_df"
      ],
      "execution_count": 394,
      "outputs": []
    },
    {
      "cell_type": "markdown",
      "metadata": {
        "colab_type": "text",
        "id": "ubtMBYSFXXMa"
      },
      "source": [
        "## Plot the performance "
      ]
    },
    {
      "cell_type": "code",
      "metadata": {
        "colab_type": "code",
        "id": "vco4rEt_XXMa",
        "scrolled": true,
        "colab": {
          "base_uri": "https://localhost:8080/",
          "height": 324
        },
        "outputId": "de95ed21-aa1f-4927-cc15-b4e54d4454a3"
      },
      "source": [
        "# Plot learning curves for model\n",
        "pd.DataFrame(history.history).plot(figsize=(8, 5))\n",
        "plt.grid(True)\n",
        "plt.gca().set_ylim(0, 1) # set the vertical range to [0-1]\n",
        "plt.show()"
      ],
      "execution_count": 395,
      "outputs": [
        {
          "output_type": "display_data",
          "data": {
            "image/png": "[encoded data removed]",
            "text/plain": [
              "<Figure size 576x360 with 1 Axes>"
            ]
          },
          "metadata": {
            "tags": [],
            "needs_background": "light"
          }
        }
      ]
    },
    {
      "cell_type": "markdown",
      "metadata": {
        "id": "b7nc2e49jcpA",
        "colab_type": "text"
      },
      "source": [
        "# 5. Experiment 5: Add Dropout to All Models"
      ]
    },
    {
      "cell_type": "code",
      "metadata": {
        "id": "hgnCT7r5lero",
        "colab_type": "code",
        "colab": {
          "base_uri": "https://localhost:8080/",
          "height": 34
        },
        "outputId": "c2135250-2915-4b6b-ed64-df1ec65947a9"
      },
      "source": [
        "# https://www.tensorflow.org/api_docs/python/tf/keras/datasets/fashion_mnist/load_data\n",
        "from tensorflow.keras.datasets import fashion_mnist\n",
        "(train_images, train_labels), (test_images, test_labels) = fashion_mnist.load_data()\n",
        "train_images.shape, test_images.shape, test_labels.shape, test_labels.shape"
      ],
      "execution_count": 396,
      "outputs": [
        {
          "output_type": "execute_result",
          "data": {
            "text/plain": [
              "((60000, 28, 28), (10000, 28, 28), (10000,), (10000,))"
            ]
          },
          "metadata": {
            "tags": []
          },
          "execution_count": 396
        }
      ]
    },
    {
      "cell_type": "code",
      "metadata": {
        "id": "qgE1IvwNlEEr",
        "colab_type": "code",
        "colab": {}
      },
      "source": [
        "# We transform it into a float32 array of shape (60000, 28 * 28) with values between 0 and 1. \n",
        "train_images = train_images.reshape((60000, 28 * 28)) \n",
        "train_images = train_images.astype('float32') / 255\n",
        "\n",
        "test_images = test_images.reshape((10000, 28 * 28))  \n",
        "test_images = test_images.astype('float32') / 255\n",
        "\n",
        "# Create validation data\n",
        "val_images, train_images = train_images[:5000], train_images[5000:] \n",
        "val_labels, train_labels = train_labels[:5000], train_labels[5000:]"
      ],
      "execution_count": 397,
      "outputs": []
    },
    {
      "cell_type": "markdown",
      "metadata": {
        "id": "r_qz1LX0kCcT",
        "colab_type": "text"
      },
      "source": [
        "## 5A. Model 1"
      ]
    },
    {
      "cell_type": "code",
      "metadata": {
        "id": "_qM94v8ekBY2",
        "colab_type": "code",
        "colab": {
          "base_uri": "https://localhost:8080/",
          "height": 255
        },
        "outputId": "1b6fc9dc-8554-4d93-c107-97815967f857"
      },
      "source": [
        "model_1do = models.Sequential()\n",
        "# model_1do.add(layers.Flatten(input_shape=[28, 28]))\n",
        "model_1do.add(layers.Dense(5, activation='relu', input_shape=(28 * 28,)))\n",
        "model_1do.add(layers.Dropout(0.2))\n",
        "model_1do.add(layers.Dense(10, activation='softmax')) \n",
        "\n",
        "model_1do.compile(optimizer='adam', loss='sparse_categorical_crossentropy', metrics=['accuracy'])\n",
        "\n",
        "model_1do.summary()"
      ],
      "execution_count": 398,
      "outputs": [
        {
          "output_type": "stream",
          "text": [
            "Model: \"sequential_4\"\n",
            "_________________________________________________________________\n",
            "Layer (type)                 Output Shape              Param #   \n",
            "=================================================================\n",
            "dense_9 (Dense)              (None, 5)                 3925      \n",
            "_________________________________________________________________\n",
            "dropout (Dropout)            (None, 5)                 0         \n",
            "_________________________________________________________________\n",
            "dense_10 (Dense)             (None, 10)                60        \n",
            "=================================================================\n",
            "Total params: 3,985\n",
            "Trainable params: 3,985\n",
            "Non-trainable params: 0\n",
            "_________________________________________________________________\n"
          ],
          "name": "stdout"
        }
      ]
    },
    {
      "cell_type": "code",
      "metadata": {
        "id": "tpvA5xtfkEYy",
        "colab_type": "code",
        "colab": {
          "base_uri": "https://localhost:8080/",
          "height": 734
        },
        "outputId": "d31ad83b-c2b1-4891-b29c-caa1190cbdaa"
      },
      "source": [
        "train_rt = TrainRuntimeCallback()\n",
        "history = model_1do.fit(train_images, train_labels, callbacks=[train_rt], epochs=20, batch_size=100, validation_data=(val_images, val_labels))\n",
        "\n",
        "# Saving models locally after fitting\n",
        "save_dir = \"results/\"\n",
        "model_name = 'fashion_mnist_model_1do.h5'\n",
        "# model_path = os.path.join(save_dir, model_name)\n",
        "print('--------------------------')"
      ],
      "execution_count": 399,
      "outputs": [
        {
          "output_type": "stream",
          "text": [
            "Epoch 1/20\n",
            "550/550 [==============================] - 1s 3ms/step - loss: 1.6506 - accuracy: 0.3319 - val_loss: 1.1982 - val_accuracy: 0.5508\n",
            "Epoch 2/20\n",
            "550/550 [==============================] - 1s 2ms/step - loss: 1.3330 - accuracy: 0.4669 - val_loss: 1.0561 - val_accuracy: 0.6696\n",
            "Epoch 3/20\n",
            "550/550 [==============================] - 1s 2ms/step - loss: 1.2429 - accuracy: 0.5411 - val_loss: 0.9501 - val_accuracy: 0.7122\n",
            "Epoch 4/20\n",
            "550/550 [==============================] - 1s 2ms/step - loss: 1.1759 - accuracy: 0.5755 - val_loss: 0.8936 - val_accuracy: 0.7402\n",
            "Epoch 5/20\n",
            "550/550 [==============================] - 1s 2ms/step - loss: 1.1408 - accuracy: 0.5881 - val_loss: 0.8303 - val_accuracy: 0.7602\n",
            "Epoch 6/20\n",
            "550/550 [==============================] - 1s 2ms/step - loss: 1.1036 - accuracy: 0.6036 - val_loss: 0.7908 - val_accuracy: 0.7644\n",
            "Epoch 7/20\n",
            "550/550 [==============================] - 1s 2ms/step - loss: 1.0779 - accuracy: 0.6135 - val_loss: 0.7691 - val_accuracy: 0.7716\n",
            "Epoch 8/20\n",
            "550/550 [==============================] - 1s 2ms/step - loss: 1.0714 - accuracy: 0.6183 - val_loss: 0.7503 - val_accuracy: 0.7762\n",
            "Epoch 9/20\n",
            "550/550 [==============================] - 1s 2ms/step - loss: 1.0595 - accuracy: 0.6240 - val_loss: 0.7504 - val_accuracy: 0.7714\n",
            "Epoch 10/20\n",
            "550/550 [==============================] - 1s 2ms/step - loss: 1.0557 - accuracy: 0.6237 - val_loss: 0.7308 - val_accuracy: 0.7750\n",
            "Epoch 11/20\n",
            "550/550 [==============================] - 1s 2ms/step - loss: 1.0461 - accuracy: 0.6281 - val_loss: 0.7449 - val_accuracy: 0.7750\n",
            "Epoch 12/20\n",
            "550/550 [==============================] - 1s 2ms/step - loss: 1.0436 - accuracy: 0.6299 - val_loss: 0.7239 - val_accuracy: 0.7758\n",
            "Epoch 13/20\n",
            "550/550 [==============================] - 1s 2ms/step - loss: 1.0330 - accuracy: 0.6365 - val_loss: 0.7255 - val_accuracy: 0.7796\n",
            "Epoch 14/20\n",
            "550/550 [==============================] - 1s 2ms/step - loss: 1.0299 - accuracy: 0.6381 - val_loss: 0.7150 - val_accuracy: 0.7794\n",
            "Epoch 15/20\n",
            "550/550 [==============================] - 1s 2ms/step - loss: 1.0297 - accuracy: 0.6391 - val_loss: 0.7170 - val_accuracy: 0.7832\n",
            "Epoch 16/20\n",
            "550/550 [==============================] - 1s 2ms/step - loss: 1.0202 - accuracy: 0.6443 - val_loss: 0.7136 - val_accuracy: 0.7866\n",
            "Epoch 17/20\n",
            "550/550 [==============================] - 1s 2ms/step - loss: 1.0251 - accuracy: 0.6446 - val_loss: 0.7139 - val_accuracy: 0.7904\n",
            "Epoch 18/20\n",
            "550/550 [==============================] - 1s 2ms/step - loss: 1.0194 - accuracy: 0.6477 - val_loss: 0.7049 - val_accuracy: 0.7948\n",
            "Epoch 19/20\n",
            "550/550 [==============================] - 1s 2ms/step - loss: 1.0238 - accuracy: 0.6485 - val_loss: 0.7099 - val_accuracy: 0.7922\n",
            "Epoch 20/20\n",
            "550/550 [==============================] - 1s 2ms/step - loss: 1.0133 - accuracy: 0.6512 - val_loss: 0.7087 - val_accuracy: 0.7948\n",
            "--------------------------\n"
          ],
          "name": "stdout"
        }
      ]
    },
    {
      "cell_type": "code",
      "metadata": {
        "id": "sIFmSX2GkOVI",
        "colab_type": "code",
        "colab": {
          "base_uri": "https://localhost:8080/",
          "height": 34
        },
        "outputId": "09a7b948-7c27-4c52-8a9c-f6e088c443b3"
      },
      "source": [
        "# Get the training time\n",
        "train_time = train_rt.process_time\n",
        "train_time # in seconds"
      ],
      "execution_count": 400,
      "outputs": [
        {
          "output_type": "execute_result",
          "data": {
            "text/plain": [
              "25.276361"
            ]
          },
          "metadata": {
            "tags": []
          },
          "execution_count": 400
        }
      ]
    },
    {
      "cell_type": "code",
      "metadata": {
        "id": "bTYW_zNbltIz",
        "colab_type": "code",
        "colab": {
          "base_uri": "https://localhost:8080/",
          "height": 34
        },
        "outputId": "976ea40e-8dd3-4e33-c490-156213ad8106"
      },
      "source": [
        "test_rt = TestRuntimeCallback()\n",
        "test_loss, test_acc = model_1do.evaluate(test_images, test_labels, callbacks=[test_rt])"
      ],
      "execution_count": 401,
      "outputs": [
        {
          "output_type": "stream",
          "text": [
            "313/313 [==============================] - 1s 2ms/step - loss: 0.7349 - accuracy: 0.7840\n"
          ],
          "name": "stdout"
        }
      ]
    },
    {
      "cell_type": "code",
      "metadata": {
        "id": "k9EScQmTlvK4",
        "colab_type": "code",
        "colab": {
          "base_uri": "https://localhost:8080/",
          "height": 34
        },
        "outputId": "7f0ab61e-e1d5-4e14-a164-6b9f99081c64"
      },
      "source": [
        "# Get the test time\n",
        "test_time = test_rt.process_time\n",
        "test_time # in seconds"
      ],
      "execution_count": 402,
      "outputs": [
        {
          "output_type": "execute_result",
          "data": {
            "text/plain": [
              "0.686898"
            ]
          },
          "metadata": {
            "tags": []
          },
          "execution_count": 402
        }
      ]
    },
    {
      "cell_type": "code",
      "metadata": {
        "id": "5hz25tGClvqg",
        "colab_type": "code",
        "colab": {
          "base_uri": "https://localhost:8080/",
          "height": 114
        },
        "outputId": "3b5953a9-1eef-49aa-e7c7-6869a6e3fdb9"
      },
      "source": [
        "history_dict = history.history\n",
        "history_dict.keys()\n",
        "\n",
        "history_df=pd.DataFrame(history_dict)\n",
        "history_df.tail()\n",
        "\n",
        "# Create a results DataFrame using the last row of history_df\n",
        "results_df_do = history_df.iloc[-1:].copy()\n",
        "results_df_do.insert(0,'model','DNN (2 layers DO)') # went the model name to appear first\n",
        "results_df_do['training time (sec)'] = train_time      # we are okay with training time appearing last\n",
        "results_df_do['testing time (sec)'] = test_time      # we are okay with training time appearing last\n",
        "results_df_do"
      ],
      "execution_count": 403,
      "outputs": [
        {
          "output_type": "execute_result",
          "data": {
            "text/html": [
              "<div>\n",
              "<style scoped>\n",
              "    .dataframe tbody tr th:only-of-type {\n",
              "        vertical-align: middle;\n",
              "    }\n",
              "\n",
              "    .dataframe tbody tr th {\n",
              "        vertical-align: top;\n",
              "    }\n",
              "\n",
              "    .dataframe thead th {\n",
              "        text-align: right;\n",
              "    }\n",
              "</style>\n",
              "<table border=\"1\" class=\"dataframe\">\n",
              "  <thead>\n",
              "    <tr style=\"text-align: right;\">\n",
              "      <th></th>\n",
              "      <th>model</th>\n",
              "      <th>loss</th>\n",
              "      <th>accuracy</th>\n",
              "      <th>val_loss</th>\n",
              "      <th>val_accuracy</th>\n",
              "      <th>training time (sec)</th>\n",
              "      <th>testing time (sec)</th>\n",
              "    </tr>\n",
              "  </thead>\n",
              "  <tbody>\n",
              "    <tr>\n",
              "      <th>19</th>\n",
              "      <td>DNN (2 layers DO)</td>\n",
              "      <td>1.013321</td>\n",
              "      <td>0.651164</td>\n",
              "      <td>0.708738</td>\n",
              "      <td>0.7948</td>\n",
              "      <td>25.276361</td>\n",
              "      <td>0.686898</td>\n",
              "    </tr>\n",
              "  </tbody>\n",
              "</table>\n",
              "</div>"
            ],
            "text/plain": [
              "                model      loss  ...  training time (sec)  testing time (sec)\n",
              "19  DNN (2 layers DO)  1.013321  ...            25.276361            0.686898\n",
              "\n",
              "[1 rows x 7 columns]"
            ]
          },
          "metadata": {
            "tags": []
          },
          "execution_count": 403
        }
      ]
    },
    {
      "cell_type": "code",
      "metadata": {
        "id": "SlM_YWd6lzpe",
        "colab_type": "code",
        "colab": {
          "base_uri": "https://localhost:8080/",
          "height": 320
        },
        "outputId": "246a1beb-48c1-47e0-ab91-8d2df517649d"
      },
      "source": [
        "# Plot learning curves for model\n",
        "pd.DataFrame(history.history).plot(figsize=(8, 5))\n",
        "plt.grid(True)\n",
        "plt.gca().set_ylim(0, 1.5) # set the vertical range to [0-1]\n",
        "plt.show()"
      ],
      "execution_count": 404,
      "outputs": [
        {
          "output_type": "display_data",
          "data": {
            "image/png": "[encoded data removed]",
            "text/plain": [
              "<Figure size 576x360 with 1 Axes>"
            ]
          },
          "metadata": {
            "tags": [],
            "needs_background": "light"
          }
        }
      ]
    },
    {
      "cell_type": "markdown",
      "metadata": {
        "id": "O5KLvmUil6rF",
        "colab_type": "text"
      },
      "source": [
        "## 5B. Model 2"
      ]
    },
    {
      "cell_type": "code",
      "metadata": {
        "id": "EWQF87r4l4HO",
        "colab_type": "code",
        "colab": {
          "base_uri": "https://localhost:8080/",
          "height": 323
        },
        "outputId": "16785f0b-d139-4d1d-a9ef-658b3110dff3"
      },
      "source": [
        "model_2do = models.Sequential()\n",
        "# model_1do.add(layers.Flatten(input_shape=[28, 28]))\n",
        "model_2do.add(layers.Dense(5, activation='relu', input_shape=(28 * 28,)))\n",
        "model_2do.add(layers.Dropout(0.2))\n",
        "model_2do.add(layers.Dense(10, activation='relu'))\n",
        "model_2do.add(layers.Dropout(0.2))\n",
        "model_2do.add(layers.Dense(10, activation='softmax')) \n",
        "\n",
        "model_2do.compile(optimizer='adam', loss='sparse_categorical_crossentropy', metrics=['accuracy'])\n",
        "\n",
        "model_2do.summary()"
      ],
      "execution_count": 405,
      "outputs": [
        {
          "output_type": "stream",
          "text": [
            "Model: \"sequential_5\"\n",
            "_________________________________________________________________\n",
            "Layer (type)                 Output Shape              Param #   \n",
            "=================================================================\n",
            "dense_11 (Dense)             (None, 5)                 3925      \n",
            "_________________________________________________________________\n",
            "dropout_1 (Dropout)          (None, 5)                 0         \n",
            "_________________________________________________________________\n",
            "dense_12 (Dense)             (None, 10)                60        \n",
            "_________________________________________________________________\n",
            "dropout_2 (Dropout)          (None, 10)                0         \n",
            "_________________________________________________________________\n",
            "dense_13 (Dense)             (None, 10)                110       \n",
            "=================================================================\n",
            "Total params: 4,095\n",
            "Trainable params: 4,095\n",
            "Non-trainable params: 0\n",
            "_________________________________________________________________\n"
          ],
          "name": "stdout"
        }
      ]
    },
    {
      "cell_type": "code",
      "metadata": {
        "id": "XmjlFgPcmB8K",
        "colab_type": "code",
        "colab": {
          "base_uri": "https://localhost:8080/",
          "height": 734
        },
        "outputId": "ffb6168b-bdbd-4487-e482-1a8bd9b021dc"
      },
      "source": [
        "train_rt = TrainRuntimeCallback()\n",
        "history = model_2do.fit(train_images, train_labels, callbacks=[train_rt], epochs=20, batch_size = 100,\n",
        "                    validation_data=(val_images, val_labels))\n",
        "\n",
        "# Saving models locally after fitting\n",
        "save_dir = \"results/\"\n",
        "model_name = 'fashion_mnist_model_2do.h5'\n",
        "model_path = os.path.join(save_dir, model_name)\n",
        "print('--------------------------')"
      ],
      "execution_count": 406,
      "outputs": [
        {
          "output_type": "stream",
          "text": [
            "Epoch 1/20\n",
            "550/550 [==============================] - 1s 2ms/step - loss: 1.6709 - accuracy: 0.3477 - val_loss: 1.0549 - val_accuracy: 0.6470\n",
            "Epoch 2/20\n",
            "550/550 [==============================] - 1s 2ms/step - loss: 1.2990 - accuracy: 0.4777 - val_loss: 0.8325 - val_accuracy: 0.7202\n",
            "Epoch 3/20\n",
            "550/550 [==============================] - 1s 2ms/step - loss: 1.2083 - accuracy: 0.5180 - val_loss: 0.7699 - val_accuracy: 0.7286\n",
            "Epoch 4/20\n",
            "550/550 [==============================] - 1s 2ms/step - loss: 1.1654 - accuracy: 0.5297 - val_loss: 0.7732 - val_accuracy: 0.7388\n",
            "Epoch 5/20\n",
            "550/550 [==============================] - 1s 3ms/step - loss: 1.1406 - accuracy: 0.5389 - val_loss: 0.7421 - val_accuracy: 0.7330\n",
            "Epoch 6/20\n",
            "550/550 [==============================] - 1s 2ms/step - loss: 1.1148 - accuracy: 0.5505 - val_loss: 0.7316 - val_accuracy: 0.7510\n",
            "Epoch 7/20\n",
            "550/550 [==============================] - 1s 2ms/step - loss: 1.0889 - accuracy: 0.5667 - val_loss: 0.7412 - val_accuracy: 0.7524\n",
            "Epoch 8/20\n",
            "550/550 [==============================] - 1s 2ms/step - loss: 1.0745 - accuracy: 0.5737 - val_loss: 0.7213 - val_accuracy: 0.7580\n",
            "Epoch 9/20\n",
            "550/550 [==============================] - 1s 2ms/step - loss: 1.0638 - accuracy: 0.5802 - val_loss: 0.6932 - val_accuracy: 0.7688\n",
            "Epoch 10/20\n",
            "550/550 [==============================] - 1s 3ms/step - loss: 1.0476 - accuracy: 0.5867 - val_loss: 0.7031 - val_accuracy: 0.7734\n",
            "Epoch 11/20\n",
            "550/550 [==============================] - 1s 2ms/step - loss: 1.0390 - accuracy: 0.5961 - val_loss: 0.7394 - val_accuracy: 0.7526\n",
            "Epoch 12/20\n",
            "550/550 [==============================] - 1s 3ms/step - loss: 1.0229 - accuracy: 0.6070 - val_loss: 0.7042 - val_accuracy: 0.7756\n",
            "Epoch 13/20\n",
            "550/550 [==============================] - 2s 3ms/step - loss: 1.0269 - accuracy: 0.6092 - val_loss: 0.6816 - val_accuracy: 0.7750\n",
            "Epoch 14/20\n",
            "550/550 [==============================] - 2s 3ms/step - loss: 1.0155 - accuracy: 0.6130 - val_loss: 0.6929 - val_accuracy: 0.7702\n",
            "Epoch 15/20\n",
            "550/550 [==============================] - 2s 3ms/step - loss: 1.0150 - accuracy: 0.6150 - val_loss: 0.7105 - val_accuracy: 0.7614\n",
            "Epoch 16/20\n",
            "550/550 [==============================] - 1s 3ms/step - loss: 1.0093 - accuracy: 0.6199 - val_loss: 0.7112 - val_accuracy: 0.7606\n",
            "Epoch 17/20\n",
            "550/550 [==============================] - 2s 3ms/step - loss: 1.0024 - accuracy: 0.6246 - val_loss: 0.6851 - val_accuracy: 0.7756\n",
            "Epoch 18/20\n",
            "550/550 [==============================] - 2s 3ms/step - loss: 0.9927 - accuracy: 0.6296 - val_loss: 0.6880 - val_accuracy: 0.7758\n",
            "Epoch 19/20\n",
            "550/550 [==============================] - 2s 3ms/step - loss: 0.9949 - accuracy: 0.6303 - val_loss: 0.6903 - val_accuracy: 0.7718\n",
            "Epoch 20/20\n",
            "550/550 [==============================] - 1s 2ms/step - loss: 0.9884 - accuracy: 0.6307 - val_loss: 0.7038 - val_accuracy: 0.7608\n",
            "--------------------------\n"
          ],
          "name": "stdout"
        }
      ]
    },
    {
      "cell_type": "code",
      "metadata": {
        "id": "g7rBbevPmIT-",
        "colab_type": "code",
        "colab": {
          "base_uri": "https://localhost:8080/",
          "height": 34
        },
        "outputId": "82250e35-04b7-4882-a209-660ff3b2e8c4"
      },
      "source": [
        "# Get the training time\n",
        "train_time = train_rt.process_time\n",
        "train_time # in seconds"
      ],
      "execution_count": 407,
      "outputs": [
        {
          "output_type": "execute_result",
          "data": {
            "text/plain": [
              "28.653613"
            ]
          },
          "metadata": {
            "tags": []
          },
          "execution_count": 407
        }
      ]
    },
    {
      "cell_type": "code",
      "metadata": {
        "id": "5wD9fY2RmPcq",
        "colab_type": "code",
        "colab": {
          "base_uri": "https://localhost:8080/",
          "height": 34
        },
        "outputId": "2ecec7f4-7948-4678-b32b-55100442daf6"
      },
      "source": [
        "test_rt = TestRuntimeCallback()\n",
        "test_loss, test_acc = model_2do.evaluate(test_images, test_labels, callbacks=[test_rt])"
      ],
      "execution_count": 408,
      "outputs": [
        {
          "output_type": "stream",
          "text": [
            "313/313 [==============================] - 1s 2ms/step - loss: 0.7103 - accuracy: 0.7564\n"
          ],
          "name": "stdout"
        }
      ]
    },
    {
      "cell_type": "code",
      "metadata": {
        "id": "9GlAAScKmQlG",
        "colab_type": "code",
        "colab": {
          "base_uri": "https://localhost:8080/",
          "height": 34
        },
        "outputId": "1cb1407b-f9a3-42d8-d8a9-be9ac53b75d1"
      },
      "source": [
        "# Get the test time\n",
        "test_time = test_rt.process_time\n",
        "test_time # in seconds"
      ],
      "execution_count": 409,
      "outputs": [
        {
          "output_type": "execute_result",
          "data": {
            "text/plain": [
              "0.705578"
            ]
          },
          "metadata": {
            "tags": []
          },
          "execution_count": 409
        }
      ]
    },
    {
      "cell_type": "code",
      "metadata": {
        "id": "HAUle7qymRZe",
        "colab_type": "code",
        "colab": {
          "base_uri": "https://localhost:8080/",
          "height": 114
        },
        "outputId": "d4b28723-6d02-4c15-e7f4-5281939fdbda"
      },
      "source": [
        "history_dict = history.history\n",
        "history_dict.keys()\n",
        "\n",
        "istory_df=pd.DataFrame(history_dict)\n",
        "history_df.tail()\n",
        "\n",
        "history_dict = history.history\n",
        "history_df=pd.DataFrame(history_dict)\n",
        "results_df_do_2 = history_df.iloc[-1:].copy()\n",
        "results_df_do_2.insert(0,'model','DNN (3 layers DO)') # went the model name to appear first\n",
        "results_df_do_2['training time (sec)'] = train_time      # we are okay with training time appearing last\n",
        "results_df_do_2['testing time (sec)'] = test_time      # we are okay with training time appearing last\n",
        "results_df_do_2"
      ],
      "execution_count": 410,
      "outputs": [
        {
          "output_type": "execute_result",
          "data": {
            "text/html": [
              "<div>\n",
              "<style scoped>\n",
              "    .dataframe tbody tr th:only-of-type {\n",
              "        vertical-align: middle;\n",
              "    }\n",
              "\n",
              "    .dataframe tbody tr th {\n",
              "        vertical-align: top;\n",
              "    }\n",
              "\n",
              "    .dataframe thead th {\n",
              "        text-align: right;\n",
              "    }\n",
              "</style>\n",
              "<table border=\"1\" class=\"dataframe\">\n",
              "  <thead>\n",
              "    <tr style=\"text-align: right;\">\n",
              "      <th></th>\n",
              "      <th>model</th>\n",
              "      <th>loss</th>\n",
              "      <th>accuracy</th>\n",
              "      <th>val_loss</th>\n",
              "      <th>val_accuracy</th>\n",
              "      <th>training time (sec)</th>\n",
              "      <th>testing time (sec)</th>\n",
              "    </tr>\n",
              "  </thead>\n",
              "  <tbody>\n",
              "    <tr>\n",
              "      <th>19</th>\n",
              "      <td>DNN (3 layers DO)</td>\n",
              "      <td>0.988412</td>\n",
              "      <td>0.630727</td>\n",
              "      <td>0.703835</td>\n",
              "      <td>0.7608</td>\n",
              "      <td>28.653613</td>\n",
              "      <td>0.705578</td>\n",
              "    </tr>\n",
              "  </tbody>\n",
              "</table>\n",
              "</div>"
            ],
            "text/plain": [
              "                model      loss  ...  training time (sec)  testing time (sec)\n",
              "19  DNN (3 layers DO)  0.988412  ...            28.653613            0.705578\n",
              "\n",
              "[1 rows x 7 columns]"
            ]
          },
          "metadata": {
            "tags": []
          },
          "execution_count": 410
        }
      ]
    },
    {
      "cell_type": "code",
      "metadata": {
        "id": "oWS83lypmVsC",
        "colab_type": "code",
        "colab": {
          "base_uri": "https://localhost:8080/",
          "height": 320
        },
        "outputId": "45b83e86-a970-4a6c-d6f8-7111ae98224d"
      },
      "source": [
        "# Plot learning curves for model\n",
        "pd.DataFrame(history.history).plot(figsize=(8, 5))\n",
        "plt.grid(True)\n",
        "plt.gca().set_ylim(0, 1.5) # set the vertical range to [0-1]\n",
        "plt.show()"
      ],
      "execution_count": 411,
      "outputs": [
        {
          "output_type": "display_data",
          "data": {
            "image/png": "[encoded data removed]",
            "text/plain": [
              "<Figure size 576x360 with 1 Axes>"
            ]
          },
          "metadata": {
            "tags": [],
            "needs_background": "light"
          }
        }
      ]
    },
    {
      "cell_type": "markdown",
      "metadata": {
        "id": "PJcM5yfCmyoZ",
        "colab_type": "text"
      },
      "source": [
        "## 5C. Model 3"
      ]
    },
    {
      "cell_type": "code",
      "metadata": {
        "id": "RfwSmNtLmwtC",
        "colab_type": "code",
        "colab": {}
      },
      "source": [
        "# We transform it into a float32 array of shape (60000, 28, 28, 1) with values between 0 and 1. \n",
        "train_images = train_images.reshape((55000, 28, 28, 1))\n",
        "val_images =val_images.reshape((5000, 28, 28, 1))\n",
        "test_images = test_images.reshape((10000, 28, 28, 1))"
      ],
      "execution_count": 412,
      "outputs": []
    },
    {
      "cell_type": "code",
      "metadata": {
        "id": "Sp5cpgYfm6PW",
        "colab_type": "code",
        "colab": {
          "base_uri": "https://localhost:8080/",
          "height": 459
        },
        "outputId": "b61fa01d-0ca8-4eff-8a17-a6b8b1ecf363"
      },
      "source": [
        "model_3ado = models.Sequential()\n",
        "model_3ado.add(layers.Conv2D(32, (3, 3), activation='relu', input_shape=(28, 28, 1)))\n",
        "model_3ado.add(layers.MaxPooling2D((2, 2)))\n",
        "model_3ado.add(layers.Dropout(0.2))\n",
        "model_3ado.add(layers.Conv2D(64, (3, 3), activation='relu'))\n",
        "model_3ado.add(layers.MaxPooling2D((2, 2)))\n",
        "model_3ado.add(layers.Dropout(0.2))\n",
        "model_3ado.add(layers.Flatten())\n",
        "model_3ado.add(layers.Dense(128, activation='relu'))\n",
        "model_3ado.add(layers.Dense(10, activation='softmax'))\n",
        "\n",
        "model_3ado.compile(optimizer='adam', loss='sparse_categorical_crossentropy', metrics=['accuracy'])\n",
        "\n",
        "model_3ado.summary()"
      ],
      "execution_count": 413,
      "outputs": [
        {
          "output_type": "stream",
          "text": [
            "Model: \"sequential_6\"\n",
            "_________________________________________________________________\n",
            "Layer (type)                 Output Shape              Param #   \n",
            "=================================================================\n",
            "conv2d_5 (Conv2D)            (None, 26, 26, 32)        320       \n",
            "_________________________________________________________________\n",
            "max_pooling2d_4 (MaxPooling2 (None, 13, 13, 32)        0         \n",
            "_________________________________________________________________\n",
            "dropout_3 (Dropout)          (None, 13, 13, 32)        0         \n",
            "_________________________________________________________________\n",
            "conv2d_6 (Conv2D)            (None, 11, 11, 64)        18496     \n",
            "_________________________________________________________________\n",
            "max_pooling2d_5 (MaxPooling2 (None, 5, 5, 64)          0         \n",
            "_________________________________________________________________\n",
            "dropout_4 (Dropout)          (None, 5, 5, 64)          0         \n",
            "_________________________________________________________________\n",
            "flatten_4 (Flatten)          (None, 1600)              0         \n",
            "_________________________________________________________________\n",
            "dense_14 (Dense)             (None, 128)               204928    \n",
            "_________________________________________________________________\n",
            "dense_15 (Dense)             (None, 10)                1290      \n",
            "=================================================================\n",
            "Total params: 225,034\n",
            "Trainable params: 225,034\n",
            "Non-trainable params: 0\n",
            "_________________________________________________________________\n"
          ],
          "name": "stdout"
        }
      ]
    },
    {
      "cell_type": "code",
      "metadata": {
        "id": "UqoDHsfQnBBK",
        "colab_type": "code",
        "colab": {
          "base_uri": "https://localhost:8080/",
          "height": 1000
        },
        "outputId": "12783269-083e-40d8-f4bb-2653c1251a64"
      },
      "source": [
        "keras.utils.plot_model(model_3ado, show_shapes=True)"
      ],
      "execution_count": 414,
      "outputs": [
        {
          "output_type": "execute_result",
          "data": {
            "image/png": "[encoded data removed]",
            "text/plain": [
              "<IPython.core.display.Image object>"
            ]
          },
          "metadata": {
            "tags": []
          },
          "execution_count": 414
        }
      ]
    },
    {
      "cell_type": "code",
      "metadata": {
        "id": "rCdyWdWznBch",
        "colab_type": "code",
        "colab": {
          "base_uri": "https://localhost:8080/",
          "height": 734
        },
        "outputId": "1b7b9d8e-e017-4877-b4b9-e4f1a9f04cad"
      },
      "source": [
        "train_rt = TrainRuntimeCallback()\n",
        "history = model_3ado.fit(train_images, train_labels, callbacks=[train_rt], epochs=20, batch_size = 100,\n",
        "                    validation_data=(val_images, val_labels))\n",
        "\n",
        "# Saving models locally after fitting\n",
        "save_dir = \"results/\"\n",
        "model_name = 'fashion_mnist_model_3ado.h5'\n",
        "model_path = os.path.join(save_dir, model_name)\n",
        "print('--------------------------')"
      ],
      "execution_count": 415,
      "outputs": [
        {
          "output_type": "stream",
          "text": [
            "Epoch 1/20\n",
            "550/550 [==============================] - 2s 4ms/step - loss: 0.6061 - accuracy: 0.7773 - val_loss: 0.4099 - val_accuracy: 0.8564\n",
            "Epoch 2/20\n",
            "550/550 [==============================] - 2s 4ms/step - loss: 0.4045 - accuracy: 0.8527 - val_loss: 0.3423 - val_accuracy: 0.8802\n",
            "Epoch 3/20\n",
            "550/550 [==============================] - 2s 4ms/step - loss: 0.3496 - accuracy: 0.8710 - val_loss: 0.3087 - val_accuracy: 0.8924\n",
            "Epoch 4/20\n",
            "550/550 [==============================] - 2s 4ms/step - loss: 0.3181 - accuracy: 0.8842 - val_loss: 0.2798 - val_accuracy: 0.8982\n",
            "Epoch 5/20\n",
            "550/550 [==============================] - 2s 4ms/step - loss: 0.2912 - accuracy: 0.8930 - val_loss: 0.2631 - val_accuracy: 0.9036\n",
            "Epoch 6/20\n",
            "550/550 [==============================] - 2s 4ms/step - loss: 0.2738 - accuracy: 0.8995 - val_loss: 0.2536 - val_accuracy: 0.9062\n",
            "Epoch 7/20\n",
            "550/550 [==============================] - 2s 4ms/step - loss: 0.2549 - accuracy: 0.9056 - val_loss: 0.2467 - val_accuracy: 0.9080\n",
            "Epoch 8/20\n",
            "550/550 [==============================] - 2s 4ms/step - loss: 0.2446 - accuracy: 0.9096 - val_loss: 0.2409 - val_accuracy: 0.9096\n",
            "Epoch 9/20\n",
            "550/550 [==============================] - 2s 4ms/step - loss: 0.2335 - accuracy: 0.9124 - val_loss: 0.2442 - val_accuracy: 0.9082\n",
            "Epoch 10/20\n",
            "550/550 [==============================] - 2s 4ms/step - loss: 0.2243 - accuracy: 0.9170 - val_loss: 0.2409 - val_accuracy: 0.9078\n",
            "Epoch 11/20\n",
            "550/550 [==============================] - 2s 4ms/step - loss: 0.2167 - accuracy: 0.9194 - val_loss: 0.2200 - val_accuracy: 0.9158\n",
            "Epoch 12/20\n",
            "550/550 [==============================] - 2s 4ms/step - loss: 0.2031 - accuracy: 0.9234 - val_loss: 0.2162 - val_accuracy: 0.9202\n",
            "Epoch 13/20\n",
            "550/550 [==============================] - 2s 4ms/step - loss: 0.1973 - accuracy: 0.9254 - val_loss: 0.2109 - val_accuracy: 0.9206\n",
            "Epoch 14/20\n",
            "550/550 [==============================] - 2s 4ms/step - loss: 0.1908 - accuracy: 0.9289 - val_loss: 0.2154 - val_accuracy: 0.9214\n",
            "Epoch 15/20\n",
            "550/550 [==============================] - 2s 4ms/step - loss: 0.1828 - accuracy: 0.9309 - val_loss: 0.2129 - val_accuracy: 0.9202\n",
            "Epoch 16/20\n",
            "550/550 [==============================] - 2s 4ms/step - loss: 0.1754 - accuracy: 0.9330 - val_loss: 0.2206 - val_accuracy: 0.9212\n",
            "Epoch 17/20\n",
            "550/550 [==============================] - 2s 4ms/step - loss: 0.1704 - accuracy: 0.9362 - val_loss: 0.2155 - val_accuracy: 0.9216\n",
            "Epoch 18/20\n",
            "550/550 [==============================] - 2s 4ms/step - loss: 0.1606 - accuracy: 0.9390 - val_loss: 0.2197 - val_accuracy: 0.9224\n",
            "Epoch 19/20\n",
            "550/550 [==============================] - 2s 4ms/step - loss: 0.1581 - accuracy: 0.9412 - val_loss: 0.2260 - val_accuracy: 0.9174\n",
            "Epoch 20/20\n",
            "550/550 [==============================] - 2s 4ms/step - loss: 0.1522 - accuracy: 0.9416 - val_loss: 0.2144 - val_accuracy: 0.9240\n",
            "--------------------------\n"
          ],
          "name": "stdout"
        }
      ]
    },
    {
      "cell_type": "code",
      "metadata": {
        "id": "p21iVXpDnEwR",
        "colab_type": "code",
        "colab": {
          "base_uri": "https://localhost:8080/",
          "height": 34
        },
        "outputId": "4538761c-0836-46b8-f60d-40ee7b996817"
      },
      "source": [
        "# Get the training time\n",
        "train_time = train_rt.process_time\n",
        "train_time # in seconds"
      ],
      "execution_count": 416,
      "outputs": [
        {
          "output_type": "execute_result",
          "data": {
            "text/plain": [
              "40.292825"
            ]
          },
          "metadata": {
            "tags": []
          },
          "execution_count": 416
        }
      ]
    },
    {
      "cell_type": "code",
      "metadata": {
        "id": "KYgxi5gwneXo",
        "colab_type": "code",
        "colab": {
          "base_uri": "https://localhost:8080/",
          "height": 34
        },
        "outputId": "15c9c22e-8f6f-4afd-a3bf-09965954f74b"
      },
      "source": [
        "test_rt = TestRuntimeCallback()\n",
        "test_loss, test_acc = model_3ado.evaluate(test_images, test_labels, callbacks=[test_rt])"
      ],
      "execution_count": 417,
      "outputs": [
        {
          "output_type": "stream",
          "text": [
            "313/313 [==============================] - 1s 2ms/step - loss: 0.2362 - accuracy: 0.9152\n"
          ],
          "name": "stdout"
        }
      ]
    },
    {
      "cell_type": "code",
      "metadata": {
        "id": "U8kXeG92nfi0",
        "colab_type": "code",
        "colab": {
          "base_uri": "https://localhost:8080/",
          "height": 34
        },
        "outputId": "7559e5d5-9980-4dac-f997-8985ee85f329"
      },
      "source": [
        "# Get the test time\n",
        "test_time = test_rt.process_time\n",
        "test_time # in seconds"
      ],
      "execution_count": 418,
      "outputs": [
        {
          "output_type": "execute_result",
          "data": {
            "text/plain": [
              "0.854104"
            ]
          },
          "metadata": {
            "tags": []
          },
          "execution_count": 418
        }
      ]
    },
    {
      "cell_type": "code",
      "metadata": {
        "id": "21Rir2FQngdL",
        "colab_type": "code",
        "colab": {
          "base_uri": "https://localhost:8080/",
          "height": 114
        },
        "outputId": "94fa5bd7-4f7f-43d4-fe8a-1f0912e145e3"
      },
      "source": [
        "history_dict = history.history\n",
        "history_dict.keys()\n",
        "\n",
        "history_df=pd.DataFrame(history_dict)\n",
        "history_df.tail()\n",
        "\n",
        "# Pull statistics \n",
        "results_df_do_3a = history_df.iloc[-1:].copy()\n",
        "results_df_do_3a.insert(0,'model','CNN (2 layers DO)') # want the model name to appear first\n",
        "results_df_do_3a['training time (sec)'] = train_time      # we are okay with training time appearing last\n",
        "results_df_do_3a['testing time (sec)'] = test_time      # we are okay with training time appearing last\n",
        "results_df_do_3a"
      ],
      "execution_count": 419,
      "outputs": [
        {
          "output_type": "execute_result",
          "data": {
            "text/html": [
              "<div>\n",
              "<style scoped>\n",
              "    .dataframe tbody tr th:only-of-type {\n",
              "        vertical-align: middle;\n",
              "    }\n",
              "\n",
              "    .dataframe tbody tr th {\n",
              "        vertical-align: top;\n",
              "    }\n",
              "\n",
              "    .dataframe thead th {\n",
              "        text-align: right;\n",
              "    }\n",
              "</style>\n",
              "<table border=\"1\" class=\"dataframe\">\n",
              "  <thead>\n",
              "    <tr style=\"text-align: right;\">\n",
              "      <th></th>\n",
              "      <th>model</th>\n",
              "      <th>loss</th>\n",
              "      <th>accuracy</th>\n",
              "      <th>val_loss</th>\n",
              "      <th>val_accuracy</th>\n",
              "      <th>training time (sec)</th>\n",
              "      <th>testing time (sec)</th>\n",
              "    </tr>\n",
              "  </thead>\n",
              "  <tbody>\n",
              "    <tr>\n",
              "      <th>19</th>\n",
              "      <td>CNN (2 layers DO)</td>\n",
              "      <td>0.152211</td>\n",
              "      <td>0.941564</td>\n",
              "      <td>0.214356</td>\n",
              "      <td>0.924</td>\n",
              "      <td>40.292825</td>\n",
              "      <td>0.854104</td>\n",
              "    </tr>\n",
              "  </tbody>\n",
              "</table>\n",
              "</div>"
            ],
            "text/plain": [
              "                model      loss  ...  training time (sec)  testing time (sec)\n",
              "19  CNN (2 layers DO)  0.152211  ...            40.292825            0.854104\n",
              "\n",
              "[1 rows x 7 columns]"
            ]
          },
          "metadata": {
            "tags": []
          },
          "execution_count": 419
        }
      ]
    },
    {
      "cell_type": "code",
      "metadata": {
        "id": "6iyr8s5fnkQJ",
        "colab_type": "code",
        "colab": {}
      },
      "source": [
        "# # Combine with previous results\n",
        "# prev_results_df = pd.read_pickle('results.pkl')\n",
        "# results_df = prev_results_df.append(results_df,ignore_index=True)\n",
        "# results_df"
      ],
      "execution_count": 420,
      "outputs": []
    },
    {
      "cell_type": "code",
      "metadata": {
        "id": "yFb_6ppznnIu",
        "colab_type": "code",
        "colab": {
          "base_uri": "https://localhost:8080/",
          "height": 324
        },
        "outputId": "81952c18-d52c-4509-8155-10bdde43a1b8"
      },
      "source": [
        "# Plot learning curves for model\n",
        "pd.DataFrame(history.history).plot(figsize=(8, 5))\n",
        "plt.grid(True)\n",
        "plt.gca().set_ylim(0, 1) # set the vertical range to [0-1]\n",
        "plt.show()"
      ],
      "execution_count": 421,
      "outputs": [
        {
          "output_type": "display_data",
          "data": {
            "image/png": "[encoded data removed]",
            "text/plain": [
              "<Figure size 576x360 with 1 Axes>"
            ]
          },
          "metadata": {
            "tags": [],
            "needs_background": "light"
          }
        }
      ]
    },
    {
      "cell_type": "markdown",
      "metadata": {
        "id": "RsbOqWm5nr8x",
        "colab_type": "text"
      },
      "source": [
        "## 5D. Model 4"
      ]
    },
    {
      "cell_type": "code",
      "metadata": {
        "id": "XGDJjVHNnn5N",
        "colab_type": "code",
        "colab": {
          "base_uri": "https://localhost:8080/",
          "height": 527
        },
        "outputId": "6639d93d-639d-4a2f-da18-548339897951"
      },
      "source": [
        "model_4ado = models.Sequential()\n",
        "model_4ado.add(layers.Conv2D(32, (3, 3), activation='relu', input_shape=(28, 28, 1)))\n",
        "model_4ado.add(layers.MaxPooling2D((2, 2)))\n",
        "model_4ado.add(layers.Dropout(0.2))\n",
        "model_4ado.add(layers.Conv2D(64, (3, 3), activation='relu'))\n",
        "model_4ado.add(layers.MaxPooling2D((2, 2)))\n",
        "model_4ado.add(layers.Dropout(0.2))\n",
        "model_4ado.add(layers.Conv2D(64, (3, 3), activation='relu'))\n",
        "model_4ado.add(layers.Dropout(0.2))\n",
        "model_4ado.add(layers.Flatten())\n",
        "model_4ado.add(layers.Dense(64, activation='relu'))\n",
        "model_4ado.add(layers.Dense(10, activation='softmax'))\n",
        "\n",
        "model_4ado.compile(optimizer='adam', loss='sparse_categorical_crossentropy', metrics=['accuracy'])\n",
        "\n",
        "model_4ado.summary()"
      ],
      "execution_count": 422,
      "outputs": [
        {
          "output_type": "stream",
          "text": [
            "Model: \"sequential_7\"\n",
            "_________________________________________________________________\n",
            "Layer (type)                 Output Shape              Param #   \n",
            "=================================================================\n",
            "conv2d_7 (Conv2D)            (None, 26, 26, 32)        320       \n",
            "_________________________________________________________________\n",
            "max_pooling2d_6 (MaxPooling2 (None, 13, 13, 32)        0         \n",
            "_________________________________________________________________\n",
            "dropout_5 (Dropout)          (None, 13, 13, 32)        0         \n",
            "_________________________________________________________________\n",
            "conv2d_8 (Conv2D)            (None, 11, 11, 64)        18496     \n",
            "_________________________________________________________________\n",
            "max_pooling2d_7 (MaxPooling2 (None, 5, 5, 64)          0         \n",
            "_________________________________________________________________\n",
            "dropout_6 (Dropout)          (None, 5, 5, 64)          0         \n",
            "_________________________________________________________________\n",
            "conv2d_9 (Conv2D)            (None, 3, 3, 64)          36928     \n",
            "_________________________________________________________________\n",
            "dropout_7 (Dropout)          (None, 3, 3, 64)          0         \n",
            "_________________________________________________________________\n",
            "flatten_5 (Flatten)          (None, 576)               0         \n",
            "_________________________________________________________________\n",
            "dense_16 (Dense)             (None, 64)                36928     \n",
            "_________________________________________________________________\n",
            "dense_17 (Dense)             (None, 10)                650       \n",
            "=================================================================\n",
            "Total params: 93,322\n",
            "Trainable params: 93,322\n",
            "Non-trainable params: 0\n",
            "_________________________________________________________________\n"
          ],
          "name": "stdout"
        }
      ]
    },
    {
      "cell_type": "code",
      "metadata": {
        "id": "-7CkXG1vnvp9",
        "colab_type": "code",
        "colab": {
          "base_uri": "https://localhost:8080/",
          "height": 1000
        },
        "outputId": "3c712488-ef8a-417f-9fd8-8ec3d3239900"
      },
      "source": [
        "keras.utils.plot_model(model_4ado, show_shapes=True)"
      ],
      "execution_count": 423,
      "outputs": [
        {
          "output_type": "execute_result",
          "data": {
            "image/png": "[encoded data removed]",
            "text/plain": [
              "<IPython.core.display.Image object>"
            ]
          },
          "metadata": {
            "tags": []
          },
          "execution_count": 423
        }
      ]
    },
    {
      "cell_type": "code",
      "metadata": {
        "id": "-Uh9KeGNn03Q",
        "colab_type": "code",
        "colab": {
          "base_uri": "https://localhost:8080/",
          "height": 734
        },
        "outputId": "d061fc9f-52d8-4079-f9ad-46105df6b87d"
      },
      "source": [
        "train_rt = TrainRuntimeCallback()\n",
        "history = model_4ado.fit(train_images, train_labels, callbacks=[train_rt], epochs=20, batch_size = 100,\n",
        "                    validation_data=(val_images, val_labels))\n",
        "\n",
        "# Saving models locally after fitting\n",
        "save_dir = \"results/\"\n",
        "model_name = 'fashion_mnist_model_4ado.h5'\n",
        "model_path = os.path.join(save_dir, model_name)\n",
        "print('--------------------------')"
      ],
      "execution_count": 424,
      "outputs": [
        {
          "output_type": "stream",
          "text": [
            "Epoch 1/20\n",
            "550/550 [==============================] - 2s 4ms/step - loss: 0.6642 - accuracy: 0.7515 - val_loss: 0.3986 - val_accuracy: 0.8620\n",
            "Epoch 2/20\n",
            "550/550 [==============================] - 2s 4ms/step - loss: 0.4181 - accuracy: 0.8470 - val_loss: 0.3314 - val_accuracy: 0.8838\n",
            "Epoch 3/20\n",
            "550/550 [==============================] - 2s 4ms/step - loss: 0.3656 - accuracy: 0.8645 - val_loss: 0.3078 - val_accuracy: 0.8848\n",
            "Epoch 4/20\n",
            "550/550 [==============================] - 2s 4ms/step - loss: 0.3303 - accuracy: 0.8789 - val_loss: 0.2770 - val_accuracy: 0.8982\n",
            "Epoch 5/20\n",
            "550/550 [==============================] - 2s 4ms/step - loss: 0.3079 - accuracy: 0.8858 - val_loss: 0.2697 - val_accuracy: 0.9014\n",
            "Epoch 6/20\n",
            "550/550 [==============================] - 2s 4ms/step - loss: 0.2932 - accuracy: 0.8914 - val_loss: 0.2613 - val_accuracy: 0.9052\n",
            "Epoch 7/20\n",
            "550/550 [==============================] - 2s 4ms/step - loss: 0.2800 - accuracy: 0.8964 - val_loss: 0.2510 - val_accuracy: 0.9082\n",
            "Epoch 8/20\n",
            "550/550 [==============================] - 2s 4ms/step - loss: 0.2708 - accuracy: 0.8989 - val_loss: 0.2418 - val_accuracy: 0.9104\n",
            "Epoch 9/20\n",
            "550/550 [==============================] - 2s 4ms/step - loss: 0.2597 - accuracy: 0.9025 - val_loss: 0.2337 - val_accuracy: 0.9144\n",
            "Epoch 10/20\n",
            "550/550 [==============================] - 2s 4ms/step - loss: 0.2558 - accuracy: 0.9048 - val_loss: 0.2318 - val_accuracy: 0.9112\n",
            "Epoch 11/20\n",
            "550/550 [==============================] - 2s 4ms/step - loss: 0.2461 - accuracy: 0.9085 - val_loss: 0.2230 - val_accuracy: 0.9152\n",
            "Epoch 12/20\n",
            "550/550 [==============================] - 2s 4ms/step - loss: 0.2388 - accuracy: 0.9099 - val_loss: 0.2207 - val_accuracy: 0.9182\n",
            "Epoch 13/20\n",
            "550/550 [==============================] - 2s 4ms/step - loss: 0.2330 - accuracy: 0.9122 - val_loss: 0.2170 - val_accuracy: 0.9166\n",
            "Epoch 14/20\n",
            "550/550 [==============================] - 2s 4ms/step - loss: 0.2267 - accuracy: 0.9153 - val_loss: 0.2163 - val_accuracy: 0.9202\n",
            "Epoch 15/20\n",
            "550/550 [==============================] - 2s 4ms/step - loss: 0.2235 - accuracy: 0.9155 - val_loss: 0.2137 - val_accuracy: 0.9208\n",
            "Epoch 16/20\n",
            "550/550 [==============================] - 2s 4ms/step - loss: 0.2186 - accuracy: 0.9177 - val_loss: 0.2389 - val_accuracy: 0.9108\n",
            "Epoch 17/20\n",
            "550/550 [==============================] - 2s 4ms/step - loss: 0.2147 - accuracy: 0.9185 - val_loss: 0.2136 - val_accuracy: 0.9208\n",
            "Epoch 18/20\n",
            "550/550 [==============================] - 2s 4ms/step - loss: 0.2084 - accuracy: 0.9213 - val_loss: 0.2157 - val_accuracy: 0.9188\n",
            "Epoch 19/20\n",
            "550/550 [==============================] - 2s 4ms/step - loss: 0.2077 - accuracy: 0.9208 - val_loss: 0.2184 - val_accuracy: 0.9164\n",
            "Epoch 20/20\n",
            "550/550 [==============================] - 2s 4ms/step - loss: 0.2027 - accuracy: 0.9235 - val_loss: 0.2162 - val_accuracy: 0.9206\n",
            "--------------------------\n"
          ],
          "name": "stdout"
        }
      ]
    },
    {
      "cell_type": "code",
      "metadata": {
        "id": "iSSu2vtLn2ha",
        "colab_type": "code",
        "colab": {
          "base_uri": "https://localhost:8080/",
          "height": 34
        },
        "outputId": "0ada1312-03ea-4b8e-8141-759fd944e5b9"
      },
      "source": [
        "# Get the training time\n",
        "train_time = train_rt.process_time\n",
        "train_time # in seconds"
      ],
      "execution_count": 425,
      "outputs": [
        {
          "output_type": "execute_result",
          "data": {
            "text/plain": [
              "43.237015"
            ]
          },
          "metadata": {
            "tags": []
          },
          "execution_count": 425
        }
      ]
    },
    {
      "cell_type": "code",
      "metadata": {
        "id": "kJx4rc9HoCyG",
        "colab_type": "code",
        "colab": {
          "base_uri": "https://localhost:8080/",
          "height": 34
        },
        "outputId": "7451e26f-1e12-4c40-c14a-122e51e2e56b"
      },
      "source": [
        "test_rt = TestRuntimeCallback()\n",
        "test_loss, test_acc = model_4ado.evaluate(test_images, test_labels, callbacks=[test_rt])"
      ],
      "execution_count": 426,
      "outputs": [
        {
          "output_type": "stream",
          "text": [
            "313/313 [==============================] - 1s 2ms/step - loss: 0.2389 - accuracy: 0.9119\n"
          ],
          "name": "stdout"
        }
      ]
    },
    {
      "cell_type": "code",
      "metadata": {
        "id": "Zln5WfXPoD3A",
        "colab_type": "code",
        "colab": {
          "base_uri": "https://localhost:8080/",
          "height": 34
        },
        "outputId": "b9673999-32ff-448a-8488-4c7e3e3458c7"
      },
      "source": [
        "# Get the test time\n",
        "test_time = test_rt.process_time\n",
        "test_time # in seconds"
      ],
      "execution_count": 427,
      "outputs": [
        {
          "output_type": "execute_result",
          "data": {
            "text/plain": [
              "0.794071"
            ]
          },
          "metadata": {
            "tags": []
          },
          "execution_count": 427
        }
      ]
    },
    {
      "cell_type": "code",
      "metadata": {
        "id": "KJHH8yrloF5G",
        "colab_type": "code",
        "colab": {
          "base_uri": "https://localhost:8080/",
          "height": 114
        },
        "outputId": "55189d2a-def9-4d02-e9d6-9775c6dab0d9"
      },
      "source": [
        "history_dict = history.history\n",
        "history_dict.keys()\n",
        "\n",
        "history_df=pd.DataFrame(history_dict)\n",
        "history_df.tail()\n",
        "\n",
        "# Pull statistics \n",
        "# Pull statistics \n",
        "results_df_do_4a = history_df.iloc[-1:].copy()\n",
        "results_df_do_4a.insert(0,'model','CNN (3 layers DO)') # want the model name to appear first\n",
        "results_df_do_4a['training time (sec)'] = train_time      # we are okay with training time appearing last\n",
        "results_df_do_4a['testing time (sec)'] = test_time      # we are okay with training time appearing last\n",
        "results_df_do_4a"
      ],
      "execution_count": 428,
      "outputs": [
        {
          "output_type": "execute_result",
          "data": {
            "text/html": [
              "<div>\n",
              "<style scoped>\n",
              "    .dataframe tbody tr th:only-of-type {\n",
              "        vertical-align: middle;\n",
              "    }\n",
              "\n",
              "    .dataframe tbody tr th {\n",
              "        vertical-align: top;\n",
              "    }\n",
              "\n",
              "    .dataframe thead th {\n",
              "        text-align: right;\n",
              "    }\n",
              "</style>\n",
              "<table border=\"1\" class=\"dataframe\">\n",
              "  <thead>\n",
              "    <tr style=\"text-align: right;\">\n",
              "      <th></th>\n",
              "      <th>model</th>\n",
              "      <th>loss</th>\n",
              "      <th>accuracy</th>\n",
              "      <th>val_loss</th>\n",
              "      <th>val_accuracy</th>\n",
              "      <th>training time (sec)</th>\n",
              "      <th>testing time (sec)</th>\n",
              "    </tr>\n",
              "  </thead>\n",
              "  <tbody>\n",
              "    <tr>\n",
              "      <th>19</th>\n",
              "      <td>CNN (3 layers DO)</td>\n",
              "      <td>0.202688</td>\n",
              "      <td>0.923545</td>\n",
              "      <td>0.216248</td>\n",
              "      <td>0.9206</td>\n",
              "      <td>43.237015</td>\n",
              "      <td>0.794071</td>\n",
              "    </tr>\n",
              "  </tbody>\n",
              "</table>\n",
              "</div>"
            ],
            "text/plain": [
              "                model      loss  ...  training time (sec)  testing time (sec)\n",
              "19  CNN (3 layers DO)  0.202688  ...            43.237015            0.794071\n",
              "\n",
              "[1 rows x 7 columns]"
            ]
          },
          "metadata": {
            "tags": []
          },
          "execution_count": 428
        }
      ]
    },
    {
      "cell_type": "code",
      "metadata": {
        "id": "OueaFjnooNlq",
        "colab_type": "code",
        "colab": {}
      },
      "source": [
        "# Combine with previous results\n",
        "# prev_results_df = pd.read_pickle('results.pkl')\n",
        "# results_df = results_df.append(results_df3a,ignore_index=True)\n",
        "# results_df = results_df.append(results_df3b,ignore_index=True)\n",
        "# results_df"
      ],
      "execution_count": 429,
      "outputs": []
    },
    {
      "cell_type": "code",
      "metadata": {
        "id": "tPwAj5W8oQxj",
        "colab_type": "code",
        "colab": {
          "base_uri": "https://localhost:8080/",
          "height": 324
        },
        "outputId": "7729c1fe-5ef9-4e41-e327-6f93bb0a9802"
      },
      "source": [
        "# Plot learning curves for model\n",
        "pd.DataFrame(history.history).plot(figsize=(8, 5))\n",
        "plt.grid(True)\n",
        "plt.gca().set_ylim(0, 1) # set the vertical range to [0-1]\n",
        "plt.show()"
      ],
      "execution_count": 430,
      "outputs": [
        {
          "output_type": "display_data",
          "data": {
            "image/png": "[encoded data removed]",
            "text/plain": [
              "<Figure size 576x360 with 1 Axes>"
            ]
          },
          "metadata": {
            "tags": [],
            "needs_background": "light"
          }
        }
      ]
    },
    {
      "cell_type": "markdown",
      "metadata": {
        "id": "TxSLIw3AoX4V",
        "colab_type": "text"
      },
      "source": [
        "# 6. Final Results"
      ]
    },
    {
      "cell_type": "code",
      "metadata": {
        "id": "BAF8LkEx4NSj",
        "colab_type": "code",
        "colab": {
          "base_uri": "https://localhost:8080/",
          "height": 80
        },
        "outputId": "3d4d71b6-df99-4880-e87e-6f22179ae992"
      },
      "source": [
        "results_df"
      ],
      "execution_count": 431,
      "outputs": [
        {
          "output_type": "execute_result",
          "data": {
            "text/html": [
              "<div>\n",
              "<style scoped>\n",
              "    .dataframe tbody tr th:only-of-type {\n",
              "        vertical-align: middle;\n",
              "    }\n",
              "\n",
              "    .dataframe tbody tr th {\n",
              "        vertical-align: top;\n",
              "    }\n",
              "\n",
              "    .dataframe thead th {\n",
              "        text-align: right;\n",
              "    }\n",
              "</style>\n",
              "<table border=\"1\" class=\"dataframe\">\n",
              "  <thead>\n",
              "    <tr style=\"text-align: right;\">\n",
              "      <th></th>\n",
              "      <th>model</th>\n",
              "      <th>loss</th>\n",
              "      <th>accuracy</th>\n",
              "      <th>val_loss</th>\n",
              "      <th>val_accuracy</th>\n",
              "      <th>training time (sec)</th>\n",
              "      <th>testing time (sec)</th>\n",
              "    </tr>\n",
              "  </thead>\n",
              "  <tbody>\n",
              "    <tr>\n",
              "      <th>19</th>\n",
              "      <td>DNN (2 layers)</td>\n",
              "      <td>0.463785</td>\n",
              "      <td>0.837818</td>\n",
              "      <td>0.485111</td>\n",
              "      <td>0.8342</td>\n",
              "      <td>24.588407</td>\n",
              "      <td>0.680281</td>\n",
              "    </tr>\n",
              "  </tbody>\n",
              "</table>\n",
              "</div>"
            ],
            "text/plain": [
              "             model      loss  ...  training time (sec)  testing time (sec)\n",
              "19  DNN (2 layers)  0.463785  ...            24.588407            0.680281\n",
              "\n",
              "[1 rows x 7 columns]"
            ]
          },
          "metadata": {
            "tags": []
          },
          "execution_count": 431
        }
      ]
    },
    {
      "cell_type": "code",
      "metadata": {
        "id": "4QtUgsqNoa7P",
        "colab_type": "code",
        "colab": {
          "base_uri": "https://localhost:8080/",
          "height": 382
        },
        "outputId": "edfeecf6-c794-43c9-a1ea-5e25970c75f8"
      },
      "source": [
        "# # Add the new data to results_df:\n",
        "\n",
        "results_df=results_df.append(results_df2,ignore_index=True)\n",
        "results_df=results_df.append(results_df3a,ignore_index=True)\n",
        "results_df=results_df.append(results_df4a,ignore_index=True)\n",
        "results_df=results_df.append(results_df_do,ignore_index=True)\n",
        "results_df=results_df.append(results_df_do_2,ignore_index=True)\n",
        "results_df=results_df.append(results_df_do_3a,ignore_index=True)\n",
        "results_df=results_df.append(results_df_do_4a,ignore_index=True)\n",
        "\n",
        "results_df"
      ],
      "execution_count": 433,
      "outputs": [
        {
          "output_type": "execute_result",
          "data": {
            "text/html": [
              "<div>\n",
              "<style scoped>\n",
              "    .dataframe tbody tr th:only-of-type {\n",
              "        vertical-align: middle;\n",
              "    }\n",
              "\n",
              "    .dataframe tbody tr th {\n",
              "        vertical-align: top;\n",
              "    }\n",
              "\n",
              "    .dataframe thead th {\n",
              "        text-align: right;\n",
              "    }\n",
              "</style>\n",
              "<table border=\"1\" class=\"dataframe\">\n",
              "  <thead>\n",
              "    <tr style=\"text-align: right;\">\n",
              "      <th></th>\n",
              "      <th>model</th>\n",
              "      <th>loss</th>\n",
              "      <th>accuracy</th>\n",
              "      <th>val_loss</th>\n",
              "      <th>val_accuracy</th>\n",
              "      <th>training time (sec)</th>\n",
              "      <th>testing time (sec)</th>\n",
              "    </tr>\n",
              "  </thead>\n",
              "  <tbody>\n",
              "    <tr>\n",
              "      <th>0</th>\n",
              "      <td>DNN (2 layers)</td>\n",
              "      <td>0.463785</td>\n",
              "      <td>0.837818</td>\n",
              "      <td>0.485111</td>\n",
              "      <td>0.8342</td>\n",
              "      <td>24.588407</td>\n",
              "      <td>0.680281</td>\n",
              "    </tr>\n",
              "    <tr>\n",
              "      <th>1</th>\n",
              "      <td>DNN (3 layers)</td>\n",
              "      <td>0.385630</td>\n",
              "      <td>0.865982</td>\n",
              "      <td>0.401313</td>\n",
              "      <td>0.8648</td>\n",
              "      <td>25.708726</td>\n",
              "      <td>0.685052</td>\n",
              "    </tr>\n",
              "    <tr>\n",
              "      <th>2</th>\n",
              "      <td>CNN (2 layers)</td>\n",
              "      <td>0.063891</td>\n",
              "      <td>0.976691</td>\n",
              "      <td>0.325891</td>\n",
              "      <td>0.9112</td>\n",
              "      <td>38.238292</td>\n",
              "      <td>0.808707</td>\n",
              "    </tr>\n",
              "    <tr>\n",
              "      <th>3</th>\n",
              "      <td>CNN (3 layers)</td>\n",
              "      <td>0.080035</td>\n",
              "      <td>0.969855</td>\n",
              "      <td>0.333014</td>\n",
              "      <td>0.9122</td>\n",
              "      <td>40.204980</td>\n",
              "      <td>0.782725</td>\n",
              "    </tr>\n",
              "    <tr>\n",
              "      <th>4</th>\n",
              "      <td>DNN (2 layers DO)</td>\n",
              "      <td>1.013321</td>\n",
              "      <td>0.651164</td>\n",
              "      <td>0.708738</td>\n",
              "      <td>0.7948</td>\n",
              "      <td>25.276361</td>\n",
              "      <td>0.686898</td>\n",
              "    </tr>\n",
              "    <tr>\n",
              "      <th>5</th>\n",
              "      <td>DNN (3 layers DO)</td>\n",
              "      <td>0.988412</td>\n",
              "      <td>0.630727</td>\n",
              "      <td>0.703835</td>\n",
              "      <td>0.7608</td>\n",
              "      <td>28.653613</td>\n",
              "      <td>0.705578</td>\n",
              "    </tr>\n",
              "    <tr>\n",
              "      <th>6</th>\n",
              "      <td>CNN (2 layers DO)</td>\n",
              "      <td>0.152211</td>\n",
              "      <td>0.941564</td>\n",
              "      <td>0.214356</td>\n",
              "      <td>0.9240</td>\n",
              "      <td>40.292825</td>\n",
              "      <td>0.854104</td>\n",
              "    </tr>\n",
              "    <tr>\n",
              "      <th>7</th>\n",
              "      <td>CNN (3 layers DO)</td>\n",
              "      <td>0.202688</td>\n",
              "      <td>0.923545</td>\n",
              "      <td>0.216248</td>\n",
              "      <td>0.9206</td>\n",
              "      <td>43.237015</td>\n",
              "      <td>0.794071</td>\n",
              "    </tr>\n",
              "  </tbody>\n",
              "</table>\n",
              "</div>"
            ],
            "text/plain": [
              "               model      loss  ...  training time (sec)  testing time (sec)\n",
              "0     DNN (2 layers)  0.463785  ...            24.588407            0.680281\n",
              "1     DNN (3 layers)  0.385630  ...            25.708726            0.685052\n",
              "2     CNN (2 layers)  0.063891  ...            38.238292            0.808707\n",
              "3     CNN (3 layers)  0.080035  ...            40.204980            0.782725\n",
              "4  DNN (2 layers DO)  1.013321  ...            25.276361            0.686898\n",
              "5  DNN (3 layers DO)  0.988412  ...            28.653613            0.705578\n",
              "6  CNN (2 layers DO)  0.152211  ...            40.292825            0.854104\n",
              "7  CNN (3 layers DO)  0.202688  ...            43.237015            0.794071\n",
              "\n",
              "[8 rows x 7 columns]"
            ]
          },
          "metadata": {
            "tags": []
          },
          "execution_count": 433
        }
      ]
    },
    {
      "cell_type": "code",
      "metadata": {
        "id": "1jBPUNLq1UBg",
        "colab_type": "code",
        "colab": {}
      },
      "source": [
        ""
      ],
      "execution_count": 432,
      "outputs": []
    }
  ]
}