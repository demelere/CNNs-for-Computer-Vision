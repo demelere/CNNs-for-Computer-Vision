{
  "nbformat": 4,
  "nbformat_minor": 0,
  "metadata": {
    "accelerator": "GPU",
    "colab": {
      "name": "458 - Assignment 2",
      "provenance": [],
      "collapsed_sections": [],
      "include_colab_link": true
    },
    "kernelspec": {
      "display_name": "Python 3",
      "language": "python",
      "name": "python3"
    },
    "language_info": {
      "codemirror_mode": {
        "name": "ipython",
        "version": 3
      },
      "file_extension": ".py",
      "mimetype": "text/x-python",
      "name": "python",
      "nbconvert_exporter": "python",
      "pygments_lexer": "ipython3",
      "version": "3.6.8"
    },
    "toc": {
      "base_numbering": 1,
      "nav_menu": {},
      "number_sections": false,
      "sideBar": true,
      "skip_h1_title": false,
      "title_cell": "Table of Contents",
      "title_sidebar": "Contents",
      "toc_cell": false,
      "toc_position": {},
      "toc_section_display": true,
      "toc_window_display": true
    }
  },
  "cells": [
    {
      "cell_type": "markdown",
      "metadata": {
        "id": "view-in-github",
        "colab_type": "text"
      },
      "source": [
        "<a href=\"https://colab.research.google.com/github/demelere/CNNs-for-Computer-Vision/blob/master/458_Assignment_2.ipynb\" target=\"_parent\"><img src=\"https://colab.research.google.com/assets/colab-badge.svg\" alt=\"Open In Colab\"/></a>"
      ]
    },
    {
      "cell_type": "markdown",
      "metadata": {
        "colab_type": "text",
        "id": "ahuunsCJXXFx"
      },
      "source": [
        "# Overview\n",
        "\n",
        "We run 5 experiments with different models measured by accuracy\n",
        "\n",
        "Model | Loss | Accuracy | Val Loss | Val Accuracy | Training | Testing\n",
        "--- | --- | --- | --- | --- | --- | --- \n",
        "DNN (2 layers no dropout) | Row 1, Col 2 | \n",
        "DNN (3 layers no dropout) | Row 2, Col 2 |\n",
        "CNN (2 layers no dropout) | Row 2, Col 2 |\n",
        "CNN (2 layers no dropout) | Row 2, Col 2 |\n",
        "\n",
        "Model | Loss | Accuracy | Val Loss | Val Accuracy | Training | Testing\n",
        "--- | --- | --- | --- | --- | --- | --- \n",
        "DNN (2 layers w/dropout) | Row 1, Col 2 | \n",
        "DNN (3 layers w/dropout) | Row 2, Col 2 |\n",
        "CNN (2 layers w/dropout) | Row 2, Col 2 |\n",
        "CNN (2 layers w/dropout) | Row 2, Col 2 |\n",
        "\n",
        "Parameters for all models: \n",
        "* Batch size = 100\n",
        "* Epochs = 20\n",
        "* Loss function = sparse categorical cross-entropy\n",
        "* Optimizer = Adam"
      ]
    },
    {
      "cell_type": "markdown",
      "metadata": {
        "colab_type": "text",
        "id": "FbTDtmJlXXFy"
      },
      "source": [
        "# A. Setup and Import"
      ]
    },
    {
      "cell_type": "code",
      "metadata": {
        "colab_type": "code",
        "id": "HAXsecMAXXF0",
        "colab": {
          "base_uri": "https://localhost:8080/",
          "height": 51
        },
        "outputId": "aa607f39-3c8c-460d-ca2c-ebc76c0e92a9"
      },
      "source": [
        "# Import dependencies\n",
        "import numpy as np\n",
        "import pandas as pd\n",
        "import os\n",
        "from collections import Counter\n",
        "import datetime\n",
        "\n",
        "import tensorflow as tf\n",
        "from tensorflow import keras\n",
        "from tensorflow.keras import models\n",
        "from tensorflow.keras import layers\n",
        "from tensorflow.keras import optimizers\n",
        "from tensorflow.keras import regularizers\n",
        "from tensorflow.keras.preprocessing.image import ImageDataGenerator\n",
        "from tensorflow.keras.preprocessing import image\n",
        "\n",
        "%matplotlib inline\n",
        "import matplotlib.pyplot as plt\n",
        "import seaborn as sns"
      ],
      "execution_count": 1,
      "outputs": [
        {
          "output_type": "stream",
          "text": [
            "/usr/local/lib/python3.6/dist-packages/statsmodels/tools/_testing.py:19: FutureWarning: pandas.util.testing is deprecated. Use the functions in the public API at pandas.testing instead.\n",
            "  import pandas.util.testing as tm\n"
          ],
          "name": "stderr"
        }
      ]
    },
    {
      "cell_type": "code",
      "metadata": {
        "colab_type": "code",
        "id": "LYCZ3TV_XXGB",
        "colab": {}
      },
      "source": [
        "# check Keras version\n",
        "keras.__version__\n",
        "\n",
        "# check tensorflow version\n",
        "tf.__version__\n",
        "\n",
        "# set seed\n",
        "keras.backend.clear_session()\n",
        "np.random.seed(42)\n",
        "tf.random.set_seed(42)"
      ],
      "execution_count": 2,
      "outputs": []
    },
    {
      "cell_type": "code",
      "metadata": {
        "colab_type": "code",
        "id": "jNeB1k8tXXGY",
        "colab": {
          "base_uri": "https://localhost:8080/",
          "height": 122
        },
        "outputId": "96107d27-2628-49b0-a239-80519bce0beb"
      },
      "source": [
        "from google.colab import drive\n",
        "drive.mount('/content/gdrive')"
      ],
      "execution_count": 3,
      "outputs": [
        {
          "output_type": "stream",
          "text": [
            "Go to this URL in a browser: https://accounts.google.com/o/oauth2/auth?client_id=947318989803-6bn6qk8qdgf4n4g3pfee6491hc0brc4i.apps.googleusercontent.com&redirect_uri=urn%3aietf%3awg%3aoauth%3a2.0%3aoob&response_type=code&scope=email%20https%3a%2f%2fwww.googleapis.com%2fauth%2fdocs.test%20https%3a%2f%2fwww.googleapis.com%2fauth%2fdrive%20https%3a%2f%2fwww.googleapis.com%2fauth%2fdrive.photos.readonly%20https%3a%2f%2fwww.googleapis.com%2fauth%2fpeopleapi.readonly\n",
            "\n",
            "Enter your authorization code:\n",
            "··········\n",
            "Mounted at /content/gdrive\n"
          ],
          "name": "stdout"
        }
      ]
    },
    {
      "cell_type": "code",
      "metadata": {
        "colab_type": "code",
        "id": "-sSk6UJcXXGg",
        "colab": {}
      },
      "source": [
        "# Saving in Colab\n",
        "# os.getcwd()\n",
        "# %cd /content/gdrive/My\\ Drive/MSDS458/weekfive\n",
        "# !pwd\n",
        "# !ls\n",
        "# print('Working Directory')\n",
        "# print(os.getcwd())\n",
        "# work_dir = \"content/gdrive/My Drive/MSDS458/weekfive\"\n",
        "# chp_id = \"ann\""
      ],
      "execution_count": 4,
      "outputs": []
    },
    {
      "cell_type": "markdown",
      "metadata": {
        "colab_type": "text",
        "id": "6pR2s38pXXGm"
      },
      "source": [
        "## A.1 Import data"
      ]
    },
    {
      "cell_type": "code",
      "metadata": {
        "colab_type": "code",
        "id": "49o4f6jiXXGm",
        "colab": {
          "base_uri": "https://localhost:8080/",
          "height": 170
        },
        "outputId": "e54694ff-6378-4450-e904-6eb1b23d2b12"
      },
      "source": [
        "from tensorflow.keras.datasets import fashion_mnist\n",
        "(train_images, train_labels), (test_images, test_labels) = fashion_mnist.load_data()\n",
        "train_images.shape, test_images.shape, test_labels.shape, test_labels.shape"
      ],
      "execution_count": 5,
      "outputs": [
        {
          "output_type": "stream",
          "text": [
            "Downloading data from https://storage.googleapis.com/tensorflow/tf-keras-datasets/train-labels-idx1-ubyte.gz\n",
            "32768/29515 [=================================] - 0s 0us/step\n",
            "Downloading data from https://storage.googleapis.com/tensorflow/tf-keras-datasets/train-images-idx3-ubyte.gz\n",
            "26427392/26421880 [==============================] - 0s 0us/step\n",
            "Downloading data from https://storage.googleapis.com/tensorflow/tf-keras-datasets/t10k-labels-idx1-ubyte.gz\n",
            "8192/5148 [===============================================] - 0s 0us/step\n",
            "Downloading data from https://storage.googleapis.com/tensorflow/tf-keras-datasets/t10k-images-idx3-ubyte.gz\n",
            "4423680/4422102 [==============================] - 0s 0us/step\n"
          ],
          "name": "stdout"
        },
        {
          "output_type": "execute_result",
          "data": {
            "text/plain": [
              "((60000, 28, 28), (10000, 28, 28), (10000,), (10000,))"
            ]
          },
          "metadata": {
            "tags": []
          },
          "execution_count": 5
        }
      ]
    },
    {
      "cell_type": "code",
      "metadata": {
        "colab_type": "code",
        "id": "74rhoyr5XXGs",
        "colab": {
          "base_uri": "https://localhost:8080/",
          "height": 187
        },
        "outputId": "b16deb9e-5a61-42c6-f0a0-2a04314405f3"
      },
      "source": [
        "# training labels are integers btw/0 and 9, and correspond to different articles of clothing\n",
        "Counter(train_labels).most_common()"
      ],
      "execution_count": 6,
      "outputs": [
        {
          "output_type": "execute_result",
          "data": {
            "text/plain": [
              "[(9, 6000),\n",
              " (0, 6000),\n",
              " (3, 6000),\n",
              " (2, 6000),\n",
              " (7, 6000),\n",
              " (5, 6000),\n",
              " (1, 6000),\n",
              " (6, 6000),\n",
              " (4, 6000),\n",
              " (8, 6000)]"
            ]
          },
          "metadata": {
            "tags": []
          },
          "execution_count": 6
        }
      ]
    },
    {
      "cell_type": "code",
      "metadata": {
        "colab_type": "code",
        "id": "_2dOESWUXXGx",
        "colab": {}
      },
      "source": [
        "class_names = ['T-shirt/top', 'Trouser', 'Pullover', 'Dress', 'Coat',\n",
        "               'Sandal', 'Shirt', 'Sneaker', 'Bag', 'Ankle boot']"
      ],
      "execution_count": 7,
      "outputs": []
    },
    {
      "cell_type": "code",
      "metadata": {
        "colab_type": "code",
        "id": "9Rwf1NjAXXG2",
        "colab": {
          "base_uri": "https://localhost:8080/",
          "height": 264
        },
        "outputId": "a5e7d407-7c22-429a-8cdd-824431581120"
      },
      "source": [
        "# example of training image\n",
        "plt.imshow(train_images[0], cmap=\"binary\") \n",
        "plt.axis('off')\n",
        "plt.title(class_names[test_labels[0]], fontsize=12)\n",
        "plt.show()"
      ],
      "execution_count": 8,
      "outputs": [
        {
          "output_type": "display_data",
          "data": {
            "image/png": "[encoded data removed]",
            "text/plain": [
              "<Figure size 432x288 with 1 Axes>"
            ]
          },
          "metadata": {
            "tags": [],
            "needs_background": "light"
          }
        }
      ]
    },
    {
      "cell_type": "code",
      "metadata": {
        "colab_type": "code",
        "id": "ba_K-IpdXXG8",
        "colab": {
          "base_uri": "https://localhost:8080/",
          "height": 264
        },
        "outputId": "8a22ff11-c9c6-4edd-a849-29622687adc9"
      },
      "source": [
        "# example of training image\n",
        "plt.imshow(train_images[1], cmap=\"binary\") \n",
        "plt.axis('off')\n",
        "plt.title(class_names[test_labels[1]], fontsize=12)\n",
        "plt.show()"
      ],
      "execution_count": 9,
      "outputs": [
        {
          "output_type": "display_data",
          "data": {
            "image/png": "[encoded data removed]",
            "text/plain": [
              "<Figure size 432x288 with 1 Axes>"
            ]
          },
          "metadata": {
            "tags": [],
            "needs_background": "light"
          }
        }
      ]
    },
    {
      "cell_type": "code",
      "metadata": {
        "id": "8ZoZbuQYlMwo",
        "colab_type": "code",
        "colab": {
          "base_uri": "https://localhost:8080/",
          "height": 264
        },
        "outputId": "e4093692-1731-42a9-a737-76644649d04a"
      },
      "source": [
        "# example of training image\n",
        "plt.imshow(train_images[2], cmap=\"binary\") \n",
        "plt.axis('off')\n",
        "plt.title(class_names[test_labels[2]], fontsize=12)\n",
        "plt.show()"
      ],
      "execution_count": 10,
      "outputs": [
        {
          "output_type": "display_data",
          "data": {
            "image/png": "[encoded data removed]",
            "text/plain": [
              "<Figure size 432x288 with 1 Axes>"
            ]
          },
          "metadata": {
            "tags": [],
            "needs_background": "light"
          }
        }
      ]
    },
    {
      "cell_type": "markdown",
      "metadata": {
        "colab_type": "text",
        "id": "391ZFdRzXXHD"
      },
      "source": [
        "## A.2 Data Cleaning and Transformation"
      ]
    },
    {
      "cell_type": "code",
      "metadata": {
        "colab_type": "code",
        "id": "3P5LUQiEXXHD",
        "colab": {}
      },
      "source": [
        "# Reshape the data into the right format for model (float32 array w/shape 60000, 28*28 and values btw/ 0 and 1).\n",
        "#train_images = train_images.reshape((60000, 28 * 28))  # Decided instead to use a Flatten layer in the model\n",
        "train_images = train_images.astype('float32') / 255\n",
        "\n",
        "#test_images = test_images.reshape((10000, 28 * 28))  # Decided instead to use a Flatten layer in the model\n",
        "test_images = test_images.astype('float32') / 255"
      ],
      "execution_count": 11,
      "outputs": []
    },
    {
      "cell_type": "code",
      "metadata": {
        "colab_type": "code",
        "id": "eTgoHS6wXXHM",
        "colab": {}
      },
      "source": [
        "# Hold back 5,000 of the 60,000 training images for validation.\n",
        "val_images, train_images = train_images[:5000], train_images[5000:] \n",
        "val_labels, train_labels = train_labels[:5000], train_labels[5000:]"
      ],
      "execution_count": 12,
      "outputs": []
    },
    {
      "cell_type": "code",
      "metadata": {
        "colab_type": "code",
        "id": "wtmDm5WIXXHR",
        "colab": {}
      },
      "source": [
        "# function to help calculate training and test evaluation times\n",
        "class TrainRuntimeCallback(keras.callbacks.Callback):\n",
        "\n",
        "  def on_train_begin(self,logs={}):\n",
        "    self.start = datetime.datetime.now()\n",
        "\n",
        "  def on_train_end(self,logs={}):\n",
        "    self.process_time = (datetime.datetime.now() - self.start).total_seconds()"
      ],
      "execution_count": 13,
      "outputs": []
    },
    {
      "cell_type": "code",
      "metadata": {
        "colab_type": "code",
        "id": "pAQ24bJWXXHW",
        "colab": {}
      },
      "source": [
        "class TestRuntimeCallback(keras.callbacks.Callback):\n",
        "\n",
        "  def on_test_begin(self,logs={}):\n",
        "    self.start = datetime.datetime.now()\n",
        "\n",
        "  def on_test_end(self,logs={}):\n",
        "    self.process_time = (datetime.datetime.now() - self.start).total_seconds()"
      ],
      "execution_count": 14,
      "outputs": []
    },
    {
      "cell_type": "markdown",
      "metadata": {
        "colab_type": "text",
        "id": "0ib-5EmTXXHb"
      },
      "source": [
        "# 1. Experiment 1: Baseline DNN w/2 layers\n",
        "\n",
        "This model will have 784 input nodes.  It will take two dense (fully-connected) layers.  The first (hidden) layer will have 5 nodes, and the second (softmax) layer will have 10 output nodes."
      ]
    },
    {
      "cell_type": "code",
      "metadata": {
        "colab_type": "code",
        "id": "7o2Rq2T4XXHd",
        "colab": {}
      },
      "source": [
        "model_1 = models.Sequential()\n",
        "model_1.add(layers.Flatten(input_shape=[28, 28]))\n",
        "model_1.add(layers.Dense(5, activation='relu'))\n",
        "model_1.add(layers.Dense(10, activation='softmax')) "
      ],
      "execution_count": 15,
      "outputs": []
    },
    {
      "cell_type": "code",
      "metadata": {
        "colab_type": "code",
        "id": "E2zDUJXdXXHg",
        "colab": {
          "base_uri": "https://localhost:8080/",
          "height": 255
        },
        "outputId": "866b3f1e-5614-42f0-bb9c-88f4ca8b9212"
      },
      "source": [
        "model_1.summary()"
      ],
      "execution_count": 16,
      "outputs": [
        {
          "output_type": "stream",
          "text": [
            "Model: \"sequential\"\n",
            "_________________________________________________________________\n",
            "Layer (type)                 Output Shape              Param #   \n",
            "=================================================================\n",
            "flatten (Flatten)            (None, 784)               0         \n",
            "_________________________________________________________________\n",
            "dense (Dense)                (None, 5)                 3925      \n",
            "_________________________________________________________________\n",
            "dense_1 (Dense)              (None, 10)                60        \n",
            "=================================================================\n",
            "Total params: 3,985\n",
            "Trainable params: 3,985\n",
            "Non-trainable params: 0\n",
            "_________________________________________________________________\n"
          ],
          "name": "stdout"
        }
      ]
    },
    {
      "cell_type": "code",
      "metadata": {
        "colab_type": "code",
        "id": "q5zLkPPMXXHk",
        "colab": {
          "base_uri": "https://localhost:8080/",
          "height": 422
        },
        "outputId": "0831c55b-bfd2-4347-f846-fe59dec7e23a"
      },
      "source": [
        "keras.utils.plot_model(model_1, show_shapes=True)"
      ],
      "execution_count": 17,
      "outputs": [
        {
          "output_type": "execute_result",
          "data": {
            "image/png": "[encoded data removed]",
            "text/plain": [
              "<IPython.core.display.Image object>"
            ]
          },
          "metadata": {
            "tags": []
          },
          "execution_count": 17
        }
      ]
    },
    {
      "cell_type": "markdown",
      "metadata": {
        "colab_type": "text",
        "id": "XspoH2AZXXHn"
      },
      "source": [
        "## 1A. Model Compilation\n",
        "\n",
        "This step includes an optimizer (how the network updates itself based on the data and the loss function), a loss function (how the network measures how good a job it is doing on the data and adjusts), and metrics (accuracy)."
      ]
    },
    {
      "cell_type": "code",
      "metadata": {
        "colab_type": "code",
        "id": "WIAmczv3XXHo",
        "colab": {}
      },
      "source": [
        "model_1.compile(optimizer='adam',\n",
        "                loss='sparse_categorical_crossentropy',\n",
        "                metrics=['accuracy'])"
      ],
      "execution_count": 18,
      "outputs": []
    },
    {
      "cell_type": "markdown",
      "metadata": {
        "colab_type": "text",
        "id": "-kJgeHo1XXHu"
      },
      "source": [
        "## 1B. Model Training\n",
        "\n",
        "Train model for 20 epochs with batch size 100"
      ]
    },
    {
      "cell_type": "code",
      "metadata": {
        "colab_type": "code",
        "id": "ef3NJp4JXXHu",
        "colab": {
          "base_uri": "https://localhost:8080/",
          "height": 714
        },
        "outputId": "58cecfe8-e306-4790-e8cc-29d100de0cde"
      },
      "source": [
        "train_rt = TrainRuntimeCallback()\n",
        "history = model_1.fit(train_images, train_labels, callbacks=[train_rt], epochs=20, batch_size=100,\n",
        "                    validation_data=(val_images, val_labels))\n",
        "\n",
        "# Saving models locally after fitting\n",
        "save_dir = \"results/\"\n",
        "model_name = 'fashion_mnist_model_1.h5'\n",
        "model_path = os.path.join(save_dir, model_name)\n",
        "print('--------------------------')"
      ],
      "execution_count": 19,
      "outputs": [
        {
          "output_type": "stream",
          "text": [
            "Epoch 1/20\n",
            "550/550 [==============================] - 2s 3ms/step - loss: 1.5333 - accuracy: 0.5120 - val_loss: 1.0563 - val_accuracy: 0.7034\n",
            "Epoch 2/20\n",
            "550/550 [==============================] - 2s 3ms/step - loss: 0.8434 - accuracy: 0.7454 - val_loss: 0.6535 - val_accuracy: 0.7846\n",
            "Epoch 3/20\n",
            "550/550 [==============================] - 2s 3ms/step - loss: 0.6183 - accuracy: 0.7958 - val_loss: 0.5835 - val_accuracy: 0.8096\n",
            "Epoch 4/20\n",
            "550/550 [==============================] - 2s 3ms/step - loss: 0.5639 - accuracy: 0.8114 - val_loss: 0.5502 - val_accuracy: 0.8138\n",
            "Epoch 5/20\n",
            "550/550 [==============================] - 2s 3ms/step - loss: 0.5399 - accuracy: 0.8178 - val_loss: 0.5279 - val_accuracy: 0.8230\n",
            "Epoch 6/20\n",
            "550/550 [==============================] - 1s 3ms/step - loss: 0.5250 - accuracy: 0.8205 - val_loss: 0.5145 - val_accuracy: 0.8288\n",
            "Epoch 7/20\n",
            "550/550 [==============================] - 2s 3ms/step - loss: 0.5135 - accuracy: 0.8244 - val_loss: 0.5108 - val_accuracy: 0.8294\n",
            "Epoch 8/20\n",
            "550/550 [==============================] - 2s 3ms/step - loss: 0.5047 - accuracy: 0.8245 - val_loss: 0.5053 - val_accuracy: 0.8282\n",
            "Epoch 9/20\n",
            "550/550 [==============================] - 2s 3ms/step - loss: 0.4980 - accuracy: 0.8274 - val_loss: 0.5042 - val_accuracy: 0.8292\n",
            "Epoch 10/20\n",
            "550/550 [==============================] - 2s 3ms/step - loss: 0.4922 - accuracy: 0.8294 - val_loss: 0.4969 - val_accuracy: 0.8316\n",
            "Epoch 11/20\n",
            "550/550 [==============================] - 2s 3ms/step - loss: 0.4889 - accuracy: 0.8298 - val_loss: 0.4961 - val_accuracy: 0.8316\n",
            "Epoch 12/20\n",
            "550/550 [==============================] - 2s 3ms/step - loss: 0.4847 - accuracy: 0.8309 - val_loss: 0.4964 - val_accuracy: 0.8310\n",
            "Epoch 13/20\n",
            "550/550 [==============================] - 2s 3ms/step - loss: 0.4815 - accuracy: 0.8327 - val_loss: 0.4896 - val_accuracy: 0.8344\n",
            "Epoch 14/20\n",
            "550/550 [==============================] - 2s 3ms/step - loss: 0.4780 - accuracy: 0.8333 - val_loss: 0.4904 - val_accuracy: 0.8338\n",
            "Epoch 15/20\n",
            "550/550 [==============================] - 2s 3ms/step - loss: 0.4750 - accuracy: 0.8344 - val_loss: 0.4850 - val_accuracy: 0.8362\n",
            "Epoch 16/20\n",
            "550/550 [==============================] - 1s 3ms/step - loss: 0.4724 - accuracy: 0.8342 - val_loss: 0.4849 - val_accuracy: 0.8346\n",
            "Epoch 17/20\n",
            "550/550 [==============================] - 2s 3ms/step - loss: 0.4695 - accuracy: 0.8354 - val_loss: 0.4900 - val_accuracy: 0.8330\n",
            "Epoch 18/20\n",
            "550/550 [==============================] - 2s 3ms/step - loss: 0.4670 - accuracy: 0.8373 - val_loss: 0.4860 - val_accuracy: 0.8356\n",
            "Epoch 19/20\n",
            "550/550 [==============================] - 2s 3ms/step - loss: 0.4662 - accuracy: 0.8371 - val_loss: 0.4875 - val_accuracy: 0.8384\n",
            "Epoch 20/20\n",
            "550/550 [==============================] - 2s 3ms/step - loss: 0.4638 - accuracy: 0.8378 - val_loss: 0.4851 - val_accuracy: 0.8342\n",
            "--------------------------\n"
          ],
          "name": "stdout"
        }
      ]
    },
    {
      "cell_type": "code",
      "metadata": {
        "colab_type": "code",
        "id": "-U-ofxckXXHy",
        "colab": {
          "base_uri": "https://localhost:8080/",
          "height": 34
        },
        "outputId": "0be53a13-f629-4084-cbee-8779550b4fe7"
      },
      "source": [
        "# Get the training time\n",
        "train_time = train_rt.process_time\n",
        "train_time # in seconds"
      ],
      "execution_count": 20,
      "outputs": [
        {
          "output_type": "execute_result",
          "data": {
            "text/plain": [
              "32.795924"
            ]
          },
          "metadata": {
            "tags": []
          },
          "execution_count": 20
        }
      ]
    },
    {
      "cell_type": "code",
      "metadata": {
        "colab_type": "code",
        "id": "gOIPjzQPXXH2",
        "colab": {
          "base_uri": "https://localhost:8080/",
          "height": 221
        },
        "outputId": "d996f69c-ad1b-45c5-c62d-2a441005e081"
      },
      "source": [
        "model_1.layers[1].weights"
      ],
      "execution_count": 21,
      "outputs": [
        {
          "output_type": "execute_result",
          "data": {
            "text/plain": [
              "[<tf.Variable 'dense/kernel:0' shape=(784, 5) dtype=float32, numpy=\n",
              " array([[-0.08495618, -0.02450576,  0.58677286, -0.18403262, -0.30403847],\n",
              "        [-0.13381945,  0.0156066 ,  0.09165877, -0.07803709,  0.00608785],\n",
              "        [ 0.3904081 , -0.406651  , -0.47576344, -0.4887886 , -0.10543962],\n",
              "        ...,\n",
              "        [ 0.47443533,  0.41354373,  0.10598996, -0.03145832,  0.23590454],\n",
              "        [ 0.00998982,  0.6004994 , -0.1173063 , -0.19239673,  0.39222473],\n",
              "        [ 0.07808977,  0.43139708,  0.21162064, -0.48969534,  0.10832082]],\n",
              "       dtype=float32)>,\n",
              " <tf.Variable 'dense/bias:0' shape=(5,) dtype=float32, numpy=\n",
              " array([ 1.0045773 ,  0.8961465 ,  0.6753071 ,  0.92306274, -0.3268375 ],\n",
              "       dtype=float32)>]"
            ]
          },
          "metadata": {
            "tags": []
          },
          "execution_count": 21
        }
      ]
    },
    {
      "cell_type": "markdown",
      "metadata": {
        "colab_type": "text",
        "id": "QxUSbTVuXXH8"
      },
      "source": [
        "## 1C. Model Testing\n",
        "\n",
        "Test the model on the test dataset."
      ]
    },
    {
      "cell_type": "code",
      "metadata": {
        "colab_type": "code",
        "id": "bQvx1-KjXXH8",
        "colab": {
          "base_uri": "https://localhost:8080/",
          "height": 34
        },
        "outputId": "7a37e52a-a958-48c8-a3b7-157ed02e0d7a"
      },
      "source": [
        "test_rt = TestRuntimeCallback()\n",
        "test_loss, test_acc = model_1.evaluate(test_images, test_labels, callbacks=[test_rt])"
      ],
      "execution_count": 22,
      "outputs": [
        {
          "output_type": "stream",
          "text": [
            "313/313 [==============================] - 1s 3ms/step - loss: 0.5112 - accuracy: 0.8244\n"
          ],
          "name": "stdout"
        }
      ]
    },
    {
      "cell_type": "code",
      "metadata": {
        "colab_type": "code",
        "id": "X-u1CkZGXXIB",
        "colab": {
          "base_uri": "https://localhost:8080/",
          "height": 34
        },
        "outputId": "d7e40afd-4b1f-4cfe-eaa3-87342a1e635d"
      },
      "source": [
        "# Get the test time\n",
        "test_time = test_rt.process_time\n",
        "test_time # in seconds"
      ],
      "execution_count": 23,
      "outputs": [
        {
          "output_type": "execute_result",
          "data": {
            "text/plain": [
              "0.905262"
            ]
          },
          "metadata": {
            "tags": []
          },
          "execution_count": 23
        }
      ]
    },
    {
      "cell_type": "code",
      "metadata": {
        "colab_type": "code",
        "id": "K0-Rd1biXXIG",
        "colab": {
          "base_uri": "https://localhost:8080/",
          "height": 34
        },
        "outputId": "de12282a-5b3d-462e-b4cc-468c0f7ab060"
      },
      "source": [
        "history_dict = history.history\n",
        "history_dict.keys()"
      ],
      "execution_count": 24,
      "outputs": [
        {
          "output_type": "execute_result",
          "data": {
            "text/plain": [
              "dict_keys(['loss', 'accuracy', 'val_loss', 'val_accuracy'])"
            ]
          },
          "metadata": {
            "tags": []
          },
          "execution_count": 24
        }
      ]
    },
    {
      "cell_type": "code",
      "metadata": {
        "colab_type": "code",
        "id": "qpeeQDfCXXIJ",
        "colab": {
          "base_uri": "https://localhost:8080/",
          "height": 204
        },
        "outputId": "773fa38f-049b-478d-c39d-48a0ba47dd3a"
      },
      "source": [
        "history_df=pd.DataFrame(history_dict)\n",
        "history_df.tail()"
      ],
      "execution_count": 25,
      "outputs": [
        {
          "output_type": "execute_result",
          "data": {
            "text/html": [
              "<div>\n",
              "<style scoped>\n",
              "    .dataframe tbody tr th:only-of-type {\n",
              "        vertical-align: middle;\n",
              "    }\n",
              "\n",
              "    .dataframe tbody tr th {\n",
              "        vertical-align: top;\n",
              "    }\n",
              "\n",
              "    .dataframe thead th {\n",
              "        text-align: right;\n",
              "    }\n",
              "</style>\n",
              "<table border=\"1\" class=\"dataframe\">\n",
              "  <thead>\n",
              "    <tr style=\"text-align: right;\">\n",
              "      <th></th>\n",
              "      <th>loss</th>\n",
              "      <th>accuracy</th>\n",
              "      <th>val_loss</th>\n",
              "      <th>val_accuracy</th>\n",
              "    </tr>\n",
              "  </thead>\n",
              "  <tbody>\n",
              "    <tr>\n",
              "      <th>15</th>\n",
              "      <td>0.472350</td>\n",
              "      <td>0.834200</td>\n",
              "      <td>0.484858</td>\n",
              "      <td>0.8346</td>\n",
              "    </tr>\n",
              "    <tr>\n",
              "      <th>16</th>\n",
              "      <td>0.469477</td>\n",
              "      <td>0.835364</td>\n",
              "      <td>0.490041</td>\n",
              "      <td>0.8330</td>\n",
              "    </tr>\n",
              "    <tr>\n",
              "      <th>17</th>\n",
              "      <td>0.467037</td>\n",
              "      <td>0.837309</td>\n",
              "      <td>0.485982</td>\n",
              "      <td>0.8356</td>\n",
              "    </tr>\n",
              "    <tr>\n",
              "      <th>18</th>\n",
              "      <td>0.466209</td>\n",
              "      <td>0.837127</td>\n",
              "      <td>0.487460</td>\n",
              "      <td>0.8384</td>\n",
              "    </tr>\n",
              "    <tr>\n",
              "      <th>19</th>\n",
              "      <td>0.463785</td>\n",
              "      <td>0.837818</td>\n",
              "      <td>0.485111</td>\n",
              "      <td>0.8342</td>\n",
              "    </tr>\n",
              "  </tbody>\n",
              "</table>\n",
              "</div>"
            ],
            "text/plain": [
              "        loss  accuracy  val_loss  val_accuracy\n",
              "15  0.472350  0.834200  0.484858        0.8346\n",
              "16  0.469477  0.835364  0.490041        0.8330\n",
              "17  0.467037  0.837309  0.485982        0.8356\n",
              "18  0.466209  0.837127  0.487460        0.8384\n",
              "19  0.463785  0.837818  0.485111        0.8342"
            ]
          },
          "metadata": {
            "tags": []
          },
          "execution_count": 25
        }
      ]
    },
    {
      "cell_type": "code",
      "metadata": {
        "colab_type": "code",
        "id": "hCjV5Z3eXXIP",
        "colab": {
          "base_uri": "https://localhost:8080/",
          "height": 80
        },
        "outputId": "af18d4ab-d5f1-492f-9636-feee2d09784b"
      },
      "source": [
        "# Create a results DataFrame using the last row of history_df\n",
        "results_df = history_df.iloc[-1:].copy()\n",
        "results_df.insert(0,'model','DNN (2 layers)') # went the model name to appear first\n",
        "results_df['training time (sec)'] = train_time      # we are okay with training time appearing last\n",
        "results_df['testing time (sec)'] = test_time      # we are okay with training time appearing last\n",
        "results_df"
      ],
      "execution_count": 26,
      "outputs": [
        {
          "output_type": "execute_result",
          "data": {
            "text/html": [
              "<div>\n",
              "<style scoped>\n",
              "    .dataframe tbody tr th:only-of-type {\n",
              "        vertical-align: middle;\n",
              "    }\n",
              "\n",
              "    .dataframe tbody tr th {\n",
              "        vertical-align: top;\n",
              "    }\n",
              "\n",
              "    .dataframe thead th {\n",
              "        text-align: right;\n",
              "    }\n",
              "</style>\n",
              "<table border=\"1\" class=\"dataframe\">\n",
              "  <thead>\n",
              "    <tr style=\"text-align: right;\">\n",
              "      <th></th>\n",
              "      <th>model</th>\n",
              "      <th>loss</th>\n",
              "      <th>accuracy</th>\n",
              "      <th>val_loss</th>\n",
              "      <th>val_accuracy</th>\n",
              "      <th>training time (sec)</th>\n",
              "      <th>testing time (sec)</th>\n",
              "    </tr>\n",
              "  </thead>\n",
              "  <tbody>\n",
              "    <tr>\n",
              "      <th>19</th>\n",
              "      <td>DNN (2 layers)</td>\n",
              "      <td>0.463785</td>\n",
              "      <td>0.837818</td>\n",
              "      <td>0.485111</td>\n",
              "      <td>0.8342</td>\n",
              "      <td>32.795924</td>\n",
              "      <td>0.905262</td>\n",
              "    </tr>\n",
              "  </tbody>\n",
              "</table>\n",
              "</div>"
            ],
            "text/plain": [
              "             model      loss  ...  training time (sec)  testing time (sec)\n",
              "19  DNN (2 layers)  0.463785  ...            32.795924            0.905262\n",
              "\n",
              "[1 rows x 7 columns]"
            ]
          },
          "metadata": {
            "tags": []
          },
          "execution_count": 26
        }
      ]
    },
    {
      "cell_type": "markdown",
      "metadata": {
        "colab_type": "text",
        "id": "dYkGwPfAXXIS"
      },
      "source": [
        "## 1D. Performance"
      ]
    },
    {
      "cell_type": "code",
      "metadata": {
        "colab_type": "code",
        "id": "NbS9aBIoXXIT",
        "colab": {
          "base_uri": "https://localhost:8080/",
          "height": 324
        },
        "outputId": "31baec6f-e5fc-4038-9e2a-267e25bdbd8f"
      },
      "source": [
        "# Plot learning curves for model\n",
        "pd.DataFrame(history.history).plot(figsize=(8, 5))\n",
        "plt.grid(True)\n",
        "plt.gca().set_ylim(0, 1) # set the vertical range to [0-1]\n",
        "plt.show()"
      ],
      "execution_count": 28,
      "outputs": [
        {
          "output_type": "display_data",
          "data": {
            "image/png": "[encoded data removed]",
            "text/plain": [
              "<Figure size 576x360 with 1 Axes>"
            ]
          },
          "metadata": {
            "tags": [],
            "needs_background": "light"
          }
        }
      ]
    },
    {
      "cell_type": "markdown",
      "metadata": {
        "colab_type": "text",
        "id": "8e21diN7XXIX"
      },
      "source": [
        "# 2. Experiment 2: DNN w/3 layers\n",
        "\n",
        "This model will have 784 input nodes.  It will take three dense (fully-connected) layers.  The first (hidden) layer will have 10 nodes, a second hidden layer with 10 nodes, and a third (softmax) layer will have 10 output nodes."
      ]
    },
    {
      "cell_type": "code",
      "metadata": {
        "colab_type": "code",
        "id": "Xgj2iP1tXXIX",
        "colab": {}
      },
      "source": [
        "# Instead of adding the layers one by one, we can pass a list of layers when creating the Sequential mode.\n",
        "model_2 = models.Sequential([\n",
        "    keras.layers.Flatten(input_shape=[28, 28]),\n",
        "    keras.layers.Dense(10, activation=\"relu\"),\n",
        "    keras.layers.Dense(5, activation=\"relu\"),\n",
        "    keras.layers.Dense(10, activation=\"softmax\")\n",
        "])"
      ],
      "execution_count": 29,
      "outputs": []
    },
    {
      "cell_type": "code",
      "metadata": {
        "colab_type": "code",
        "id": "D_EzZBMmXXIZ",
        "colab": {
          "base_uri": "https://localhost:8080/",
          "height": 289
        },
        "outputId": "c4ac6d6f-4dd7-4718-a956-8af00ae92ad0"
      },
      "source": [
        "model_2.summary()"
      ],
      "execution_count": 30,
      "outputs": [
        {
          "output_type": "stream",
          "text": [
            "Model: \"sequential_1\"\n",
            "_________________________________________________________________\n",
            "Layer (type)                 Output Shape              Param #   \n",
            "=================================================================\n",
            "flatten_1 (Flatten)          (None, 784)               0         \n",
            "_________________________________________________________________\n",
            "dense_2 (Dense)              (None, 10)                7850      \n",
            "_________________________________________________________________\n",
            "dense_3 (Dense)              (None, 5)                 55        \n",
            "_________________________________________________________________\n",
            "dense_4 (Dense)              (None, 10)                60        \n",
            "=================================================================\n",
            "Total params: 7,965\n",
            "Trainable params: 7,965\n",
            "Non-trainable params: 0\n",
            "_________________________________________________________________\n"
          ],
          "name": "stdout"
        }
      ]
    },
    {
      "cell_type": "code",
      "metadata": {
        "colab_type": "code",
        "id": "oGn5XRXLXXId",
        "colab": {
          "base_uri": "https://localhost:8080/",
          "height": 533
        },
        "outputId": "f2081455-94c7-4169-ad4b-9c5bace12d70"
      },
      "source": [
        "keras.utils.plot_model(model_2, show_shapes=True)"
      ],
      "execution_count": 31,
      "outputs": [
        {
          "output_type": "execute_result",
          "data": {
            "image/png": "[encoded data removed]",
            "text/plain": [
              "<IPython.core.display.Image object>"
            ]
          },
          "metadata": {
            "tags": []
          },
          "execution_count": 31
        }
      ]
    },
    {
      "cell_type": "markdown",
      "metadata": {
        "colab_type": "text",
        "id": "biMa0SaBXXIg"
      },
      "source": [
        "## 2A. Model Compilation"
      ]
    },
    {
      "cell_type": "code",
      "metadata": {
        "colab_type": "code",
        "id": "Gkvx5x-0XXIg",
        "colab": {}
      },
      "source": [
        "model_2.compile(optimizer='adam',\n",
        "                loss='sparse_categorical_crossentropy',\n",
        "                metrics=['accuracy'])"
      ],
      "execution_count": 32,
      "outputs": []
    },
    {
      "cell_type": "markdown",
      "metadata": {
        "colab_type": "text",
        "id": "DS7SkccpXXIk"
      },
      "source": [
        "## 2B. Model Training\n"
      ]
    },
    {
      "cell_type": "code",
      "metadata": {
        "colab_type": "code",
        "id": "-Arbr0FKXXIk",
        "colab": {
          "base_uri": "https://localhost:8080/",
          "height": 714
        },
        "outputId": "5fde0ba2-90fe-4abb-ea89-7beb86b0cbcc"
      },
      "source": [
        "train_rt = TrainRuntimeCallback()\n",
        "history = model_2.fit(train_images, train_labels, callbacks=[train_rt], epochs=20, batch_size = 100,\n",
        "                    validation_data=(val_images, val_labels))\n",
        "\n",
        "# Saving models locally after fitting\n",
        "save_dir = \"results/\"\n",
        "model_name = 'fashion_mnist_model_2.h5'\n",
        "model_path = os.path.join(save_dir, model_name)\n",
        "print('--------------------------')"
      ],
      "execution_count": 33,
      "outputs": [
        {
          "output_type": "stream",
          "text": [
            "Epoch 1/20\n",
            "550/550 [==============================] - 2s 3ms/step - loss: 1.0934 - accuracy: 0.6273 - val_loss: 0.6276 - val_accuracy: 0.7880\n",
            "Epoch 2/20\n",
            "550/550 [==============================] - 2s 3ms/step - loss: 0.5943 - accuracy: 0.7963 - val_loss: 0.5267 - val_accuracy: 0.8194\n",
            "Epoch 3/20\n",
            "550/550 [==============================] - 2s 3ms/step - loss: 0.5254 - accuracy: 0.8206 - val_loss: 0.5050 - val_accuracy: 0.8320\n",
            "Epoch 4/20\n",
            "550/550 [==============================] - 2s 3ms/step - loss: 0.4917 - accuracy: 0.8315 - val_loss: 0.4757 - val_accuracy: 0.8402\n",
            "Epoch 5/20\n",
            "550/550 [==============================] - 2s 3ms/step - loss: 0.4727 - accuracy: 0.8371 - val_loss: 0.4547 - val_accuracy: 0.8458\n",
            "Epoch 6/20\n",
            "550/550 [==============================] - 2s 3ms/step - loss: 0.4590 - accuracy: 0.8415 - val_loss: 0.4435 - val_accuracy: 0.8494\n",
            "Epoch 7/20\n",
            "550/550 [==============================] - 2s 3ms/step - loss: 0.4444 - accuracy: 0.8459 - val_loss: 0.4326 - val_accuracy: 0.8546\n",
            "Epoch 8/20\n",
            "550/550 [==============================] - 2s 3ms/step - loss: 0.4358 - accuracy: 0.8490 - val_loss: 0.4361 - val_accuracy: 0.8552\n",
            "Epoch 9/20\n",
            "550/550 [==============================] - 2s 3ms/step - loss: 0.4267 - accuracy: 0.8520 - val_loss: 0.4309 - val_accuracy: 0.8540\n",
            "Epoch 10/20\n",
            "550/550 [==============================] - 2s 3ms/step - loss: 0.4189 - accuracy: 0.8555 - val_loss: 0.4209 - val_accuracy: 0.8570\n",
            "Epoch 11/20\n",
            "550/550 [==============================] - 2s 3ms/step - loss: 0.4135 - accuracy: 0.8573 - val_loss: 0.4165 - val_accuracy: 0.8630\n",
            "Epoch 12/20\n",
            "550/550 [==============================] - 2s 3ms/step - loss: 0.4103 - accuracy: 0.8583 - val_loss: 0.4095 - val_accuracy: 0.8596\n",
            "Epoch 13/20\n",
            "550/550 [==============================] - 2s 3ms/step - loss: 0.4054 - accuracy: 0.8586 - val_loss: 0.4264 - val_accuracy: 0.8564\n",
            "Epoch 14/20\n",
            "550/550 [==============================] - 2s 3ms/step - loss: 0.4001 - accuracy: 0.8616 - val_loss: 0.4125 - val_accuracy: 0.8626\n",
            "Epoch 15/20\n",
            "550/550 [==============================] - 2s 3ms/step - loss: 0.3989 - accuracy: 0.8626 - val_loss: 0.4095 - val_accuracy: 0.8628\n",
            "Epoch 16/20\n",
            "550/550 [==============================] - 2s 3ms/step - loss: 0.3944 - accuracy: 0.8639 - val_loss: 0.4210 - val_accuracy: 0.8582\n",
            "Epoch 17/20\n",
            "550/550 [==============================] - 2s 3ms/step - loss: 0.3912 - accuracy: 0.8636 - val_loss: 0.4026 - val_accuracy: 0.8682\n",
            "Epoch 18/20\n",
            "550/550 [==============================] - 2s 3ms/step - loss: 0.3885 - accuracy: 0.8655 - val_loss: 0.4005 - val_accuracy: 0.8686\n",
            "Epoch 19/20\n",
            "550/550 [==============================] - 2s 3ms/step - loss: 0.3877 - accuracy: 0.8657 - val_loss: 0.4071 - val_accuracy: 0.8646\n",
            "Epoch 20/20\n",
            "550/550 [==============================] - 2s 3ms/step - loss: 0.3856 - accuracy: 0.8660 - val_loss: 0.4013 - val_accuracy: 0.8648\n",
            "--------------------------\n"
          ],
          "name": "stdout"
        }
      ]
    },
    {
      "cell_type": "code",
      "metadata": {
        "colab_type": "code",
        "id": "99ISKmYHXXIn",
        "colab": {
          "base_uri": "https://localhost:8080/",
          "height": 34
        },
        "outputId": "274996a6-686a-4c61-c7fa-9c612b7a8d78"
      },
      "source": [
        "# Get the training time\n",
        "train_time = train_rt.process_time\n",
        "train_time # in seconds"
      ],
      "execution_count": 34,
      "outputs": [
        {
          "output_type": "execute_result",
          "data": {
            "text/plain": [
              "33.010972"
            ]
          },
          "metadata": {
            "tags": []
          },
          "execution_count": 34
        }
      ]
    },
    {
      "cell_type": "code",
      "metadata": {
        "colab_type": "code",
        "id": "zswEiZQfXXIp",
        "colab": {
          "base_uri": "https://localhost:8080/",
          "height": 323
        },
        "outputId": "e4453b2e-515a-4ded-a5da-ce3bbd7c2b96"
      },
      "source": [
        "model_2.layers[1].weights"
      ],
      "execution_count": 35,
      "outputs": [
        {
          "output_type": "execute_result",
          "data": {
            "text/plain": [
              "[<tf.Variable 'dense_2/kernel:0' shape=(784, 10) dtype=float32, numpy=\n",
              " array([[ 0.492562  ,  0.04878264, -0.47940657, ...,  0.28546304,\n",
              "         -0.38828507, -0.02152866],\n",
              "        [ 0.51834625,  0.25312167,  0.50692636, ..., -0.21221076,\n",
              "         -0.65054923,  0.34231728],\n",
              "        [ 0.18238305, -0.15022139, -0.21308601, ...,  0.27302268,\n",
              "         -0.6952756 , -0.19941962],\n",
              "        ...,\n",
              "        [-0.23606926, -0.13785209,  0.06954515, ..., -0.06773196,\n",
              "          0.23245022,  0.4226937 ],\n",
              "        [ 0.42237   , -0.76252514, -0.14763358, ...,  0.22596513,\n",
              "          0.25379884,  0.16036202],\n",
              "        [ 0.21001188, -0.1154935 , -0.1612561 , ...,  0.28574982,\n",
              "         -0.2506767 , -0.07645879]], dtype=float32)>,\n",
              " <tf.Variable 'dense_2/bias:0' shape=(10,) dtype=float32, numpy=\n",
              " array([ 0.33735633,  0.40660843, -0.00816571,  0.27010515, -0.31941125,\n",
              "         0.47647458, -0.01031993, -0.13826932, -0.25403684,  0.60228443],\n",
              "       dtype=float32)>]"
            ]
          },
          "metadata": {
            "tags": []
          },
          "execution_count": 35
        }
      ]
    },
    {
      "cell_type": "markdown",
      "metadata": {
        "colab_type": "text",
        "id": "UIeql6poXXIt"
      },
      "source": [
        "## 2C. Model Compilation"
      ]
    },
    {
      "cell_type": "code",
      "metadata": {
        "colab_type": "code",
        "id": "2vcjR_gUXXIt",
        "colab": {
          "base_uri": "https://localhost:8080/",
          "height": 34
        },
        "outputId": "3c19e7d6-6015-49b9-b397-ea2c0f36c510"
      },
      "source": [
        "test_rt = TestRuntimeCallback()\n",
        "test_loss, test_acc = model_2.evaluate(test_images, test_labels, callbacks=[test_rt])"
      ],
      "execution_count": 36,
      "outputs": [
        {
          "output_type": "stream",
          "text": [
            "313/313 [==============================] - 1s 3ms/step - loss: 0.4404 - accuracy: 0.8490\n"
          ],
          "name": "stdout"
        }
      ]
    },
    {
      "cell_type": "code",
      "metadata": {
        "colab_type": "code",
        "id": "15xn8TpuXXIw",
        "colab": {
          "base_uri": "https://localhost:8080/",
          "height": 34
        },
        "outputId": "e3a284dd-43fa-4459-d0b8-0d517751df38"
      },
      "source": [
        "# Get the test time\n",
        "test_time = test_rt.process_time\n",
        "test_time # in seconds"
      ],
      "execution_count": 37,
      "outputs": [
        {
          "output_type": "execute_result",
          "data": {
            "text/plain": [
              "0.951219"
            ]
          },
          "metadata": {
            "tags": []
          },
          "execution_count": 37
        }
      ]
    },
    {
      "cell_type": "code",
      "metadata": {
        "colab_type": "code",
        "id": "3r41QL-zXXIy",
        "colab": {
          "base_uri": "https://localhost:8080/",
          "height": 34
        },
        "outputId": "1a789604-ed49-4e6c-d193-0b27d112edd8"
      },
      "source": [
        "history_dict = history.history\n",
        "history_dict.keys()"
      ],
      "execution_count": 38,
      "outputs": [
        {
          "output_type": "execute_result",
          "data": {
            "text/plain": [
              "dict_keys(['loss', 'accuracy', 'val_loss', 'val_accuracy'])"
            ]
          },
          "metadata": {
            "tags": []
          },
          "execution_count": 38
        }
      ]
    },
    {
      "cell_type": "code",
      "metadata": {
        "colab_type": "code",
        "id": "FjI_bo2iXXI0",
        "colab": {
          "base_uri": "https://localhost:8080/",
          "height": 204
        },
        "outputId": "751cecc5-7a91-4137-c79d-4542836ab572"
      },
      "source": [
        "history_df=pd.DataFrame(history_dict)\n",
        "history_df.tail()"
      ],
      "execution_count": 39,
      "outputs": [
        {
          "output_type": "execute_result",
          "data": {
            "text/html": [
              "<div>\n",
              "<style scoped>\n",
              "    .dataframe tbody tr th:only-of-type {\n",
              "        vertical-align: middle;\n",
              "    }\n",
              "\n",
              "    .dataframe tbody tr th {\n",
              "        vertical-align: top;\n",
              "    }\n",
              "\n",
              "    .dataframe thead th {\n",
              "        text-align: right;\n",
              "    }\n",
              "</style>\n",
              "<table border=\"1\" class=\"dataframe\">\n",
              "  <thead>\n",
              "    <tr style=\"text-align: right;\">\n",
              "      <th></th>\n",
              "      <th>loss</th>\n",
              "      <th>accuracy</th>\n",
              "      <th>val_loss</th>\n",
              "      <th>val_accuracy</th>\n",
              "    </tr>\n",
              "  </thead>\n",
              "  <tbody>\n",
              "    <tr>\n",
              "      <th>15</th>\n",
              "      <td>0.394387</td>\n",
              "      <td>0.863873</td>\n",
              "      <td>0.421012</td>\n",
              "      <td>0.8582</td>\n",
              "    </tr>\n",
              "    <tr>\n",
              "      <th>16</th>\n",
              "      <td>0.391197</td>\n",
              "      <td>0.863582</td>\n",
              "      <td>0.402562</td>\n",
              "      <td>0.8682</td>\n",
              "    </tr>\n",
              "    <tr>\n",
              "      <th>17</th>\n",
              "      <td>0.388530</td>\n",
              "      <td>0.865491</td>\n",
              "      <td>0.400487</td>\n",
              "      <td>0.8686</td>\n",
              "    </tr>\n",
              "    <tr>\n",
              "      <th>18</th>\n",
              "      <td>0.387732</td>\n",
              "      <td>0.865745</td>\n",
              "      <td>0.407128</td>\n",
              "      <td>0.8646</td>\n",
              "    </tr>\n",
              "    <tr>\n",
              "      <th>19</th>\n",
              "      <td>0.385630</td>\n",
              "      <td>0.865982</td>\n",
              "      <td>0.401313</td>\n",
              "      <td>0.8648</td>\n",
              "    </tr>\n",
              "  </tbody>\n",
              "</table>\n",
              "</div>"
            ],
            "text/plain": [
              "        loss  accuracy  val_loss  val_accuracy\n",
              "15  0.394387  0.863873  0.421012        0.8582\n",
              "16  0.391197  0.863582  0.402562        0.8682\n",
              "17  0.388530  0.865491  0.400487        0.8686\n",
              "18  0.387732  0.865745  0.407128        0.8646\n",
              "19  0.385630  0.865982  0.401313        0.8648"
            ]
          },
          "metadata": {
            "tags": []
          },
          "execution_count": 39
        }
      ]
    },
    {
      "cell_type": "code",
      "metadata": {
        "colab_type": "code",
        "id": "zTWCTjJlXXI3",
        "colab": {
          "base_uri": "https://localhost:8080/",
          "height": 80
        },
        "outputId": "d4ff1962-6ff0-48d0-f8f6-9259a6438d91"
      },
      "source": [
        "history_dict = history.history\n",
        "history_df=pd.DataFrame(history_dict)\n",
        "results_df2 = history_df.iloc[-1:].copy()\n",
        "results_df2.insert(0,'model','DNN (3 layers)') # went the model name to appear first\n",
        "results_df2['training time (sec)'] = train_time      # we are okay with training time appearing last\n",
        "results_df2['testing time (sec)'] = test_time      # we are okay with training time appearing last\n",
        "results_df2"
      ],
      "execution_count": 40,
      "outputs": [
        {
          "output_type": "execute_result",
          "data": {
            "text/html": [
              "<div>\n",
              "<style scoped>\n",
              "    .dataframe tbody tr th:only-of-type {\n",
              "        vertical-align: middle;\n",
              "    }\n",
              "\n",
              "    .dataframe tbody tr th {\n",
              "        vertical-align: top;\n",
              "    }\n",
              "\n",
              "    .dataframe thead th {\n",
              "        text-align: right;\n",
              "    }\n",
              "</style>\n",
              "<table border=\"1\" class=\"dataframe\">\n",
              "  <thead>\n",
              "    <tr style=\"text-align: right;\">\n",
              "      <th></th>\n",
              "      <th>model</th>\n",
              "      <th>loss</th>\n",
              "      <th>accuracy</th>\n",
              "      <th>val_loss</th>\n",
              "      <th>val_accuracy</th>\n",
              "      <th>training time (sec)</th>\n",
              "      <th>testing time (sec)</th>\n",
              "    </tr>\n",
              "  </thead>\n",
              "  <tbody>\n",
              "    <tr>\n",
              "      <th>19</th>\n",
              "      <td>DNN (3 layers)</td>\n",
              "      <td>0.38563</td>\n",
              "      <td>0.865982</td>\n",
              "      <td>0.401313</td>\n",
              "      <td>0.8648</td>\n",
              "      <td>33.010972</td>\n",
              "      <td>0.951219</td>\n",
              "    </tr>\n",
              "  </tbody>\n",
              "</table>\n",
              "</div>"
            ],
            "text/plain": [
              "             model     loss  ...  training time (sec)  testing time (sec)\n",
              "19  DNN (3 layers)  0.38563  ...            33.010972            0.951219\n",
              "\n",
              "[1 rows x 7 columns]"
            ]
          },
          "metadata": {
            "tags": []
          },
          "execution_count": 40
        }
      ]
    },
    {
      "cell_type": "code",
      "metadata": {
        "colab_type": "code",
        "id": "c0MqqNx_XXI5",
        "colab": {}
      },
      "source": [
        "# # Add the new data to results_df\n",
        "# results_df=results_df.append(results_df2,ignore_index=True)\n",
        "# results_df"
      ],
      "execution_count": 41,
      "outputs": []
    },
    {
      "cell_type": "markdown",
      "metadata": {
        "colab_type": "text",
        "id": "QCCDKCbyXXJD"
      },
      "source": [
        "## 2D. Performance"
      ]
    },
    {
      "cell_type": "code",
      "metadata": {
        "colab_type": "code",
        "id": "Blw7e4dHXXJD",
        "colab": {
          "base_uri": "https://localhost:8080/",
          "height": 324
        },
        "outputId": "618a4500-2b06-4647-fe27-10b1c83081e4"
      },
      "source": [
        "# Plot learning curves for model\n",
        "pd.DataFrame(history.history).plot(figsize=(8, 5))\n",
        "plt.grid(True)\n",
        "plt.gca().set_ylim(0, 1) # set the vertical range to [0-1]\n",
        "plt.show()"
      ],
      "execution_count": 43,
      "outputs": [
        {
          "output_type": "display_data",
          "data": {
            "image/png": "[encoded data removed]",
            "text/plain": [
              "<Figure size 576x360 with 1 Axes>"
            ]
          },
          "metadata": {
            "tags": [],
            "needs_background": "light"
          }
        }
      ]
    },
    {
      "cell_type": "markdown",
      "metadata": {
        "colab_type": "text",
        "id": "LHiKBhVRXXJG"
      },
      "source": [
        "# 3. Experiment 3: CNN w/2 layers\n",
        "\n",
        "This model will have 2 layers, each consisting of a convolution layer and a max pooling layer.  The second layer will return an array of 10 probability scores."
      ]
    },
    {
      "cell_type": "code",
      "metadata": {
        "colab_type": "code",
        "id": "TA7Tj7DCXXJG",
        "colab": {
          "base_uri": "https://localhost:8080/",
          "height": 34
        },
        "outputId": "2fcab935-c9ba-4892-cb27-4c791058be3e"
      },
      "source": [
        "# Data re-import and preparation\n",
        "from tensorflow.keras.datasets import fashion_mnist\n",
        "\n",
        "(train_images, train_labels), (test_images, test_labels) = fashion_mnist.load_data()\n",
        "train_images.shape, test_images.shape, test_labels.shape, test_labels.shape"
      ],
      "execution_count": 44,
      "outputs": [
        {
          "output_type": "execute_result",
          "data": {
            "text/plain": [
              "((60000, 28, 28), (10000, 28, 28), (10000,), (10000,))"
            ]
          },
          "metadata": {
            "tags": []
          },
          "execution_count": 44
        }
      ]
    },
    {
      "cell_type": "code",
      "metadata": {
        "colab_type": "code",
        "id": "qc99QvPGXXJK",
        "colab": {}
      },
      "source": [
        "# Reshape images and scale\n",
        "train_images = train_images.reshape((60000, 28, 28, 1))\n",
        "train_images = train_images.astype('float32') / 255\n",
        "\n",
        "test_images = test_images.reshape((10000, 28, 28, 1))\n",
        "test_images = test_images.astype('float32') / 255"
      ],
      "execution_count": 45,
      "outputs": []
    },
    {
      "cell_type": "code",
      "metadata": {
        "colab_type": "code",
        "id": "XghNSBjCXXJM",
        "colab": {}
      },
      "source": [
        "# Validation images\n",
        "val_images, train_images = train_images[:5000], train_images[5000:] \n",
        "val_labels, train_labels = train_labels[:5000], train_labels[5000:]"
      ],
      "execution_count": 46,
      "outputs": []
    },
    {
      "cell_type": "code",
      "metadata": {
        "colab_type": "code",
        "id": "RNgqtz7nXXJR",
        "colab": {}
      },
      "source": [
        "model_3a = models.Sequential()\n",
        "model_3a.add(layers.Conv2D(32, (3, 3), activation='relu', input_shape=(28, 28, 1)))\n",
        "model_3a.add(layers.MaxPooling2D((2, 2)))\n",
        "model_3a.add(layers.Conv2D(64, (3, 3), activation='relu'))\n",
        "model_3a.add(layers.MaxPooling2D((2, 2)))\n",
        "model_3a.add(layers.Flatten())\n",
        "model_3a.add(layers.Dense(128, activation='relu'))\n",
        "model_3a.add(layers.Dense(10, activation='softmax'))"
      ],
      "execution_count": 47,
      "outputs": []
    },
    {
      "cell_type": "code",
      "metadata": {
        "colab_type": "code",
        "id": "ffSe2ASNXXJU",
        "colab": {
          "base_uri": "https://localhost:8080/",
          "height": 391
        },
        "outputId": "bae9760d-6b46-4868-b691-cc28f04ba665"
      },
      "source": [
        "model_3a.summary()"
      ],
      "execution_count": 48,
      "outputs": [
        {
          "output_type": "stream",
          "text": [
            "Model: \"sequential_2\"\n",
            "_________________________________________________________________\n",
            "Layer (type)                 Output Shape              Param #   \n",
            "=================================================================\n",
            "conv2d (Conv2D)              (None, 26, 26, 32)        320       \n",
            "_________________________________________________________________\n",
            "max_pooling2d (MaxPooling2D) (None, 13, 13, 32)        0         \n",
            "_________________________________________________________________\n",
            "conv2d_1 (Conv2D)            (None, 11, 11, 64)        18496     \n",
            "_________________________________________________________________\n",
            "max_pooling2d_1 (MaxPooling2 (None, 5, 5, 64)          0         \n",
            "_________________________________________________________________\n",
            "flatten_2 (Flatten)          (None, 1600)              0         \n",
            "_________________________________________________________________\n",
            "dense_5 (Dense)              (None, 128)               204928    \n",
            "_________________________________________________________________\n",
            "dense_6 (Dense)              (None, 10)                1290      \n",
            "=================================================================\n",
            "Total params: 225,034\n",
            "Trainable params: 225,034\n",
            "Non-trainable params: 0\n",
            "_________________________________________________________________\n"
          ],
          "name": "stdout"
        }
      ]
    },
    {
      "cell_type": "code",
      "metadata": {
        "colab_type": "code",
        "id": "FrMCJy_RXXJW",
        "colab": {
          "base_uri": "https://localhost:8080/",
          "height": 865
        },
        "outputId": "ce7c52a1-10ef-4e0a-b533-afee08cb5033"
      },
      "source": [
        "keras.utils.plot_model(model_3a, show_shapes=True)"
      ],
      "execution_count": 49,
      "outputs": [
        {
          "output_type": "execute_result",
          "data": {
            "image/png": "[encoded data removed]",
            "text/plain": [
              "<IPython.core.display.Image object>"
            ]
          },
          "metadata": {
            "tags": []
          },
          "execution_count": 49
        }
      ]
    },
    {
      "cell_type": "markdown",
      "metadata": {
        "colab_type": "text",
        "id": "wn1DaQ7DXXJa"
      },
      "source": [
        "## 3A. Model Compilation"
      ]
    },
    {
      "cell_type": "code",
      "metadata": {
        "colab_type": "code",
        "id": "Kcxkq-g4XXJa",
        "colab": {}
      },
      "source": [
        "model_3a.compile(optimizer='adam',\n",
        "                loss='sparse_categorical_crossentropy',\n",
        "                metrics=['accuracy'])"
      ],
      "execution_count": 50,
      "outputs": []
    },
    {
      "cell_type": "markdown",
      "metadata": {
        "colab_type": "text",
        "id": "6eRuouGpXXJg"
      },
      "source": [
        "## 3B. Model Training"
      ]
    },
    {
      "cell_type": "code",
      "metadata": {
        "colab_type": "code",
        "id": "KO_8HU3FXXJh",
        "colab": {
          "base_uri": "https://localhost:8080/",
          "height": 714
        },
        "outputId": "097dfe59-b932-4414-c1ff-a0ee2490553f"
      },
      "source": [
        "train_rt = TrainRuntimeCallback()\n",
        "history = model_3a.fit(train_images, train_labels, callbacks=[train_rt], epochs=20, batch_size = 100,\n",
        "                    validation_data=(val_images, val_labels))\n",
        "\n",
        "# Saving models locally after fitting\n",
        "save_dir = \"results/\"\n",
        "model_name = 'fashion_mnist_model_3a.h5'\n",
        "model_path = os.path.join(save_dir, model_name)\n",
        "print('--------------------------')"
      ],
      "execution_count": 51,
      "outputs": [
        {
          "output_type": "stream",
          "text": [
            "Epoch 1/20\n",
            "550/550 [==============================] - 4s 8ms/step - loss: 0.5365 - accuracy: 0.8072 - val_loss: 0.3807 - val_accuracy: 0.8624\n",
            "Epoch 2/20\n",
            "550/550 [==============================] - 4s 7ms/step - loss: 0.3484 - accuracy: 0.8750 - val_loss: 0.3150 - val_accuracy: 0.8876\n",
            "Epoch 3/20\n",
            "550/550 [==============================] - 4s 7ms/step - loss: 0.3014 - accuracy: 0.8908 - val_loss: 0.2948 - val_accuracy: 0.8958\n",
            "Epoch 4/20\n",
            "550/550 [==============================] - 4s 7ms/step - loss: 0.2672 - accuracy: 0.9024 - val_loss: 0.2784 - val_accuracy: 0.8998\n",
            "Epoch 5/20\n",
            "550/550 [==============================] - 4s 7ms/step - loss: 0.2442 - accuracy: 0.9115 - val_loss: 0.2575 - val_accuracy: 0.9090\n",
            "Epoch 6/20\n",
            "550/550 [==============================] - 4s 7ms/step - loss: 0.2247 - accuracy: 0.9189 - val_loss: 0.2497 - val_accuracy: 0.9072\n",
            "Epoch 7/20\n",
            "550/550 [==============================] - 4s 7ms/step - loss: 0.2057 - accuracy: 0.9241 - val_loss: 0.2355 - val_accuracy: 0.9156\n",
            "Epoch 8/20\n",
            "550/550 [==============================] - 4s 7ms/step - loss: 0.1908 - accuracy: 0.9309 - val_loss: 0.2476 - val_accuracy: 0.9090\n",
            "Epoch 9/20\n",
            "550/550 [==============================] - 4s 7ms/step - loss: 0.1757 - accuracy: 0.9354 - val_loss: 0.2317 - val_accuracy: 0.9152\n",
            "Epoch 10/20\n",
            "550/550 [==============================] - 4s 7ms/step - loss: 0.1619 - accuracy: 0.9409 - val_loss: 0.2487 - val_accuracy: 0.9108\n",
            "Epoch 11/20\n",
            "550/550 [==============================] - 4s 7ms/step - loss: 0.1486 - accuracy: 0.9459 - val_loss: 0.2438 - val_accuracy: 0.9160\n",
            "Epoch 12/20\n",
            "550/550 [==============================] - 4s 7ms/step - loss: 0.1385 - accuracy: 0.9487 - val_loss: 0.2394 - val_accuracy: 0.9146\n",
            "Epoch 13/20\n",
            "550/550 [==============================] - 4s 7ms/step - loss: 0.1258 - accuracy: 0.9547 - val_loss: 0.2469 - val_accuracy: 0.9190\n",
            "Epoch 14/20\n",
            "550/550 [==============================] - 4s 7ms/step - loss: 0.1114 - accuracy: 0.9592 - val_loss: 0.2527 - val_accuracy: 0.9182\n",
            "Epoch 15/20\n",
            "550/550 [==============================] - 4s 7ms/step - loss: 0.1024 - accuracy: 0.9625 - val_loss: 0.2645 - val_accuracy: 0.9164\n",
            "Epoch 16/20\n",
            "550/550 [==============================] - 4s 7ms/step - loss: 0.0924 - accuracy: 0.9662 - val_loss: 0.2686 - val_accuracy: 0.9182\n",
            "Epoch 17/20\n",
            "550/550 [==============================] - 4s 7ms/step - loss: 0.0837 - accuracy: 0.9695 - val_loss: 0.2858 - val_accuracy: 0.9166\n",
            "Epoch 18/20\n",
            "550/550 [==============================] - 4s 7ms/step - loss: 0.0747 - accuracy: 0.9736 - val_loss: 0.3056 - val_accuracy: 0.9144\n",
            "Epoch 19/20\n",
            "550/550 [==============================] - 4s 7ms/step - loss: 0.0671 - accuracy: 0.9758 - val_loss: 0.3308 - val_accuracy: 0.9148\n",
            "Epoch 20/20\n",
            "550/550 [==============================] - 4s 7ms/step - loss: 0.0614 - accuracy: 0.9775 - val_loss: 0.3299 - val_accuracy: 0.9132\n",
            "--------------------------\n"
          ],
          "name": "stdout"
        }
      ]
    },
    {
      "cell_type": "code",
      "metadata": {
        "colab_type": "code",
        "id": "h9rxL6FGXXJk",
        "colab": {
          "base_uri": "https://localhost:8080/",
          "height": 34
        },
        "outputId": "ab3a130f-f6ff-4ba9-dc21-05cd4bbca95b"
      },
      "source": [
        "# Get the training time\n",
        "train_time = train_rt.process_time\n",
        "train_time # in seconds"
      ],
      "execution_count": 52,
      "outputs": [
        {
          "output_type": "execute_result",
          "data": {
            "text/plain": [
              "80.787807"
            ]
          },
          "metadata": {
            "tags": []
          },
          "execution_count": 52
        }
      ]
    },
    {
      "cell_type": "markdown",
      "metadata": {
        "colab_type": "text",
        "id": "FT9RLoKSXXJu"
      },
      "source": [
        "## 3C. Model Testing\n",
        "\n",
        "Evaluate the model on the test dataset using a callback to get the total test time."
      ]
    },
    {
      "cell_type": "code",
      "metadata": {
        "colab_type": "code",
        "id": "FQtSuH3ZXXJu",
        "colab": {
          "base_uri": "https://localhost:8080/",
          "height": 34
        },
        "outputId": "3a284360-9ed6-49d5-bf19-4737e5de952a"
      },
      "source": [
        "test_rt = TestRuntimeCallback()\n",
        "test_loss, test_acc = model_3a.evaluate(test_images, test_labels, callbacks=[test_rt])"
      ],
      "execution_count": 53,
      "outputs": [
        {
          "output_type": "stream",
          "text": [
            "313/313 [==============================] - 1s 3ms/step - loss: 0.3648 - accuracy: 0.9079\n"
          ],
          "name": "stdout"
        }
      ]
    },
    {
      "cell_type": "code",
      "metadata": {
        "colab_type": "code",
        "id": "LoGKSyr4XXJx",
        "colab": {
          "base_uri": "https://localhost:8080/",
          "height": 34
        },
        "outputId": "7cee8e8e-b4d6-4aa3-c639-686c8aa57c78"
      },
      "source": [
        "# Get the test time\n",
        "test_time = test_rt.process_time\n",
        "test_time # in seconds"
      ],
      "execution_count": 54,
      "outputs": [
        {
          "output_type": "execute_result",
          "data": {
            "text/plain": [
              "1.164564"
            ]
          },
          "metadata": {
            "tags": []
          },
          "execution_count": 54
        }
      ]
    },
    {
      "cell_type": "code",
      "metadata": {
        "colab_type": "code",
        "id": "1kFote3tXXJz",
        "colab": {
          "base_uri": "https://localhost:8080/",
          "height": 34
        },
        "outputId": "59865253-189a-439c-b200-741da0bca33a"
      },
      "source": [
        "history_dict = history.history\n",
        "history_dict.keys()"
      ],
      "execution_count": 55,
      "outputs": [
        {
          "output_type": "execute_result",
          "data": {
            "text/plain": [
              "dict_keys(['loss', 'accuracy', 'val_loss', 'val_accuracy'])"
            ]
          },
          "metadata": {
            "tags": []
          },
          "execution_count": 55
        }
      ]
    },
    {
      "cell_type": "code",
      "metadata": {
        "colab_type": "code",
        "id": "pBmU9j0OXXJ2",
        "colab": {
          "base_uri": "https://localhost:8080/",
          "height": 204
        },
        "outputId": "871ae70a-938c-4106-90fd-199abe645496"
      },
      "source": [
        "history_df=pd.DataFrame(history_dict)\n",
        "history_df.tail()"
      ],
      "execution_count": 56,
      "outputs": [
        {
          "output_type": "execute_result",
          "data": {
            "text/html": [
              "<div>\n",
              "<style scoped>\n",
              "    .dataframe tbody tr th:only-of-type {\n",
              "        vertical-align: middle;\n",
              "    }\n",
              "\n",
              "    .dataframe tbody tr th {\n",
              "        vertical-align: top;\n",
              "    }\n",
              "\n",
              "    .dataframe thead th {\n",
              "        text-align: right;\n",
              "    }\n",
              "</style>\n",
              "<table border=\"1\" class=\"dataframe\">\n",
              "  <thead>\n",
              "    <tr style=\"text-align: right;\">\n",
              "      <th></th>\n",
              "      <th>loss</th>\n",
              "      <th>accuracy</th>\n",
              "      <th>val_loss</th>\n",
              "      <th>val_accuracy</th>\n",
              "    </tr>\n",
              "  </thead>\n",
              "  <tbody>\n",
              "    <tr>\n",
              "      <th>15</th>\n",
              "      <td>0.092397</td>\n",
              "      <td>0.966182</td>\n",
              "      <td>0.268562</td>\n",
              "      <td>0.9182</td>\n",
              "    </tr>\n",
              "    <tr>\n",
              "      <th>16</th>\n",
              "      <td>0.083671</td>\n",
              "      <td>0.969473</td>\n",
              "      <td>0.285795</td>\n",
              "      <td>0.9166</td>\n",
              "    </tr>\n",
              "    <tr>\n",
              "      <th>17</th>\n",
              "      <td>0.074742</td>\n",
              "      <td>0.973600</td>\n",
              "      <td>0.305609</td>\n",
              "      <td>0.9144</td>\n",
              "    </tr>\n",
              "    <tr>\n",
              "      <th>18</th>\n",
              "      <td>0.067106</td>\n",
              "      <td>0.975764</td>\n",
              "      <td>0.330822</td>\n",
              "      <td>0.9148</td>\n",
              "    </tr>\n",
              "    <tr>\n",
              "      <th>19</th>\n",
              "      <td>0.061362</td>\n",
              "      <td>0.977455</td>\n",
              "      <td>0.329916</td>\n",
              "      <td>0.9132</td>\n",
              "    </tr>\n",
              "  </tbody>\n",
              "</table>\n",
              "</div>"
            ],
            "text/plain": [
              "        loss  accuracy  val_loss  val_accuracy\n",
              "15  0.092397  0.966182  0.268562        0.9182\n",
              "16  0.083671  0.969473  0.285795        0.9166\n",
              "17  0.074742  0.973600  0.305609        0.9144\n",
              "18  0.067106  0.975764  0.330822        0.9148\n",
              "19  0.061362  0.977455  0.329916        0.9132"
            ]
          },
          "metadata": {
            "tags": []
          },
          "execution_count": 56
        }
      ]
    },
    {
      "cell_type": "code",
      "metadata": {
        "colab_type": "code",
        "id": "iz58dMJvXXJ3",
        "colab": {
          "base_uri": "https://localhost:8080/",
          "height": 80
        },
        "outputId": "e4d4af79-9dc7-45a3-a8fd-1d48070e0444"
      },
      "source": [
        "# Pull statistics \n",
        "results_df3a = history_df.iloc[-1:].copy()\n",
        "results_df3a.insert(0,'model','CNN (2 layers)') # want the model name to appear first\n",
        "results_df3a['training time (sec)'] = train_time      # we are okay with training time appearing last\n",
        "results_df3a['testing time (sec)'] = test_time      # we are okay with training time appearing last\n",
        "results_df3a"
      ],
      "execution_count": 57,
      "outputs": [
        {
          "output_type": "execute_result",
          "data": {
            "text/html": [
              "<div>\n",
              "<style scoped>\n",
              "    .dataframe tbody tr th:only-of-type {\n",
              "        vertical-align: middle;\n",
              "    }\n",
              "\n",
              "    .dataframe tbody tr th {\n",
              "        vertical-align: top;\n",
              "    }\n",
              "\n",
              "    .dataframe thead th {\n",
              "        text-align: right;\n",
              "    }\n",
              "</style>\n",
              "<table border=\"1\" class=\"dataframe\">\n",
              "  <thead>\n",
              "    <tr style=\"text-align: right;\">\n",
              "      <th></th>\n",
              "      <th>model</th>\n",
              "      <th>loss</th>\n",
              "      <th>accuracy</th>\n",
              "      <th>val_loss</th>\n",
              "      <th>val_accuracy</th>\n",
              "      <th>training time (sec)</th>\n",
              "      <th>testing time (sec)</th>\n",
              "    </tr>\n",
              "  </thead>\n",
              "  <tbody>\n",
              "    <tr>\n",
              "      <th>19</th>\n",
              "      <td>CNN (2 layers)</td>\n",
              "      <td>0.061362</td>\n",
              "      <td>0.977455</td>\n",
              "      <td>0.329916</td>\n",
              "      <td>0.9132</td>\n",
              "      <td>80.787807</td>\n",
              "      <td>1.164564</td>\n",
              "    </tr>\n",
              "  </tbody>\n",
              "</table>\n",
              "</div>"
            ],
            "text/plain": [
              "             model      loss  ...  training time (sec)  testing time (sec)\n",
              "19  CNN (2 layers)  0.061362  ...            80.787807            1.164564\n",
              "\n",
              "[1 rows x 7 columns]"
            ]
          },
          "metadata": {
            "tags": []
          },
          "execution_count": 57
        }
      ]
    },
    {
      "cell_type": "code",
      "metadata": {
        "colab_type": "code",
        "id": "y87J_fW7XXJ8",
        "scrolled": true,
        "colab": {
          "base_uri": "https://localhost:8080/",
          "height": 324
        },
        "outputId": "568fc4b0-d78b-4c21-f854-6b81258349c8"
      },
      "source": [
        "# Plot learning curves for model\n",
        "pd.DataFrame(history.history).plot(figsize=(8, 5))\n",
        "plt.grid(True)\n",
        "plt.gca().set_ylim(0, 1) # set the vertical range to [0-1]\n",
        "plt.show()"
      ],
      "execution_count": 58,
      "outputs": [
        {
          "output_type": "display_data",
          "data": {
            "image/png": "[encoded data removed]",
            "text/plain": [
              "<Figure size 576x360 with 1 Axes>"
            ]
          },
          "metadata": {
            "tags": [],
            "needs_background": "light"
          }
        }
      ]
    },
    {
      "cell_type": "markdown",
      "metadata": {
        "colab_type": "text",
        "id": "Wxudy87WXXME"
      },
      "source": [
        "# 4. Experiment 4: CNN w/3 layers\n",
        "We create a `CNN` with 3 convolution/max pooling layers (**no drop out**) to work with our Fashion MNIST dataset. The experiment compares performance using L2 regularization in the convolutional layers. Image augmentation is not employed."
      ]
    },
    {
      "cell_type": "markdown",
      "metadata": {
        "colab_type": "text",
        "id": "1M4VbwpsXXME"
      },
      "source": [
        "## Model 4a: baseline CNN with 3 layers (no L2 regularization)"
      ]
    },
    {
      "cell_type": "code",
      "metadata": {
        "colab_type": "code",
        "id": "64TXVGxZXXME",
        "colab": {}
      },
      "source": [
        "model_4a = models.Sequential()\n",
        "model_4a.add(layers.Conv2D(32, (3, 3), activation='relu', input_shape=(28, 28, 1)))\n",
        "model_4a.add(layers.MaxPooling2D((2, 2)))\n",
        "model_4a.add(layers.Conv2D(64, (3, 3), activation='relu'))\n",
        "model_4a.add(layers.MaxPooling2D((2, 2)))\n",
        "model_4a.add(layers.Conv2D(64, (3, 3), activation='relu'))\n",
        "model_4a.add(layers.Flatten())\n",
        "model_4a.add(layers.Dense(64, activation='relu'))\n",
        "model_4a.add(layers.Dense(10, activation='softmax'))"
      ],
      "execution_count": 59,
      "outputs": []
    },
    {
      "cell_type": "code",
      "metadata": {
        "colab_type": "code",
        "id": "kv3v7_PHXXMH",
        "colab": {
          "base_uri": "https://localhost:8080/",
          "height": 425
        },
        "outputId": "bb5cd927-f6d4-4aa9-a768-476fe09c5f38"
      },
      "source": [
        "model_4a.summary()"
      ],
      "execution_count": 60,
      "outputs": [
        {
          "output_type": "stream",
          "text": [
            "Model: \"sequential_3\"\n",
            "_________________________________________________________________\n",
            "Layer (type)                 Output Shape              Param #   \n",
            "=================================================================\n",
            "conv2d_2 (Conv2D)            (None, 26, 26, 32)        320       \n",
            "_________________________________________________________________\n",
            "max_pooling2d_2 (MaxPooling2 (None, 13, 13, 32)        0         \n",
            "_________________________________________________________________\n",
            "conv2d_3 (Conv2D)            (None, 11, 11, 64)        18496     \n",
            "_________________________________________________________________\n",
            "max_pooling2d_3 (MaxPooling2 (None, 5, 5, 64)          0         \n",
            "_________________________________________________________________\n",
            "conv2d_4 (Conv2D)            (None, 3, 3, 64)          36928     \n",
            "_________________________________________________________________\n",
            "flatten_3 (Flatten)          (None, 576)               0         \n",
            "_________________________________________________________________\n",
            "dense_7 (Dense)              (None, 64)                36928     \n",
            "_________________________________________________________________\n",
            "dense_8 (Dense)              (None, 10)                650       \n",
            "=================================================================\n",
            "Total params: 93,322\n",
            "Trainable params: 93,322\n",
            "Non-trainable params: 0\n",
            "_________________________________________________________________\n"
          ],
          "name": "stdout"
        }
      ]
    },
    {
      "cell_type": "code",
      "metadata": {
        "colab_type": "code",
        "id": "zpCS9HKJXXMI",
        "colab": {
          "base_uri": "https://localhost:8080/",
          "height": 976
        },
        "outputId": "699a09d3-3d7c-4c67-8a3a-6f1be80fad3e"
      },
      "source": [
        "keras.utils.plot_model(model_4a, show_shapes=True)"
      ],
      "execution_count": 61,
      "outputs": [
        {
          "output_type": "execute_result",
          "data": {
            "image/png": "[encoded data removed]",
            "text/plain": [
              "<IPython.core.display.Image object>"
            ]
          },
          "metadata": {
            "tags": []
          },
          "execution_count": 61
        }
      ]
    },
    {
      "cell_type": "markdown",
      "metadata": {
        "colab_type": "text",
        "id": "VqlsBNNmXXMK"
      },
      "source": [
        "## 4A. Model Compilation"
      ]
    },
    {
      "cell_type": "code",
      "metadata": {
        "colab_type": "code",
        "id": "Pv_bFkuIXXMK",
        "colab": {}
      },
      "source": [
        "model_4a.compile(optimizer='adam',\n",
        "                loss='sparse_categorical_crossentropy',\n",
        "                metrics=['accuracy'])"
      ],
      "execution_count": 62,
      "outputs": []
    },
    {
      "cell_type": "markdown",
      "metadata": {
        "colab_type": "text",
        "id": "OF4r3ethXXMM"
      },
      "source": [
        "## 4B. Model Compilation"
      ]
    },
    {
      "cell_type": "code",
      "metadata": {
        "colab_type": "code",
        "id": "59EUkTeBXXMM",
        "colab": {
          "base_uri": "https://localhost:8080/",
          "height": 714
        },
        "outputId": "d2cd1149-808f-469c-ae9e-6ecdf4b85f07"
      },
      "source": [
        "train_rt = TrainRuntimeCallback()\n",
        "history = model_4a.fit(train_images, train_labels, callbacks=[train_rt], epochs=20, batch_size = 100,\n",
        "                    validation_data=(val_images, val_labels))\n",
        "\n",
        "# Saving models locally after fitting\n",
        "save_dir = \"results/\"\n",
        "model_name = 'fashion_mnist_model_4a.h5'\n",
        "model_path = os.path.join(save_dir, model_name)\n",
        "print('--------------------------')"
      ],
      "execution_count": 63,
      "outputs": [
        {
          "output_type": "stream",
          "text": [
            "Epoch 1/20\n",
            "550/550 [==============================] - 4s 8ms/step - loss: 0.5830 - accuracy: 0.7867 - val_loss: 0.3805 - val_accuracy: 0.8686\n",
            "Epoch 2/20\n",
            "550/550 [==============================] - 4s 8ms/step - loss: 0.3631 - accuracy: 0.8673 - val_loss: 0.3205 - val_accuracy: 0.8860\n",
            "Epoch 3/20\n",
            "550/550 [==============================] - 4s 8ms/step - loss: 0.3116 - accuracy: 0.8858 - val_loss: 0.3052 - val_accuracy: 0.8886\n",
            "Epoch 4/20\n",
            "550/550 [==============================] - 4s 8ms/step - loss: 0.2797 - accuracy: 0.8975 - val_loss: 0.2724 - val_accuracy: 0.9018\n",
            "Epoch 5/20\n",
            "550/550 [==============================] - 4s 8ms/step - loss: 0.2561 - accuracy: 0.9051 - val_loss: 0.2611 - val_accuracy: 0.9034\n",
            "Epoch 6/20\n",
            "550/550 [==============================] - 4s 8ms/step - loss: 0.2386 - accuracy: 0.9117 - val_loss: 0.2547 - val_accuracy: 0.9066\n",
            "Epoch 7/20\n",
            "550/550 [==============================] - 4s 8ms/step - loss: 0.2184 - accuracy: 0.9185 - val_loss: 0.2456 - val_accuracy: 0.9090\n",
            "Epoch 8/20\n",
            "550/550 [==============================] - 4s 8ms/step - loss: 0.2061 - accuracy: 0.9241 - val_loss: 0.2442 - val_accuracy: 0.9104\n",
            "Epoch 9/20\n",
            "550/550 [==============================] - 4s 8ms/step - loss: 0.1899 - accuracy: 0.9298 - val_loss: 0.2486 - val_accuracy: 0.9132\n",
            "Epoch 10/20\n",
            "550/550 [==============================] - 4s 8ms/step - loss: 0.1793 - accuracy: 0.9338 - val_loss: 0.2544 - val_accuracy: 0.9102\n",
            "Epoch 11/20\n",
            "550/550 [==============================] - 4s 7ms/step - loss: 0.1653 - accuracy: 0.9391 - val_loss: 0.2443 - val_accuracy: 0.9182\n",
            "Epoch 12/20\n",
            "550/550 [==============================] - 4s 8ms/step - loss: 0.1568 - accuracy: 0.9418 - val_loss: 0.2428 - val_accuracy: 0.9126\n",
            "Epoch 13/20\n",
            "550/550 [==============================] - 4s 8ms/step - loss: 0.1433 - accuracy: 0.9471 - val_loss: 0.2435 - val_accuracy: 0.9170\n",
            "Epoch 14/20\n",
            "550/550 [==============================] - 4s 8ms/step - loss: 0.1310 - accuracy: 0.9511 - val_loss: 0.2471 - val_accuracy: 0.9178\n",
            "Epoch 15/20\n",
            "550/550 [==============================] - 4s 8ms/step - loss: 0.1217 - accuracy: 0.9548 - val_loss: 0.2803 - val_accuracy: 0.9148\n",
            "Epoch 16/20\n",
            "550/550 [==============================] - 4s 8ms/step - loss: 0.1090 - accuracy: 0.9600 - val_loss: 0.2977 - val_accuracy: 0.9112\n",
            "Epoch 17/20\n",
            "550/550 [==============================] - 4s 8ms/step - loss: 0.1001 - accuracy: 0.9622 - val_loss: 0.2904 - val_accuracy: 0.9136\n",
            "Epoch 18/20\n",
            "550/550 [==============================] - 4s 8ms/step - loss: 0.0912 - accuracy: 0.9661 - val_loss: 0.3085 - val_accuracy: 0.9146\n",
            "Epoch 19/20\n",
            "550/550 [==============================] - 4s 8ms/step - loss: 0.0872 - accuracy: 0.9676 - val_loss: 0.3436 - val_accuracy: 0.9110\n",
            "Epoch 20/20\n",
            "550/550 [==============================] - 4s 8ms/step - loss: 0.0797 - accuracy: 0.9709 - val_loss: 0.3350 - val_accuracy: 0.9122\n",
            "--------------------------\n"
          ],
          "name": "stdout"
        }
      ]
    },
    {
      "cell_type": "code",
      "metadata": {
        "colab_type": "code",
        "id": "2yNrUFL4XXMN",
        "colab": {
          "base_uri": "https://localhost:8080/",
          "height": 34
        },
        "outputId": "70ee001f-34cd-4288-b238-feaacd1f0243"
      },
      "source": [
        "# Get the training time\n",
        "train_time = train_rt.process_time\n",
        "train_time # in seconds"
      ],
      "execution_count": 64,
      "outputs": [
        {
          "output_type": "execute_result",
          "data": {
            "text/plain": [
              "84.246624"
            ]
          },
          "metadata": {
            "tags": []
          },
          "execution_count": 64
        }
      ]
    },
    {
      "cell_type": "markdown",
      "metadata": {
        "colab_type": "text",
        "id": "wVPSu-RvXXMQ"
      },
      "source": [
        "## 4C. Model Testing"
      ]
    },
    {
      "cell_type": "code",
      "metadata": {
        "colab_type": "code",
        "id": "bE_WhzOmXXMQ",
        "colab": {
          "base_uri": "https://localhost:8080/",
          "height": 34
        },
        "outputId": "84964116-110b-4d59-cdd5-f9c8fafeec58"
      },
      "source": [
        "test_rt = TestRuntimeCallback()\n",
        "test_loss, test_acc = model_4a.evaluate(test_images, test_labels, callbacks=[test_rt])"
      ],
      "execution_count": 65,
      "outputs": [
        {
          "output_type": "stream",
          "text": [
            "313/313 [==============================] - 1s 3ms/step - loss: 0.3456 - accuracy: 0.9054\n"
          ],
          "name": "stdout"
        }
      ]
    },
    {
      "cell_type": "code",
      "metadata": {
        "colab_type": "code",
        "id": "ek023mMVXXMR",
        "colab": {
          "base_uri": "https://localhost:8080/",
          "height": 34
        },
        "outputId": "8f512334-9705-4e63-f7b2-27985e7a236b"
      },
      "source": [
        "# Get the test time\n",
        "test_time = test_rt.process_time\n",
        "test_time # in seconds"
      ],
      "execution_count": 66,
      "outputs": [
        {
          "output_type": "execute_result",
          "data": {
            "text/plain": [
              "1.163886"
            ]
          },
          "metadata": {
            "tags": []
          },
          "execution_count": 66
        }
      ]
    },
    {
      "cell_type": "code",
      "metadata": {
        "colab_type": "code",
        "id": "rjWR65BzXXMS",
        "colab": {
          "base_uri": "https://localhost:8080/",
          "height": 34
        },
        "outputId": "9b4f8833-4180-40b9-d99b-0e1dde1996d1"
      },
      "source": [
        "history_dict = history.history\n",
        "history_dict.keys()"
      ],
      "execution_count": 67,
      "outputs": [
        {
          "output_type": "execute_result",
          "data": {
            "text/plain": [
              "dict_keys(['loss', 'accuracy', 'val_loss', 'val_accuracy'])"
            ]
          },
          "metadata": {
            "tags": []
          },
          "execution_count": 67
        }
      ]
    },
    {
      "cell_type": "code",
      "metadata": {
        "colab_type": "code",
        "id": "H_zfwtbCXXMU",
        "colab": {
          "base_uri": "https://localhost:8080/",
          "height": 204
        },
        "outputId": "dec41466-bebf-4237-8e00-fb6b662f5352"
      },
      "source": [
        "history_df=pd.DataFrame(history_dict)\n",
        "history_df.tail()"
      ],
      "execution_count": 68,
      "outputs": [
        {
          "output_type": "execute_result",
          "data": {
            "text/html": [
              "<div>\n",
              "<style scoped>\n",
              "    .dataframe tbody tr th:only-of-type {\n",
              "        vertical-align: middle;\n",
              "    }\n",
              "\n",
              "    .dataframe tbody tr th {\n",
              "        vertical-align: top;\n",
              "    }\n",
              "\n",
              "    .dataframe thead th {\n",
              "        text-align: right;\n",
              "    }\n",
              "</style>\n",
              "<table border=\"1\" class=\"dataframe\">\n",
              "  <thead>\n",
              "    <tr style=\"text-align: right;\">\n",
              "      <th></th>\n",
              "      <th>loss</th>\n",
              "      <th>accuracy</th>\n",
              "      <th>val_loss</th>\n",
              "      <th>val_accuracy</th>\n",
              "    </tr>\n",
              "  </thead>\n",
              "  <tbody>\n",
              "    <tr>\n",
              "      <th>15</th>\n",
              "      <td>0.108954</td>\n",
              "      <td>0.960000</td>\n",
              "      <td>0.297714</td>\n",
              "      <td>0.9112</td>\n",
              "    </tr>\n",
              "    <tr>\n",
              "      <th>16</th>\n",
              "      <td>0.100094</td>\n",
              "      <td>0.962236</td>\n",
              "      <td>0.290376</td>\n",
              "      <td>0.9136</td>\n",
              "    </tr>\n",
              "    <tr>\n",
              "      <th>17</th>\n",
              "      <td>0.091195</td>\n",
              "      <td>0.966145</td>\n",
              "      <td>0.308515</td>\n",
              "      <td>0.9146</td>\n",
              "    </tr>\n",
              "    <tr>\n",
              "      <th>18</th>\n",
              "      <td>0.087202</td>\n",
              "      <td>0.967582</td>\n",
              "      <td>0.343574</td>\n",
              "      <td>0.9110</td>\n",
              "    </tr>\n",
              "    <tr>\n",
              "      <th>19</th>\n",
              "      <td>0.079718</td>\n",
              "      <td>0.970873</td>\n",
              "      <td>0.334989</td>\n",
              "      <td>0.9122</td>\n",
              "    </tr>\n",
              "  </tbody>\n",
              "</table>\n",
              "</div>"
            ],
            "text/plain": [
              "        loss  accuracy  val_loss  val_accuracy\n",
              "15  0.108954  0.960000  0.297714        0.9112\n",
              "16  0.100094  0.962236  0.290376        0.9136\n",
              "17  0.091195  0.966145  0.308515        0.9146\n",
              "18  0.087202  0.967582  0.343574        0.9110\n",
              "19  0.079718  0.970873  0.334989        0.9122"
            ]
          },
          "metadata": {
            "tags": []
          },
          "execution_count": 68
        }
      ]
    },
    {
      "cell_type": "code",
      "metadata": {
        "colab_type": "code",
        "id": "lGfL12J_XXMV",
        "colab": {
          "base_uri": "https://localhost:8080/",
          "height": 80
        },
        "outputId": "7a8ce64b-91c6-466e-98ef-6ae951ef3159"
      },
      "source": [
        "# Pull statistics \n",
        "# Pull statistics \n",
        "results_df4a = history_df.iloc[-1:].copy()\n",
        "results_df4a.insert(0,'model','CNN (3 layers)') # want the model name to appear first\n",
        "results_df4a['training time (sec)'] = train_time      # we are okay with training time appearing last\n",
        "results_df4a['testing time (sec)'] = test_time      # we are okay with training time appearing last\n",
        "results_df4a"
      ],
      "execution_count": 69,
      "outputs": [
        {
          "output_type": "execute_result",
          "data": {
            "text/html": [
              "<div>\n",
              "<style scoped>\n",
              "    .dataframe tbody tr th:only-of-type {\n",
              "        vertical-align: middle;\n",
              "    }\n",
              "\n",
              "    .dataframe tbody tr th {\n",
              "        vertical-align: top;\n",
              "    }\n",
              "\n",
              "    .dataframe thead th {\n",
              "        text-align: right;\n",
              "    }\n",
              "</style>\n",
              "<table border=\"1\" class=\"dataframe\">\n",
              "  <thead>\n",
              "    <tr style=\"text-align: right;\">\n",
              "      <th></th>\n",
              "      <th>model</th>\n",
              "      <th>loss</th>\n",
              "      <th>accuracy</th>\n",
              "      <th>val_loss</th>\n",
              "      <th>val_accuracy</th>\n",
              "      <th>training time (sec)</th>\n",
              "      <th>testing time (sec)</th>\n",
              "    </tr>\n",
              "  </thead>\n",
              "  <tbody>\n",
              "    <tr>\n",
              "      <th>19</th>\n",
              "      <td>CNN (3 layers)</td>\n",
              "      <td>0.079718</td>\n",
              "      <td>0.970873</td>\n",
              "      <td>0.334989</td>\n",
              "      <td>0.9122</td>\n",
              "      <td>84.246624</td>\n",
              "      <td>1.163886</td>\n",
              "    </tr>\n",
              "  </tbody>\n",
              "</table>\n",
              "</div>"
            ],
            "text/plain": [
              "             model      loss  ...  training time (sec)  testing time (sec)\n",
              "19  CNN (3 layers)  0.079718  ...            84.246624            1.163886\n",
              "\n",
              "[1 rows x 7 columns]"
            ]
          },
          "metadata": {
            "tags": []
          },
          "execution_count": 69
        }
      ]
    },
    {
      "cell_type": "code",
      "metadata": {
        "colab_type": "code",
        "id": "a6IwTC56XXMY",
        "colab": {}
      },
      "source": [
        "# Combine with previous results\n",
        "# prev_results_df = pd.read_pickle('results.pkl')\n",
        "# results_df = results_df.append(results_df3a,ignore_index=True)\n",
        "# results_df = results_df.append(results_df3b,ignore_index=True)\n",
        "# results_df"
      ],
      "execution_count": 70,
      "outputs": []
    },
    {
      "cell_type": "markdown",
      "metadata": {
        "colab_type": "text",
        "id": "ubtMBYSFXXMa"
      },
      "source": [
        "## Plot the performance "
      ]
    },
    {
      "cell_type": "code",
      "metadata": {
        "colab_type": "code",
        "id": "vco4rEt_XXMa",
        "scrolled": true,
        "colab": {
          "base_uri": "https://localhost:8080/",
          "height": 324
        },
        "outputId": "3843f623-af17-4f30-995b-0d4c73e926ca"
      },
      "source": [
        "# Plot learning curves for model\n",
        "pd.DataFrame(history.history).plot(figsize=(8, 5))\n",
        "plt.grid(True)\n",
        "plt.gca().set_ylim(0, 1) # set the vertical range to [0-1]\n",
        "plt.show()"
      ],
      "execution_count": 71,
      "outputs": [
        {
          "output_type": "display_data",
          "data": {
            "image/png": "[encoded data removed]",
            "text/plain": [
              "<Figure size 576x360 with 1 Axes>"
            ]
          },
          "metadata": {
            "tags": [],
            "needs_background": "light"
          }
        }
      ]
    }
  ]
}