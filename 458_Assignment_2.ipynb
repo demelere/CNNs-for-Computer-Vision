{
  "nbformat": 4,
  "nbformat_minor": 0,
  "metadata": {
    "accelerator": "GPU",
    "colab": {
      "name": "458 - Assignment 2",
      "provenance": [],
      "collapsed_sections": [],
      "include_colab_link": true
    },
    "kernelspec": {
      "display_name": "Python 3",
      "language": "python",
      "name": "python3"
    },
    "language_info": {
      "codemirror_mode": {
        "name": "ipython",
        "version": 3
      },
      "file_extension": ".py",
      "mimetype": "text/x-python",
      "name": "python",
      "nbconvert_exporter": "python",
      "pygments_lexer": "ipython3",
      "version": "3.6.8"
    },
    "toc": {
      "base_numbering": 1,
      "nav_menu": {},
      "number_sections": false,
      "sideBar": true,
      "skip_h1_title": false,
      "title_cell": "Table of Contents",
      "title_sidebar": "Contents",
      "toc_cell": false,
      "toc_position": {},
      "toc_section_display": true,
      "toc_window_display": true
    }
  },
  "cells": [
    {
      "cell_type": "markdown",
      "metadata": {
        "id": "view-in-github",
        "colab_type": "text"
      },
      "source": [
        "<a href=\"https://colab.research.google.com/github/demelere/CNNs-for-Computer-Vision/blob/master/458_Assignment_2.ipynb\" target=\"_parent\"><img src=\"https://colab.research.google.com/assets/colab-badge.svg\" alt=\"Open In Colab\"/></a>"
      ]
    },
    {
      "cell_type": "markdown",
      "metadata": {
        "colab_type": "text",
        "id": "ahuunsCJXXFx"
      },
      "source": [
        "# Overview\n",
        "\n",
        "Model | Loss | Accuracy | Val Loss | Val Accuracy | Training | Testing\n",
        "--- | --- | --- | --- | --- | --- | --- \n",
        "DNN (2 layers no dropout) | Row 1, Col 2 | \n",
        "DNN (3 layers no dropout) | Row 2, Col 2 |\n",
        "CNN (2 layers no dropout) | Row 2, Col 2 |\n",
        "CNN (2 layers no dropout) | Row 2, Col 2 |\n",
        "\n",
        "Model | Loss | Accuracy | Val Loss | Val Accuracy | Training | Testing\n",
        "--- | --- | --- | --- | --- | --- | --- \n",
        "DNN (2 layers w/dropout) | Row 1, Col 2 | \n",
        "DNN (3 layers w/dropout) | Row 2, Col 2 |\n",
        "CNN (2 layers w/dropout) | Row 2, Col 2 |\n",
        "CNN (2 layers w/dropout) | Row 2, Col 2 |\n",
        "\n",
        "Parameters for all models: \n",
        "* Batch size = 100\n",
        "* Epochs = 20\n",
        "* Loss function = sparse categorical cross-entropy\n",
        "* Optimizer = Adam"
      ]
    },
    {
      "cell_type": "markdown",
      "metadata": {
        "colab_type": "text",
        "id": "FbTDtmJlXXFy"
      },
      "source": [
        "# A. Setup and Import"
      ]
    },
    {
      "cell_type": "code",
      "metadata": {
        "colab_type": "code",
        "id": "HAXsecMAXXF0",
        "colab": {
          "base_uri": "https://localhost:8080/",
          "height": 71
        },
        "outputId": "457eae11-017c-4f12-b866-f874f377faa9"
      },
      "source": [
        "# Import dependencies\n",
        "import numpy as np\n",
        "import pandas as pd\n",
        "import os\n",
        "from collections import Counter\n",
        "import datetime\n",
        "\n",
        "import tensorflow as tf\n",
        "from tensorflow import keras\n",
        "from tensorflow.keras import models\n",
        "from tensorflow.keras import layers\n",
        "from tensorflow.keras import optimizers\n",
        "from tensorflow.keras import regularizers\n",
        "from tensorflow.keras.preprocessing.image import ImageDataGenerator\n",
        "from tensorflow.keras.preprocessing import image\n",
        "\n",
        "%matplotlib inline\n",
        "import matplotlib.pyplot as plt\n",
        "import seaborn as sns"
      ],
      "execution_count": 2,
      "outputs": [
        {
          "output_type": "stream",
          "text": [
            "/usr/local/lib/python3.6/dist-packages/statsmodels/tools/_testing.py:19: FutureWarning: pandas.util.testing is deprecated. Use the functions in the public API at pandas.testing instead.\n",
            "  import pandas.util.testing as tm\n"
          ],
          "name": "stderr"
        }
      ]
    },
    {
      "cell_type": "code",
      "metadata": {
        "colab_type": "code",
        "id": "LYCZ3TV_XXGB",
        "colab": {}
      },
      "source": [
        "# check Keras version\n",
        "keras.__version__\n",
        "\n",
        "# check tensorflow version\n",
        "tf.__version__\n",
        "\n",
        "# set seed\n",
        "keras.backend.clear_session()\n",
        "np.random.seed(42)\n",
        "tf.random.set_seed(42)"
      ],
      "execution_count": 3,
      "outputs": []
    },
    {
      "cell_type": "code",
      "metadata": {
        "colab_type": "code",
        "id": "jNeB1k8tXXGY",
        "colab": {
          "base_uri": "https://localhost:8080/",
          "height": 122
        },
        "outputId": "e1911548-50ce-4415-d09a-c638a2626b35"
      },
      "source": [
        "from google.colab import drive\n",
        "drive.mount('/content/gdrive')"
      ],
      "execution_count": 4,
      "outputs": [
        {
          "output_type": "stream",
          "text": [
            "Go to this URL in a browser: https://accounts.google.com/o/oauth2/auth?client_id=947318989803-6bn6qk8qdgf4n4g3pfee6491hc0brc4i.apps.googleusercontent.com&redirect_uri=urn%3aietf%3awg%3aoauth%3a2.0%3aoob&response_type=code&scope=email%20https%3a%2f%2fwww.googleapis.com%2fauth%2fdocs.test%20https%3a%2f%2fwww.googleapis.com%2fauth%2fdrive%20https%3a%2f%2fwww.googleapis.com%2fauth%2fdrive.photos.readonly%20https%3a%2f%2fwww.googleapis.com%2fauth%2fpeopleapi.readonly\n",
            "\n",
            "Enter your authorization code:\n",
            "··········\n",
            "Mounted at /content/gdrive\n"
          ],
          "name": "stdout"
        }
      ]
    },
    {
      "cell_type": "code",
      "metadata": {
        "colab_type": "code",
        "id": "-sSk6UJcXXGg",
        "colab": {}
      },
      "source": [
        "# Saving in Colab\n",
        "# os.getcwd()\n",
        "# %cd /content/gdrive/My\\ Drive/MSDS458/weekfive\n",
        "# !pwd\n",
        "# !ls\n",
        "# print('Working Directory')\n",
        "# print(os.getcwd())\n",
        "# work_dir = \"content/gdrive/My Drive/MSDS458/weekfive\"\n",
        "# chp_id = \"ann\""
      ],
      "execution_count": 5,
      "outputs": []
    },
    {
      "cell_type": "markdown",
      "metadata": {
        "colab_type": "text",
        "id": "6pR2s38pXXGm"
      },
      "source": [
        "## A.1 Import data"
      ]
    },
    {
      "cell_type": "code",
      "metadata": {
        "colab_type": "code",
        "id": "49o4f6jiXXGm",
        "colab": {
          "base_uri": "https://localhost:8080/",
          "height": 170
        },
        "outputId": "c09adfab-99e3-4958-8a82-91eb96068d83"
      },
      "source": [
        "from tensorflow.keras.datasets import fashion_mnist\n",
        "(train_images, train_labels), (test_images, test_labels) = fashion_mnist.load_data()\n",
        "train_images.shape, test_images.shape, test_labels.shape, test_labels.shape"
      ],
      "execution_count": 6,
      "outputs": [
        {
          "output_type": "stream",
          "text": [
            "Downloading data from https://storage.googleapis.com/tensorflow/tf-keras-datasets/train-labels-idx1-ubyte.gz\n",
            "32768/29515 [=================================] - 0s 0us/step\n",
            "Downloading data from https://storage.googleapis.com/tensorflow/tf-keras-datasets/train-images-idx3-ubyte.gz\n",
            "26427392/26421880 [==============================] - 0s 0us/step\n",
            "Downloading data from https://storage.googleapis.com/tensorflow/tf-keras-datasets/t10k-labels-idx1-ubyte.gz\n",
            "8192/5148 [===============================================] - 0s 0us/step\n",
            "Downloading data from https://storage.googleapis.com/tensorflow/tf-keras-datasets/t10k-images-idx3-ubyte.gz\n",
            "4423680/4422102 [==============================] - 0s 0us/step\n"
          ],
          "name": "stdout"
        },
        {
          "output_type": "execute_result",
          "data": {
            "text/plain": [
              "((60000, 28, 28), (10000, 28, 28), (10000,), (10000,))"
            ]
          },
          "metadata": {
            "tags": []
          },
          "execution_count": 6
        }
      ]
    },
    {
      "cell_type": "code",
      "metadata": {
        "colab_type": "code",
        "id": "74rhoyr5XXGs",
        "colab": {
          "base_uri": "https://localhost:8080/",
          "height": 187
        },
        "outputId": "a05b1bc7-b70e-46e2-cfa1-f9635dae78bd"
      },
      "source": [
        "# training labels are integers btw/0 and 9, and correspond to different articles of clothing\n",
        "Counter(train_labels).most_common()"
      ],
      "execution_count": 7,
      "outputs": [
        {
          "output_type": "execute_result",
          "data": {
            "text/plain": [
              "[(9, 6000),\n",
              " (0, 6000),\n",
              " (3, 6000),\n",
              " (2, 6000),\n",
              " (7, 6000),\n",
              " (5, 6000),\n",
              " (1, 6000),\n",
              " (6, 6000),\n",
              " (4, 6000),\n",
              " (8, 6000)]"
            ]
          },
          "metadata": {
            "tags": []
          },
          "execution_count": 7
        }
      ]
    },
    {
      "cell_type": "code",
      "metadata": {
        "colab_type": "code",
        "id": "_2dOESWUXXGx",
        "colab": {}
      },
      "source": [
        "class_names = ['T-shirt/top', 'Trouser', 'Pullover', 'Dress', 'Coat',\n",
        "               'Sandal', 'Shirt', 'Sneaker', 'Bag', 'Ankle boot']"
      ],
      "execution_count": 8,
      "outputs": []
    },
    {
      "cell_type": "code",
      "metadata": {
        "id": "noB62aIUYGT2",
        "colab_type": "code",
        "colab": {
          "base_uri": "https://localhost:8080/",
          "height": 1000
        },
        "outputId": "9c9130bf-2ccc-44b5-bcc2-5ccb3cd33345"
      },
      "source": [
        "for i in range (9):\n",
        "  plt.imshow(train_images[i], cmap=\"binary\") \n",
        "  plt.axis('off')\n",
        "  plt.title(class_names[test_labels[i]], fontsize=12)\n",
        "  plt.show()"
      ],
      "execution_count": 12,
      "outputs": [
        {
          "output_type": "display_data",
          "data": {
            "image/png": "[encoded data removed]",
            "text/plain": [
              "<Figure size 432x288 with 1 Axes>"
            ]
          },
          "metadata": {
            "tags": [],
            "needs_background": "light"
          }
        },
        {
          "output_type": "display_data",
          "data": {
            "image/png": "[encoded data removed]",
            "text/plain": [
              "<Figure size 432x288 with 1 Axes>"
            ]
          },
          "metadata": {
            "tags": [],
            "needs_background": "light"
          }
        },
        {
          "output_type": "display_data",
          "data": {
            "image/png": "[encoded data removed]",
            "text/plain": [
              "<Figure size 432x288 with 1 Axes>"
            ]
          },
          "metadata": {
            "tags": [],
            "needs_background": "light"
          }
        },
        {
          "output_type": "display_data",
          "data": {
            "image/png": "[encoded data removed]",
            "text/plain": [
              "<Figure size 432x288 with 1 Axes>"
            ]
          },
          "metadata": {
            "tags": [],
            "needs_background": "light"
          }
        },
        {
          "output_type": "display_data",
          "data": {
            "image/png": "[encoded data removed]",
            "text/plain": [
              "<Figure size 432x288 with 1 Axes>"
            ]
          },
          "metadata": {
            "tags": [],
            "needs_background": "light"
          }
        },
        {
          "output_type": "display_data",
          "data": {
            "image/png": "[encoded data removed]",
            "text/plain": [
              "<Figure size 432x288 with 1 Axes>"
            ]
          },
          "metadata": {
            "tags": [],
            "needs_background": "light"
          }
        },
        {
          "output_type": "display_data",
          "data": {
            "image/png": "[encoded data removed]",
            "text/plain": [
              "<Figure size 432x288 with 1 Axes>"
            ]
          },
          "metadata": {
            "tags": [],
            "needs_background": "light"
          }
        },
        {
          "output_type": "display_data",
          "data": {
            "image/png": "[encoded data removed]",
            "text/plain": [
              "<Figure size 432x288 with 1 Axes>"
            ]
          },
          "metadata": {
            "tags": [],
            "needs_background": "light"
          }
        },
        {
          "output_type": "display_data",
          "data": {
            "image/png": "[encoded data removed]",
            "text/plain": [
              "<Figure size 432x288 with 1 Axes>"
            ]
          },
          "metadata": {
            "tags": [],
            "needs_background": "light"
          }
        }
      ]
    },
    {
      "cell_type": "markdown",
      "metadata": {
        "colab_type": "text",
        "id": "391ZFdRzXXHD"
      },
      "source": [
        "## A.2 Data Cleaning and Transformation"
      ]
    },
    {
      "cell_type": "code",
      "metadata": {
        "colab_type": "code",
        "id": "3P5LUQiEXXHD",
        "colab": {}
      },
      "source": [
        "# Reshape the data into the right format for model (float32 array w/shape 60000, 28*28 and values btw/ 0 and 1).\n",
        "#train_images = train_images.reshape((60000, 28 * 28))  # Decided instead to use a Flatten layer in the model\n",
        "train_images = train_images.astype('float32') / 255\n",
        "\n",
        "#test_images = test_images.reshape((10000, 28 * 28))  # Decided instead to use a Flatten layer in the model\n",
        "test_images = test_images.astype('float32') / 255"
      ],
      "execution_count": 13,
      "outputs": []
    },
    {
      "cell_type": "code",
      "metadata": {
        "colab_type": "code",
        "id": "eTgoHS6wXXHM",
        "colab": {}
      },
      "source": [
        "# Hold back 5,000 of the 60,000 training images for validation.\n",
        "val_images, train_images = train_images[:5000], train_images[5000:] \n",
        "val_labels, train_labels = train_labels[:5000], train_labels[5000:]"
      ],
      "execution_count": 14,
      "outputs": []
    },
    {
      "cell_type": "code",
      "metadata": {
        "colab_type": "code",
        "id": "wtmDm5WIXXHR",
        "colab": {}
      },
      "source": [
        "# function to help calculate training and test evaluation times\n",
        "class TrainRuntimeCallback(keras.callbacks.Callback):\n",
        "\n",
        "  def on_train_begin(self,logs={}):\n",
        "    self.start = datetime.datetime.now()\n",
        "\n",
        "  def on_train_end(self,logs={}):\n",
        "    self.process_time = (datetime.datetime.now() - self.start).total_seconds()"
      ],
      "execution_count": 15,
      "outputs": []
    },
    {
      "cell_type": "code",
      "metadata": {
        "colab_type": "code",
        "id": "pAQ24bJWXXHW",
        "colab": {}
      },
      "source": [
        "class TestRuntimeCallback(keras.callbacks.Callback):\n",
        "\n",
        "  def on_test_begin(self,logs={}):\n",
        "    self.start = datetime.datetime.now()\n",
        "\n",
        "  def on_test_end(self,logs={}):\n",
        "    self.process_time = (datetime.datetime.now() - self.start).total_seconds()"
      ],
      "execution_count": 16,
      "outputs": []
    },
    {
      "cell_type": "markdown",
      "metadata": {
        "colab_type": "text",
        "id": "0ib-5EmTXXHb"
      },
      "source": [
        "# 1. Experiment 1: Baseline DNN w/2 layers\n",
        "\n",
        "This model will have 784 input nodes.  It will take two dense (fully-connected) layers.  The first (hidden) layer will have 5 nodes, and the second (softmax) layer will have 10 output nodes."
      ]
    },
    {
      "cell_type": "code",
      "metadata": {
        "colab_type": "code",
        "id": "7o2Rq2T4XXHd",
        "colab": {}
      },
      "source": [
        "model_1 = models.Sequential()\n",
        "model_1.add(layers.Flatten(input_shape=[28, 28]))\n",
        "model_1.add(layers.Dense(5, activation='relu'))\n",
        "model_1.add(layers.Dense(10, activation='softmax')) "
      ],
      "execution_count": 17,
      "outputs": []
    },
    {
      "cell_type": "code",
      "metadata": {
        "colab_type": "code",
        "id": "E2zDUJXdXXHg",
        "colab": {
          "base_uri": "https://localhost:8080/",
          "height": 255
        },
        "outputId": "1b26b74b-0413-4968-846b-4742f950d55a"
      },
      "source": [
        "model_1.summary()"
      ],
      "execution_count": 18,
      "outputs": [
        {
          "output_type": "stream",
          "text": [
            "Model: \"sequential\"\n",
            "_________________________________________________________________\n",
            "Layer (type)                 Output Shape              Param #   \n",
            "=================================================================\n",
            "flatten (Flatten)            (None, 784)               0         \n",
            "_________________________________________________________________\n",
            "dense (Dense)                (None, 5)                 3925      \n",
            "_________________________________________________________________\n",
            "dense_1 (Dense)              (None, 10)                60        \n",
            "=================================================================\n",
            "Total params: 3,985\n",
            "Trainable params: 3,985\n",
            "Non-trainable params: 0\n",
            "_________________________________________________________________\n"
          ],
          "name": "stdout"
        }
      ]
    },
    {
      "cell_type": "code",
      "metadata": {
        "colab_type": "code",
        "id": "q5zLkPPMXXHk",
        "colab": {
          "base_uri": "https://localhost:8080/",
          "height": 422
        },
        "outputId": "7f918d2c-388a-4b85-c947-d39b28dd1bc6"
      },
      "source": [
        "keras.utils.plot_model(model_1, show_shapes=True)"
      ],
      "execution_count": 19,
      "outputs": [
        {
          "output_type": "execute_result",
          "data": {
            "image/png": "[encoded data removed]",
            "text/plain": [
              "<IPython.core.display.Image object>"
            ]
          },
          "metadata": {
            "tags": []
          },
          "execution_count": 19
        }
      ]
    },
    {
      "cell_type": "markdown",
      "metadata": {
        "colab_type": "text",
        "id": "XspoH2AZXXHn"
      },
      "source": [
        "## 1A. Model Compilation\n",
        "\n",
        "This step includes an optimizer (how the network updates itself based on the data and the loss function), a loss function (how the network measures how good a job it is doing on the data and adjusts), and metrics (accuracy)."
      ]
    },
    {
      "cell_type": "code",
      "metadata": {
        "colab_type": "code",
        "id": "WIAmczv3XXHo",
        "colab": {}
      },
      "source": [
        "model_1.compile(optimizer='adam',\n",
        "                loss='sparse_categorical_crossentropy',\n",
        "                metrics=['accuracy'])"
      ],
      "execution_count": 20,
      "outputs": []
    },
    {
      "cell_type": "markdown",
      "metadata": {
        "colab_type": "text",
        "id": "-kJgeHo1XXHu"
      },
      "source": [
        "## 1B. Model Training\n",
        "\n",
        "Train model for 20 epochs with batch size 100"
      ]
    },
    {
      "cell_type": "code",
      "metadata": {
        "colab_type": "code",
        "id": "ef3NJp4JXXHu",
        "colab": {
          "base_uri": "https://localhost:8080/",
          "height": 734
        },
        "outputId": "aca6c052-232d-4aa3-ed2d-a9f51060ee59"
      },
      "source": [
        "train_rt = TrainRuntimeCallback()\n",
        "history = model_1.fit(train_images, train_labels, callbacks=[train_rt], epochs=20, batch_size=100,\n",
        "                    validation_data=(val_images, val_labels))\n",
        "\n",
        "# Saving models locally after fitting\n",
        "save_dir = \"results/\"\n",
        "model_name = 'fashion_mnist_model_1.h5'\n",
        "model_path = os.path.join(save_dir, model_name)\n",
        "print('--------------------------')"
      ],
      "execution_count": 21,
      "outputs": [
        {
          "output_type": "stream",
          "text": [
            "Epoch 1/20\n",
            "550/550 [==============================] - 1s 3ms/step - loss: 1.5333 - accuracy: 0.5120 - val_loss: 1.0563 - val_accuracy: 0.7034\n",
            "Epoch 2/20\n",
            "550/550 [==============================] - 1s 2ms/step - loss: 0.8434 - accuracy: 0.7454 - val_loss: 0.6535 - val_accuracy: 0.7846\n",
            "Epoch 3/20\n",
            "550/550 [==============================] - 1s 2ms/step - loss: 0.6183 - accuracy: 0.7958 - val_loss: 0.5835 - val_accuracy: 0.8096\n",
            "Epoch 4/20\n",
            "550/550 [==============================] - 1s 2ms/step - loss: 0.5639 - accuracy: 0.8114 - val_loss: 0.5502 - val_accuracy: 0.8138\n",
            "Epoch 5/20\n",
            "550/550 [==============================] - 1s 2ms/step - loss: 0.5399 - accuracy: 0.8178 - val_loss: 0.5279 - val_accuracy: 0.8230\n",
            "Epoch 6/20\n",
            "550/550 [==============================] - 1s 2ms/step - loss: 0.5250 - accuracy: 0.8205 - val_loss: 0.5145 - val_accuracy: 0.8288\n",
            "Epoch 7/20\n",
            "550/550 [==============================] - 1s 2ms/step - loss: 0.5135 - accuracy: 0.8244 - val_loss: 0.5108 - val_accuracy: 0.8294\n",
            "Epoch 8/20\n",
            "550/550 [==============================] - 1s 2ms/step - loss: 0.5047 - accuracy: 0.8245 - val_loss: 0.5053 - val_accuracy: 0.8282\n",
            "Epoch 9/20\n",
            "550/550 [==============================] - 1s 2ms/step - loss: 0.4980 - accuracy: 0.8274 - val_loss: 0.5042 - val_accuracy: 0.8292\n",
            "Epoch 10/20\n",
            "550/550 [==============================] - 1s 2ms/step - loss: 0.4922 - accuracy: 0.8294 - val_loss: 0.4969 - val_accuracy: 0.8316\n",
            "Epoch 11/20\n",
            "550/550 [==============================] - 1s 2ms/step - loss: 0.4889 - accuracy: 0.8298 - val_loss: 0.4961 - val_accuracy: 0.8316\n",
            "Epoch 12/20\n",
            "550/550 [==============================] - 1s 2ms/step - loss: 0.4847 - accuracy: 0.8309 - val_loss: 0.4964 - val_accuracy: 0.8310\n",
            "Epoch 13/20\n",
            "550/550 [==============================] - 1s 2ms/step - loss: 0.4815 - accuracy: 0.8327 - val_loss: 0.4896 - val_accuracy: 0.8344\n",
            "Epoch 14/20\n",
            "550/550 [==============================] - 1s 2ms/step - loss: 0.4780 - accuracy: 0.8333 - val_loss: 0.4904 - val_accuracy: 0.8338\n",
            "Epoch 15/20\n",
            "550/550 [==============================] - 1s 2ms/step - loss: 0.4750 - accuracy: 0.8344 - val_loss: 0.4850 - val_accuracy: 0.8362\n",
            "Epoch 16/20\n",
            "550/550 [==============================] - 1s 2ms/step - loss: 0.4724 - accuracy: 0.8342 - val_loss: 0.4849 - val_accuracy: 0.8346\n",
            "Epoch 17/20\n",
            "550/550 [==============================] - 1s 2ms/step - loss: 0.4695 - accuracy: 0.8354 - val_loss: 0.4900 - val_accuracy: 0.8330\n",
            "Epoch 18/20\n",
            "550/550 [==============================] - 1s 2ms/step - loss: 0.4670 - accuracy: 0.8373 - val_loss: 0.4860 - val_accuracy: 0.8356\n",
            "Epoch 19/20\n",
            "550/550 [==============================] - 1s 2ms/step - loss: 0.4662 - accuracy: 0.8371 - val_loss: 0.4875 - val_accuracy: 0.8384\n",
            "Epoch 20/20\n",
            "550/550 [==============================] - 1s 2ms/step - loss: 0.4638 - accuracy: 0.8378 - val_loss: 0.4851 - val_accuracy: 0.8342\n",
            "--------------------------\n"
          ],
          "name": "stdout"
        }
      ]
    },
    {
      "cell_type": "code",
      "metadata": {
        "colab_type": "code",
        "id": "-U-ofxckXXHy",
        "colab": {
          "base_uri": "https://localhost:8080/",
          "height": 34
        },
        "outputId": "983077b1-7013-4426-f082-f7b790e66e15"
      },
      "source": [
        "# Get the training time\n",
        "train_time = train_rt.process_time\n",
        "train_time # in seconds"
      ],
      "execution_count": 22,
      "outputs": [
        {
          "output_type": "execute_result",
          "data": {
            "text/plain": [
              "26.291443"
            ]
          },
          "metadata": {
            "tags": []
          },
          "execution_count": 22
        }
      ]
    },
    {
      "cell_type": "code",
      "metadata": {
        "colab_type": "code",
        "id": "gOIPjzQPXXH2",
        "colab": {
          "base_uri": "https://localhost:8080/",
          "height": 221
        },
        "outputId": "99a9818a-520b-48ef-92e5-584d85f23dd5"
      },
      "source": [
        "model_1.layers[1].weights"
      ],
      "execution_count": 23,
      "outputs": [
        {
          "output_type": "execute_result",
          "data": {
            "text/plain": [
              "[<tf.Variable 'dense/kernel:0' shape=(784, 5) dtype=float32, numpy=\n",
              " array([[-0.08495625, -0.02450575,  0.5867726 , -0.18403265, -0.30403847],\n",
              "        [-0.13381931,  0.01560646,  0.09165865, -0.07803686,  0.00608766],\n",
              "        [ 0.39040858, -0.4066511 , -0.4757636 , -0.48878846, -0.10543991],\n",
              "        ...,\n",
              "        [ 0.4744351 ,  0.41354445,  0.10598992, -0.03145837,  0.23590438],\n",
              "        [ 0.00998982,  0.60049945, -0.11730633, -0.19239654,  0.39222446],\n",
              "        [ 0.07808983,  0.431397  ,  0.2116207 , -0.48969564,  0.10832103]],\n",
              "       dtype=float32)>,\n",
              " <tf.Variable 'dense/bias:0' shape=(5,) dtype=float32, numpy=\n",
              " array([ 1.0045774 ,  0.8961467 ,  0.67530763,  0.9230627 , -0.32683724],\n",
              "       dtype=float32)>]"
            ]
          },
          "metadata": {
            "tags": []
          },
          "execution_count": 23
        }
      ]
    },
    {
      "cell_type": "markdown",
      "metadata": {
        "colab_type": "text",
        "id": "QxUSbTVuXXH8"
      },
      "source": [
        "## 1C. Model Testing\n",
        "\n",
        "Test the model on the test dataset."
      ]
    },
    {
      "cell_type": "code",
      "metadata": {
        "colab_type": "code",
        "id": "bQvx1-KjXXH8",
        "colab": {
          "base_uri": "https://localhost:8080/",
          "height": 34
        },
        "outputId": "9fb7a482-98b9-4826-b706-4a8d52e096a0"
      },
      "source": [
        "test_rt = TestRuntimeCallback()\n",
        "test_loss, test_acc = model_1.evaluate(test_images, test_labels, callbacks=[test_rt])"
      ],
      "execution_count": 24,
      "outputs": [
        {
          "output_type": "stream",
          "text": [
            "313/313 [==============================] - 1s 2ms/step - loss: 0.5112 - accuracy: 0.8244\n"
          ],
          "name": "stdout"
        }
      ]
    },
    {
      "cell_type": "code",
      "metadata": {
        "colab_type": "code",
        "id": "X-u1CkZGXXIB",
        "colab": {
          "base_uri": "https://localhost:8080/",
          "height": 34
        },
        "outputId": "189c9951-8405-4771-ecf6-1486fc874385"
      },
      "source": [
        "# Get the test time\n",
        "test_time = test_rt.process_time\n",
        "test_time # in seconds"
      ],
      "execution_count": 25,
      "outputs": [
        {
          "output_type": "execute_result",
          "data": {
            "text/plain": [
              "0.634644"
            ]
          },
          "metadata": {
            "tags": []
          },
          "execution_count": 25
        }
      ]
    },
    {
      "cell_type": "code",
      "metadata": {
        "colab_type": "code",
        "id": "K0-Rd1biXXIG",
        "colab": {
          "base_uri": "https://localhost:8080/",
          "height": 34
        },
        "outputId": "6edabf06-3073-4f5b-9798-ebd40f424c72"
      },
      "source": [
        "history_dict = history.history\n",
        "history_dict.keys()"
      ],
      "execution_count": 26,
      "outputs": [
        {
          "output_type": "execute_result",
          "data": {
            "text/plain": [
              "dict_keys(['loss', 'accuracy', 'val_loss', 'val_accuracy'])"
            ]
          },
          "metadata": {
            "tags": []
          },
          "execution_count": 26
        }
      ]
    },
    {
      "cell_type": "code",
      "metadata": {
        "colab_type": "code",
        "id": "qpeeQDfCXXIJ",
        "colab": {
          "base_uri": "https://localhost:8080/",
          "height": 204
        },
        "outputId": "320b7969-4aaf-4431-ecf3-0f5a5a4ff27a"
      },
      "source": [
        "history_df=pd.DataFrame(history_dict)\n",
        "# history_df.tail()"
      ],
      "execution_count": 27,
      "outputs": [
        {
          "output_type": "execute_result",
          "data": {
            "text/html": [
              "<div>\n",
              "<style scoped>\n",
              "    .dataframe tbody tr th:only-of-type {\n",
              "        vertical-align: middle;\n",
              "    }\n",
              "\n",
              "    .dataframe tbody tr th {\n",
              "        vertical-align: top;\n",
              "    }\n",
              "\n",
              "    .dataframe thead th {\n",
              "        text-align: right;\n",
              "    }\n",
              "</style>\n",
              "<table border=\"1\" class=\"dataframe\">\n",
              "  <thead>\n",
              "    <tr style=\"text-align: right;\">\n",
              "      <th></th>\n",
              "      <th>loss</th>\n",
              "      <th>accuracy</th>\n",
              "      <th>val_loss</th>\n",
              "      <th>val_accuracy</th>\n",
              "    </tr>\n",
              "  </thead>\n",
              "  <tbody>\n",
              "    <tr>\n",
              "      <th>15</th>\n",
              "      <td>0.472350</td>\n",
              "      <td>0.834200</td>\n",
              "      <td>0.484858</td>\n",
              "      <td>0.8346</td>\n",
              "    </tr>\n",
              "    <tr>\n",
              "      <th>16</th>\n",
              "      <td>0.469477</td>\n",
              "      <td>0.835364</td>\n",
              "      <td>0.490041</td>\n",
              "      <td>0.8330</td>\n",
              "    </tr>\n",
              "    <tr>\n",
              "      <th>17</th>\n",
              "      <td>0.467037</td>\n",
              "      <td>0.837309</td>\n",
              "      <td>0.485983</td>\n",
              "      <td>0.8356</td>\n",
              "    </tr>\n",
              "    <tr>\n",
              "      <th>18</th>\n",
              "      <td>0.466209</td>\n",
              "      <td>0.837127</td>\n",
              "      <td>0.487460</td>\n",
              "      <td>0.8384</td>\n",
              "    </tr>\n",
              "    <tr>\n",
              "      <th>19</th>\n",
              "      <td>0.463785</td>\n",
              "      <td>0.837818</td>\n",
              "      <td>0.485111</td>\n",
              "      <td>0.8342</td>\n",
              "    </tr>\n",
              "  </tbody>\n",
              "</table>\n",
              "</div>"
            ],
            "text/plain": [
              "        loss  accuracy  val_loss  val_accuracy\n",
              "15  0.472350  0.834200  0.484858        0.8346\n",
              "16  0.469477  0.835364  0.490041        0.8330\n",
              "17  0.467037  0.837309  0.485983        0.8356\n",
              "18  0.466209  0.837127  0.487460        0.8384\n",
              "19  0.463785  0.837818  0.485111        0.8342"
            ]
          },
          "metadata": {
            "tags": []
          },
          "execution_count": 27
        }
      ]
    },
    {
      "cell_type": "code",
      "metadata": {
        "colab_type": "code",
        "id": "hCjV5Z3eXXIP",
        "colab": {
          "base_uri": "https://localhost:8080/",
          "height": 80
        },
        "outputId": "0ee6e764-0733-4999-8c79-0abe29f92b16"
      },
      "source": [
        "# Create a results DataFrame using the last row of history_df\n",
        "results_df = history_df.iloc[-1:].copy()\n",
        "results_df.insert(0,'model','DNN (2 layers)') # went the model name to appear first\n",
        "results_df['training time (sec)'] = train_time      # we are okay with training time appearing last\n",
        "results_df['testing time (sec)'] = test_time      # we are okay with training time appearing last\n",
        "results_df"
      ],
      "execution_count": 28,
      "outputs": [
        {
          "output_type": "execute_result",
          "data": {
            "text/html": [
              "<div>\n",
              "<style scoped>\n",
              "    .dataframe tbody tr th:only-of-type {\n",
              "        vertical-align: middle;\n",
              "    }\n",
              "\n",
              "    .dataframe tbody tr th {\n",
              "        vertical-align: top;\n",
              "    }\n",
              "\n",
              "    .dataframe thead th {\n",
              "        text-align: right;\n",
              "    }\n",
              "</style>\n",
              "<table border=\"1\" class=\"dataframe\">\n",
              "  <thead>\n",
              "    <tr style=\"text-align: right;\">\n",
              "      <th></th>\n",
              "      <th>model</th>\n",
              "      <th>loss</th>\n",
              "      <th>accuracy</th>\n",
              "      <th>val_loss</th>\n",
              "      <th>val_accuracy</th>\n",
              "      <th>training time (sec)</th>\n",
              "      <th>testing time (sec)</th>\n",
              "    </tr>\n",
              "  </thead>\n",
              "  <tbody>\n",
              "    <tr>\n",
              "      <th>19</th>\n",
              "      <td>DNN (2 layers)</td>\n",
              "      <td>0.463785</td>\n",
              "      <td>0.837818</td>\n",
              "      <td>0.485111</td>\n",
              "      <td>0.8342</td>\n",
              "      <td>26.291443</td>\n",
              "      <td>0.634644</td>\n",
              "    </tr>\n",
              "  </tbody>\n",
              "</table>\n",
              "</div>"
            ],
            "text/plain": [
              "             model      loss  ...  training time (sec)  testing time (sec)\n",
              "19  DNN (2 layers)  0.463785  ...            26.291443            0.634644\n",
              "\n",
              "[1 rows x 7 columns]"
            ]
          },
          "metadata": {
            "tags": []
          },
          "execution_count": 28
        }
      ]
    },
    {
      "cell_type": "code",
      "metadata": {
        "id": "vZvTkOJUmnph",
        "colab_type": "code",
        "colab": {}
      },
      "source": [
        "# # Add the new data to results_df\n",
        "# results_df=results_df.append(results_df2,ignore_index=True)\n",
        "# results_df"
      ],
      "execution_count": null,
      "outputs": []
    },
    {
      "cell_type": "markdown",
      "metadata": {
        "colab_type": "text",
        "id": "dYkGwPfAXXIS"
      },
      "source": [
        "## 1D. Performance"
      ]
    },
    {
      "cell_type": "code",
      "metadata": {
        "colab_type": "code",
        "id": "NbS9aBIoXXIT",
        "colab": {
          "base_uri": "https://localhost:8080/",
          "height": 324
        },
        "outputId": "d40b00c3-02e5-45c4-c636-618b7521a850"
      },
      "source": [
        "# Plot learning curves for model\n",
        "pd.DataFrame(history.history).plot(figsize=(8, 5))\n",
        "plt.grid(True)\n",
        "plt.gca().set_ylim(0, 1) # set the vertical range to [0-1]\n",
        "plt.show()"
      ],
      "execution_count": 29,
      "outputs": [
        {
          "output_type": "display_data",
          "data": {
            "image/png": "[encoded data removed]",
            "text/plain": [
              "<Figure size 576x360 with 1 Axes>"
            ]
          },
          "metadata": {
            "tags": [],
            "needs_background": "light"
          }
        }
      ]
    },
    {
      "cell_type": "markdown",
      "metadata": {
        "colab_type": "text",
        "id": "8e21diN7XXIX"
      },
      "source": [
        "# 2. Experiment 2: DNN w/3 layers\n",
        "\n",
        "This model will have 784 input nodes.  It will take three dense (fully-connected) layers.  The first (hidden) layer will have 10 nodes, a second hidden layer with 10 nodes, and a third (softmax) layer will have 10 output nodes."
      ]
    },
    {
      "cell_type": "code",
      "metadata": {
        "colab_type": "code",
        "id": "Xgj2iP1tXXIX",
        "colab": {}
      },
      "source": [
        "# Instead of adding the layers one by one, we can pass a list of layers when creating the Sequential mode.\n",
        "model_2 = models.Sequential([\n",
        "    keras.layers.Flatten(input_shape=[28, 28]),\n",
        "    keras.layers.Dense(10, activation=\"relu\"),\n",
        "    keras.layers.Dense(5, activation=\"relu\"),\n",
        "    keras.layers.Dense(10, activation=\"softmax\")\n",
        "])"
      ],
      "execution_count": 30,
      "outputs": []
    },
    {
      "cell_type": "code",
      "metadata": {
        "colab_type": "code",
        "id": "D_EzZBMmXXIZ",
        "colab": {
          "base_uri": "https://localhost:8080/",
          "height": 289
        },
        "outputId": "7e055bb3-afee-49d6-8579-42eb90b150fb"
      },
      "source": [
        "model_2.summary()"
      ],
      "execution_count": 31,
      "outputs": [
        {
          "output_type": "stream",
          "text": [
            "Model: \"sequential_1\"\n",
            "_________________________________________________________________\n",
            "Layer (type)                 Output Shape              Param #   \n",
            "=================================================================\n",
            "flatten_1 (Flatten)          (None, 784)               0         \n",
            "_________________________________________________________________\n",
            "dense_2 (Dense)              (None, 10)                7850      \n",
            "_________________________________________________________________\n",
            "dense_3 (Dense)              (None, 5)                 55        \n",
            "_________________________________________________________________\n",
            "dense_4 (Dense)              (None, 10)                60        \n",
            "=================================================================\n",
            "Total params: 7,965\n",
            "Trainable params: 7,965\n",
            "Non-trainable params: 0\n",
            "_________________________________________________________________\n"
          ],
          "name": "stdout"
        }
      ]
    },
    {
      "cell_type": "code",
      "metadata": {
        "colab_type": "code",
        "id": "oGn5XRXLXXId",
        "colab": {
          "base_uri": "https://localhost:8080/",
          "height": 533
        },
        "outputId": "8872ad0a-64b7-483d-e1f3-1b6a12c95513"
      },
      "source": [
        "keras.utils.plot_model(model_2, show_shapes=True)"
      ],
      "execution_count": 32,
      "outputs": [
        {
          "output_type": "execute_result",
          "data": {
            "image/png": "[encoded data removed]",
            "text/plain": [
              "<IPython.core.display.Image object>"
            ]
          },
          "metadata": {
            "tags": []
          },
          "execution_count": 32
        }
      ]
    },
    {
      "cell_type": "markdown",
      "metadata": {
        "colab_type": "text",
        "id": "biMa0SaBXXIg"
      },
      "source": [
        "## 2A. Model Compilation"
      ]
    },
    {
      "cell_type": "code",
      "metadata": {
        "colab_type": "code",
        "id": "Gkvx5x-0XXIg",
        "colab": {}
      },
      "source": [
        "model_2.compile(optimizer='adam',\n",
        "                loss='sparse_categorical_crossentropy',\n",
        "                metrics=['accuracy'])"
      ],
      "execution_count": 33,
      "outputs": []
    },
    {
      "cell_type": "markdown",
      "metadata": {
        "colab_type": "text",
        "id": "DS7SkccpXXIk"
      },
      "source": [
        "## 2B. Model Training\n"
      ]
    },
    {
      "cell_type": "code",
      "metadata": {
        "colab_type": "code",
        "id": "-Arbr0FKXXIk",
        "colab": {
          "base_uri": "https://localhost:8080/",
          "height": 734
        },
        "outputId": "955995b9-22ee-43c5-89c9-422eeff2c8bd"
      },
      "source": [
        "train_rt = TrainRuntimeCallback()\n",
        "history = model_2.fit(train_images, train_labels, callbacks=[train_rt], epochs=20, batch_size = 100,\n",
        "                    validation_data=(val_images, val_labels))\n",
        "\n",
        "# Saving models locally after fitting\n",
        "save_dir = \"results/\"\n",
        "model_name = 'fashion_mnist_model_2.h5'\n",
        "model_path = os.path.join(save_dir, model_name)\n",
        "print('--------------------------')"
      ],
      "execution_count": 34,
      "outputs": [
        {
          "output_type": "stream",
          "text": [
            "Epoch 1/20\n",
            "550/550 [==============================] - 1s 2ms/step - loss: 1.0934 - accuracy: 0.6273 - val_loss: 0.6276 - val_accuracy: 0.7880\n",
            "Epoch 2/20\n",
            "550/550 [==============================] - 1s 2ms/step - loss: 0.5943 - accuracy: 0.7963 - val_loss: 0.5267 - val_accuracy: 0.8194\n",
            "Epoch 3/20\n",
            "550/550 [==============================] - 1s 2ms/step - loss: 0.5254 - accuracy: 0.8206 - val_loss: 0.5050 - val_accuracy: 0.8320\n",
            "Epoch 4/20\n",
            "550/550 [==============================] - 1s 2ms/step - loss: 0.4917 - accuracy: 0.8315 - val_loss: 0.4757 - val_accuracy: 0.8402\n",
            "Epoch 5/20\n",
            "550/550 [==============================] - 1s 2ms/step - loss: 0.4727 - accuracy: 0.8371 - val_loss: 0.4547 - val_accuracy: 0.8458\n",
            "Epoch 6/20\n",
            "550/550 [==============================] - 1s 2ms/step - loss: 0.4590 - accuracy: 0.8415 - val_loss: 0.4435 - val_accuracy: 0.8494\n",
            "Epoch 7/20\n",
            "550/550 [==============================] - 1s 2ms/step - loss: 0.4444 - accuracy: 0.8459 - val_loss: 0.4326 - val_accuracy: 0.8546\n",
            "Epoch 8/20\n",
            "550/550 [==============================] - 1s 2ms/step - loss: 0.4358 - accuracy: 0.8490 - val_loss: 0.4361 - val_accuracy: 0.8552\n",
            "Epoch 9/20\n",
            "550/550 [==============================] - 1s 2ms/step - loss: 0.4267 - accuracy: 0.8520 - val_loss: 0.4309 - val_accuracy: 0.8540\n",
            "Epoch 10/20\n",
            "550/550 [==============================] - 1s 2ms/step - loss: 0.4189 - accuracy: 0.8555 - val_loss: 0.4209 - val_accuracy: 0.8570\n",
            "Epoch 11/20\n",
            "550/550 [==============================] - 1s 2ms/step - loss: 0.4135 - accuracy: 0.8573 - val_loss: 0.4165 - val_accuracy: 0.8630\n",
            "Epoch 12/20\n",
            "550/550 [==============================] - 1s 2ms/step - loss: 0.4103 - accuracy: 0.8583 - val_loss: 0.4095 - val_accuracy: 0.8596\n",
            "Epoch 13/20\n",
            "550/550 [==============================] - 1s 2ms/step - loss: 0.4054 - accuracy: 0.8586 - val_loss: 0.4264 - val_accuracy: 0.8564\n",
            "Epoch 14/20\n",
            "550/550 [==============================] - 1s 2ms/step - loss: 0.4001 - accuracy: 0.8616 - val_loss: 0.4125 - val_accuracy: 0.8626\n",
            "Epoch 15/20\n",
            "550/550 [==============================] - 1s 2ms/step - loss: 0.3989 - accuracy: 0.8626 - val_loss: 0.4095 - val_accuracy: 0.8628\n",
            "Epoch 16/20\n",
            "550/550 [==============================] - 1s 2ms/step - loss: 0.3944 - accuracy: 0.8639 - val_loss: 0.4210 - val_accuracy: 0.8582\n",
            "Epoch 17/20\n",
            "550/550 [==============================] - 1s 2ms/step - loss: 0.3912 - accuracy: 0.8636 - val_loss: 0.4026 - val_accuracy: 0.8682\n",
            "Epoch 18/20\n",
            "550/550 [==============================] - 1s 2ms/step - loss: 0.3885 - accuracy: 0.8655 - val_loss: 0.4005 - val_accuracy: 0.8686\n",
            "Epoch 19/20\n",
            "550/550 [==============================] - 1s 2ms/step - loss: 0.3877 - accuracy: 0.8657 - val_loss: 0.4071 - val_accuracy: 0.8646\n",
            "Epoch 20/20\n",
            "550/550 [==============================] - 1s 2ms/step - loss: 0.3856 - accuracy: 0.8660 - val_loss: 0.4013 - val_accuracy: 0.8648\n",
            "--------------------------\n"
          ],
          "name": "stdout"
        }
      ]
    },
    {
      "cell_type": "code",
      "metadata": {
        "colab_type": "code",
        "id": "99ISKmYHXXIn",
        "colab": {
          "base_uri": "https://localhost:8080/",
          "height": 34
        },
        "outputId": "d9a5c8d7-a120-4b85-d90a-a9a0077ea984"
      },
      "source": [
        "# Get the training time\n",
        "train_time = train_rt.process_time\n",
        "train_time # in seconds"
      ],
      "execution_count": 35,
      "outputs": [
        {
          "output_type": "execute_result",
          "data": {
            "text/plain": [
              "25.534299"
            ]
          },
          "metadata": {
            "tags": []
          },
          "execution_count": 35
        }
      ]
    },
    {
      "cell_type": "code",
      "metadata": {
        "colab_type": "code",
        "id": "zswEiZQfXXIp",
        "colab": {
          "base_uri": "https://localhost:8080/",
          "height": 323
        },
        "outputId": "1eb81b69-e0d4-4ca6-a3a4-1296f85d6aaa"
      },
      "source": [
        "model_2.layers[1].weights"
      ],
      "execution_count": 36,
      "outputs": [
        {
          "output_type": "execute_result",
          "data": {
            "text/plain": [
              "[<tf.Variable 'dense_2/kernel:0' shape=(784, 10) dtype=float32, numpy=\n",
              " array([[ 0.4925621 ,  0.04878267, -0.47940648, ...,  0.28546274,\n",
              "         -0.38828492, -0.02152865],\n",
              "        [ 0.5183464 ,  0.25312173,  0.5069263 , ..., -0.2122109 ,\n",
              "         -0.65054905,  0.34231693],\n",
              "        [ 0.18238327, -0.1502212 , -0.2130859 , ...,  0.27302274,\n",
              "         -0.69527584, -0.1994194 ],\n",
              "        ...,\n",
              "        [-0.23606896, -0.13785227,  0.06954484, ..., -0.06773212,\n",
              "          0.23245028,  0.42269328],\n",
              "        [ 0.42236978, -0.762525  , -0.14763372, ...,  0.2259654 ,\n",
              "          0.25379887,  0.16036195],\n",
              "        [ 0.21001172, -0.11549312, -0.16125627, ...,  0.2857493 ,\n",
              "         -0.25067648, -0.07645933]], dtype=float32)>,\n",
              " <tf.Variable 'dense_2/bias:0' shape=(10,) dtype=float32, numpy=\n",
              " array([ 0.3373559 ,  0.40660846, -0.00816518,  0.27010486, -0.31941098,\n",
              "         0.47647446, -0.01031993, -0.13826925, -0.25403666,  0.6022843 ],\n",
              "       dtype=float32)>]"
            ]
          },
          "metadata": {
            "tags": []
          },
          "execution_count": 36
        }
      ]
    },
    {
      "cell_type": "markdown",
      "metadata": {
        "colab_type": "text",
        "id": "UIeql6poXXIt"
      },
      "source": [
        "## 2C. Model Compilation"
      ]
    },
    {
      "cell_type": "code",
      "metadata": {
        "colab_type": "code",
        "id": "2vcjR_gUXXIt",
        "colab": {
          "base_uri": "https://localhost:8080/",
          "height": 34
        },
        "outputId": "48d0a891-e427-4357-ccd1-350ffb39e9e7"
      },
      "source": [
        "test_rt = TestRuntimeCallback()\n",
        "test_loss, test_acc = model_2.evaluate(test_images, test_labels, callbacks=[test_rt])"
      ],
      "execution_count": 37,
      "outputs": [
        {
          "output_type": "stream",
          "text": [
            "313/313 [==============================] - 1s 2ms/step - loss: 0.4404 - accuracy: 0.8490\n"
          ],
          "name": "stdout"
        }
      ]
    },
    {
      "cell_type": "code",
      "metadata": {
        "colab_type": "code",
        "id": "15xn8TpuXXIw",
        "colab": {
          "base_uri": "https://localhost:8080/",
          "height": 34
        },
        "outputId": "5bb28e4a-ccef-4664-d3d8-8d1fd37180a1"
      },
      "source": [
        "# Get the test time\n",
        "test_time = test_rt.process_time\n",
        "test_time # in seconds"
      ],
      "execution_count": 38,
      "outputs": [
        {
          "output_type": "execute_result",
          "data": {
            "text/plain": [
              "0.760157"
            ]
          },
          "metadata": {
            "tags": []
          },
          "execution_count": 38
        }
      ]
    },
    {
      "cell_type": "code",
      "metadata": {
        "colab_type": "code",
        "id": "3r41QL-zXXIy",
        "colab": {
          "base_uri": "https://localhost:8080/",
          "height": 34
        },
        "outputId": "7e6003ac-2783-4898-e948-f35960b6151d"
      },
      "source": [
        "history_dict = history.history\n",
        "history_dict.keys()"
      ],
      "execution_count": 39,
      "outputs": [
        {
          "output_type": "execute_result",
          "data": {
            "text/plain": [
              "dict_keys(['loss', 'accuracy', 'val_loss', 'val_accuracy'])"
            ]
          },
          "metadata": {
            "tags": []
          },
          "execution_count": 39
        }
      ]
    },
    {
      "cell_type": "code",
      "metadata": {
        "colab_type": "code",
        "id": "FjI_bo2iXXI0",
        "colab": {
          "base_uri": "https://localhost:8080/",
          "height": 204
        },
        "outputId": "66e77118-737a-4a48-a361-ab5091bbd71c"
      },
      "source": [
        "history_df=pd.DataFrame(history_dict)\n",
        "history_df.tail()"
      ],
      "execution_count": 40,
      "outputs": [
        {
          "output_type": "execute_result",
          "data": {
            "text/html": [
              "<div>\n",
              "<style scoped>\n",
              "    .dataframe tbody tr th:only-of-type {\n",
              "        vertical-align: middle;\n",
              "    }\n",
              "\n",
              "    .dataframe tbody tr th {\n",
              "        vertical-align: top;\n",
              "    }\n",
              "\n",
              "    .dataframe thead th {\n",
              "        text-align: right;\n",
              "    }\n",
              "</style>\n",
              "<table border=\"1\" class=\"dataframe\">\n",
              "  <thead>\n",
              "    <tr style=\"text-align: right;\">\n",
              "      <th></th>\n",
              "      <th>loss</th>\n",
              "      <th>accuracy</th>\n",
              "      <th>val_loss</th>\n",
              "      <th>val_accuracy</th>\n",
              "    </tr>\n",
              "  </thead>\n",
              "  <tbody>\n",
              "    <tr>\n",
              "      <th>15</th>\n",
              "      <td>0.394387</td>\n",
              "      <td>0.863873</td>\n",
              "      <td>0.421012</td>\n",
              "      <td>0.8582</td>\n",
              "    </tr>\n",
              "    <tr>\n",
              "      <th>16</th>\n",
              "      <td>0.391197</td>\n",
              "      <td>0.863582</td>\n",
              "      <td>0.402562</td>\n",
              "      <td>0.8682</td>\n",
              "    </tr>\n",
              "    <tr>\n",
              "      <th>17</th>\n",
              "      <td>0.388530</td>\n",
              "      <td>0.865491</td>\n",
              "      <td>0.400487</td>\n",
              "      <td>0.8686</td>\n",
              "    </tr>\n",
              "    <tr>\n",
              "      <th>18</th>\n",
              "      <td>0.387732</td>\n",
              "      <td>0.865745</td>\n",
              "      <td>0.407128</td>\n",
              "      <td>0.8646</td>\n",
              "    </tr>\n",
              "    <tr>\n",
              "      <th>19</th>\n",
              "      <td>0.385630</td>\n",
              "      <td>0.865982</td>\n",
              "      <td>0.401313</td>\n",
              "      <td>0.8648</td>\n",
              "    </tr>\n",
              "  </tbody>\n",
              "</table>\n",
              "</div>"
            ],
            "text/plain": [
              "        loss  accuracy  val_loss  val_accuracy\n",
              "15  0.394387  0.863873  0.421012        0.8582\n",
              "16  0.391197  0.863582  0.402562        0.8682\n",
              "17  0.388530  0.865491  0.400487        0.8686\n",
              "18  0.387732  0.865745  0.407128        0.8646\n",
              "19  0.385630  0.865982  0.401313        0.8648"
            ]
          },
          "metadata": {
            "tags": []
          },
          "execution_count": 40
        }
      ]
    },
    {
      "cell_type": "code",
      "metadata": {
        "colab_type": "code",
        "id": "zTWCTjJlXXI3",
        "colab": {
          "base_uri": "https://localhost:8080/",
          "height": 80
        },
        "outputId": "2cf6c9aa-ea5a-4944-8cbf-037e2b74f6e4"
      },
      "source": [
        "history_dict = history.history\n",
        "history_df=pd.DataFrame(history_dict)\n",
        "results_df2 = history_df.iloc[-1:].copy()\n",
        "results_df2.insert(0,'model','DNN (3 layers)') # went the model name to appear first\n",
        "results_df2['training time (sec)'] = train_time      # we are okay with training time appearing last\n",
        "results_df2['testing time (sec)'] = test_time      # we are okay with training time appearing last\n",
        "results_df2"
      ],
      "execution_count": 41,
      "outputs": [
        {
          "output_type": "execute_result",
          "data": {
            "text/html": [
              "<div>\n",
              "<style scoped>\n",
              "    .dataframe tbody tr th:only-of-type {\n",
              "        vertical-align: middle;\n",
              "    }\n",
              "\n",
              "    .dataframe tbody tr th {\n",
              "        vertical-align: top;\n",
              "    }\n",
              "\n",
              "    .dataframe thead th {\n",
              "        text-align: right;\n",
              "    }\n",
              "</style>\n",
              "<table border=\"1\" class=\"dataframe\">\n",
              "  <thead>\n",
              "    <tr style=\"text-align: right;\">\n",
              "      <th></th>\n",
              "      <th>model</th>\n",
              "      <th>loss</th>\n",
              "      <th>accuracy</th>\n",
              "      <th>val_loss</th>\n",
              "      <th>val_accuracy</th>\n",
              "      <th>training time (sec)</th>\n",
              "      <th>testing time (sec)</th>\n",
              "    </tr>\n",
              "  </thead>\n",
              "  <tbody>\n",
              "    <tr>\n",
              "      <th>19</th>\n",
              "      <td>DNN (3 layers)</td>\n",
              "      <td>0.38563</td>\n",
              "      <td>0.865982</td>\n",
              "      <td>0.401313</td>\n",
              "      <td>0.8648</td>\n",
              "      <td>25.534299</td>\n",
              "      <td>0.760157</td>\n",
              "    </tr>\n",
              "  </tbody>\n",
              "</table>\n",
              "</div>"
            ],
            "text/plain": [
              "             model     loss  ...  training time (sec)  testing time (sec)\n",
              "19  DNN (3 layers)  0.38563  ...            25.534299            0.760157\n",
              "\n",
              "[1 rows x 7 columns]"
            ]
          },
          "metadata": {
            "tags": []
          },
          "execution_count": 41
        }
      ]
    },
    {
      "cell_type": "code",
      "metadata": {
        "colab_type": "code",
        "id": "c0MqqNx_XXI5",
        "colab": {}
      },
      "source": [
        "# # Add the new data to results_df\n",
        "# results_df=results_df.append(results_df2,ignore_index=True)\n",
        "# results_df"
      ],
      "execution_count": 42,
      "outputs": []
    },
    {
      "cell_type": "markdown",
      "metadata": {
        "colab_type": "text",
        "id": "QCCDKCbyXXJD"
      },
      "source": [
        "## 2D. Performance"
      ]
    },
    {
      "cell_type": "code",
      "metadata": {
        "colab_type": "code",
        "id": "Blw7e4dHXXJD",
        "colab": {
          "base_uri": "https://localhost:8080/",
          "height": 324
        },
        "outputId": "d65382d2-aa96-42d0-a90f-cd1ebdfbafda"
      },
      "source": [
        "# Plot learning curves for model\n",
        "pd.DataFrame(history.history).plot(figsize=(8, 5))\n",
        "plt.grid(True)\n",
        "plt.gca().set_ylim(0, 1) # set the vertical range to [0-1]\n",
        "plt.show()"
      ],
      "execution_count": 43,
      "outputs": [
        {
          "output_type": "display_data",
          "data": {
            "image/png": "[encoded data removed]",
            "text/plain": [
              "<Figure size 576x360 with 1 Axes>"
            ]
          },
          "metadata": {
            "tags": [],
            "needs_background": "light"
          }
        }
      ]
    },
    {
      "cell_type": "markdown",
      "metadata": {
        "colab_type": "text",
        "id": "LHiKBhVRXXJG"
      },
      "source": [
        "# 3. Experiment 3: CNN w/2 layers\n",
        "\n",
        "This model will have 2 layers, each consisting of a convolution layer and a max pooling layer.  The second layer will return an array of 10 probability scores."
      ]
    },
    {
      "cell_type": "code",
      "metadata": {
        "colab_type": "code",
        "id": "TA7Tj7DCXXJG",
        "colab": {
          "base_uri": "https://localhost:8080/",
          "height": 34
        },
        "outputId": "9f2bfa83-44f6-45ef-f7f2-cb63720be4ed"
      },
      "source": [
        "# Data re-import and preparation\n",
        "from tensorflow.keras.datasets import fashion_mnist\n",
        "\n",
        "(train_images, train_labels), (test_images, test_labels) = fashion_mnist.load_data()\n",
        "train_images.shape, test_images.shape, test_labels.shape, test_labels.shape"
      ],
      "execution_count": 44,
      "outputs": [
        {
          "output_type": "execute_result",
          "data": {
            "text/plain": [
              "((60000, 28, 28), (10000, 28, 28), (10000,), (10000,))"
            ]
          },
          "metadata": {
            "tags": []
          },
          "execution_count": 44
        }
      ]
    },
    {
      "cell_type": "code",
      "metadata": {
        "colab_type": "code",
        "id": "qc99QvPGXXJK",
        "colab": {}
      },
      "source": [
        "# Reshape images and scale\n",
        "train_images = train_images.reshape((60000, 28, 28, 1))\n",
        "train_images = train_images.astype('float32') / 255\n",
        "\n",
        "test_images = test_images.reshape((10000, 28, 28, 1))\n",
        "test_images = test_images.astype('float32') / 255"
      ],
      "execution_count": 45,
      "outputs": []
    },
    {
      "cell_type": "code",
      "metadata": {
        "colab_type": "code",
        "id": "XghNSBjCXXJM",
        "colab": {}
      },
      "source": [
        "# Validation images\n",
        "val_images, train_images = train_images[:5000], train_images[5000:] \n",
        "val_labels, train_labels = train_labels[:5000], train_labels[5000:]"
      ],
      "execution_count": 46,
      "outputs": []
    },
    {
      "cell_type": "code",
      "metadata": {
        "colab_type": "code",
        "id": "RNgqtz7nXXJR",
        "colab": {}
      },
      "source": [
        "model_3a = models.Sequential()\n",
        "model_3a.add(layers.Conv2D(32, (3, 3), activation='relu', input_shape=(28, 28, 1)))\n",
        "model_3a.add(layers.MaxPooling2D((2, 2)))\n",
        "model_3a.add(layers.Conv2D(64, (3, 3), activation='relu'))\n",
        "model_3a.add(layers.MaxPooling2D((2, 2)))\n",
        "model_3a.add(layers.Flatten())\n",
        "model_3a.add(layers.Dense(128, activation='relu'))\n",
        "model_3a.add(layers.Dense(10, activation='softmax'))"
      ],
      "execution_count": 47,
      "outputs": []
    },
    {
      "cell_type": "code",
      "metadata": {
        "colab_type": "code",
        "id": "ffSe2ASNXXJU",
        "colab": {
          "base_uri": "https://localhost:8080/",
          "height": 391
        },
        "outputId": "b04cda39-3e29-4071-a97f-51350387fca7"
      },
      "source": [
        "model_3a.summary()"
      ],
      "execution_count": 48,
      "outputs": [
        {
          "output_type": "stream",
          "text": [
            "Model: \"sequential_2\"\n",
            "_________________________________________________________________\n",
            "Layer (type)                 Output Shape              Param #   \n",
            "=================================================================\n",
            "conv2d (Conv2D)              (None, 26, 26, 32)        320       \n",
            "_________________________________________________________________\n",
            "max_pooling2d (MaxPooling2D) (None, 13, 13, 32)        0         \n",
            "_________________________________________________________________\n",
            "conv2d_1 (Conv2D)            (None, 11, 11, 64)        18496     \n",
            "_________________________________________________________________\n",
            "max_pooling2d_1 (MaxPooling2 (None, 5, 5, 64)          0         \n",
            "_________________________________________________________________\n",
            "flatten_2 (Flatten)          (None, 1600)              0         \n",
            "_________________________________________________________________\n",
            "dense_5 (Dense)              (None, 128)               204928    \n",
            "_________________________________________________________________\n",
            "dense_6 (Dense)              (None, 10)                1290      \n",
            "=================================================================\n",
            "Total params: 225,034\n",
            "Trainable params: 225,034\n",
            "Non-trainable params: 0\n",
            "_________________________________________________________________\n"
          ],
          "name": "stdout"
        }
      ]
    },
    {
      "cell_type": "code",
      "metadata": {
        "colab_type": "code",
        "id": "FrMCJy_RXXJW",
        "colab": {
          "base_uri": "https://localhost:8080/",
          "height": 865
        },
        "outputId": "91e639bb-95f2-4d7c-f6a5-eee400bf87ad"
      },
      "source": [
        "keras.utils.plot_model(model_3a, show_shapes=True)"
      ],
      "execution_count": 49,
      "outputs": [
        {
          "output_type": "execute_result",
          "data": {
            "image/png": "[encoded data removed]",
            "text/plain": [
              "<IPython.core.display.Image object>"
            ]
          },
          "metadata": {
            "tags": []
          },
          "execution_count": 49
        }
      ]
    },
    {
      "cell_type": "markdown",
      "metadata": {
        "colab_type": "text",
        "id": "wn1DaQ7DXXJa"
      },
      "source": [
        "## 3A. Model Compilation"
      ]
    },
    {
      "cell_type": "code",
      "metadata": {
        "colab_type": "code",
        "id": "Kcxkq-g4XXJa",
        "colab": {}
      },
      "source": [
        "model_3a.compile(optimizer='adam',\n",
        "                loss='sparse_categorical_crossentropy',\n",
        "                metrics=['accuracy'])"
      ],
      "execution_count": 50,
      "outputs": []
    },
    {
      "cell_type": "markdown",
      "metadata": {
        "colab_type": "text",
        "id": "6eRuouGpXXJg"
      },
      "source": [
        "## 3B. Model Training"
      ]
    },
    {
      "cell_type": "code",
      "metadata": {
        "colab_type": "code",
        "id": "KO_8HU3FXXJh",
        "colab": {
          "base_uri": "https://localhost:8080/",
          "height": 734
        },
        "outputId": "6fcd174a-4f29-4da3-fc85-8c8152f22e80"
      },
      "source": [
        "train_rt = TrainRuntimeCallback()\n",
        "history = model_3a.fit(train_images, train_labels, callbacks=[train_rt], epochs=20, batch_size = 100,\n",
        "                    validation_data=(val_images, val_labels))\n",
        "\n",
        "# Saving models locally after fitting\n",
        "save_dir = \"results/\"\n",
        "model_name = 'fashion_mnist_model_3a.h5'\n",
        "model_path = os.path.join(save_dir, model_name)\n",
        "print('--------------------------')"
      ],
      "execution_count": 51,
      "outputs": [
        {
          "output_type": "stream",
          "text": [
            "Epoch 1/20\n",
            "550/550 [==============================] - 2s 4ms/step - loss: 0.5366 - accuracy: 0.8075 - val_loss: 0.3788 - val_accuracy: 0.8640\n",
            "Epoch 2/20\n",
            "550/550 [==============================] - 2s 3ms/step - loss: 0.3483 - accuracy: 0.8751 - val_loss: 0.3169 - val_accuracy: 0.8868\n",
            "Epoch 3/20\n",
            "550/550 [==============================] - 2s 3ms/step - loss: 0.3028 - accuracy: 0.8899 - val_loss: 0.2966 - val_accuracy: 0.8928\n",
            "Epoch 4/20\n",
            "550/550 [==============================] - 2s 3ms/step - loss: 0.2683 - accuracy: 0.9018 - val_loss: 0.2772 - val_accuracy: 0.9002\n",
            "Epoch 5/20\n",
            "550/550 [==============================] - 2s 3ms/step - loss: 0.2456 - accuracy: 0.9111 - val_loss: 0.2548 - val_accuracy: 0.9092\n",
            "Epoch 6/20\n",
            "550/550 [==============================] - 2s 3ms/step - loss: 0.2265 - accuracy: 0.9175 - val_loss: 0.2474 - val_accuracy: 0.9070\n",
            "Epoch 7/20\n",
            "550/550 [==============================] - 2s 3ms/step - loss: 0.2074 - accuracy: 0.9231 - val_loss: 0.2339 - val_accuracy: 0.9148\n",
            "Epoch 8/20\n",
            "550/550 [==============================] - 2s 3ms/step - loss: 0.1925 - accuracy: 0.9297 - val_loss: 0.2473 - val_accuracy: 0.9092\n",
            "Epoch 9/20\n",
            "550/550 [==============================] - 2s 3ms/step - loss: 0.1775 - accuracy: 0.9346 - val_loss: 0.2274 - val_accuracy: 0.9200\n",
            "Epoch 10/20\n",
            "550/550 [==============================] - 2s 3ms/step - loss: 0.1636 - accuracy: 0.9403 - val_loss: 0.2456 - val_accuracy: 0.9114\n",
            "Epoch 11/20\n",
            "550/550 [==============================] - 2s 3ms/step - loss: 0.1501 - accuracy: 0.9443 - val_loss: 0.2374 - val_accuracy: 0.9172\n",
            "Epoch 12/20\n",
            "550/550 [==============================] - 2s 3ms/step - loss: 0.1393 - accuracy: 0.9488 - val_loss: 0.2436 - val_accuracy: 0.9136\n",
            "Epoch 13/20\n",
            "550/550 [==============================] - 2s 3ms/step - loss: 0.1274 - accuracy: 0.9535 - val_loss: 0.2403 - val_accuracy: 0.9188\n",
            "Epoch 14/20\n",
            "550/550 [==============================] - 2s 3ms/step - loss: 0.1134 - accuracy: 0.9582 - val_loss: 0.2439 - val_accuracy: 0.9176\n",
            "Epoch 15/20\n",
            "550/550 [==============================] - 2s 3ms/step - loss: 0.1061 - accuracy: 0.9605 - val_loss: 0.2681 - val_accuracy: 0.9128\n",
            "Epoch 16/20\n",
            "550/550 [==============================] - 2s 3ms/step - loss: 0.0948 - accuracy: 0.9653 - val_loss: 0.2802 - val_accuracy: 0.9144\n",
            "Epoch 17/20\n",
            "550/550 [==============================] - 2s 3ms/step - loss: 0.0856 - accuracy: 0.9685 - val_loss: 0.2729 - val_accuracy: 0.9172\n",
            "Epoch 18/20\n",
            "550/550 [==============================] - 2s 3ms/step - loss: 0.0754 - accuracy: 0.9725 - val_loss: 0.2929 - val_accuracy: 0.9162\n",
            "Epoch 19/20\n",
            "550/550 [==============================] - 2s 3ms/step - loss: 0.0712 - accuracy: 0.9742 - val_loss: 0.3248 - val_accuracy: 0.9118\n",
            "Epoch 20/20\n",
            "550/550 [==============================] - 2s 3ms/step - loss: 0.0612 - accuracy: 0.9781 - val_loss: 0.3029 - val_accuracy: 0.9180\n",
            "--------------------------\n"
          ],
          "name": "stdout"
        }
      ]
    },
    {
      "cell_type": "code",
      "metadata": {
        "colab_type": "code",
        "id": "h9rxL6FGXXJk",
        "colab": {
          "base_uri": "https://localhost:8080/",
          "height": 34
        },
        "outputId": "da6016ee-3e98-48ed-bd28-e62e7e0d6ce4"
      },
      "source": [
        "# Get the training time\n",
        "train_time = train_rt.process_time\n",
        "train_time # in seconds"
      ],
      "execution_count": 52,
      "outputs": [
        {
          "output_type": "execute_result",
          "data": {
            "text/plain": [
              "42.654665"
            ]
          },
          "metadata": {
            "tags": []
          },
          "execution_count": 52
        }
      ]
    },
    {
      "cell_type": "markdown",
      "metadata": {
        "colab_type": "text",
        "id": "FT9RLoKSXXJu"
      },
      "source": [
        "## 3C. Model Testing\n",
        "\n",
        "Evaluate the model on the test dataset using a callback to get the total test time."
      ]
    },
    {
      "cell_type": "code",
      "metadata": {
        "colab_type": "code",
        "id": "FQtSuH3ZXXJu",
        "colab": {
          "base_uri": "https://localhost:8080/",
          "height": 34
        },
        "outputId": "624f1aa3-cfcc-4e42-e1d7-e60919857e1b"
      },
      "source": [
        "test_rt = TestRuntimeCallback()\n",
        "test_loss, test_acc = model_3a.evaluate(test_images, test_labels, callbacks=[test_rt])"
      ],
      "execution_count": 53,
      "outputs": [
        {
          "output_type": "stream",
          "text": [
            "313/313 [==============================] - 1s 2ms/step - loss: 0.3309 - accuracy: 0.9128\n"
          ],
          "name": "stdout"
        }
      ]
    },
    {
      "cell_type": "code",
      "metadata": {
        "colab_type": "code",
        "id": "LoGKSyr4XXJx",
        "colab": {
          "base_uri": "https://localhost:8080/",
          "height": 34
        },
        "outputId": "05038cff-eaaa-4349-e888-7015229902dc"
      },
      "source": [
        "# Get the test time\n",
        "test_time = test_rt.process_time\n",
        "test_time # in seconds"
      ],
      "execution_count": 54,
      "outputs": [
        {
          "output_type": "execute_result",
          "data": {
            "text/plain": [
              "0.856157"
            ]
          },
          "metadata": {
            "tags": []
          },
          "execution_count": 54
        }
      ]
    },
    {
      "cell_type": "code",
      "metadata": {
        "colab_type": "code",
        "id": "1kFote3tXXJz",
        "colab": {
          "base_uri": "https://localhost:8080/",
          "height": 34
        },
        "outputId": "090390f3-abe4-4b96-bcc9-edfa5ed045bd"
      },
      "source": [
        "history_dict = history.history\n",
        "history_dict.keys()"
      ],
      "execution_count": 55,
      "outputs": [
        {
          "output_type": "execute_result",
          "data": {
            "text/plain": [
              "dict_keys(['loss', 'accuracy', 'val_loss', 'val_accuracy'])"
            ]
          },
          "metadata": {
            "tags": []
          },
          "execution_count": 55
        }
      ]
    },
    {
      "cell_type": "code",
      "metadata": {
        "colab_type": "code",
        "id": "pBmU9j0OXXJ2",
        "colab": {
          "base_uri": "https://localhost:8080/",
          "height": 204
        },
        "outputId": "f1025939-8fec-4b2e-f4fa-f3c62517ab1f"
      },
      "source": [
        "history_df=pd.DataFrame(history_dict)\n",
        "history_df.tail()"
      ],
      "execution_count": 56,
      "outputs": [
        {
          "output_type": "execute_result",
          "data": {
            "text/html": [
              "<div>\n",
              "<style scoped>\n",
              "    .dataframe tbody tr th:only-of-type {\n",
              "        vertical-align: middle;\n",
              "    }\n",
              "\n",
              "    .dataframe tbody tr th {\n",
              "        vertical-align: top;\n",
              "    }\n",
              "\n",
              "    .dataframe thead th {\n",
              "        text-align: right;\n",
              "    }\n",
              "</style>\n",
              "<table border=\"1\" class=\"dataframe\">\n",
              "  <thead>\n",
              "    <tr style=\"text-align: right;\">\n",
              "      <th></th>\n",
              "      <th>loss</th>\n",
              "      <th>accuracy</th>\n",
              "      <th>val_loss</th>\n",
              "      <th>val_accuracy</th>\n",
              "    </tr>\n",
              "  </thead>\n",
              "  <tbody>\n",
              "    <tr>\n",
              "      <th>15</th>\n",
              "      <td>0.094811</td>\n",
              "      <td>0.965255</td>\n",
              "      <td>0.280224</td>\n",
              "      <td>0.9144</td>\n",
              "    </tr>\n",
              "    <tr>\n",
              "      <th>16</th>\n",
              "      <td>0.085593</td>\n",
              "      <td>0.968491</td>\n",
              "      <td>0.272949</td>\n",
              "      <td>0.9172</td>\n",
              "    </tr>\n",
              "    <tr>\n",
              "      <th>17</th>\n",
              "      <td>0.075359</td>\n",
              "      <td>0.972527</td>\n",
              "      <td>0.292871</td>\n",
              "      <td>0.9162</td>\n",
              "    </tr>\n",
              "    <tr>\n",
              "      <th>18</th>\n",
              "      <td>0.071219</td>\n",
              "      <td>0.974182</td>\n",
              "      <td>0.324832</td>\n",
              "      <td>0.9118</td>\n",
              "    </tr>\n",
              "    <tr>\n",
              "      <th>19</th>\n",
              "      <td>0.061248</td>\n",
              "      <td>0.978055</td>\n",
              "      <td>0.302873</td>\n",
              "      <td>0.9180</td>\n",
              "    </tr>\n",
              "  </tbody>\n",
              "</table>\n",
              "</div>"
            ],
            "text/plain": [
              "        loss  accuracy  val_loss  val_accuracy\n",
              "15  0.094811  0.965255  0.280224        0.9144\n",
              "16  0.085593  0.968491  0.272949        0.9172\n",
              "17  0.075359  0.972527  0.292871        0.9162\n",
              "18  0.071219  0.974182  0.324832        0.9118\n",
              "19  0.061248  0.978055  0.302873        0.9180"
            ]
          },
          "metadata": {
            "tags": []
          },
          "execution_count": 56
        }
      ]
    },
    {
      "cell_type": "code",
      "metadata": {
        "colab_type": "code",
        "id": "iz58dMJvXXJ3",
        "colab": {
          "base_uri": "https://localhost:8080/",
          "height": 80
        },
        "outputId": "0cfc5cd2-eed7-4cfb-a98e-8fc5f43e3a9a"
      },
      "source": [
        "# Pull statistics \n",
        "results_df3a = history_df.iloc[-1:].copy()\n",
        "results_df3a.insert(0,'model','CNN (2 layers)') # want the model name to appear first\n",
        "results_df3a['training time (sec)'] = train_time      # we are okay with training time appearing last\n",
        "results_df3a['testing time (sec)'] = test_time      # we are okay with training time appearing last\n",
        "results_df3a"
      ],
      "execution_count": 57,
      "outputs": [
        {
          "output_type": "execute_result",
          "data": {
            "text/html": [
              "<div>\n",
              "<style scoped>\n",
              "    .dataframe tbody tr th:only-of-type {\n",
              "        vertical-align: middle;\n",
              "    }\n",
              "\n",
              "    .dataframe tbody tr th {\n",
              "        vertical-align: top;\n",
              "    }\n",
              "\n",
              "    .dataframe thead th {\n",
              "        text-align: right;\n",
              "    }\n",
              "</style>\n",
              "<table border=\"1\" class=\"dataframe\">\n",
              "  <thead>\n",
              "    <tr style=\"text-align: right;\">\n",
              "      <th></th>\n",
              "      <th>model</th>\n",
              "      <th>loss</th>\n",
              "      <th>accuracy</th>\n",
              "      <th>val_loss</th>\n",
              "      <th>val_accuracy</th>\n",
              "      <th>training time (sec)</th>\n",
              "      <th>testing time (sec)</th>\n",
              "    </tr>\n",
              "  </thead>\n",
              "  <tbody>\n",
              "    <tr>\n",
              "      <th>19</th>\n",
              "      <td>CNN (2 layers)</td>\n",
              "      <td>0.061248</td>\n",
              "      <td>0.978055</td>\n",
              "      <td>0.302873</td>\n",
              "      <td>0.918</td>\n",
              "      <td>42.654665</td>\n",
              "      <td>0.856157</td>\n",
              "    </tr>\n",
              "  </tbody>\n",
              "</table>\n",
              "</div>"
            ],
            "text/plain": [
              "             model      loss  ...  training time (sec)  testing time (sec)\n",
              "19  CNN (2 layers)  0.061248  ...            42.654665            0.856157\n",
              "\n",
              "[1 rows x 7 columns]"
            ]
          },
          "metadata": {
            "tags": []
          },
          "execution_count": 57
        }
      ]
    },
    {
      "cell_type": "code",
      "metadata": {
        "colab_type": "code",
        "id": "y87J_fW7XXJ8",
        "scrolled": true,
        "colab": {
          "base_uri": "https://localhost:8080/",
          "height": 324
        },
        "outputId": "f3f2d4e7-3c65-4df1-e909-69c73463a796"
      },
      "source": [
        "# Plot learning curves for model\n",
        "pd.DataFrame(history.history).plot(figsize=(8, 5))\n",
        "plt.grid(True)\n",
        "plt.gca().set_ylim(0, 1) # set the vertical range to [0-1]\n",
        "plt.show()"
      ],
      "execution_count": 58,
      "outputs": [
        {
          "output_type": "display_data",
          "data": {
            "image/png": "[encoded data removed]",
            "text/plain": [
              "<Figure size 576x360 with 1 Axes>"
            ]
          },
          "metadata": {
            "tags": [],
            "needs_background": "light"
          }
        }
      ]
    },
    {
      "cell_type": "markdown",
      "metadata": {
        "colab_type": "text",
        "id": "Wxudy87WXXME"
      },
      "source": [
        "# 4. Experiment 4: CNN w/3 layers\n",
        "We create a `CNN` with 3 convolution/max pooling layers (**no drop out**) to work with our Fashion MNIST dataset. The experiment compares performance using L2 regularization in the convolutional layers. Image augmentation is not employed."
      ]
    },
    {
      "cell_type": "markdown",
      "metadata": {
        "colab_type": "text",
        "id": "1M4VbwpsXXME"
      },
      "source": [
        "## Model 4a: baseline CNN with 3 layers (no L2 regularization)"
      ]
    },
    {
      "cell_type": "code",
      "metadata": {
        "colab_type": "code",
        "id": "64TXVGxZXXME",
        "colab": {}
      },
      "source": [
        "model_4a = models.Sequential()\n",
        "model_4a.add(layers.Conv2D(32, (3, 3), activation='relu', input_shape=(28, 28, 1)))\n",
        "model_4a.add(layers.MaxPooling2D((2, 2)))\n",
        "model_4a.add(layers.Conv2D(64, (3, 3), activation='relu'))\n",
        "model_4a.add(layers.MaxPooling2D((2, 2)))\n",
        "model_4a.add(layers.Conv2D(64, (3, 3), activation='relu'))\n",
        "model_4a.add(layers.Flatten())\n",
        "model_4a.add(layers.Dense(64, activation='relu'))\n",
        "model_4a.add(layers.Dense(10, activation='softmax'))"
      ],
      "execution_count": 59,
      "outputs": []
    },
    {
      "cell_type": "code",
      "metadata": {
        "colab_type": "code",
        "id": "kv3v7_PHXXMH",
        "colab": {
          "base_uri": "https://localhost:8080/",
          "height": 425
        },
        "outputId": "76345268-2f0f-4986-e7f8-b440265868b7"
      },
      "source": [
        "model_4a.summary()"
      ],
      "execution_count": 60,
      "outputs": [
        {
          "output_type": "stream",
          "text": [
            "Model: \"sequential_3\"\n",
            "_________________________________________________________________\n",
            "Layer (type)                 Output Shape              Param #   \n",
            "=================================================================\n",
            "conv2d_2 (Conv2D)            (None, 26, 26, 32)        320       \n",
            "_________________________________________________________________\n",
            "max_pooling2d_2 (MaxPooling2 (None, 13, 13, 32)        0         \n",
            "_________________________________________________________________\n",
            "conv2d_3 (Conv2D)            (None, 11, 11, 64)        18496     \n",
            "_________________________________________________________________\n",
            "max_pooling2d_3 (MaxPooling2 (None, 5, 5, 64)          0         \n",
            "_________________________________________________________________\n",
            "conv2d_4 (Conv2D)            (None, 3, 3, 64)          36928     \n",
            "_________________________________________________________________\n",
            "flatten_3 (Flatten)          (None, 576)               0         \n",
            "_________________________________________________________________\n",
            "dense_7 (Dense)              (None, 64)                36928     \n",
            "_________________________________________________________________\n",
            "dense_8 (Dense)              (None, 10)                650       \n",
            "=================================================================\n",
            "Total params: 93,322\n",
            "Trainable params: 93,322\n",
            "Non-trainable params: 0\n",
            "_________________________________________________________________\n"
          ],
          "name": "stdout"
        }
      ]
    },
    {
      "cell_type": "code",
      "metadata": {
        "colab_type": "code",
        "id": "zpCS9HKJXXMI",
        "colab": {
          "base_uri": "https://localhost:8080/",
          "height": 976
        },
        "outputId": "02e5a975-c11f-4344-9cde-7809bc35ae00"
      },
      "source": [
        "keras.utils.plot_model(model_4a, show_shapes=True)"
      ],
      "execution_count": 61,
      "outputs": [
        {
          "output_type": "execute_result",
          "data": {
            "image/png": "[encoded data removed]",
            "text/plain": [
              "<IPython.core.display.Image object>"
            ]
          },
          "metadata": {
            "tags": []
          },
          "execution_count": 61
        }
      ]
    },
    {
      "cell_type": "markdown",
      "metadata": {
        "colab_type": "text",
        "id": "VqlsBNNmXXMK"
      },
      "source": [
        "## 4A. Model Compilation"
      ]
    },
    {
      "cell_type": "code",
      "metadata": {
        "colab_type": "code",
        "id": "Pv_bFkuIXXMK",
        "colab": {}
      },
      "source": [
        "model_4a.compile(optimizer='adam',\n",
        "                loss='sparse_categorical_crossentropy',\n",
        "                metrics=['accuracy'])"
      ],
      "execution_count": 62,
      "outputs": []
    },
    {
      "cell_type": "markdown",
      "metadata": {
        "colab_type": "text",
        "id": "OF4r3ethXXMM"
      },
      "source": [
        "## 4B. Model Compilation"
      ]
    },
    {
      "cell_type": "code",
      "metadata": {
        "colab_type": "code",
        "id": "59EUkTeBXXMM",
        "colab": {
          "base_uri": "https://localhost:8080/",
          "height": 734
        },
        "outputId": "d19f5bfa-e35e-439b-bb83-2b8febdb3d12"
      },
      "source": [
        "train_rt = TrainRuntimeCallback()\n",
        "history = model_4a.fit(train_images, train_labels, callbacks=[train_rt], epochs=20, batch_size = 100,\n",
        "                    validation_data=(val_images, val_labels))\n",
        "\n",
        "# Saving models locally after fitting\n",
        "save_dir = \"results/\"\n",
        "model_name = 'fashion_mnist_model_4a.h5'\n",
        "model_path = os.path.join(save_dir, model_name)\n",
        "print('--------------------------')"
      ],
      "execution_count": 63,
      "outputs": [
        {
          "output_type": "stream",
          "text": [
            "Epoch 1/20\n",
            "550/550 [==============================] - 2s 4ms/step - loss: 0.5839 - accuracy: 0.7873 - val_loss: 0.3805 - val_accuracy: 0.8660\n",
            "Epoch 2/20\n",
            "550/550 [==============================] - 2s 4ms/step - loss: 0.3630 - accuracy: 0.8678 - val_loss: 0.3182 - val_accuracy: 0.8850\n",
            "Epoch 3/20\n",
            "550/550 [==============================] - 2s 3ms/step - loss: 0.3109 - accuracy: 0.8861 - val_loss: 0.3021 - val_accuracy: 0.8902\n",
            "Epoch 4/20\n",
            "550/550 [==============================] - 2s 3ms/step - loss: 0.2804 - accuracy: 0.8971 - val_loss: 0.2674 - val_accuracy: 0.9024\n",
            "Epoch 5/20\n",
            "550/550 [==============================] - 2s 4ms/step - loss: 0.2559 - accuracy: 0.9056 - val_loss: 0.2584 - val_accuracy: 0.9048\n",
            "Epoch 6/20\n",
            "550/550 [==============================] - 2s 4ms/step - loss: 0.2388 - accuracy: 0.9116 - val_loss: 0.2590 - val_accuracy: 0.9022\n",
            "Epoch 7/20\n",
            "550/550 [==============================] - 2s 4ms/step - loss: 0.2180 - accuracy: 0.9193 - val_loss: 0.2410 - val_accuracy: 0.9092\n",
            "Epoch 8/20\n",
            "550/550 [==============================] - 2s 4ms/step - loss: 0.2057 - accuracy: 0.9232 - val_loss: 0.2429 - val_accuracy: 0.9102\n",
            "Epoch 9/20\n",
            "550/550 [==============================] - 2s 4ms/step - loss: 0.1890 - accuracy: 0.9307 - val_loss: 0.2526 - val_accuracy: 0.9094\n",
            "Epoch 10/20\n",
            "550/550 [==============================] - 2s 4ms/step - loss: 0.1791 - accuracy: 0.9342 - val_loss: 0.2430 - val_accuracy: 0.9140\n",
            "Epoch 11/20\n",
            "550/550 [==============================] - 2s 4ms/step - loss: 0.1644 - accuracy: 0.9386 - val_loss: 0.2400 - val_accuracy: 0.9172\n",
            "Epoch 12/20\n",
            "550/550 [==============================] - 2s 4ms/step - loss: 0.1562 - accuracy: 0.9421 - val_loss: 0.2402 - val_accuracy: 0.9114\n",
            "Epoch 13/20\n",
            "550/550 [==============================] - 2s 4ms/step - loss: 0.1442 - accuracy: 0.9467 - val_loss: 0.2415 - val_accuracy: 0.9188\n",
            "Epoch 14/20\n",
            "550/550 [==============================] - 2s 4ms/step - loss: 0.1281 - accuracy: 0.9530 - val_loss: 0.2490 - val_accuracy: 0.9160\n",
            "Epoch 15/20\n",
            "550/550 [==============================] - 2s 4ms/step - loss: 0.1176 - accuracy: 0.9565 - val_loss: 0.2648 - val_accuracy: 0.9148\n",
            "Epoch 16/20\n",
            "550/550 [==============================] - 2s 4ms/step - loss: 0.1105 - accuracy: 0.9595 - val_loss: 0.2801 - val_accuracy: 0.9180\n",
            "Epoch 17/20\n",
            "550/550 [==============================] - 2s 4ms/step - loss: 0.1027 - accuracy: 0.9619 - val_loss: 0.2839 - val_accuracy: 0.9166\n",
            "Epoch 18/20\n",
            "550/550 [==============================] - 2s 3ms/step - loss: 0.0928 - accuracy: 0.9653 - val_loss: 0.2987 - val_accuracy: 0.9166\n",
            "Epoch 19/20\n",
            "550/550 [==============================] - 2s 3ms/step - loss: 0.0866 - accuracy: 0.9677 - val_loss: 0.3024 - val_accuracy: 0.9158\n",
            "Epoch 20/20\n",
            "550/550 [==============================] - 2s 3ms/step - loss: 0.0769 - accuracy: 0.9717 - val_loss: 0.3161 - val_accuracy: 0.9076\n",
            "--------------------------\n"
          ],
          "name": "stdout"
        }
      ]
    },
    {
      "cell_type": "code",
      "metadata": {
        "colab_type": "code",
        "id": "2yNrUFL4XXMN",
        "colab": {
          "base_uri": "https://localhost:8080/",
          "height": 34
        },
        "outputId": "251ddbf1-2601-4a2b-de1e-8900a5db8fb3"
      },
      "source": [
        "# Get the training time\n",
        "train_time = train_rt.process_time\n",
        "train_time # in seconds"
      ],
      "execution_count": 64,
      "outputs": [
        {
          "output_type": "execute_result",
          "data": {
            "text/plain": [
              "39.695646"
            ]
          },
          "metadata": {
            "tags": []
          },
          "execution_count": 64
        }
      ]
    },
    {
      "cell_type": "markdown",
      "metadata": {
        "colab_type": "text",
        "id": "wVPSu-RvXXMQ"
      },
      "source": [
        "## 4C. Model Testing"
      ]
    },
    {
      "cell_type": "code",
      "metadata": {
        "colab_type": "code",
        "id": "bE_WhzOmXXMQ",
        "colab": {
          "base_uri": "https://localhost:8080/",
          "height": 34
        },
        "outputId": "0450018e-f7bd-42ed-8684-45efd1056341"
      },
      "source": [
        "test_rt = TestRuntimeCallback()\n",
        "test_loss, test_acc = model_4a.evaluate(test_images, test_labels, callbacks=[test_rt])"
      ],
      "execution_count": 65,
      "outputs": [
        {
          "output_type": "stream",
          "text": [
            "313/313 [==============================] - 1s 2ms/step - loss: 0.3388 - accuracy: 0.9042\n"
          ],
          "name": "stdout"
        }
      ]
    },
    {
      "cell_type": "code",
      "metadata": {
        "colab_type": "code",
        "id": "ek023mMVXXMR",
        "colab": {
          "base_uri": "https://localhost:8080/",
          "height": 34
        },
        "outputId": "cba607a3-5705-49f9-a371-bf82af8f9e27"
      },
      "source": [
        "# Get the test time\n",
        "test_time = test_rt.process_time\n",
        "test_time # in seconds"
      ],
      "execution_count": 66,
      "outputs": [
        {
          "output_type": "execute_result",
          "data": {
            "text/plain": [
              "0.773794"
            ]
          },
          "metadata": {
            "tags": []
          },
          "execution_count": 66
        }
      ]
    },
    {
      "cell_type": "code",
      "metadata": {
        "colab_type": "code",
        "id": "rjWR65BzXXMS",
        "colab": {
          "base_uri": "https://localhost:8080/",
          "height": 34
        },
        "outputId": "fc653a83-7cc0-44d1-8b10-94db1a463a69"
      },
      "source": [
        "history_dict = history.history\n",
        "history_dict.keys()"
      ],
      "execution_count": 67,
      "outputs": [
        {
          "output_type": "execute_result",
          "data": {
            "text/plain": [
              "dict_keys(['loss', 'accuracy', 'val_loss', 'val_accuracy'])"
            ]
          },
          "metadata": {
            "tags": []
          },
          "execution_count": 67
        }
      ]
    },
    {
      "cell_type": "code",
      "metadata": {
        "colab_type": "code",
        "id": "H_zfwtbCXXMU",
        "colab": {
          "base_uri": "https://localhost:8080/",
          "height": 204
        },
        "outputId": "4b3c22cd-e796-4299-ebd8-88c66230be52"
      },
      "source": [
        "history_df=pd.DataFrame(history_dict)\n",
        "history_df.tail()"
      ],
      "execution_count": 68,
      "outputs": [
        {
          "output_type": "execute_result",
          "data": {
            "text/html": [
              "<div>\n",
              "<style scoped>\n",
              "    .dataframe tbody tr th:only-of-type {\n",
              "        vertical-align: middle;\n",
              "    }\n",
              "\n",
              "    .dataframe tbody tr th {\n",
              "        vertical-align: top;\n",
              "    }\n",
              "\n",
              "    .dataframe thead th {\n",
              "        text-align: right;\n",
              "    }\n",
              "</style>\n",
              "<table border=\"1\" class=\"dataframe\">\n",
              "  <thead>\n",
              "    <tr style=\"text-align: right;\">\n",
              "      <th></th>\n",
              "      <th>loss</th>\n",
              "      <th>accuracy</th>\n",
              "      <th>val_loss</th>\n",
              "      <th>val_accuracy</th>\n",
              "    </tr>\n",
              "  </thead>\n",
              "  <tbody>\n",
              "    <tr>\n",
              "      <th>15</th>\n",
              "      <td>0.110460</td>\n",
              "      <td>0.959455</td>\n",
              "      <td>0.280067</td>\n",
              "      <td>0.9180</td>\n",
              "    </tr>\n",
              "    <tr>\n",
              "      <th>16</th>\n",
              "      <td>0.102719</td>\n",
              "      <td>0.961855</td>\n",
              "      <td>0.283918</td>\n",
              "      <td>0.9166</td>\n",
              "    </tr>\n",
              "    <tr>\n",
              "      <th>17</th>\n",
              "      <td>0.092769</td>\n",
              "      <td>0.965309</td>\n",
              "      <td>0.298722</td>\n",
              "      <td>0.9166</td>\n",
              "    </tr>\n",
              "    <tr>\n",
              "      <th>18</th>\n",
              "      <td>0.086586</td>\n",
              "      <td>0.967655</td>\n",
              "      <td>0.302397</td>\n",
              "      <td>0.9158</td>\n",
              "    </tr>\n",
              "    <tr>\n",
              "      <th>19</th>\n",
              "      <td>0.076909</td>\n",
              "      <td>0.971745</td>\n",
              "      <td>0.316066</td>\n",
              "      <td>0.9076</td>\n",
              "    </tr>\n",
              "  </tbody>\n",
              "</table>\n",
              "</div>"
            ],
            "text/plain": [
              "        loss  accuracy  val_loss  val_accuracy\n",
              "15  0.110460  0.959455  0.280067        0.9180\n",
              "16  0.102719  0.961855  0.283918        0.9166\n",
              "17  0.092769  0.965309  0.298722        0.9166\n",
              "18  0.086586  0.967655  0.302397        0.9158\n",
              "19  0.076909  0.971745  0.316066        0.9076"
            ]
          },
          "metadata": {
            "tags": []
          },
          "execution_count": 68
        }
      ]
    },
    {
      "cell_type": "code",
      "metadata": {
        "colab_type": "code",
        "id": "lGfL12J_XXMV",
        "colab": {
          "base_uri": "https://localhost:8080/",
          "height": 80
        },
        "outputId": "aabb93d3-fe01-474f-9526-d2c5955317e6"
      },
      "source": [
        "# Pull statistics \n",
        "# Pull statistics \n",
        "results_df4a = history_df.iloc[-1:].copy()\n",
        "results_df4a.insert(0,'model','CNN (3 layers)') # want the model name to appear first\n",
        "results_df4a['training time (sec)'] = train_time      # we are okay with training time appearing last\n",
        "results_df4a['testing time (sec)'] = test_time      # we are okay with training time appearing last\n",
        "results_df4a"
      ],
      "execution_count": 69,
      "outputs": [
        {
          "output_type": "execute_result",
          "data": {
            "text/html": [
              "<div>\n",
              "<style scoped>\n",
              "    .dataframe tbody tr th:only-of-type {\n",
              "        vertical-align: middle;\n",
              "    }\n",
              "\n",
              "    .dataframe tbody tr th {\n",
              "        vertical-align: top;\n",
              "    }\n",
              "\n",
              "    .dataframe thead th {\n",
              "        text-align: right;\n",
              "    }\n",
              "</style>\n",
              "<table border=\"1\" class=\"dataframe\">\n",
              "  <thead>\n",
              "    <tr style=\"text-align: right;\">\n",
              "      <th></th>\n",
              "      <th>model</th>\n",
              "      <th>loss</th>\n",
              "      <th>accuracy</th>\n",
              "      <th>val_loss</th>\n",
              "      <th>val_accuracy</th>\n",
              "      <th>training time (sec)</th>\n",
              "      <th>testing time (sec)</th>\n",
              "    </tr>\n",
              "  </thead>\n",
              "  <tbody>\n",
              "    <tr>\n",
              "      <th>19</th>\n",
              "      <td>CNN (3 layers)</td>\n",
              "      <td>0.076909</td>\n",
              "      <td>0.971745</td>\n",
              "      <td>0.316066</td>\n",
              "      <td>0.9076</td>\n",
              "      <td>39.695646</td>\n",
              "      <td>0.773794</td>\n",
              "    </tr>\n",
              "  </tbody>\n",
              "</table>\n",
              "</div>"
            ],
            "text/plain": [
              "             model      loss  ...  training time (sec)  testing time (sec)\n",
              "19  CNN (3 layers)  0.076909  ...            39.695646            0.773794\n",
              "\n",
              "[1 rows x 7 columns]"
            ]
          },
          "metadata": {
            "tags": []
          },
          "execution_count": 69
        }
      ]
    },
    {
      "cell_type": "code",
      "metadata": {
        "colab_type": "code",
        "id": "a6IwTC56XXMY",
        "colab": {}
      },
      "source": [
        "# Combine with previous results\n",
        "# prev_results_df = pd.read_pickle('results.pkl')\n",
        "# results_df = results_df.append(results_df3a,ignore_index=True)\n",
        "# results_df = results_df.append(results_df3b,ignore_index=True)\n",
        "# results_df"
      ],
      "execution_count": 70,
      "outputs": []
    },
    {
      "cell_type": "markdown",
      "metadata": {
        "colab_type": "text",
        "id": "ubtMBYSFXXMa"
      },
      "source": [
        "## Plot the performance "
      ]
    },
    {
      "cell_type": "code",
      "metadata": {
        "colab_type": "code",
        "id": "vco4rEt_XXMa",
        "scrolled": true,
        "colab": {
          "base_uri": "https://localhost:8080/",
          "height": 324
        },
        "outputId": "f55fe6f1-bdeb-46a7-df6e-0417b1cc30dd"
      },
      "source": [
        "# Plot learning curves for model\n",
        "pd.DataFrame(history.history).plot(figsize=(8, 5))\n",
        "plt.grid(True)\n",
        "plt.gca().set_ylim(0, 1) # set the vertical range to [0-1]\n",
        "plt.show()"
      ],
      "execution_count": 71,
      "outputs": [
        {
          "output_type": "display_data",
          "data": {
            "image/png": "[encoded data removed]",
            "text/plain": [
              "<Figure size 576x360 with 1 Axes>"
            ]
          },
          "metadata": {
            "tags": [],
            "needs_background": "light"
          }
        }
      ]
    },
    {
      "cell_type": "markdown",
      "metadata": {
        "id": "b7nc2e49jcpA",
        "colab_type": "text"
      },
      "source": [
        "# 5. Experiment 5: Add Dropout to All Models"
      ]
    },
    {
      "cell_type": "code",
      "metadata": {
        "id": "hgnCT7r5lero",
        "colab_type": "code",
        "colab": {
          "base_uri": "https://localhost:8080/",
          "height": 34
        },
        "outputId": "d45c4cc6-c24f-47d6-be8d-76a1317dced3"
      },
      "source": [
        "# https://www.tensorflow.org/api_docs/python/tf/keras/datasets/fashion_mnist/load_data\n",
        "from tensorflow.keras.datasets import fashion_mnist\n",
        "(train_images, train_labels), (test_images, test_labels) = fashion_mnist.load_data()\n",
        "train_images.shape, test_images.shape, test_labels.shape, test_labels.shape"
      ],
      "execution_count": 83,
      "outputs": [
        {
          "output_type": "execute_result",
          "data": {
            "text/plain": [
              "((60000, 28, 28), (10000, 28, 28), (10000,), (10000,))"
            ]
          },
          "metadata": {
            "tags": []
          },
          "execution_count": 83
        }
      ]
    },
    {
      "cell_type": "code",
      "metadata": {
        "id": "qgE1IvwNlEEr",
        "colab_type": "code",
        "colab": {}
      },
      "source": [
        "# We transform it into a float32 array of shape (60000, 28 * 28) with values between 0 and 1. \n",
        "train_images = train_images.reshape((60000, 28 * 28)) \n",
        "train_images = train_images.astype('float32') / 255\n",
        "\n",
        "test_images = test_images.reshape((10000, 28 * 28))  \n",
        "test_images = test_images.astype('float32') / 255\n",
        "\n",
        "# Create validation data\n",
        "val_images, train_images = train_images[:5000], train_images[5000:] \n",
        "val_labels, train_labels = train_labels[:5000], train_labels[5000:]"
      ],
      "execution_count": 84,
      "outputs": []
    },
    {
      "cell_type": "markdown",
      "metadata": {
        "id": "r_qz1LX0kCcT",
        "colab_type": "text"
      },
      "source": [
        "## 5A. Model 1"
      ]
    },
    {
      "cell_type": "code",
      "metadata": {
        "id": "_qM94v8ekBY2",
        "colab_type": "code",
        "colab": {
          "base_uri": "https://localhost:8080/",
          "height": 255
        },
        "outputId": "2ca3183a-06ea-45f8-8d80-593988623c24"
      },
      "source": [
        "model_1do = models.Sequential()\n",
        "# model_1do.add(layers.Flatten(input_shape=[28, 28]))\n",
        "model_1do.add(layers.Dense(5, activation='relu', input_shape=(28 * 28,)))\n",
        "model_1do.add(layers.Dropout(0.2))\n",
        "model_1do.add(layers.Dense(10, activation='softmax')) \n",
        "\n",
        "model_1do.compile(optimizer='adam', loss='sparse_categorical_crossentropy', metrics=['accuracy'])\n",
        "\n",
        "model_1do.summary()"
      ],
      "execution_count": 85,
      "outputs": [
        {
          "output_type": "stream",
          "text": [
            "Model: \"sequential_9\"\n",
            "_________________________________________________________________\n",
            "Layer (type)                 Output Shape              Param #   \n",
            "=================================================================\n",
            "dense_19 (Dense)             (None, 5)                 3925      \n",
            "_________________________________________________________________\n",
            "dropout_5 (Dropout)          (None, 5)                 0         \n",
            "_________________________________________________________________\n",
            "dense_20 (Dense)             (None, 10)                60        \n",
            "=================================================================\n",
            "Total params: 3,985\n",
            "Trainable params: 3,985\n",
            "Non-trainable params: 0\n",
            "_________________________________________________________________\n"
          ],
          "name": "stdout"
        }
      ]
    },
    {
      "cell_type": "code",
      "metadata": {
        "id": "tpvA5xtfkEYy",
        "colab_type": "code",
        "colab": {
          "base_uri": "https://localhost:8080/",
          "height": 734
        },
        "outputId": "7ced5133-3da9-46bd-d6e3-83618739c07b"
      },
      "source": [
        "train_rt = TrainRuntimeCallback()\n",
        "history = model_1do.fit(train_images, train_labels, callbacks=[train_rt], epochs=20, batch_size=100, validation_data=(val_images, val_labels))\n",
        "\n",
        "# Saving models locally after fitting\n",
        "save_dir = \"results/\"\n",
        "model_name = 'fashion_mnist_model_1do.h5'\n",
        "# model_path = os.path.join(save_dir, model_name)\n",
        "print('--------------------------')"
      ],
      "execution_count": 86,
      "outputs": [
        {
          "output_type": "stream",
          "text": [
            "Epoch 1/20\n",
            "550/550 [==============================] - 1s 2ms/step - loss: 1.7644 - accuracy: 0.3171 - val_loss: 1.2345 - val_accuracy: 0.5548\n",
            "Epoch 2/20\n",
            "550/550 [==============================] - 1s 2ms/step - loss: 1.3814 - accuracy: 0.4607 - val_loss: 1.0585 - val_accuracy: 0.6716\n",
            "Epoch 3/20\n",
            "550/550 [==============================] - 1s 2ms/step - loss: 1.3077 - accuracy: 0.5046 - val_loss: 0.9868 - val_accuracy: 0.6942\n",
            "Epoch 4/20\n",
            "550/550 [==============================] - 1s 2ms/step - loss: 1.2823 - accuracy: 0.5377 - val_loss: 0.9371 - val_accuracy: 0.7210\n",
            "Epoch 5/20\n",
            "550/550 [==============================] - 1s 2ms/step - loss: 1.2600 - accuracy: 0.5518 - val_loss: 0.9063 - val_accuracy: 0.7284\n",
            "Epoch 6/20\n",
            "550/550 [==============================] - 1s 2ms/step - loss: 1.2011 - accuracy: 0.5688 - val_loss: 0.8310 - val_accuracy: 0.7412\n",
            "Epoch 7/20\n",
            "550/550 [==============================] - 1s 2ms/step - loss: 1.1117 - accuracy: 0.6038 - val_loss: 0.7705 - val_accuracy: 0.7792\n",
            "Epoch 8/20\n",
            "550/550 [==============================] - 1s 2ms/step - loss: 1.0866 - accuracy: 0.6215 - val_loss: 0.7503 - val_accuracy: 0.7916\n",
            "Epoch 9/20\n",
            "550/550 [==============================] - 1s 2ms/step - loss: 1.0664 - accuracy: 0.6322 - val_loss: 0.7309 - val_accuracy: 0.7984\n",
            "Epoch 10/20\n",
            "550/550 [==============================] - 1s 2ms/step - loss: 1.0546 - accuracy: 0.6407 - val_loss: 0.7295 - val_accuracy: 0.7980\n",
            "Epoch 11/20\n",
            "550/550 [==============================] - 1s 2ms/step - loss: 1.0464 - accuracy: 0.6399 - val_loss: 0.7280 - val_accuracy: 0.7940\n",
            "Epoch 12/20\n",
            "550/550 [==============================] - 1s 2ms/step - loss: 1.0322 - accuracy: 0.6424 - val_loss: 0.7068 - val_accuracy: 0.7922\n",
            "Epoch 13/20\n",
            "550/550 [==============================] - 1s 2ms/step - loss: 1.0188 - accuracy: 0.6442 - val_loss: 0.6839 - val_accuracy: 0.8012\n",
            "Epoch 14/20\n",
            "550/550 [==============================] - 1s 2ms/step - loss: 1.0119 - accuracy: 0.6467 - val_loss: 0.6938 - val_accuracy: 0.7962\n",
            "Epoch 15/20\n",
            "550/550 [==============================] - 1s 2ms/step - loss: 1.0086 - accuracy: 0.6475 - val_loss: 0.6871 - val_accuracy: 0.8022\n",
            "Epoch 16/20\n",
            "550/550 [==============================] - 1s 2ms/step - loss: 1.0017 - accuracy: 0.6520 - val_loss: 0.6896 - val_accuracy: 0.7998\n",
            "Epoch 17/20\n",
            "550/550 [==============================] - 1s 2ms/step - loss: 1.0021 - accuracy: 0.6499 - val_loss: 0.6807 - val_accuracy: 0.8064\n",
            "Epoch 18/20\n",
            "550/550 [==============================] - 1s 2ms/step - loss: 0.9956 - accuracy: 0.6516 - val_loss: 0.6799 - val_accuracy: 0.8062\n",
            "Epoch 19/20\n",
            "550/550 [==============================] - 1s 2ms/step - loss: 0.9937 - accuracy: 0.6543 - val_loss: 0.6772 - val_accuracy: 0.8054\n",
            "Epoch 20/20\n",
            "550/550 [==============================] - 1s 2ms/step - loss: 0.9939 - accuracy: 0.6517 - val_loss: 0.6881 - val_accuracy: 0.8024\n",
            "--------------------------\n"
          ],
          "name": "stdout"
        }
      ]
    },
    {
      "cell_type": "code",
      "metadata": {
        "id": "sIFmSX2GkOVI",
        "colab_type": "code",
        "colab": {
          "base_uri": "https://localhost:8080/",
          "height": 34
        },
        "outputId": "37af5dd7-57ff-4bb3-cf9b-3a3be6b44b4e"
      },
      "source": [
        "# Get the training time\n",
        "train_time = train_rt.process_time\n",
        "train_time # in seconds"
      ],
      "execution_count": 87,
      "outputs": [
        {
          "output_type": "execute_result",
          "data": {
            "text/plain": [
              "25.552512"
            ]
          },
          "metadata": {
            "tags": []
          },
          "execution_count": 87
        }
      ]
    },
    {
      "cell_type": "code",
      "metadata": {
        "id": "bTYW_zNbltIz",
        "colab_type": "code",
        "colab": {
          "base_uri": "https://localhost:8080/",
          "height": 34
        },
        "outputId": "9061259b-c06d-4c64-bbca-9eb01c6384c5"
      },
      "source": [
        "test_rt = TestRuntimeCallback()\n",
        "test_loss, test_acc = model_1do.evaluate(test_images, test_labels, callbacks=[test_rt])"
      ],
      "execution_count": 88,
      "outputs": [
        {
          "output_type": "stream",
          "text": [
            "313/313 [==============================] - 1s 2ms/step - loss: 0.6987 - accuracy: 0.7883\n"
          ],
          "name": "stdout"
        }
      ]
    },
    {
      "cell_type": "code",
      "metadata": {
        "id": "k9EScQmTlvK4",
        "colab_type": "code",
        "colab": {
          "base_uri": "https://localhost:8080/",
          "height": 34
        },
        "outputId": "0c1d286e-b87f-48f4-aba0-0c07035b38b2"
      },
      "source": [
        "# Get the test time\n",
        "test_time = test_rt.process_time\n",
        "test_time # in seconds"
      ],
      "execution_count": 89,
      "outputs": [
        {
          "output_type": "execute_result",
          "data": {
            "text/plain": [
              "0.620148"
            ]
          },
          "metadata": {
            "tags": []
          },
          "execution_count": 89
        }
      ]
    },
    {
      "cell_type": "code",
      "metadata": {
        "id": "5hz25tGClvqg",
        "colab_type": "code",
        "colab": {
          "base_uri": "https://localhost:8080/",
          "height": 114
        },
        "outputId": "cd8949c2-883c-47e7-c5c9-b0df1db2b831"
      },
      "source": [
        "history_dict = history.history\n",
        "history_dict.keys()\n",
        "\n",
        "history_df=pd.DataFrame(history_dict)\n",
        "history_df.tail()\n",
        "\n",
        "# Create a results DataFrame using the last row of history_df\n",
        "results_df_do = history_df.iloc[-1:].copy()\n",
        "results_df_do.insert(0,'model','DNN (2 layers DO)') # went the model name to appear first\n",
        "results_df_do['training time (sec)'] = train_time      # we are okay with training time appearing last\n",
        "results_df_do['testing time (sec)'] = test_time      # we are okay with training time appearing last\n",
        "results_df_do"
      ],
      "execution_count": 90,
      "outputs": [
        {
          "output_type": "execute_result",
          "data": {
            "text/html": [
              "<div>\n",
              "<style scoped>\n",
              "    .dataframe tbody tr th:only-of-type {\n",
              "        vertical-align: middle;\n",
              "    }\n",
              "\n",
              "    .dataframe tbody tr th {\n",
              "        vertical-align: top;\n",
              "    }\n",
              "\n",
              "    .dataframe thead th {\n",
              "        text-align: right;\n",
              "    }\n",
              "</style>\n",
              "<table border=\"1\" class=\"dataframe\">\n",
              "  <thead>\n",
              "    <tr style=\"text-align: right;\">\n",
              "      <th></th>\n",
              "      <th>model</th>\n",
              "      <th>loss</th>\n",
              "      <th>accuracy</th>\n",
              "      <th>val_loss</th>\n",
              "      <th>val_accuracy</th>\n",
              "      <th>training time (sec)</th>\n",
              "      <th>testing time (sec)</th>\n",
              "    </tr>\n",
              "  </thead>\n",
              "  <tbody>\n",
              "    <tr>\n",
              "      <th>19</th>\n",
              "      <td>DNN (2 layers DO)</td>\n",
              "      <td>0.993866</td>\n",
              "      <td>0.651673</td>\n",
              "      <td>0.688064</td>\n",
              "      <td>0.8024</td>\n",
              "      <td>25.552512</td>\n",
              "      <td>0.620148</td>\n",
              "    </tr>\n",
              "  </tbody>\n",
              "</table>\n",
              "</div>"
            ],
            "text/plain": [
              "                model      loss  ...  training time (sec)  testing time (sec)\n",
              "19  DNN (2 layers DO)  0.993866  ...            25.552512            0.620148\n",
              "\n",
              "[1 rows x 7 columns]"
            ]
          },
          "metadata": {
            "tags": []
          },
          "execution_count": 90
        }
      ]
    },
    {
      "cell_type": "code",
      "metadata": {
        "id": "SlM_YWd6lzpe",
        "colab_type": "code",
        "colab": {
          "base_uri": "https://localhost:8080/",
          "height": 320
        },
        "outputId": "5d4bdb44-7813-4116-b2b8-762ffa940ada"
      },
      "source": [
        "# Plot learning curves for model\n",
        "pd.DataFrame(history.history).plot(figsize=(8, 5))\n",
        "plt.grid(True)\n",
        "plt.gca().set_ylim(0, 1.5) # set the vertical range to [0-1]\n",
        "plt.show()"
      ],
      "execution_count": 91,
      "outputs": [
        {
          "output_type": "display_data",
          "data": {
            "image/png": "[encoded data removed]",
            "text/plain": [
              "<Figure size 576x360 with 1 Axes>"
            ]
          },
          "metadata": {
            "tags": [],
            "needs_background": "light"
          }
        }
      ]
    },
    {
      "cell_type": "markdown",
      "metadata": {
        "id": "O5KLvmUil6rF",
        "colab_type": "text"
      },
      "source": [
        "## 5B. Model 2"
      ]
    },
    {
      "cell_type": "code",
      "metadata": {
        "id": "EWQF87r4l4HO",
        "colab_type": "code",
        "colab": {
          "base_uri": "https://localhost:8080/",
          "height": 323
        },
        "outputId": "3d50f9f8-94a0-4879-8c71-b21c33d72eb1"
      },
      "source": [
        "model_2do = models.Sequential()\n",
        "# model_1do.add(layers.Flatten(input_shape=[28, 28]))\n",
        "model_2do.add(layers.Dense(5, activation='relu', input_shape=(28 * 28,)))\n",
        "model_2do.add(layers.Dropout(0.2))\n",
        "model_2do.add(layers.Dense(10, activation='relu'))\n",
        "model_2do.add(layers.Dropout(0.2))\n",
        "model_2do.add(layers.Dense(10, activation='softmax')) \n",
        "\n",
        "model_2do.compile(optimizer='adam', loss='sparse_categorical_crossentropy', metrics=['accuracy'])\n",
        "\n",
        "model_2do.summary()"
      ],
      "execution_count": 93,
      "outputs": [
        {
          "output_type": "stream",
          "text": [
            "Model: \"sequential_11\"\n",
            "_________________________________________________________________\n",
            "Layer (type)                 Output Shape              Param #   \n",
            "=================================================================\n",
            "dense_24 (Dense)             (None, 5)                 3925      \n",
            "_________________________________________________________________\n",
            "dropout_8 (Dropout)          (None, 5)                 0         \n",
            "_________________________________________________________________\n",
            "dense_25 (Dense)             (None, 10)                60        \n",
            "_________________________________________________________________\n",
            "dropout_9 (Dropout)          (None, 10)                0         \n",
            "_________________________________________________________________\n",
            "dense_26 (Dense)             (None, 10)                110       \n",
            "=================================================================\n",
            "Total params: 4,095\n",
            "Trainable params: 4,095\n",
            "Non-trainable params: 0\n",
            "_________________________________________________________________\n"
          ],
          "name": "stdout"
        }
      ]
    },
    {
      "cell_type": "code",
      "metadata": {
        "id": "XmjlFgPcmB8K",
        "colab_type": "code",
        "colab": {
          "base_uri": "https://localhost:8080/",
          "height": 734
        },
        "outputId": "71d6cfad-bde5-43f7-d5f0-70be3f9a917a"
      },
      "source": [
        "train_rt = TrainRuntimeCallback()\n",
        "history = model_2do.fit(train_images, train_labels, callbacks=[train_rt], epochs=20, batch_size = 100,\n",
        "                    validation_data=(val_images, val_labels))\n",
        "\n",
        "# Saving models locally after fitting\n",
        "save_dir = \"results/\"\n",
        "model_name = 'fashion_mnist_model_2do.h5'\n",
        "model_path = os.path.join(save_dir, model_name)\n",
        "print('--------------------------')"
      ],
      "execution_count": 94,
      "outputs": [
        {
          "output_type": "stream",
          "text": [
            "Epoch 1/20\n",
            "550/550 [==============================] - 1s 2ms/step - loss: 1.6983 - accuracy: 0.3448 - val_loss: 1.1385 - val_accuracy: 0.5690\n",
            "Epoch 2/20\n",
            "550/550 [==============================] - 1s 3ms/step - loss: 1.2925 - accuracy: 0.4784 - val_loss: 0.9177 - val_accuracy: 0.6734\n",
            "Epoch 3/20\n",
            "550/550 [==============================] - 1s 2ms/step - loss: 1.1813 - accuracy: 0.5259 - val_loss: 0.8708 - val_accuracy: 0.6952\n",
            "Epoch 4/20\n",
            "550/550 [==============================] - 1s 2ms/step - loss: 1.1518 - accuracy: 0.5434 - val_loss: 0.8244 - val_accuracy: 0.7352\n",
            "Epoch 5/20\n",
            "550/550 [==============================] - 1s 2ms/step - loss: 1.1262 - accuracy: 0.5668 - val_loss: 0.7991 - val_accuracy: 0.7432\n",
            "Epoch 6/20\n",
            "550/550 [==============================] - 1s 2ms/step - loss: 1.1074 - accuracy: 0.5802 - val_loss: 0.7934 - val_accuracy: 0.7576\n",
            "Epoch 7/20\n",
            "550/550 [==============================] - 1s 2ms/step - loss: 1.0938 - accuracy: 0.5899 - val_loss: 0.7826 - val_accuracy: 0.7704\n",
            "Epoch 8/20\n",
            "550/550 [==============================] - 1s 2ms/step - loss: 1.0900 - accuracy: 0.5931 - val_loss: 0.7666 - val_accuracy: 0.7740\n",
            "Epoch 9/20\n",
            "550/550 [==============================] - 1s 2ms/step - loss: 1.0821 - accuracy: 0.5971 - val_loss: 0.7525 - val_accuracy: 0.7802\n",
            "Epoch 10/20\n",
            "550/550 [==============================] - 1s 2ms/step - loss: 1.0688 - accuracy: 0.6035 - val_loss: 0.7399 - val_accuracy: 0.7810\n",
            "Epoch 11/20\n",
            "550/550 [==============================] - 1s 2ms/step - loss: 1.0670 - accuracy: 0.6048 - val_loss: 0.7536 - val_accuracy: 0.7784\n",
            "Epoch 12/20\n",
            "550/550 [==============================] - 1s 2ms/step - loss: 1.0553 - accuracy: 0.6073 - val_loss: 0.7417 - val_accuracy: 0.7806\n",
            "Epoch 13/20\n",
            "550/550 [==============================] - 1s 2ms/step - loss: 1.0523 - accuracy: 0.6064 - val_loss: 0.7400 - val_accuracy: 0.7842\n",
            "Epoch 14/20\n",
            "550/550 [==============================] - 1s 3ms/step - loss: 1.0504 - accuracy: 0.6043 - val_loss: 0.7468 - val_accuracy: 0.7828\n",
            "Epoch 15/20\n",
            "550/550 [==============================] - 1s 3ms/step - loss: 1.0465 - accuracy: 0.6106 - val_loss: 0.7416 - val_accuracy: 0.7812\n",
            "Epoch 16/20\n",
            "550/550 [==============================] - 1s 3ms/step - loss: 1.0385 - accuracy: 0.6111 - val_loss: 0.7518 - val_accuracy: 0.7758\n",
            "Epoch 17/20\n",
            "550/550 [==============================] - 1s 2ms/step - loss: 1.0353 - accuracy: 0.6148 - val_loss: 0.7350 - val_accuracy: 0.7832\n",
            "Epoch 18/20\n",
            "550/550 [==============================] - 1s 3ms/step - loss: 1.0334 - accuracy: 0.6180 - val_loss: 0.7286 - val_accuracy: 0.7816\n",
            "Epoch 19/20\n",
            "550/550 [==============================] - 1s 3ms/step - loss: 1.0342 - accuracy: 0.6171 - val_loss: 0.7375 - val_accuracy: 0.7772\n",
            "Epoch 20/20\n",
            "550/550 [==============================] - 1s 2ms/step - loss: 1.0280 - accuracy: 0.6203 - val_loss: 0.7348 - val_accuracy: 0.7776\n",
            "--------------------------\n"
          ],
          "name": "stdout"
        }
      ]
    },
    {
      "cell_type": "code",
      "metadata": {
        "id": "g7rBbevPmIT-",
        "colab_type": "code",
        "colab": {
          "base_uri": "https://localhost:8080/",
          "height": 34
        },
        "outputId": "045ba0d9-100e-4237-eaf5-5e4397df792b"
      },
      "source": [
        "# Get the training time\n",
        "train_time = train_rt.process_time\n",
        "train_time # in seconds"
      ],
      "execution_count": 95,
      "outputs": [
        {
          "output_type": "execute_result",
          "data": {
            "text/plain": [
              "26.901322"
            ]
          },
          "metadata": {
            "tags": []
          },
          "execution_count": 95
        }
      ]
    },
    {
      "cell_type": "code",
      "metadata": {
        "id": "5wD9fY2RmPcq",
        "colab_type": "code",
        "colab": {
          "base_uri": "https://localhost:8080/",
          "height": 34
        },
        "outputId": "00cad8be-de18-46e7-9bfb-28fdc26cea4b"
      },
      "source": [
        "test_rt = TestRuntimeCallback()\n",
        "test_loss, test_acc = model_2do.evaluate(test_images, test_labels, callbacks=[test_rt])"
      ],
      "execution_count": 96,
      "outputs": [
        {
          "output_type": "stream",
          "text": [
            "313/313 [==============================] - 1s 2ms/step - loss: 0.7413 - accuracy: 0.7688\n"
          ],
          "name": "stdout"
        }
      ]
    },
    {
      "cell_type": "code",
      "metadata": {
        "id": "9GlAAScKmQlG",
        "colab_type": "code",
        "colab": {
          "base_uri": "https://localhost:8080/",
          "height": 34
        },
        "outputId": "5f225558-026f-4ff8-cc68-1d255fed7155"
      },
      "source": [
        "# Get the test time\n",
        "test_time = test_rt.process_time\n",
        "test_time # in seconds"
      ],
      "execution_count": 97,
      "outputs": [
        {
          "output_type": "execute_result",
          "data": {
            "text/plain": [
              "0.660825"
            ]
          },
          "metadata": {
            "tags": []
          },
          "execution_count": 97
        }
      ]
    },
    {
      "cell_type": "code",
      "metadata": {
        "id": "HAUle7qymRZe",
        "colab_type": "code",
        "colab": {
          "base_uri": "https://localhost:8080/",
          "height": 114
        },
        "outputId": "7a905683-9978-4972-e08c-8193119bdbd4"
      },
      "source": [
        "history_dict = history.history\n",
        "history_dict.keys()\n",
        "\n",
        "istory_df=pd.DataFrame(history_dict)\n",
        "history_df.tail()\n",
        "\n",
        "history_dict = history.history\n",
        "history_df=pd.DataFrame(history_dict)\n",
        "results_df_do_2 = history_df.iloc[-1:].copy()\n",
        "results_df_do_2.insert(0,'model','DNN (3 layers DO)') # went the model name to appear first\n",
        "results_df_do_2['training time (sec)'] = train_time      # we are okay with training time appearing last\n",
        "results_df_do_2['testing time (sec)'] = test_time      # we are okay with training time appearing last\n",
        "results_df_do_2"
      ],
      "execution_count": 119,
      "outputs": [
        {
          "output_type": "execute_result",
          "data": {
            "text/html": [
              "<div>\n",
              "<style scoped>\n",
              "    .dataframe tbody tr th:only-of-type {\n",
              "        vertical-align: middle;\n",
              "    }\n",
              "\n",
              "    .dataframe tbody tr th {\n",
              "        vertical-align: top;\n",
              "    }\n",
              "\n",
              "    .dataframe thead th {\n",
              "        text-align: right;\n",
              "    }\n",
              "</style>\n",
              "<table border=\"1\" class=\"dataframe\">\n",
              "  <thead>\n",
              "    <tr style=\"text-align: right;\">\n",
              "      <th></th>\n",
              "      <th>model</th>\n",
              "      <th>loss</th>\n",
              "      <th>accuracy</th>\n",
              "      <th>val_loss</th>\n",
              "      <th>val_accuracy</th>\n",
              "      <th>training time (sec)</th>\n",
              "      <th>testing time (sec)</th>\n",
              "    </tr>\n",
              "  </thead>\n",
              "  <tbody>\n",
              "    <tr>\n",
              "      <th>19</th>\n",
              "      <td>DNN (3 layers DO)</td>\n",
              "      <td>0.200088</td>\n",
              "      <td>0.923855</td>\n",
              "      <td>0.219272</td>\n",
              "      <td>0.9172</td>\n",
              "      <td>46.630616</td>\n",
              "      <td>0.879955</td>\n",
              "    </tr>\n",
              "  </tbody>\n",
              "</table>\n",
              "</div>"
            ],
            "text/plain": [
              "                model      loss  ...  training time (sec)  testing time (sec)\n",
              "19  DNN (3 layers DO)  0.200088  ...            46.630616            0.879955\n",
              "\n",
              "[1 rows x 7 columns]"
            ]
          },
          "metadata": {
            "tags": []
          },
          "execution_count": 119
        }
      ]
    },
    {
      "cell_type": "code",
      "metadata": {
        "id": "oWS83lypmVsC",
        "colab_type": "code",
        "colab": {
          "base_uri": "https://localhost:8080/",
          "height": 320
        },
        "outputId": "56a510d2-3fb9-47dd-9db6-2ef8dfbd8a03"
      },
      "source": [
        "# Plot learning curves for model\n",
        "pd.DataFrame(history.history).plot(figsize=(8, 5))\n",
        "plt.grid(True)\n",
        "plt.gca().set_ylim(0, 1.5) # set the vertical range to [0-1]\n",
        "plt.show()"
      ],
      "execution_count": 99,
      "outputs": [
        {
          "output_type": "display_data",
          "data": {
            "image/png": "[encoded data removed]",
            "text/plain": [
              "<Figure size 576x360 with 1 Axes>"
            ]
          },
          "metadata": {
            "tags": [],
            "needs_background": "light"
          }
        }
      ]
    },
    {
      "cell_type": "markdown",
      "metadata": {
        "id": "PJcM5yfCmyoZ",
        "colab_type": "text"
      },
      "source": [
        "## 5C. Model 3"
      ]
    },
    {
      "cell_type": "code",
      "metadata": {
        "id": "RfwSmNtLmwtC",
        "colab_type": "code",
        "colab": {}
      },
      "source": [
        "# We transform it into a float32 array of shape (60000, 28, 28, 1) with values between 0 and 1. \n",
        "train_images = train_images.reshape((55000, 28, 28, 1))\n",
        "val_images =val_images.reshape((5000, 28, 28, 1))\n",
        "test_images = test_images.reshape((10000, 28, 28, 1))"
      ],
      "execution_count": 100,
      "outputs": []
    },
    {
      "cell_type": "code",
      "metadata": {
        "id": "Sp5cpgYfm6PW",
        "colab_type": "code",
        "colab": {
          "base_uri": "https://localhost:8080/",
          "height": 459
        },
        "outputId": "40f153c8-2101-41f3-c295-9f347d5a340c"
      },
      "source": [
        "model_3ado = models.Sequential()\n",
        "model_3ado.add(layers.Conv2D(32, (3, 3), activation='relu', input_shape=(28, 28, 1)))\n",
        "model_3ado.add(layers.MaxPooling2D((2, 2)))\n",
        "model_3ado.add(layers.Dropout(0.2))\n",
        "model_3ado.add(layers.Conv2D(64, (3, 3), activation='relu'))\n",
        "model_3ado.add(layers.MaxPooling2D((2, 2)))\n",
        "model_3ado.add(layers.Dropout(0.2))\n",
        "model_3ado.add(layers.Flatten())\n",
        "model_3ado.add(layers.Dense(128, activation='relu'))\n",
        "model_3ado.add(layers.Dense(10, activation='softmax'))\n",
        "\n",
        "model_3ado.compile(optimizer='adam', loss='sparse_categorical_crossentropy', metrics=['accuracy'])\n",
        "\n",
        "model_3ado.summary()"
      ],
      "execution_count": 101,
      "outputs": [
        {
          "output_type": "stream",
          "text": [
            "Model: \"sequential_12\"\n",
            "_________________________________________________________________\n",
            "Layer (type)                 Output Shape              Param #   \n",
            "=================================================================\n",
            "conv2d_5 (Conv2D)            (None, 26, 26, 32)        320       \n",
            "_________________________________________________________________\n",
            "max_pooling2d_4 (MaxPooling2 (None, 13, 13, 32)        0         \n",
            "_________________________________________________________________\n",
            "dropout_10 (Dropout)         (None, 13, 13, 32)        0         \n",
            "_________________________________________________________________\n",
            "conv2d_6 (Conv2D)            (None, 11, 11, 64)        18496     \n",
            "_________________________________________________________________\n",
            "max_pooling2d_5 (MaxPooling2 (None, 5, 5, 64)          0         \n",
            "_________________________________________________________________\n",
            "dropout_11 (Dropout)         (None, 5, 5, 64)          0         \n",
            "_________________________________________________________________\n",
            "flatten_4 (Flatten)          (None, 1600)              0         \n",
            "_________________________________________________________________\n",
            "dense_27 (Dense)             (None, 128)               204928    \n",
            "_________________________________________________________________\n",
            "dense_28 (Dense)             (None, 10)                1290      \n",
            "=================================================================\n",
            "Total params: 225,034\n",
            "Trainable params: 225,034\n",
            "Non-trainable params: 0\n",
            "_________________________________________________________________\n"
          ],
          "name": "stdout"
        }
      ]
    },
    {
      "cell_type": "code",
      "metadata": {
        "id": "UqoDHsfQnBBK",
        "colab_type": "code",
        "colab": {
          "base_uri": "https://localhost:8080/",
          "height": 1000
        },
        "outputId": "ab296349-9ea6-4007-ab54-6e165e91f006"
      },
      "source": [
        "keras.utils.plot_model(model_3ado, show_shapes=True)"
      ],
      "execution_count": 102,
      "outputs": [
        {
          "output_type": "execute_result",
          "data": {
            "image/png": "[encoded data removed]",
            "text/plain": [
              "<IPython.core.display.Image object>"
            ]
          },
          "metadata": {
            "tags": []
          },
          "execution_count": 102
        }
      ]
    },
    {
      "cell_type": "code",
      "metadata": {
        "id": "rCdyWdWznBch",
        "colab_type": "code",
        "colab": {
          "base_uri": "https://localhost:8080/",
          "height": 734
        },
        "outputId": "8aa57227-1e4b-4cd9-bbb4-ea8b4ae16109"
      },
      "source": [
        "train_rt = TrainRuntimeCallback()\n",
        "history = model_3ado.fit(train_images, train_labels, callbacks=[train_rt], epochs=20, batch_size = 100,\n",
        "                    validation_data=(val_images, val_labels))\n",
        "\n",
        "# Saving models locally after fitting\n",
        "save_dir = \"results/\"\n",
        "model_name = 'fashion_mnist_model_3ado.h5'\n",
        "model_path = os.path.join(save_dir, model_name)\n",
        "print('--------------------------')"
      ],
      "execution_count": 103,
      "outputs": [
        {
          "output_type": "stream",
          "text": [
            "Epoch 1/20\n",
            "550/550 [==============================] - 2s 4ms/step - loss: 0.5702 - accuracy: 0.7911 - val_loss: 0.3723 - val_accuracy: 0.8706\n",
            "Epoch 2/20\n",
            "550/550 [==============================] - 2s 4ms/step - loss: 0.3850 - accuracy: 0.8609 - val_loss: 0.3238 - val_accuracy: 0.8854\n",
            "Epoch 3/20\n",
            "550/550 [==============================] - 2s 4ms/step - loss: 0.3352 - accuracy: 0.8784 - val_loss: 0.2936 - val_accuracy: 0.8944\n",
            "Epoch 4/20\n",
            "550/550 [==============================] - 2s 4ms/step - loss: 0.3046 - accuracy: 0.8895 - val_loss: 0.2757 - val_accuracy: 0.9034\n",
            "Epoch 5/20\n",
            "550/550 [==============================] - 2s 4ms/step - loss: 0.2824 - accuracy: 0.8965 - val_loss: 0.2560 - val_accuracy: 0.9096\n",
            "Epoch 6/20\n",
            "550/550 [==============================] - 2s 4ms/step - loss: 0.2660 - accuracy: 0.9018 - val_loss: 0.2452 - val_accuracy: 0.9104\n",
            "Epoch 7/20\n",
            "550/550 [==============================] - 2s 4ms/step - loss: 0.2482 - accuracy: 0.9085 - val_loss: 0.2343 - val_accuracy: 0.9142\n",
            "Epoch 8/20\n",
            "550/550 [==============================] - 2s 4ms/step - loss: 0.2387 - accuracy: 0.9124 - val_loss: 0.2316 - val_accuracy: 0.9138\n",
            "Epoch 9/20\n",
            "550/550 [==============================] - 2s 4ms/step - loss: 0.2279 - accuracy: 0.9140 - val_loss: 0.2277 - val_accuracy: 0.9178\n",
            "Epoch 10/20\n",
            "550/550 [==============================] - 2s 4ms/step - loss: 0.2187 - accuracy: 0.9176 - val_loss: 0.2211 - val_accuracy: 0.9166\n",
            "Epoch 11/20\n",
            "550/550 [==============================] - 2s 4ms/step - loss: 0.2069 - accuracy: 0.9218 - val_loss: 0.2134 - val_accuracy: 0.9198\n",
            "Epoch 12/20\n",
            "550/550 [==============================] - 2s 4ms/step - loss: 0.2010 - accuracy: 0.9248 - val_loss: 0.2138 - val_accuracy: 0.9228\n",
            "Epoch 13/20\n",
            "550/550 [==============================] - 2s 4ms/step - loss: 0.1926 - accuracy: 0.9267 - val_loss: 0.2006 - val_accuracy: 0.9238\n",
            "Epoch 14/20\n",
            "550/550 [==============================] - 2s 4ms/step - loss: 0.1823 - accuracy: 0.9309 - val_loss: 0.2129 - val_accuracy: 0.9184\n",
            "Epoch 15/20\n",
            "550/550 [==============================] - 2s 4ms/step - loss: 0.1786 - accuracy: 0.9323 - val_loss: 0.2071 - val_accuracy: 0.9244\n",
            "Epoch 16/20\n",
            "550/550 [==============================] - 2s 4ms/step - loss: 0.1712 - accuracy: 0.9353 - val_loss: 0.2027 - val_accuracy: 0.9250\n",
            "Epoch 17/20\n",
            "550/550 [==============================] - 2s 4ms/step - loss: 0.1638 - accuracy: 0.9383 - val_loss: 0.2060 - val_accuracy: 0.9238\n",
            "Epoch 18/20\n",
            "550/550 [==============================] - 2s 4ms/step - loss: 0.1581 - accuracy: 0.9397 - val_loss: 0.2067 - val_accuracy: 0.9248\n",
            "Epoch 19/20\n",
            "550/550 [==============================] - 2s 4ms/step - loss: 0.1544 - accuracy: 0.9415 - val_loss: 0.2110 - val_accuracy: 0.9260\n",
            "Epoch 20/20\n",
            "550/550 [==============================] - 2s 4ms/step - loss: 0.1477 - accuracy: 0.9439 - val_loss: 0.2049 - val_accuracy: 0.9234\n",
            "--------------------------\n"
          ],
          "name": "stdout"
        }
      ]
    },
    {
      "cell_type": "code",
      "metadata": {
        "id": "p21iVXpDnEwR",
        "colab_type": "code",
        "colab": {
          "base_uri": "https://localhost:8080/",
          "height": 34
        },
        "outputId": "d597aad2-ef7e-454b-8858-1efe975a4606"
      },
      "source": [
        "# Get the training time\n",
        "train_time = train_rt.process_time\n",
        "train_time # in seconds"
      ],
      "execution_count": 104,
      "outputs": [
        {
          "output_type": "execute_result",
          "data": {
            "text/plain": [
              "42.803475"
            ]
          },
          "metadata": {
            "tags": []
          },
          "execution_count": 104
        }
      ]
    },
    {
      "cell_type": "code",
      "metadata": {
        "id": "KYgxi5gwneXo",
        "colab_type": "code",
        "colab": {
          "base_uri": "https://localhost:8080/",
          "height": 34
        },
        "outputId": "a4d8aea8-2864-434b-8afa-20e7841a078e"
      },
      "source": [
        "test_rt = TestRuntimeCallback()\n",
        "test_loss, test_acc = model_3ado.evaluate(test_images, test_labels, callbacks=[test_rt])"
      ],
      "execution_count": 105,
      "outputs": [
        {
          "output_type": "stream",
          "text": [
            "313/313 [==============================] - 1s 3ms/step - loss: 0.2398 - accuracy: 0.9138\n"
          ],
          "name": "stdout"
        }
      ]
    },
    {
      "cell_type": "code",
      "metadata": {
        "id": "U8kXeG92nfi0",
        "colab_type": "code",
        "colab": {
          "base_uri": "https://localhost:8080/",
          "height": 34
        },
        "outputId": "3a4b3193-3246-4d86-e856-2fe92d179c0b"
      },
      "source": [
        "# Get the test time\n",
        "test_time = test_rt.process_time\n",
        "test_time # in seconds"
      ],
      "execution_count": 106,
      "outputs": [
        {
          "output_type": "execute_result",
          "data": {
            "text/plain": [
              "0.929794"
            ]
          },
          "metadata": {
            "tags": []
          },
          "execution_count": 106
        }
      ]
    },
    {
      "cell_type": "code",
      "metadata": {
        "id": "21Rir2FQngdL",
        "colab_type": "code",
        "colab": {
          "base_uri": "https://localhost:8080/",
          "height": 114
        },
        "outputId": "d576eeb2-d77b-4294-ebc9-8277c360134f"
      },
      "source": [
        "history_dict = history.history\n",
        "history_dict.keys()\n",
        "\n",
        "history_df=pd.DataFrame(history_dict)\n",
        "history_df.tail()\n",
        "\n",
        "# Pull statistics \n",
        "results_df_do_3a = history_df.iloc[-1:].copy()\n",
        "results_df_do_3a.insert(0,'model','CNN (2 layers DO)') # want the model name to appear first\n",
        "results_df_do_3a['training time (sec)'] = train_time      # we are okay with training time appearing last\n",
        "results_df_do_3a['testing time (sec)'] = test_time      # we are okay with training time appearing last\n",
        "results_df_do_3a"
      ],
      "execution_count": 120,
      "outputs": [
        {
          "output_type": "execute_result",
          "data": {
            "text/html": [
              "<div>\n",
              "<style scoped>\n",
              "    .dataframe tbody tr th:only-of-type {\n",
              "        vertical-align: middle;\n",
              "    }\n",
              "\n",
              "    .dataframe tbody tr th {\n",
              "        vertical-align: top;\n",
              "    }\n",
              "\n",
              "    .dataframe thead th {\n",
              "        text-align: right;\n",
              "    }\n",
              "</style>\n",
              "<table border=\"1\" class=\"dataframe\">\n",
              "  <thead>\n",
              "    <tr style=\"text-align: right;\">\n",
              "      <th></th>\n",
              "      <th>model</th>\n",
              "      <th>loss</th>\n",
              "      <th>accuracy</th>\n",
              "      <th>val_loss</th>\n",
              "      <th>val_accuracy</th>\n",
              "      <th>training time (sec)</th>\n",
              "      <th>testing time (sec)</th>\n",
              "    </tr>\n",
              "  </thead>\n",
              "  <tbody>\n",
              "    <tr>\n",
              "      <th>19</th>\n",
              "      <td>CNN (2 layers DO)</td>\n",
              "      <td>0.200088</td>\n",
              "      <td>0.923855</td>\n",
              "      <td>0.219272</td>\n",
              "      <td>0.9172</td>\n",
              "      <td>46.630616</td>\n",
              "      <td>0.879955</td>\n",
              "    </tr>\n",
              "  </tbody>\n",
              "</table>\n",
              "</div>"
            ],
            "text/plain": [
              "                model      loss  ...  training time (sec)  testing time (sec)\n",
              "19  CNN (2 layers DO)  0.200088  ...            46.630616            0.879955\n",
              "\n",
              "[1 rows x 7 columns]"
            ]
          },
          "metadata": {
            "tags": []
          },
          "execution_count": 120
        }
      ]
    },
    {
      "cell_type": "code",
      "metadata": {
        "id": "6iyr8s5fnkQJ",
        "colab_type": "code",
        "colab": {}
      },
      "source": [
        "# # Combine with previous results\n",
        "# prev_results_df = pd.read_pickle('results.pkl')\n",
        "# results_df = prev_results_df.append(results_df,ignore_index=True)\n",
        "# results_df"
      ],
      "execution_count": null,
      "outputs": []
    },
    {
      "cell_type": "code",
      "metadata": {
        "id": "yFb_6ppznnIu",
        "colab_type": "code",
        "colab": {
          "base_uri": "https://localhost:8080/",
          "height": 324
        },
        "outputId": "fcfb7305-770e-4915-980a-a2c6d3b94842"
      },
      "source": [
        "# Plot learning curves for model\n",
        "pd.DataFrame(history.history).plot(figsize=(8, 5))\n",
        "plt.grid(True)\n",
        "plt.gca().set_ylim(0, 1) # set the vertical range to [0-1]\n",
        "plt.show()"
      ],
      "execution_count": 108,
      "outputs": [
        {
          "output_type": "display_data",
          "data": {
            "image/png": "[encoded data removed]",
            "text/plain": [
              "<Figure size 576x360 with 1 Axes>"
            ]
          },
          "metadata": {
            "tags": [],
            "needs_background": "light"
          }
        }
      ]
    },
    {
      "cell_type": "markdown",
      "metadata": {
        "id": "RsbOqWm5nr8x",
        "colab_type": "text"
      },
      "source": [
        "## 5D. Model 4"
      ]
    },
    {
      "cell_type": "code",
      "metadata": {
        "id": "XGDJjVHNnn5N",
        "colab_type": "code",
        "colab": {
          "base_uri": "https://localhost:8080/",
          "height": 527
        },
        "outputId": "ee57f673-88c7-4903-895b-324674433615"
      },
      "source": [
        "model_4ado = models.Sequential()\n",
        "model_4ado.add(layers.Conv2D(32, (3, 3), activation='relu', input_shape=(28, 28, 1)))\n",
        "model_4ado.add(layers.MaxPooling2D((2, 2)))\n",
        "model_4ado.add(layers.Dropout(0.2))\n",
        "model_4ado.add(layers.Conv2D(64, (3, 3), activation='relu'))\n",
        "model_4ado.add(layers.MaxPooling2D((2, 2)))\n",
        "model_4ado.add(layers.Dropout(0.2))\n",
        "model_4ado.add(layers.Conv2D(64, (3, 3), activation='relu'))\n",
        "model_4ado.add(layers.Dropout(0.2))\n",
        "model_4ado.add(layers.Flatten())\n",
        "model_4ado.add(layers.Dense(64, activation='relu'))\n",
        "model_4ado.add(layers.Dense(10, activation='softmax'))\n",
        "\n",
        "model_4ado.compile(optimizer='adam', loss='sparse_categorical_crossentropy', metrics=['accuracy'])\n",
        "\n",
        "model_4ado.summary()"
      ],
      "execution_count": 110,
      "outputs": [
        {
          "output_type": "stream",
          "text": [
            "Model: \"sequential_14\"\n",
            "_________________________________________________________________\n",
            "Layer (type)                 Output Shape              Param #   \n",
            "=================================================================\n",
            "conv2d_10 (Conv2D)           (None, 26, 26, 32)        320       \n",
            "_________________________________________________________________\n",
            "max_pooling2d_8 (MaxPooling2 (None, 13, 13, 32)        0         \n",
            "_________________________________________________________________\n",
            "dropout_15 (Dropout)         (None, 13, 13, 32)        0         \n",
            "_________________________________________________________________\n",
            "conv2d_11 (Conv2D)           (None, 11, 11, 64)        18496     \n",
            "_________________________________________________________________\n",
            "max_pooling2d_9 (MaxPooling2 (None, 5, 5, 64)          0         \n",
            "_________________________________________________________________\n",
            "dropout_16 (Dropout)         (None, 5, 5, 64)          0         \n",
            "_________________________________________________________________\n",
            "conv2d_12 (Conv2D)           (None, 3, 3, 64)          36928     \n",
            "_________________________________________________________________\n",
            "dropout_17 (Dropout)         (None, 3, 3, 64)          0         \n",
            "_________________________________________________________________\n",
            "flatten_6 (Flatten)          (None, 576)               0         \n",
            "_________________________________________________________________\n",
            "dense_31 (Dense)             (None, 64)                36928     \n",
            "_________________________________________________________________\n",
            "dense_32 (Dense)             (None, 10)                650       \n",
            "=================================================================\n",
            "Total params: 93,322\n",
            "Trainable params: 93,322\n",
            "Non-trainable params: 0\n",
            "_________________________________________________________________\n"
          ],
          "name": "stdout"
        }
      ]
    },
    {
      "cell_type": "code",
      "metadata": {
        "id": "-7CkXG1vnvp9",
        "colab_type": "code",
        "colab": {
          "base_uri": "https://localhost:8080/",
          "height": 1000
        },
        "outputId": "900d549f-8cc0-4b1f-a9a9-a1c9d5ac2a6b"
      },
      "source": [
        "keras.utils.plot_model(model_4ado, show_shapes=True)"
      ],
      "execution_count": 111,
      "outputs": [
        {
          "output_type": "execute_result",
          "data": {
            "image/png": "[encoded data removed]",
            "text/plain": [
              "<IPython.core.display.Image object>"
            ]
          },
          "metadata": {
            "tags": []
          },
          "execution_count": 111
        }
      ]
    },
    {
      "cell_type": "code",
      "metadata": {
        "id": "-Uh9KeGNn03Q",
        "colab_type": "code",
        "colab": {
          "base_uri": "https://localhost:8080/",
          "height": 734
        },
        "outputId": "6781ae22-8368-4704-c5c3-484df565d3dd"
      },
      "source": [
        "train_rt = TrainRuntimeCallback()\n",
        "history = model_4ado.fit(train_images, train_labels, callbacks=[train_rt], epochs=20, batch_size = 100,\n",
        "                    validation_data=(val_images, val_labels))\n",
        "\n",
        "# Saving models locally after fitting\n",
        "save_dir = \"results/\"\n",
        "model_name = 'fashion_mnist_model_4ado.h5'\n",
        "model_path = os.path.join(save_dir, model_name)\n",
        "print('--------------------------')"
      ],
      "execution_count": 112,
      "outputs": [
        {
          "output_type": "stream",
          "text": [
            "Epoch 1/20\n",
            "550/550 [==============================] - 2s 5ms/step - loss: 0.6784 - accuracy: 0.7475 - val_loss: 0.4134 - val_accuracy: 0.8568\n",
            "Epoch 2/20\n",
            "550/550 [==============================] - 2s 4ms/step - loss: 0.4316 - accuracy: 0.8399 - val_loss: 0.3420 - val_accuracy: 0.8762\n",
            "Epoch 3/20\n",
            "550/550 [==============================] - 2s 4ms/step - loss: 0.3765 - accuracy: 0.8620 - val_loss: 0.3260 - val_accuracy: 0.8806\n",
            "Epoch 4/20\n",
            "550/550 [==============================] - 2s 4ms/step - loss: 0.3452 - accuracy: 0.8722 - val_loss: 0.2904 - val_accuracy: 0.8960\n",
            "Epoch 5/20\n",
            "550/550 [==============================] - 2s 4ms/step - loss: 0.3197 - accuracy: 0.8813 - val_loss: 0.2679 - val_accuracy: 0.9014\n",
            "Epoch 6/20\n",
            "550/550 [==============================] - 2s 4ms/step - loss: 0.3009 - accuracy: 0.8888 - val_loss: 0.2638 - val_accuracy: 0.8992\n",
            "Epoch 7/20\n",
            "550/550 [==============================] - 2s 4ms/step - loss: 0.2849 - accuracy: 0.8938 - val_loss: 0.2452 - val_accuracy: 0.9146\n",
            "Epoch 8/20\n",
            "550/550 [==============================] - 2s 4ms/step - loss: 0.2736 - accuracy: 0.8988 - val_loss: 0.2472 - val_accuracy: 0.9106\n",
            "Epoch 9/20\n",
            "550/550 [==============================] - 2s 4ms/step - loss: 0.2619 - accuracy: 0.9025 - val_loss: 0.2410 - val_accuracy: 0.9080\n",
            "Epoch 10/20\n",
            "550/550 [==============================] - 2s 4ms/step - loss: 0.2569 - accuracy: 0.9040 - val_loss: 0.2338 - val_accuracy: 0.9154\n",
            "Epoch 11/20\n",
            "550/550 [==============================] - 2s 4ms/step - loss: 0.2447 - accuracy: 0.9098 - val_loss: 0.2365 - val_accuracy: 0.9114\n",
            "Epoch 12/20\n",
            "550/550 [==============================] - 2s 4ms/step - loss: 0.2392 - accuracy: 0.9098 - val_loss: 0.2264 - val_accuracy: 0.9162\n",
            "Epoch 13/20\n",
            "550/550 [==============================] - 2s 4ms/step - loss: 0.2325 - accuracy: 0.9138 - val_loss: 0.2297 - val_accuracy: 0.9124\n",
            "Epoch 14/20\n",
            "550/550 [==============================] - 2s 4ms/step - loss: 0.2252 - accuracy: 0.9158 - val_loss: 0.2211 - val_accuracy: 0.9182\n",
            "Epoch 15/20\n",
            "550/550 [==============================] - 2s 4ms/step - loss: 0.2202 - accuracy: 0.9178 - val_loss: 0.2249 - val_accuracy: 0.9142\n",
            "Epoch 16/20\n",
            "550/550 [==============================] - 2s 4ms/step - loss: 0.2161 - accuracy: 0.9193 - val_loss: 0.2274 - val_accuracy: 0.9140\n",
            "Epoch 17/20\n",
            "550/550 [==============================] - 2s 4ms/step - loss: 0.2118 - accuracy: 0.9207 - val_loss: 0.2142 - val_accuracy: 0.9210\n",
            "Epoch 18/20\n",
            "550/550 [==============================] - 2s 4ms/step - loss: 0.2058 - accuracy: 0.9228 - val_loss: 0.2213 - val_accuracy: 0.9152\n",
            "Epoch 19/20\n",
            "550/550 [==============================] - 2s 4ms/step - loss: 0.2083 - accuracy: 0.9213 - val_loss: 0.2173 - val_accuracy: 0.9206\n",
            "Epoch 20/20\n",
            "550/550 [==============================] - 2s 4ms/step - loss: 0.2001 - accuracy: 0.9239 - val_loss: 0.2193 - val_accuracy: 0.9172\n",
            "--------------------------\n"
          ],
          "name": "stdout"
        }
      ]
    },
    {
      "cell_type": "code",
      "metadata": {
        "id": "iSSu2vtLn2ha",
        "colab_type": "code",
        "colab": {
          "base_uri": "https://localhost:8080/",
          "height": 34
        },
        "outputId": "a4c8bc3b-496e-44a5-8be7-6d507da84f68"
      },
      "source": [
        "# Get the training time\n",
        "train_time = train_rt.process_time\n",
        "train_time # in seconds"
      ],
      "execution_count": 113,
      "outputs": [
        {
          "output_type": "execute_result",
          "data": {
            "text/plain": [
              "46.630616"
            ]
          },
          "metadata": {
            "tags": []
          },
          "execution_count": 113
        }
      ]
    },
    {
      "cell_type": "code",
      "metadata": {
        "id": "kJx4rc9HoCyG",
        "colab_type": "code",
        "colab": {
          "base_uri": "https://localhost:8080/",
          "height": 34
        },
        "outputId": "034696ba-4464-4c9c-8f79-2ed4c9dab006"
      },
      "source": [
        "test_rt = TestRuntimeCallback()\n",
        "test_loss, test_acc = model_4ado.evaluate(test_images, test_labels, callbacks=[test_rt])"
      ],
      "execution_count": 114,
      "outputs": [
        {
          "output_type": "stream",
          "text": [
            "313/313 [==============================] - 1s 2ms/step - loss: 0.2414 - accuracy: 0.9093\n"
          ],
          "name": "stdout"
        }
      ]
    },
    {
      "cell_type": "code",
      "metadata": {
        "id": "Zln5WfXPoD3A",
        "colab_type": "code",
        "colab": {
          "base_uri": "https://localhost:8080/",
          "height": 34
        },
        "outputId": "5633cf5a-dbd6-4180-df74-edb9f170ffed"
      },
      "source": [
        "# Get the test time\n",
        "test_time = test_rt.process_time\n",
        "test_time # in seconds"
      ],
      "execution_count": 115,
      "outputs": [
        {
          "output_type": "execute_result",
          "data": {
            "text/plain": [
              "0.879955"
            ]
          },
          "metadata": {
            "tags": []
          },
          "execution_count": 115
        }
      ]
    },
    {
      "cell_type": "code",
      "metadata": {
        "id": "KJHH8yrloF5G",
        "colab_type": "code",
        "colab": {
          "base_uri": "https://localhost:8080/",
          "height": 114
        },
        "outputId": "2d01a44a-1b38-4964-b254-a762840fd6bc"
      },
      "source": [
        "history_dict = history.history\n",
        "history_dict.keys()\n",
        "\n",
        "history_df=pd.DataFrame(history_dict)\n",
        "history_df.tail()\n",
        "\n",
        "# Pull statistics \n",
        "# Pull statistics \n",
        "results_df_do_4a = history_df.iloc[-1:].copy()\n",
        "results_df_do_4a.insert(0,'model','CNN (3 layers DO)') # want the model name to appear first\n",
        "results_df_do_4a['training time (sec)'] = train_time      # we are okay with training time appearing last\n",
        "results_df_do_4a['testing time (sec)'] = test_time      # we are okay with training time appearing last\n",
        "results_df_do_4a"
      ],
      "execution_count": 121,
      "outputs": [
        {
          "output_type": "execute_result",
          "data": {
            "text/html": [
              "<div>\n",
              "<style scoped>\n",
              "    .dataframe tbody tr th:only-of-type {\n",
              "        vertical-align: middle;\n",
              "    }\n",
              "\n",
              "    .dataframe tbody tr th {\n",
              "        vertical-align: top;\n",
              "    }\n",
              "\n",
              "    .dataframe thead th {\n",
              "        text-align: right;\n",
              "    }\n",
              "</style>\n",
              "<table border=\"1\" class=\"dataframe\">\n",
              "  <thead>\n",
              "    <tr style=\"text-align: right;\">\n",
              "      <th></th>\n",
              "      <th>model</th>\n",
              "      <th>loss</th>\n",
              "      <th>accuracy</th>\n",
              "      <th>val_loss</th>\n",
              "      <th>val_accuracy</th>\n",
              "      <th>training time (sec)</th>\n",
              "      <th>testing time (sec)</th>\n",
              "    </tr>\n",
              "  </thead>\n",
              "  <tbody>\n",
              "    <tr>\n",
              "      <th>19</th>\n",
              "      <td>CNN (3 layers DO)</td>\n",
              "      <td>0.200088</td>\n",
              "      <td>0.923855</td>\n",
              "      <td>0.219272</td>\n",
              "      <td>0.9172</td>\n",
              "      <td>46.630616</td>\n",
              "      <td>0.879955</td>\n",
              "    </tr>\n",
              "  </tbody>\n",
              "</table>\n",
              "</div>"
            ],
            "text/plain": [
              "                model      loss  ...  training time (sec)  testing time (sec)\n",
              "19  CNN (3 layers DO)  0.200088  ...            46.630616            0.879955\n",
              "\n",
              "[1 rows x 7 columns]"
            ]
          },
          "metadata": {
            "tags": []
          },
          "execution_count": 121
        }
      ]
    },
    {
      "cell_type": "code",
      "metadata": {
        "id": "OueaFjnooNlq",
        "colab_type": "code",
        "colab": {}
      },
      "source": [
        "# Combine with previous results\n",
        "# prev_results_df = pd.read_pickle('results.pkl')\n",
        "# results_df = results_df.append(results_df3a,ignore_index=True)\n",
        "# results_df = results_df.append(results_df3b,ignore_index=True)\n",
        "# results_df"
      ],
      "execution_count": 117,
      "outputs": []
    },
    {
      "cell_type": "code",
      "metadata": {
        "id": "tPwAj5W8oQxj",
        "colab_type": "code",
        "colab": {
          "base_uri": "https://localhost:8080/",
          "height": 324
        },
        "outputId": "59a70465-2644-4c74-b45b-f37c6aef7128"
      },
      "source": [
        "# Plot learning curves for model\n",
        "pd.DataFrame(history.history).plot(figsize=(8, 5))\n",
        "plt.grid(True)\n",
        "plt.gca().set_ylim(0, 1) # set the vertical range to [0-1]\n",
        "plt.show()"
      ],
      "execution_count": 118,
      "outputs": [
        {
          "output_type": "display_data",
          "data": {
            "image/png": "[encoded data removed]",
            "text/plain": [
              "<Figure size 576x360 with 1 Axes>"
            ]
          },
          "metadata": {
            "tags": [],
            "needs_background": "light"
          }
        }
      ]
    },
    {
      "cell_type": "markdown",
      "metadata": {
        "id": "TxSLIw3AoX4V",
        "colab_type": "text"
      },
      "source": [
        "# 6. Final Results"
      ]
    },
    {
      "cell_type": "code",
      "metadata": {
        "id": "BAF8LkEx4NSj",
        "colab_type": "code",
        "colab": {
          "base_uri": "https://localhost:8080/",
          "height": 572
        },
        "outputId": "bfaf18d2-80d0-4980-d710-9e385844d271"
      },
      "source": [
        "results_df"
      ],
      "execution_count": 130,
      "outputs": [
        {
          "output_type": "execute_result",
          "data": {
            "text/html": [
              "<div>\n",
              "<style scoped>\n",
              "    .dataframe tbody tr th:only-of-type {\n",
              "        vertical-align: middle;\n",
              "    }\n",
              "\n",
              "    .dataframe tbody tr th {\n",
              "        vertical-align: top;\n",
              "    }\n",
              "\n",
              "    .dataframe thead th {\n",
              "        text-align: right;\n",
              "    }\n",
              "</style>\n",
              "<table border=\"1\" class=\"dataframe\">\n",
              "  <thead>\n",
              "    <tr style=\"text-align: right;\">\n",
              "      <th></th>\n",
              "      <th>model</th>\n",
              "      <th>loss</th>\n",
              "      <th>accuracy</th>\n",
              "      <th>val_loss</th>\n",
              "      <th>val_accuracy</th>\n",
              "      <th>training time (sec)</th>\n",
              "      <th>testing time (sec)</th>\n",
              "    </tr>\n",
              "  </thead>\n",
              "  <tbody>\n",
              "    <tr>\n",
              "      <th>0</th>\n",
              "      <td>DNN (2 layers)</td>\n",
              "      <td>0.463785</td>\n",
              "      <td>0.837818</td>\n",
              "      <td>0.485111</td>\n",
              "      <td>0.8342</td>\n",
              "      <td>26.291443</td>\n",
              "      <td>0.634644</td>\n",
              "    </tr>\n",
              "    <tr>\n",
              "      <th>1</th>\n",
              "      <td>DNN (2 layers)</td>\n",
              "      <td>0.463785</td>\n",
              "      <td>0.837818</td>\n",
              "      <td>0.485111</td>\n",
              "      <td>0.8342</td>\n",
              "      <td>26.291443</td>\n",
              "      <td>0.634644</td>\n",
              "    </tr>\n",
              "    <tr>\n",
              "      <th>2</th>\n",
              "      <td>DNN (3 layers DO)</td>\n",
              "      <td>1.028041</td>\n",
              "      <td>0.620273</td>\n",
              "      <td>0.734786</td>\n",
              "      <td>0.7776</td>\n",
              "      <td>26.901322</td>\n",
              "      <td>0.660825</td>\n",
              "    </tr>\n",
              "    <tr>\n",
              "      <th>3</th>\n",
              "      <td>CNN (2 layers DO)</td>\n",
              "      <td>0.147733</td>\n",
              "      <td>0.943891</td>\n",
              "      <td>0.204907</td>\n",
              "      <td>0.9234</td>\n",
              "      <td>42.803475</td>\n",
              "      <td>0.929794</td>\n",
              "    </tr>\n",
              "    <tr>\n",
              "      <th>4</th>\n",
              "      <td>CNN (3 layers DO)</td>\n",
              "      <td>0.200088</td>\n",
              "      <td>0.923855</td>\n",
              "      <td>0.219272</td>\n",
              "      <td>0.9172</td>\n",
              "      <td>46.630616</td>\n",
              "      <td>0.879955</td>\n",
              "    </tr>\n",
              "    <tr>\n",
              "      <th>...</th>\n",
              "      <td>...</td>\n",
              "      <td>...</td>\n",
              "      <td>...</td>\n",
              "      <td>...</td>\n",
              "      <td>...</td>\n",
              "      <td>...</td>\n",
              "      <td>...</td>\n",
              "    </tr>\n",
              "    <tr>\n",
              "      <th>87</th>\n",
              "      <td>CNN (2 layers DO)</td>\n",
              "      <td>0.147733</td>\n",
              "      <td>0.943891</td>\n",
              "      <td>0.204907</td>\n",
              "      <td>0.9234</td>\n",
              "      <td>42.803475</td>\n",
              "      <td>0.929794</td>\n",
              "    </tr>\n",
              "    <tr>\n",
              "      <th>88</th>\n",
              "      <td>CNN (3 layers DO)</td>\n",
              "      <td>0.200088</td>\n",
              "      <td>0.923855</td>\n",
              "      <td>0.219272</td>\n",
              "      <td>0.9172</td>\n",
              "      <td>46.630616</td>\n",
              "      <td>0.879955</td>\n",
              "    </tr>\n",
              "    <tr>\n",
              "      <th>89</th>\n",
              "      <td>DNN (3 layers DO)</td>\n",
              "      <td>0.200088</td>\n",
              "      <td>0.923855</td>\n",
              "      <td>0.219272</td>\n",
              "      <td>0.9172</td>\n",
              "      <td>46.630616</td>\n",
              "      <td>0.879955</td>\n",
              "    </tr>\n",
              "    <tr>\n",
              "      <th>90</th>\n",
              "      <td>CNN (2 layers DO)</td>\n",
              "      <td>0.200088</td>\n",
              "      <td>0.923855</td>\n",
              "      <td>0.219272</td>\n",
              "      <td>0.9172</td>\n",
              "      <td>46.630616</td>\n",
              "      <td>0.879955</td>\n",
              "    </tr>\n",
              "    <tr>\n",
              "      <th>91</th>\n",
              "      <td>CNN (3 layers DO)</td>\n",
              "      <td>0.200088</td>\n",
              "      <td>0.923855</td>\n",
              "      <td>0.219272</td>\n",
              "      <td>0.9172</td>\n",
              "      <td>46.630616</td>\n",
              "      <td>0.879955</td>\n",
              "    </tr>\n",
              "  </tbody>\n",
              "</table>\n",
              "<p>92 rows × 7 columns</p>\n",
              "</div>"
            ],
            "text/plain": [
              "                model      loss  ...  training time (sec)  testing time (sec)\n",
              "0      DNN (2 layers)  0.463785  ...            26.291443            0.634644\n",
              "1      DNN (2 layers)  0.463785  ...            26.291443            0.634644\n",
              "2   DNN (3 layers DO)  1.028041  ...            26.901322            0.660825\n",
              "3   CNN (2 layers DO)  0.147733  ...            42.803475            0.929794\n",
              "4   CNN (3 layers DO)  0.200088  ...            46.630616            0.879955\n",
              "..                ...       ...  ...                  ...                 ...\n",
              "87  CNN (2 layers DO)  0.147733  ...            42.803475            0.929794\n",
              "88  CNN (3 layers DO)  0.200088  ...            46.630616            0.879955\n",
              "89  DNN (3 layers DO)  0.200088  ...            46.630616            0.879955\n",
              "90  CNN (2 layers DO)  0.200088  ...            46.630616            0.879955\n",
              "91  CNN (3 layers DO)  0.200088  ...            46.630616            0.879955\n",
              "\n",
              "[92 rows x 7 columns]"
            ]
          },
          "metadata": {
            "tags": []
          },
          "execution_count": 130
        }
      ]
    },
    {
      "cell_type": "code",
      "metadata": {
        "id": "4QtUgsqNoa7P",
        "colab_type": "code",
        "colab": {
          "base_uri": "https://localhost:8080/",
          "height": 572
        },
        "outputId": "566bb85d-79dc-489d-d200-5f721f3f3b0e"
      },
      "source": [
        "# # # Add the new data to results_df:\n",
        "# # results_df=results_df.append(results_df,ignore_index=True)\n",
        "# # results_df=results_df.append(results_df2,ignore_index=True)\n",
        "# # results_df=results_df.append(results_df3a,ignore_index=True)\n",
        "# # results_df=results_df.append(results_df4a,ignore_index=True)\n",
        "# # results_df=results_df.append(results_df_do,ignore_index=True)\n",
        "# # results_df=results_df.append(results_df_do_2,ignore_index=True)\n",
        "# # results_df=results_df.append(results_df_do_3a,ignore_index=True)\n",
        "# # results_df=results_df.append(results_df_do_4a,ignore_index=True)\n",
        "\n",
        "# results_df"
      ],
      "execution_count": 129,
      "outputs": [
        {
          "output_type": "execute_result",
          "data": {
            "text/html": [
              "<div>\n",
              "<style scoped>\n",
              "    .dataframe tbody tr th:only-of-type {\n",
              "        vertical-align: middle;\n",
              "    }\n",
              "\n",
              "    .dataframe tbody tr th {\n",
              "        vertical-align: top;\n",
              "    }\n",
              "\n",
              "    .dataframe thead th {\n",
              "        text-align: right;\n",
              "    }\n",
              "</style>\n",
              "<table border=\"1\" class=\"dataframe\">\n",
              "  <thead>\n",
              "    <tr style=\"text-align: right;\">\n",
              "      <th></th>\n",
              "      <th>model</th>\n",
              "      <th>loss</th>\n",
              "      <th>accuracy</th>\n",
              "      <th>val_loss</th>\n",
              "      <th>val_accuracy</th>\n",
              "      <th>training time (sec)</th>\n",
              "      <th>testing time (sec)</th>\n",
              "    </tr>\n",
              "  </thead>\n",
              "  <tbody>\n",
              "    <tr>\n",
              "      <th>0</th>\n",
              "      <td>DNN (2 layers)</td>\n",
              "      <td>0.463785</td>\n",
              "      <td>0.837818</td>\n",
              "      <td>0.485111</td>\n",
              "      <td>0.8342</td>\n",
              "      <td>26.291443</td>\n",
              "      <td>0.634644</td>\n",
              "    </tr>\n",
              "    <tr>\n",
              "      <th>1</th>\n",
              "      <td>DNN (2 layers)</td>\n",
              "      <td>0.463785</td>\n",
              "      <td>0.837818</td>\n",
              "      <td>0.485111</td>\n",
              "      <td>0.8342</td>\n",
              "      <td>26.291443</td>\n",
              "      <td>0.634644</td>\n",
              "    </tr>\n",
              "    <tr>\n",
              "      <th>2</th>\n",
              "      <td>DNN (3 layers DO)</td>\n",
              "      <td>1.028041</td>\n",
              "      <td>0.620273</td>\n",
              "      <td>0.734786</td>\n",
              "      <td>0.7776</td>\n",
              "      <td>26.901322</td>\n",
              "      <td>0.660825</td>\n",
              "    </tr>\n",
              "    <tr>\n",
              "      <th>3</th>\n",
              "      <td>CNN (2 layers DO)</td>\n",
              "      <td>0.147733</td>\n",
              "      <td>0.943891</td>\n",
              "      <td>0.204907</td>\n",
              "      <td>0.9234</td>\n",
              "      <td>42.803475</td>\n",
              "      <td>0.929794</td>\n",
              "    </tr>\n",
              "    <tr>\n",
              "      <th>4</th>\n",
              "      <td>CNN (3 layers DO)</td>\n",
              "      <td>0.200088</td>\n",
              "      <td>0.923855</td>\n",
              "      <td>0.219272</td>\n",
              "      <td>0.9172</td>\n",
              "      <td>46.630616</td>\n",
              "      <td>0.879955</td>\n",
              "    </tr>\n",
              "    <tr>\n",
              "      <th>...</th>\n",
              "      <td>...</td>\n",
              "      <td>...</td>\n",
              "      <td>...</td>\n",
              "      <td>...</td>\n",
              "      <td>...</td>\n",
              "      <td>...</td>\n",
              "      <td>...</td>\n",
              "    </tr>\n",
              "    <tr>\n",
              "      <th>87</th>\n",
              "      <td>CNN (2 layers DO)</td>\n",
              "      <td>0.147733</td>\n",
              "      <td>0.943891</td>\n",
              "      <td>0.204907</td>\n",
              "      <td>0.9234</td>\n",
              "      <td>42.803475</td>\n",
              "      <td>0.929794</td>\n",
              "    </tr>\n",
              "    <tr>\n",
              "      <th>88</th>\n",
              "      <td>CNN (3 layers DO)</td>\n",
              "      <td>0.200088</td>\n",
              "      <td>0.923855</td>\n",
              "      <td>0.219272</td>\n",
              "      <td>0.9172</td>\n",
              "      <td>46.630616</td>\n",
              "      <td>0.879955</td>\n",
              "    </tr>\n",
              "    <tr>\n",
              "      <th>89</th>\n",
              "      <td>DNN (3 layers DO)</td>\n",
              "      <td>0.200088</td>\n",
              "      <td>0.923855</td>\n",
              "      <td>0.219272</td>\n",
              "      <td>0.9172</td>\n",
              "      <td>46.630616</td>\n",
              "      <td>0.879955</td>\n",
              "    </tr>\n",
              "    <tr>\n",
              "      <th>90</th>\n",
              "      <td>CNN (2 layers DO)</td>\n",
              "      <td>0.200088</td>\n",
              "      <td>0.923855</td>\n",
              "      <td>0.219272</td>\n",
              "      <td>0.9172</td>\n",
              "      <td>46.630616</td>\n",
              "      <td>0.879955</td>\n",
              "    </tr>\n",
              "    <tr>\n",
              "      <th>91</th>\n",
              "      <td>CNN (3 layers DO)</td>\n",
              "      <td>0.200088</td>\n",
              "      <td>0.923855</td>\n",
              "      <td>0.219272</td>\n",
              "      <td>0.9172</td>\n",
              "      <td>46.630616</td>\n",
              "      <td>0.879955</td>\n",
              "    </tr>\n",
              "  </tbody>\n",
              "</table>\n",
              "<p>92 rows × 7 columns</p>\n",
              "</div>"
            ],
            "text/plain": [
              "                model      loss  ...  training time (sec)  testing time (sec)\n",
              "0      DNN (2 layers)  0.463785  ...            26.291443            0.634644\n",
              "1      DNN (2 layers)  0.463785  ...            26.291443            0.634644\n",
              "2   DNN (3 layers DO)  1.028041  ...            26.901322            0.660825\n",
              "3   CNN (2 layers DO)  0.147733  ...            42.803475            0.929794\n",
              "4   CNN (3 layers DO)  0.200088  ...            46.630616            0.879955\n",
              "..                ...       ...  ...                  ...                 ...\n",
              "87  CNN (2 layers DO)  0.147733  ...            42.803475            0.929794\n",
              "88  CNN (3 layers DO)  0.200088  ...            46.630616            0.879955\n",
              "89  DNN (3 layers DO)  0.200088  ...            46.630616            0.879955\n",
              "90  CNN (2 layers DO)  0.200088  ...            46.630616            0.879955\n",
              "91  CNN (3 layers DO)  0.200088  ...            46.630616            0.879955\n",
              "\n",
              "[92 rows x 7 columns]"
            ]
          },
          "metadata": {
            "tags": []
          },
          "execution_count": 129
        }
      ]
    },
    {
      "cell_type": "code",
      "metadata": {
        "id": "1jBPUNLq1UBg",
        "colab_type": "code",
        "colab": {}
      },
      "source": [
        ""
      ],
      "execution_count": null,
      "outputs": []
    }
  ]
}